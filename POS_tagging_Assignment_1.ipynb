{
  "cells": [
    {
      "cell_type": "markdown",
      "metadata": {
        "id": "view-in-github",
        "colab_type": "text"
      },
      "source": [
        "<a href=\"https://colab.research.google.com/github/SHAMIK-97/NLP-POS_tagging/blob/main/POS_tagging_Assignment_1.ipynb\" target=\"_parent\"><img src=\"https://colab.research.google.com/assets/colab-badge.svg\" alt=\"Open In Colab\"/></a>"
      ]
    },
    {
      "cell_type": "code",
      "execution_count": null,
      "metadata": {
        "id": "c_80XS_FOd2v"
      },
      "outputs": [],
      "source": [
        "# The libraries we will use are imported here, in case of runtime problems\n",
        "import os, shutil  #  file management\n",
        "import sys\n",
        "import pandas as pd  #  dataframe management\n",
        "import numpy as np  #  data manipulation\n",
        "# imports for plotting and evaluation\n",
        "import seaborn as sns\n",
        "import matplotlib.pyplot as plt\n",
        "\n",
        "from sklearn.utils.class_weight import compute_class_weight\n",
        "from keras.callbacks import ModelCheckpoint, EarlyStopping\n",
        "from sklearn.metrics import f1_score, confusion_matrix, ConfusionMatrixDisplay\n"
      ]
    },
    {
      "cell_type": "code",
      "execution_count": null,
      "metadata": {
        "id": "lAZZBJlqFY24"
      },
      "outputs": [],
      "source": [
        "dataset_name = \"dependency_treebank\""
      ]
    },
    {
      "cell_type": "code",
      "execution_count": null,
      "metadata": {
        "colab": {
          "base_uri": "https://localhost:8080/"
        },
        "id": "H4xCgQB_FY5c",
        "outputId": "ae8dcd5d-1202-42fd-97bb-f9d5f6227b2d"
      },
      "outputs": [
        {
          "output_type": "stream",
          "name": "stdout",
          "text": [
            "Current work directory: /content\n",
            "Cleaned\n"
          ]
        }
      ],
      "source": [
        "folder = os.getcwd()\n",
        "\n",
        "print(\"Current work directory: \" + str(folder))\n",
        "\n",
        "dataset_folder = os.path.join(os.getcwd(), \"Datasets\")\n",
        "\n",
        "if not os.path.exists(dataset_folder):\n",
        "    os.makedirs(dataset_folder)\n",
        "\n",
        "for filename in os.listdir(dataset_folder):\n",
        "    file_path = os.path.join(dataset_folder, filename)\n",
        "    try:\n",
        "        if os.path.isfile(file_path) or os.path.islink(file_path):\n",
        "            os.unlink(file_path)\n",
        "        elif os.path.isdir(file_path):\n",
        "            shutil.rmtree(file_path)\n",
        "    except Exception as e:\n",
        "        print('Failed to delete %s. Reason: %s' % (file_path, e))\n",
        "\n",
        "print(\"Cleaned\")"
      ]
    },
    {
      "cell_type": "markdown",
      "metadata": {
        "id": "9TgrwErxFrn7"
      },
      "source": [
        "##Folder path creatrion and extration of dataset"
      ]
    },
    {
      "cell_type": "code",
      "execution_count": null,
      "metadata": {
        "colab": {
          "base_uri": "https://localhost:8080/"
        },
        "id": "-WdHbw8DFY8H",
        "outputId": "a323ec4a-1887-49b8-b8de-042d58efc7fa"
      },
      "outputs": [
        {
          "output_type": "stream",
          "name": "stdout",
          "text": [
            "Current work directory: /content\n",
            "/content/Datasets/dependency_treebank.zip\n",
            "Downloading dataset...\n",
            "Download complete!\n",
            "Extracting dataset... (it may take a while...)\n",
            "Extraction completed!\n"
          ]
        }
      ],
      "source": [
        "from urllib import request\n",
        "from zipfile import ZipFile\n",
        "\n",
        "print(f\"Current work directory: {os.getcwd()}\")\n",
        "dataset_folder = os.path.join(os.getcwd(), \"Datasets\")\n",
        "\n",
        "if not os.path.exists(dataset_folder):\n",
        "    os.makedirs(dataset_folder)\n",
        "\n",
        "url = \"https://raw.githubusercontent.com/nltk/nltk_data/gh-pages/packages/corpora/dependency_treebank.zip\"\n",
        "dataset_path = os.path.join(dataset_folder, \"dependency_treebank.zip\")\n",
        "print(dataset_path)\n",
        "\n",
        "def download_dataset(download_path: str, url: str):\n",
        "    if not os.path.exists(download_path):\n",
        "        print(\"Downloading dataset...\")\n",
        "        request.urlretrieve(url, download_path)\n",
        "        print(\"Download complete!\")\n",
        "\n",
        "def extract_dataset(download_path: str):\n",
        "    print(\"Extracting dataset... (it may take a while...)\")\n",
        "    zipAll = ZipFile(download_path)\n",
        "    zipAll.extractall(dataset_folder)\n",
        "    print(\"Extraction completed!\")\n",
        "    return zipAll\n",
        "\n",
        "\n",
        "download_dataset(dataset_path, url)\n",
        "zipAll = extract_dataset(dataset_path)"
      ]
    },
    {
      "cell_type": "markdown",
      "metadata": {
        "id": "_DZwV7NbF4E6"
      },
      "source": [
        "##Preparing the Train validation test split from the downloaded corpus\n",
        "\n",
        "# spliting documents 1-100 are the train set, 101-150 validation set, 151-199 test set.\n",
        "\n",
        "Splitting is done in sentences\n",
        "\n"
      ]
    },
    {
      "cell_type": "code",
      "execution_count": null,
      "metadata": {
        "colab": {
          "base_uri": "https://localhost:8080/"
        },
        "id": "kSl9X4dqFY-R",
        "outputId": "086b087a-9539-4dfe-acc3-66cc8773af8b"
      },
      "outputs": [
        {
          "output_type": "stream",
          "name": "stdout",
          "text": [
            "No. of files: 200\n",
            "x: [['The', 'best', 'run', 'of', 'all', '.'], ['It', 'is', 'running', 'for', 'you']]\n",
            "y: [['DT', 'JJS', 'VB', 'IN', 'DT', '.'], ['PRP', 'VB', 'VBG', 'IN', 'PRP']]\n",
            "No. of files: 200\n",
            "No. sentences: 3830\n",
            "No. tag sentences: 3830\n",
            "No. Training sentences: 1938\n",
            "No. Validation sentences: 1256\n",
            "No. Test sentences: 636\n",
            "Successful Split\n"
          ]
        }
      ],
      "source": [
        "from tables import Column\n",
        "import re\n",
        "\n",
        "REPLACE_BY_SPACE_RE = re.compile('[/(){}\\[\\]\\|!:-@,;\\.?\\']')\n",
        "files = zipAll.namelist()\n",
        "files.sort()\n",
        "df_columns = ['word','tag','value']\n",
        "df_final = []\n",
        "print('No. of files: {}'.format(len(files)))\n",
        "\n",
        "# We split the sentences when we find a . (period)\n",
        "# it works for sentences and tags\n",
        "def split_sentences(sentences,tags):\n",
        "    final_sentences,final_tags=[],[]\n",
        "    ret_sentences,ret_tags=[],[]\n",
        "    for i in range(0,len(sentences)):\n",
        "        ret_sentences.append(sentences[i])\n",
        "        ret_tags.append(tags[i])\n",
        "        if sentences[i] == '.':\n",
        "            final_sentences.append(ret_sentences)\n",
        "            final_tags.append(ret_tags)\n",
        "            ret_sentences,ret_tags=[],[]\n",
        "    if len(ret_sentences) >0:\n",
        "        final_sentences.append(ret_sentences)\n",
        "        final_tags.append(ret_tags)\n",
        "\n",
        "    return(final_sentences,final_tags)\n",
        "\n",
        "#This for the testing of the sentence and tag splitting function\n",
        "x,y = split_sentences(['The','best','run','of','all','.','It','is','running','for','you'],\n",
        "                      ['DT','JJS','VB','IN','DT','.','PRP','VB','VBG','IN','PRP'])\n",
        "print('x:',x)\n",
        "print('y:', y)\n",
        "\n",
        "# spliting documents 1-100 are the train set, 101-150 validation set, 151-199 test set.\n",
        "train_sentences, train_tags =[], []\n",
        "test_sentences, test_tags =[], []\n",
        "validation_sentences, validation_tags =[], []\n",
        "\n",
        "files = zipAll.namelist()\n",
        "files.sort()\n",
        "print('No. of files: {}'.format(len(files)))\n",
        "for f in range(1,len(files)):\n",
        "  my_df = pd.read_csv(zipAll.open(files[f]), header=None,\n",
        "                    delimiter='\\t', names=['word','tag','value'])\n",
        "  if f in range(0,101):\n",
        "    x,y = split_sentences(my_df['word'].to_numpy(),my_df['tag'].to_numpy())\n",
        "    for i in range(0,len(x)):\n",
        "      train_sentences.append(x[i])\n",
        "      train_tags.append(y[i])\n",
        "  if f in range(101,151):\n",
        "    x,y = split_sentences(my_df['word'].to_numpy(),my_df['tag'].to_numpy())\n",
        "    for i in range(0,len(x)):\n",
        "      validation_sentences.append(x[i])\n",
        "      validation_tags.append(y[i])\n",
        "  if f > 150:\n",
        "    x,y = split_sentences(my_df['word'].to_numpy(),my_df['tag'].to_numpy())\n",
        "    for i in range(0,len(x)):\n",
        "      test_sentences.append(x[i])\n",
        "      test_tags.append(y[i])\n",
        "\n",
        "\n",
        "# Let's discover the number of sentences to split into training, validation and test sets:\n",
        "# Finally after we run on all sentences, we determine the number of test sentences\n",
        "number_training_sentences = len(train_sentences)\n",
        "number_validation_sentences = len(validation_sentences)\n",
        "number_test_sentences = len(test_sentences)\n",
        "number_sentences = number_training_sentences + number_validation_sentences + number_test_sentences\n",
        "number_tags = len(train_tags) + len(validation_tags) + len(test_tags)\n",
        "\n",
        "print('No. sentences: {}'.format(number_sentences))\n",
        "print('No. tag sentences: {}'.format(number_tags))\n",
        "print('No. Training sentences: {}'.format(number_training_sentences))\n",
        "print('No. Validation sentences: {}'.format(number_validation_sentences))\n",
        "print('No. Test sentences: {}'.format(number_test_sentences))\n",
        "print(\"Successful Split\")\n"
      ]
    },
    {
      "cell_type": "markdown",
      "metadata": {
        "id": "OMjqiLtkGE5P"
      },
      "source": [
        "## Data Inspection\n",
        "\n",
        "*   In order to get insights of the data extracted, we applied some basic methods to get more information about the data."
      ]
    },
    {
      "cell_type": "code",
      "execution_count": null,
      "metadata": {
        "colab": {
          "base_uri": "https://localhost:8080/"
        },
        "id": "eL32aQhWFZBz",
        "outputId": "68e7c5f4-6969-41b7-b097-2f5f1000ab5d"
      },
      "outputs": [
        {
          "output_type": "stream",
          "name": "stdout",
          "text": [
            "Sentence Sample: ['Pierre', 'Vinken', ',', '61', 'years', 'old', ',', 'will', 'join', 'the', 'board', 'as', 'a', 'nonexecutive', 'director', 'Nov.', '29', '.']\n",
            "Tag Sample: ['NNP', 'NNP', ',', 'CD', 'NNS', 'JJ', ',', 'MD', 'VB', 'DT', 'NN', 'IN', 'DT', 'JJ', 'NN', 'NNP', 'CD', '.']\n",
            "Length of first input sequence : 18\n",
            "Length of first output sequence : 18\n"
          ]
        }
      ],
      "source": [
        "# let’s look at first data point of the training dataset\n",
        "# this is one data point that will be fed to the RNN\n",
        "print('Sentence Sample:', train_sentences[0])\n",
        "print('Tag Sample:', train_tags[0])\n",
        "\n",
        "# In this many-to-many problem, the length of each input and output sequence must be the same.\n",
        "# Since each word is tagged, it’s important to make sure that the length of input sequence equals the output sequence\n",
        "print('Length of first input sequence : {}'.format(len(train_sentences[0])))\n",
        "print('Length of first output sequence : {}'.format(len(train_tags[0])))"
      ]
    },
    {
      "cell_type": "markdown",
      "metadata": {
        "id": "LqZ1TjkCGQRd"
      },
      "source": [
        "## Checking the Data distribution in train validation and test"
      ]
    },
    {
      "cell_type": "code",
      "execution_count": null,
      "metadata": {
        "id": "HGLPLnsHsu_n"
      },
      "outputs": [],
      "source": [
        "train_sentences_frame = pd.Series(train_sentences, name = 'train_sentence')\n",
        "train_tags_frame = pd.Series(train_tags, name = 'Tags')\n",
        "test_sentences_frame = pd.Series(test_sentences, name = 'test_sentences')\n",
        "test_tags_frame = pd.Series(test_tags, name = 'Tags')\n",
        "validation_sentences_frame = pd.Series(validation_sentences, name = 'validation_sentences')\n",
        "validation_tags_frame = pd.Series(validation_tags, name = 'Tags')"
      ]
    },
    {
      "cell_type": "code",
      "execution_count": null,
      "metadata": {
        "colab": {
          "base_uri": "https://localhost:8080/",
          "height": 285
        },
        "id": "lvkFLIynFZEY",
        "outputId": "8bb75743-c29b-4548-d680-64285d7e48a9"
      },
      "outputs": [
        {
          "output_type": "display_data",
          "data": {
            "text/plain": [
              "<Figure size 432x288 with 1 Axes>"
            ],
            "image/png": "[encoded data removed]"
          },
          "metadata": {}
        }
      ],
      "source": [
        "data = {'train': pd.merge(train_sentences_frame, train_tags_frame,right_index=True, left_index=True),\n",
        "        'test':  pd.merge(test_sentences_frame,test_tags_frame,right_index=True, left_index=True),\n",
        "        'validation': pd.merge(validation_sentences_frame, validation_tags_frame,right_index=True, left_index=True)}\n",
        "\n",
        "sns.set(color_codes=True)\n",
        "\n",
        "concatenated = pd.concat([data[split].assign(dataset=split) for split in data.keys()])\n",
        "\n",
        "sns.countplot(x='dataset', data=concatenated)\n",
        "plt.show()"
      ]
    },
    {
      "cell_type": "code",
      "execution_count": null,
      "metadata": {
        "colab": {
          "base_uri": "https://localhost:8080/",
          "height": 591
        },
        "id": "NA1bCd2EFZHJ",
        "outputId": "8c399991-6a63-4fee-89f9-8d69658bb5bc"
      },
      "outputs": [
        {
          "output_type": "display_data",
          "data": {
            "text/plain": [
              "<Figure size 1800x720 with 1 Axes>"
            ],
            "image/png": "[encoded data removed]"
          },
          "metadata": {}
        }
      ],
      "source": [
        "# Plotting classes distribution in train and val\n",
        "data_train = data['train'].explode('Tags')\n",
        "data_val = data['validation'].explode('Tags')\n",
        "\n",
        "concatenated = pd.concat([data_train.assign(dataset='train'), data_val.assign(dataset='val')])\n",
        "\n",
        "_, ax = plt.subplots(figsize=(25, 10))\n",
        "sns.countplot(data=concatenated , x='Tags', hue='dataset', ax=ax)\n",
        "\n",
        "plt.show()"
      ]
    },
    {
      "cell_type": "markdown",
      "metadata": {
        "id": "gtcOabJSGbQS"
      },
      "source": [
        "We can clearly see that the classes are unevenly distributed in each set.\n",
        "\n"
      ]
    },
    {
      "cell_type": "markdown",
      "metadata": {
        "id": "FIvigPHyGmr7"
      },
      "source": [
        "## Tokenization of Data\n",
        "\n",
        "The next thing we need to figure out is how are we going to feed these inputs to an RNN. If we have to give the words as input to any neural networks then we essentially have to convert them into numbers. We need to create a word embedding or one-hot vectors i.e. a vector of numbers for each word. Therefor, we'll first encode the input and output which will give a blind unique id to each word in the entire corpus for training data and then incrementaly build upon it so that our model can be well utilized in the real world scenarios. On the other hand, we have the Y matrix(tags/output data). We have forty-five POS tags here, treating each of them as a class and each pos tag is converted into one-hot encoding."
      ]
    },
    {
      "cell_type": "code",
      "execution_count": null,
      "metadata": {
        "colab": {
          "base_uri": "https://localhost:8080/"
        },
        "id": "Oz92UFT0FZMV",
        "outputId": "2a21cc66-8ea3-4165-dd87-53e8df212ff4"
      },
      "outputs": [
        {
          "output_type": "stream",
          "name": "stdout",
          "text": [
            "Vocabulary evaluation...\n",
            "[Vocabulary Evaluation] Size checking...\n",
            "[Vocabulary Evaluation] Content checking...\n"
          ]
        },
        {
          "output_type": "stream",
          "name": "stderr",
          "text": [
            "100%|██████████| 9902/9902 [00:00<00:00, 1077102.58it/s]"
          ]
        },
        {
          "output_type": "stream",
          "name": "stdout",
          "text": [
            "Evaluation completed!\n"
          ]
        },
        {
          "output_type": "stream",
          "name": "stderr",
          "text": [
            "\n"
          ]
        }
      ],
      "source": [
        "## Question, maybe we should use just the train+validation sentences, and not the whole sentences?\n",
        "##\n",
        "from tqdm import tqdm\n",
        "import tensorflow as tf\n",
        "from keras.preprocessing.text import Tokenizer\n",
        "# encode Sentences\n",
        "def words_tokenizer(sentences,tags):\n",
        "  word_tokenizer = Tokenizer(oov_token='--oov--')              # instantiate tokeniser\n",
        "  word_tokenizer.fit_on_texts(sentences)            # fit tokeniser on data\n",
        "# use the tokeniser to encode input sequence\n",
        "#X_encoded = word_tokenizer.texts_to_sequences(sentences)\n",
        "# encode Y\n",
        "  tag_tokenizer = Tokenizer(oov_token='--oov--')\n",
        "  tag_tokenizer.fit_on_texts(tags)\n",
        "\n",
        "    # create a word to index dictionary mapping\n",
        "  word_count = dict(word_tokenizer.word_counts)\n",
        "  word_listing = sorted([*word_count.keys()])\n",
        "  word_to_idx = word_tokenizer.word_index\n",
        "  word_to_idx[[*word_to_idx.keys()][-1]]  = 0\n",
        "  word_to_idx = dict(sorted(word_to_idx.items(), key=lambda x: x[1]))\n",
        "  idx_to_word = dict([(value, key) for key, value in word_to_idx.items()])\n",
        "\n",
        "  return word_tokenizer, tag_tokenizer, word_listing, word_to_idx, idx_to_word\n",
        "\n",
        "def evaluate_vocabulary(idx_to_word, word_to_idx, word_listing, check_default_size=False):\n",
        "\n",
        "    # Check size\n",
        "    print(\"[Vocabulary Evaluation] Size checking...\")\n",
        "\n",
        "    assert len(idx_to_word) == len(word_to_idx)\n",
        "    assert len(idx_to_word) == len(word_listing) + 1\n",
        "\n",
        "    # Check content\n",
        "    print(\"[Vocabulary Evaluation] Content checking...\")\n",
        "\n",
        "    for i in tqdm(range(0, len(idx_to_word))):\n",
        "        assert idx_to_word[i] in word_to_idx\n",
        "        assert word_to_idx[idx_to_word[i]] == i\n",
        "\n",
        "\n",
        "word_tokenizer, tag_tokenizer, word_listing, word_to_idx, idx_to_word = words_tokenizer(list(train_sentences)+list(validation_sentences), list(train_tags))\n",
        "print(\"Vocabulary evaluation...\")\n",
        "evaluate_vocabulary(idx_to_word, word_to_idx, word_listing)\n",
        "print(\"Evaluation completed!\")"
      ]
    },
    {
      "cell_type": "markdown",
      "metadata": {
        "id": "d_kVYS4rGyFl"
      },
      "source": [
        "## Vocabulary Creation\n",
        "\n",
        "At this point we can build the word vocabulary of our dataset. This information is the first step of any word embedding method: we need to know the set of atomic entities that build up our corpus.\n",
        "\n",
        "Definition: a vocabulary is a collection of words occurring in a given dataset. More precisely, each word is recognized and assigned an index.\n",
        "\n",
        "In order to develop embedding of the words we utilized tokenizer function of keras to give us three different elements that we will use in the code later.\n",
        "\n",
        "* index2Word - word vocabulary: vocabulary index to word\n",
        "* word2Index - inverse word vocabulary: word to vocabulary index\n",
        "* word_listing - word listing: set of unique terms that build up the vocabulary\n",
        "\n",
        "We will also use the evaluation method of 2nd assignment to verify the correct implementation of the vocabulary. We first create vocabulary for training data to embed it and then we will use the function to describe vocabulary of validation and test data."
      ]
    },
    {
      "cell_type": "code",
      "execution_count": null,
      "metadata": {
        "colab": {
          "base_uri": "https://localhost:8080/"
        },
        "id": "y9mrGIoIFZPH",
        "outputId": "30adfc28-8c8d-401c-b410-378f0f024528"
      },
      "outputs": [
        {
          "output_type": "stream",
          "name": "stdout",
          "text": [
            "number of unique words: 9901\n",
            "word_listing: ['!', '#', '$', '%', '&', \"'\", \"''\", \"'30s\", \"'40s\", \"'50s\"]\n",
            "word_to_idx: ['liabilities', '--oov--', ',', 'the', '.', 'of', 'to', 'a', 'in', 'and']\n",
            "idx_to_word: [0, 1, 2, 3, 4, 5, 6, 7, 8, 9]\n"
          ]
        }
      ],
      "source": [
        "#word_tokenizer, tag_tokenizer, word_listing, word_to_idx, idx_to_word = words_tokenizer(list(train_sentences), list(train_tags))\n",
        "\n",
        "\n",
        "print('number of unique words:', len(word_listing))\n",
        "print ('word_listing:', word_listing[0:10])\n",
        "print ('word_to_idx:', list(word_to_idx)[0:10])\n",
        "print ('idx_to_word:', list(idx_to_word)[0:10])\n"
      ]
    },
    {
      "cell_type": "markdown",
      "metadata": {
        "id": "3oGShxedG_kt"
      },
      "source": [
        "## Building the Co-occurence Matrix\n",
        "\n",
        "As known, embedding methods are based on the principle that similar words will be used in similar contexts. Thus, context information is crucial to determine the meaning of a word.\n",
        "\n",
        "One basic approach, which falls under the category of sparse representations, is the **co-occurrence matrix**: for each word in the vocabulary we count the number of times each other word appears within the same context window. A simple example is given by image below.\n",
        "\n",
        "![](https://drive.google.com/uc?export=view&id=1UknGoYvIBBA7ytkSlqm1NhF_lHt0iOwT)\n",
        "\n",
        "In particular, the context window defines our notion of word context. Consider the following example:\n",
        "\n",
        "<h3><center> The cat is on the table </center></h3>\n",
        "\n",
        "We have to consider each word in the sentence and for each we have count words within the context window. Suppose a window of size 2, then we have for the word 'cat':\n",
        "\n",
        "Current word: cat\n",
        "\n",
        "Context words: [the, is, on]\n",
        "\n",
        "Notice how we consider $W$ words back and ahead of current word, where $W$ is the window size.\n",
        "\n",
        "\n",
        "\n",
        "\n",
        "Let's define the simplest version of a **co-occurrence matrix** based on word counting.\n",
        "\n"
      ]
    },
    {
      "cell_type": "code",
      "execution_count": null,
      "metadata": {
        "colab": {
          "base_uri": "https://localhost:8080/"
        },
        "id": "zZteSvvMGuBx",
        "outputId": "389a48b3-4eb8-4057-9c4c-a465351efaa0"
      },
      "outputs": [
        {
          "output_type": "stream",
          "name": "stdout",
          "text": [
            "Building co-occurrence count matrix... (it may take a while...)\n"
          ]
        },
        {
          "output_type": "stream",
          "name": "stderr",
          "text": [
            "<ipython-input-12-f87269d94443>:47: VisibleDeprecationWarning: Creating an ndarray from ragged nested sequences (which is a list-or-tuple of lists-or-tuples-or ndarrays with different lengths or shapes) is deprecated. If you meant to do this, you must specify 'dtype=object' when creating the ndarray.\n",
            "  train_sentences = np.array(train_sentences)\n"
          ]
        },
        {
          "output_type": "stream",
          "name": "stdout",
          "text": [
            "Building completed!\n",
            "Evaluating co-occurrence matrix\n",
            "Detected sparse co-occurrence matrix!\n",
            "[Co-occurrence count matrix Evaluation] Symmetry checking...\n",
            "Evaluation completed!\n"
          ]
        }
      ],
      "source": [
        "import scipy.sparse    # defines several types of efficient sparse matrices\n",
        "import zipfile\n",
        "import gc\n",
        "import requests\n",
        "import time\n",
        "\n",
        "# Function definition\n",
        "\n",
        "def co_occurrence_count(sentences, idx_to_word, word_to_idx, window_size=4):\n",
        "    \"\"\"\n",
        "    Builds word-word co-occurrence matrix based on word counts.\n",
        "\n",
        "    :param df: pre-processed dataset (pandas.DataFrame)\n",
        "    :param idx_to_word: vocabulary map (index -> word) (dict)\n",
        "    :param word_to_idx: vocabulary map (word -> index) (dict)\n",
        "\n",
        "    :return\n",
        "      - co_occurrence symmetric matrix of size |V| x |V| (|V| = vocabulary size)\n",
        "    \"\"\"\n",
        "    # Using Scipy's DOK matrix since it's efficient in construction.\n",
        "    out = scipy.sparse.dok_matrix((len(word_to_idx),len(word_to_idx)), dtype=np.uint8)\n",
        "\n",
        "    # Another closure nested in a function.\n",
        "    def add_occurrences(sentences):\n",
        "      for i in range(0, len(sentences)):\n",
        "        sentence = sentences[i]\n",
        "        for index in range(len(sentence) - window_size + 1):\n",
        "          for word1 in sentence[index: index + window_size + 1]:\n",
        "            for word2 in sentence[index: index + window_size + 1]:\n",
        "              if word1 != word2:\n",
        "                #if word1 in vocabulary and word2 in vocabulary:\n",
        "                out[word_to_idx[word1.lower()], word_to_idx[word2.lower()]] += 1\n",
        "\n",
        "    add_occurrences(sentences)\n",
        "    return out.tocsr() # Converting the DOK matrix to a CSR matrix, since it's more efficient for other operations.\n",
        "\n",
        "# Testing\n",
        "window_size = 4\n",
        "\n",
        "# Clean RAM before re-running this code snippet to avoid session crash\n",
        "if 'co_occurrence_matrix' in globals():\n",
        "    del co_occurrence_matrix\n",
        "    gc.collect()\n",
        "    time.sleep(10.)\n",
        "\n",
        "print(\"Building co-occurrence count matrix... (it may take a while...)\")\n",
        "train_sentences = np.array(train_sentences)\n",
        "train_co_occurrence_matrix = co_occurrence_count(list(train_sentences)+list(validation_sentences), idx_to_word, word_to_idx, window_size=1)\n",
        "print(\"Building completed!\")\n",
        "\n",
        "# Evaluation\n",
        "\n",
        "\n",
        "def evaluate_co_occurrence_matrix(matrix):\n",
        "    is_sparse = False\n",
        "\n",
        "    if hasattr(scipy.sparse, type(matrix).__name__):\n",
        "        print(\"Detected sparse co-occurrence matrix!\")\n",
        "        is_sparse = True\n",
        "\n",
        "    # Check symmetry\n",
        "    print(\"[Co-occurrence count matrix Evaluation] Symmetry checking...\")\n",
        "    if is_sparse:\n",
        "        assert (matrix != matrix.transpose()).nnz == 0\n",
        "    else:\n",
        "        assert np.equal(matrix, matrix.transpose()).all()\n",
        "\n",
        "\n",
        "print(\"Evaluating co-occurrence matrix\")\n",
        "evaluate_co_occurrence_matrix(train_co_occurrence_matrix)\n",
        "print(\"Evaluation completed!\")"
      ]
    },
    {
      "cell_type": "markdown",
      "metadata": {
        "id": "gLj44dkJHN9E"
      },
      "source": [
        "## Visualizing the Co-occurance matrix\n",
        "\n",
        "In order to get better insights of the co-occurance matrix, we convert it to dataframe and use pandas methods to visualize it."
      ]
    },
    {
      "cell_type": "code",
      "execution_count": null,
      "metadata": {
        "colab": {
          "base_uri": "https://localhost:8080/",
          "height": 235
        },
        "id": "3G234N1jGuER",
        "outputId": "473d3c3b-935b-4202-e157-1efe140efd24"
      },
      "outputs": [
        {
          "output_type": "execute_result",
          "data": {
            "text/plain": [
              "             liabilities  --oov--    ,  the    .   of   to   a  in  and  ...  \\\n",
              "liabilities            0        0    0    0    0    0    0   0   0    0  ...   \n",
              "--oov--                0        0    0    0    0    0    0   0   0    0  ...   \n",
              ",                      0        0    0  133  255  142    5  12  19  195  ...   \n",
              "the                    0        0  133   64    5   18  225  29  81   63  ...   \n",
              ".                      0        0  255    5    0   52   15  27  72  211  ...   \n",
              "\n",
              "             accord  pilots  machinists  cleared  472  0.82  delisted  23.25  \\\n",
              "liabilities       0       0           0        0    0     0         0      0   \n",
              "--oov--           0       0           0        0    0     0         0      0   \n",
              ",                 0       0           0        0    0     0         0      0   \n",
              "the               0       0           0        0    0     0         0      0   \n",
              ".                 0       0           0        0    0     0         0      0   \n",
              "\n",
              "             28.25  duluth  \n",
              "liabilities      0       0  \n",
              "--oov--          0       0  \n",
              ",                0       0  \n",
              "the              0       0  \n",
              ".                0       0  \n",
              "\n",
              "[5 rows x 9902 columns]"
            ],
            "text/html": [
              "\n",
              "  <div id=\"df-1245c515-407d-4563-9091-56bf7e231cf0\">\n",
              "    <div class=\"colab-df-container\">\n",
              "      <div>\n",
              "<style scoped>\n",
              "    .dataframe tbody tr th:only-of-type {\n",
              "        vertical-align: middle;\n",
              "    }\n",
              "\n",
              "    .dataframe tbody tr th {\n",
              "        vertical-align: top;\n",
              "    }\n",
              "\n",
              "    .dataframe thead th {\n",
              "        text-align: right;\n",
              "    }\n",
              "</style>\n",
              "<table border=\"1\" class=\"dataframe\">\n",
              "  <thead>\n",
              "    <tr style=\"text-align: right;\">\n",
              "      <th></th>\n",
              "      <th>liabilities</th>\n",
              "      <th>--oov--</th>\n",
              "      <th>,</th>\n",
              "      <th>the</th>\n",
              "      <th>.</th>\n",
              "      <th>of</th>\n",
              "      <th>to</th>\n",
              "      <th>a</th>\n",
              "      <th>in</th>\n",
              "      <th>and</th>\n",
              "      <th>...</th>\n",
              "      <th>accord</th>\n",
              "      <th>pilots</th>\n",
              "      <th>machinists</th>\n",
              "      <th>cleared</th>\n",
              "      <th>472</th>\n",
              "      <th>0.82</th>\n",
              "      <th>delisted</th>\n",
              "      <th>23.25</th>\n",
              "      <th>28.25</th>\n",
              "      <th>duluth</th>\n",
              "    </tr>\n",
              "  </thead>\n",
              "  <tbody>\n",
              "    <tr>\n",
              "      <th>liabilities</th>\n",
              "      <td>0</td>\n",
              "      <td>0</td>\n",
              "      <td>0</td>\n",
              "      <td>0</td>\n",
              "      <td>0</td>\n",
              "      <td>0</td>\n",
              "      <td>0</td>\n",
              "      <td>0</td>\n",
              "      <td>0</td>\n",
              "      <td>0</td>\n",
              "      <td>...</td>\n",
              "      <td>0</td>\n",
              "      <td>0</td>\n",
              "      <td>0</td>\n",
              "      <td>0</td>\n",
              "      <td>0</td>\n",
              "      <td>0</td>\n",
              "      <td>0</td>\n",
              "      <td>0</td>\n",
              "      <td>0</td>\n",
              "      <td>0</td>\n",
              "    </tr>\n",
              "    <tr>\n",
              "      <th>--oov--</th>\n",
              "      <td>0</td>\n",
              "      <td>0</td>\n",
              "      <td>0</td>\n",
              "      <td>0</td>\n",
              "      <td>0</td>\n",
              "      <td>0</td>\n",
              "      <td>0</td>\n",
              "      <td>0</td>\n",
              "      <td>0</td>\n",
              "      <td>0</td>\n",
              "      <td>...</td>\n",
              "      <td>0</td>\n",
              "      <td>0</td>\n",
              "      <td>0</td>\n",
              "      <td>0</td>\n",
              "      <td>0</td>\n",
              "      <td>0</td>\n",
              "      <td>0</td>\n",
              "      <td>0</td>\n",
              "      <td>0</td>\n",
              "      <td>0</td>\n",
              "    </tr>\n",
              "    <tr>\n",
              "      <th>,</th>\n",
              "      <td>0</td>\n",
              "      <td>0</td>\n",
              "      <td>0</td>\n",
              "      <td>133</td>\n",
              "      <td>255</td>\n",
              "      <td>142</td>\n",
              "      <td>5</td>\n",
              "      <td>12</td>\n",
              "      <td>19</td>\n",
              "      <td>195</td>\n",
              "      <td>...</td>\n",
              "      <td>0</td>\n",
              "      <td>0</td>\n",
              "      <td>0</td>\n",
              "      <td>0</td>\n",
              "      <td>0</td>\n",
              "      <td>0</td>\n",
              "      <td>0</td>\n",
              "      <td>0</td>\n",
              "      <td>0</td>\n",
              "      <td>0</td>\n",
              "    </tr>\n",
              "    <tr>\n",
              "      <th>the</th>\n",
              "      <td>0</td>\n",
              "      <td>0</td>\n",
              "      <td>133</td>\n",
              "      <td>64</td>\n",
              "      <td>5</td>\n",
              "      <td>18</td>\n",
              "      <td>225</td>\n",
              "      <td>29</td>\n",
              "      <td>81</td>\n",
              "      <td>63</td>\n",
              "      <td>...</td>\n",
              "      <td>0</td>\n",
              "      <td>0</td>\n",
              "      <td>0</td>\n",
              "      <td>0</td>\n",
              "      <td>0</td>\n",
              "      <td>0</td>\n",
              "      <td>0</td>\n",
              "      <td>0</td>\n",
              "      <td>0</td>\n",
              "      <td>0</td>\n",
              "    </tr>\n",
              "    <tr>\n",
              "      <th>.</th>\n",
              "      <td>0</td>\n",
              "      <td>0</td>\n",
              "      <td>255</td>\n",
              "      <td>5</td>\n",
              "      <td>0</td>\n",
              "      <td>52</td>\n",
              "      <td>15</td>\n",
              "      <td>27</td>\n",
              "      <td>72</td>\n",
              "      <td>211</td>\n",
              "      <td>...</td>\n",
              "      <td>0</td>\n",
              "      <td>0</td>\n",
              "      <td>0</td>\n",
              "      <td>0</td>\n",
              "      <td>0</td>\n",
              "      <td>0</td>\n",
              "      <td>0</td>\n",
              "      <td>0</td>\n",
              "      <td>0</td>\n",
              "      <td>0</td>\n",
              "    </tr>\n",
              "  </tbody>\n",
              "</table>\n",
              "<p>5 rows × 9902 columns</p>\n",
              "</div>\n",
              "      <button class=\"colab-df-convert\" onclick=\"convertToInteractive('df-1245c515-407d-4563-9091-56bf7e231cf0')\"\n",
              "              title=\"Convert this dataframe to an interactive table.\"\n",
              "              style=\"display:none;\">\n",
              "        \n",
              "  <svg xmlns=\"http://www.w3.org/2000/svg\" height=\"24px\"viewBox=\"0 0 24 24\"\n",
              "       width=\"24px\">\n",
              "    <path d=\"M0 0h24v24H0V0z\" fill=\"none\"/>\n",
              "    <path d=\"M18.56 5.44l.94 2.06.94-2.06 2.06-.94-2.06-.94-.94-2.06-.94 2.06-2.06.94zm-11 1L8.5 8.5l.94-2.06 2.06-.94-2.06-.94L8.5 2.5l-.94 2.06-2.06.94zm10 10l.94 2.06.94-2.06 2.06-.94-2.06-.94-.94-2.06-.94 2.06-2.06.94z\"/><path d=\"M17.41 7.96l-1.37-1.37c-.4-.4-.92-.59-1.43-.59-.52 0-1.04.2-1.43.59L10.3 9.45l-7.72 7.72c-.78.78-.78 2.05 0 2.83L4 21.41c.39.39.9.59 1.41.59.51 0 1.02-.2 1.41-.59l7.78-7.78 2.81-2.81c.8-.78.8-2.07 0-2.86zM5.41 20L4 18.59l7.72-7.72 1.47 1.35L5.41 20z\"/>\n",
              "  </svg>\n",
              "      </button>\n",
              "      \n",
              "  <style>\n",
              "    .colab-df-container {\n",
              "      display:flex;\n",
              "      flex-wrap:wrap;\n",
              "      gap: 12px;\n",
              "    }\n",
              "\n",
              "    .colab-df-convert {\n",
              "      background-color: #E8F0FE;\n",
              "      border: none;\n",
              "      border-radius: 50%;\n",
              "      cursor: pointer;\n",
              "      display: none;\n",
              "      fill: #1967D2;\n",
              "      height: 32px;\n",
              "      padding: 0 0 0 0;\n",
              "      width: 32px;\n",
              "    }\n",
              "\n",
              "    .colab-df-convert:hover {\n",
              "      background-color: #E2EBFA;\n",
              "      box-shadow: 0px 1px 2px rgba(60, 64, 67, 0.3), 0px 1px 3px 1px rgba(60, 64, 67, 0.15);\n",
              "      fill: #174EA6;\n",
              "    }\n",
              "\n",
              "    [theme=dark] .colab-df-convert {\n",
              "      background-color: #3B4455;\n",
              "      fill: #D2E3FC;\n",
              "    }\n",
              "\n",
              "    [theme=dark] .colab-df-convert:hover {\n",
              "      background-color: #434B5C;\n",
              "      box-shadow: 0px 1px 3px 1px rgba(0, 0, 0, 0.15);\n",
              "      filter: drop-shadow(0px 1px 2px rgba(0, 0, 0, 0.3));\n",
              "      fill: #FFFFFF;\n",
              "    }\n",
              "  </style>\n",
              "\n",
              "      <script>\n",
              "        const buttonEl =\n",
              "          document.querySelector('#df-1245c515-407d-4563-9091-56bf7e231cf0 button.colab-df-convert');\n",
              "        buttonEl.style.display =\n",
              "          google.colab.kernel.accessAllowed ? 'block' : 'none';\n",
              "\n",
              "        async function convertToInteractive(key) {\n",
              "          const element = document.querySelector('#df-1245c515-407d-4563-9091-56bf7e231cf0');\n",
              "          const dataTable =\n",
              "            await google.colab.kernel.invokeFunction('convertToInteractive',\n",
              "                                                     [key], {});\n",
              "          if (!dataTable) return;\n",
              "\n",
              "          const docLinkHtml = 'Like what you see? Visit the ' +\n",
              "            '<a target=\"_blank\" href=https://colab.research.google.com/notebooks/data_table.ipynb>data table notebook</a>'\n",
              "            + ' to learn more about interactive tables.';\n",
              "          element.innerHTML = '';\n",
              "          dataTable['output_type'] = 'display_data';\n",
              "          await google.colab.output.renderOutput(dataTable, element);\n",
              "          const docLink = document.createElement('div');\n",
              "          docLink.innerHTML = docLinkHtml;\n",
              "          element.appendChild(docLink);\n",
              "        }\n",
              "      </script>\n",
              "    </div>\n",
              "  </div>\n",
              "  "
            ]
          },
          "metadata": {},
          "execution_count": 13
        }
      ],
      "source": [
        "#Representing Co-occurance matrix as dataframe for better visualization and operations\n",
        "train_co_occurrence_matrix = co_occurrence_count(train_sentences, idx_to_word, word_to_idx, window_size)\n",
        "df_train_co_occurance= pd.DataFrame.sparse.from_spmatrix(train_co_occurrence_matrix)\n",
        "df_train_co_occurance.columns = [*word_to_idx]\n",
        "df_train_co_occurance.index = [*word_to_idx]\n",
        "df_train_co_occurance.head()"
      ]
    },
    {
      "cell_type": "markdown",
      "metadata": {
        "id": "EI07T191Hz7a"
      },
      "source": [
        "## Dense Embeddings of Words\n",
        "\n",
        "We choose a dense embedding technique, such that all words are encoded to high dimensional space, much smaller than |V| (generally up to $\\sim$ 1000). A dense representation is also convenient from a machine learning point of view: we have fewer parameters to learn, and, thus, models are less prone to overfitting. Moreover, words do not belong to separate dimensions anymore, and semantic relationships are easily modeled.\n",
        "\n",
        "The first step consists of choosing and downloading a pre-trained embedding model. For this assignment, we limit to classic model, GloVe.\n",
        "\n",
        "Furthermore, some pre-trained embedding model versions may be quite resourcing demanding, depending on the embedding dimension and vocabulary size. We recommend sticking to low dimensional spaces (50, 100, 300) to avoid longer generating times.\n",
        "\n",
        "Downloading a pre-trained embedding model is quite simple due to existing ad hoc wrappers. In particular, we will use [Gensim](https://radimrehurek.com/gensim/) library for both embedding models as follows."
      ]
    },
    {
      "cell_type": "code",
      "execution_count": null,
      "metadata": {
        "colab": {
          "base_uri": "https://localhost:8080/"
        },
        "id": "xtyxlfdqGuIu",
        "outputId": "6f688ee6-815e-45e8-ea4b-5331d76b3587"
      },
      "outputs": [
        {
          "output_type": "stream",
          "name": "stdout",
          "text": [
            "Looking in indexes: https://pypi.org/simple, https://us-python.pkg.dev/colab-wheels/public/simple/\n",
            "Requirement already satisfied: gensim in /usr/local/lib/python3.8/dist-packages (3.6.0)\n",
            "Requirement already satisfied: numpy>=1.11.3 in /usr/local/lib/python3.8/dist-packages (from gensim) (1.21.6)\n",
            "Requirement already satisfied: smart-open>=1.2.1 in /usr/local/lib/python3.8/dist-packages (from gensim) (6.3.0)\n",
            "Requirement already satisfied: scipy>=0.18.1 in /usr/local/lib/python3.8/dist-packages (from gensim) (1.7.3)\n",
            "Requirement already satisfied: six>=1.5.0 in /usr/local/lib/python3.8/dist-packages (from gensim) (1.15.0)\n"
          ]
        }
      ],
      "source": [
        "!pip install gensim"
      ]
    },
    {
      "cell_type": "code",
      "execution_count": null,
      "metadata": {
        "colab": {
          "base_uri": "https://localhost:8080/"
        },
        "id": "nNQEqBqiGuLI",
        "outputId": "d140984c-aebc-4fa8-9b12-db4d832581ff"
      },
      "outputs": [
        {
          "output_type": "stream",
          "name": "stdout",
          "text": [
            "[==================================================] 100.0% 376.1/376.1MB downloaded\n"
          ]
        }
      ],
      "source": [
        "#So, basically we are trying to embed the sentences above, what we can do is use glove embedding to achieve it\n",
        "\n",
        "import gensim\n",
        "import gensim.downloader as gloader\n",
        "\n",
        "def load_embedding_model(model_type, embedding_dimension=50):\n",
        "    \"\"\"\n",
        "    Loads a pre-trained word embedding model via gensim library.\n",
        "\n",
        "    :param model_type: name of the word embedding model to load.\n",
        "    :param embedding_dimension: size of the embedding space to consider\n",
        "\n",
        "    :return\n",
        "        - pre-trained word embedding model (gensim KeyedVectors object)\n",
        "    \"\"\"\n",
        "\n",
        "    download_path = \"\"\n",
        "\n",
        "    # Find the correct embedding model name\n",
        "    if model_type.strip().lower() == 'word2vec':\n",
        "        download_path = \"word2vec-google-news-300\"\n",
        "\n",
        "    elif model_type.strip().lower() == 'glove':\n",
        "        download_path = \"glove-wiki-gigaword-{}\".format(embedding_dimension)\n",
        "\n",
        "    else:\n",
        "        raise AttributeError(\"Unsupported embedding model type! Available ones: word2vec, glove\")\n",
        "\n",
        "    # Check download\n",
        "    try:\n",
        "        emb_model = gloader.load(download_path)\n",
        "    except ValueError as e:\n",
        "        print(\"Invalid embedding model name! Check the embedding dimension:\")\n",
        "        print(\"Word2Vec: 300\")\n",
        "        print(\"Glove: 50, 100, 200, 300\")\n",
        "        raise e\n",
        "\n",
        "    return emb_model\n",
        "\n",
        "\n",
        "# Modify these variables as you wish!\n",
        "# Glove -> 50, 100, 200, 300\n",
        "# Word2Vec -> 300\n",
        "embedding_model_type = \"Glove\"\n",
        "embedding_dimension = 300\n",
        "\n",
        "embedding_model = load_embedding_model(embedding_model_type, embedding_dimension)"
      ]
    },
    {
      "cell_type": "markdown",
      "metadata": {
        "id": "sD5h9RA5IDRg"
      },
      "source": [
        "### Out of vocabulary (OOV) words\n",
        "\n",
        "Before evaluating pre-trained dense word embeddings, it is good practice to check if the model is consistent with our dataset. To do so, we check the number of out-of-vocabulary (OOV) terms.\n",
        "\n",
        "If the OOV amount is negligible, we can just keep going. On the other hand, we might want to handle OOV terms by assigning them a specific word vector.\n",
        "\n",
        "**Which one?** One common practice is to assign a random vector, since the embedding model will be part of a deep learning model and, thus, word vectors might be trained during the learning process. Even if that is the case, we can assign an embedding that is more meaningful rather than a random one: for example, we can identify the word embedding of an OOV term as the mean of its neighbour word embeddings.\n"
      ]
    },
    {
      "cell_type": "code",
      "execution_count": null,
      "metadata": {
        "colab": {
          "base_uri": "https://localhost:8080/"
        },
        "id": "-_caoUjuIAsg",
        "outputId": "97e77e71-313b-415a-f797-4ae03d015f92"
      },
      "outputs": [
        {
          "output_type": "stream",
          "name": "stdout",
          "text": [
            "['colonsville', 'purepac', '236.74', '352.7', 'sacramento-based', '278.7', 'deposits-a', 'muscolina', 'equity-purchase', '70-a-share']\n",
            "['one-upsmanship', '271,124', '352.9', 'superdot', 'midwesco', 'truth-in-lending', 'cop-killer', '1\\\\/10th', 'nylev', 'fetal-tissue']\n",
            "['1\\\\/8', 'telephone-information', 'non-callable', 'non-biodegradable', 'lap-shoulder', '5\\\\/8', '3,250,000', 'triple-a-rated', 'middle-ground', 'ctbs']\n",
            "['purhasing', 'computer-driven', 'executive-office', 'index-arbitrage', 'one-country', 'ednie', '12\\\\/32', 'tiphook', 'shirt-sleeved', 'autions']\n",
            "['incentive-bonus', 'heebie-jeebies', '8.467', '22\\\\/32', '13.625', 'new-car', 'rapanelli', 'less-serious', 'malizia', 'dust-up']\n",
            "['trockenbeerenauslesen', 'durable-goods', 'freshbake', 'year-earlier', 'house-senate', 'anti-deficiency', 'stock-index', 'bottom-line', 'college-bowl', 'mortgage-based']\n",
            "['dollar-yen', 'macheski', 'equal-opportunity', 'yen-support', 'trettien', 'replacement-car', 'bumkins', 'asset-sale', 'test-preparation', 'intecknings']\n",
            "['143.80', 'property\\\\/casualty', 'small-company', 'sub-segments', 'two-time-losers', 'car-safety', 'bellringers', 'summer\\\\/winter', 'lightning-fast', 'nagymaros']\n",
            "['integra-a', 'incentive-backed', '62.625', 'trading-company', 'red-blooded', '143.93', '877,663', 'intellectual-property', \"creator's\", '12,252']\n",
            "['non-encapsulating', 'video-viewing', 'larger-than-normal', 'sogo-shosha', 'twindam', 'red-flag', 'delwin', 'subskills', 'vinken', '456.64']\n",
            "['micronite', '3,288,453', 'ft-se', '374.20', 'fiber-end', 'airline-related', '1\\\\/2', '7.272', 'polyproplene', 'old-house']\n",
            "['top-yielding', 'wine-buying', 'tarwhine', 'car-development', 'much-larger', 'we-japanese', '4,393,237', '234.4', 'price-depressing', 'side-crash']\n",
            "['361,376', '7.458', 'energy-services', 'enzor', 'building-products', 'savers\\\\/investors', 'light-truck', 'severable', '2691.19', 'financial-services']\n",
            "['year-ago', 'wtd', 'contingency-fee', 'flightiness', 'ac-130u', 'c.d.s', 'new-home', 'rubinfien', 'test-practice', '38.375']\n",
            "['super-absorbent', 'northy', 'corporate-wide', 'iran\\\\/contra', 'drobnick', '2645.90', 'front-seat', 'senate-house', 'crocidolite', '382-37']\n",
            "['low-ability', 'substance-abusing', '1738.1', 'gates-warren', '1928-33', '14\\\\/32', 'thin-lipped', 'unfair-trade', 'stirlen', 'sometimes-exhausting']\n",
            "['certin', 'housing-assistance', 'pramual', 'monchecourt', '143.08', 'merger-related', 'alurralde', 'market-share', 'corton-charlemagne', 'veselich']\n",
            "['16,072', 'bald-faced', 'home-market', 'arbitraging', 'test-coaching', 'cup-tote', 'subindustry', 'odd-year', 'cotran', 'marketing-communications']\n",
            "['minicrash', 'safe-deposit', 'most-likely-successor', 'single-lot', 'market-makers', '71,309', 'n.v', 'motor-home', 'glenham', 'labor-backed']\n",
            "['13\\\\/16', 'pattenden', 'computer-system-design', 'ensrud', 're-thought', '3\\\\/4', '1.457', 'hummerstone', 'triple-c', '29year']\n",
            "['6\\\\/2', '238,000-circulation', '7\\\\/8', 'industrial-production', 'cray-3', '69-point', 'index-options', 'ratners', 'retin-a', 'pre-1933']\n",
            "['disaster-assistance', 'auto-safety', 'stock-specialist', 'war-rationed', 'cash-rich', '415.8', 'buy-outs', '8.575', 'school-research', 'anti-abortionists']\n",
            "['90-cent-an-hour', '2160.1', 'eight-count', 'uzi-model', 'seven-million-ton', 'pension-fund', 'one-yen', 'yttrium-containing', 'kalipharma', 'stock-manipulation']\n",
            "['2003\\\\/2007', 'dead-eyed', 'melt-textured', '16\\\\/32', 'sharedata', '-lrb-', 'chemplus', 'product-design', 'money-center', 'low-ball']\n",
            "['mutchin', '2\\\\/32', '3057', '236.79', 'six-bottle', 'greenmailer', 'drag-down', 'biondi-santi', 'nih-appointed', '374.19']\n",
            "['satrum', '1.8415', '18,444', 'breakey', 'three-sevenths', 'junk-bond', 'prevalance', 'pathlogy', 'multi-crystal', '20-stock']\n",
            "['search-and-seizure', 'rexinger', 'ballantine\\\\/del', 'subskill', 'futures-related', 'insider-trading', '300-113', 'long-tenured', 'c-90', '190-point']\n",
            "['profit-taking', 'government-certified', '35500.64', '415.6', 'superpremiums', 'money-market', 'free-enterprise', '-lcb-', 'ghkm', 'program-trading']\n",
            "['samnick', 'chilver', 'mouth-up', 'circuit-board', 'detective-story', 'pianist-comedian', 'million-a-year', 'crane-safety', 'ariail', 'one-house']\n",
            "['pennview', 'boogieman', 'landonne', 'bell-ringer', 'sub-markets', 'custom-chip', '737.5', '142.85', 'sidak', 'four-foot-high']\n",
            "['express-buick', 'circuit-breaker', 'moleculon', '1\\\\/4', 'price-support', '300-a-share', 'food-shop', 'built-from-kit', 'foldability', 'anti-program']\n",
            "['47.125', '500,004', 'macmillan\\\\/mcgraw-hill', '9,118', 'prize-fighter', 'shokubai', '5.276', 'liquid-nitrogen', '7\\\\/16', 'money-fund']\n",
            "['2,303,328', 'lynch-mob', 'vitulli', 'anku', 'then-speaker', 'anti-takeover', 'ingersoll-rand', 'automotive-parts', 'erbamont', 'lower-priority']\n",
            "['univest', 'odd-sounding', 'student-test', 'limited-partnership', 'herald-american', 'amphobiles', 'stock-selection', 'chong-sik', 'achievement-test', '9\\\\/32']\n",
            "['morale-damaging', 'pre-1917', 'chafic', 'foreign-stock', 'anti-morning-sickness', '520-lawyer', 'church-goers', 'nesb', '705.6', 'forest-products']\n",
            "['securities-based', 'card-member', 'sanderoff', '35564.43', '100,980', 'food-industry', '-rrb-', 'forest-product', '230-215', 'coche-dury']\n",
            "['5.435', '23,403', 'wheeland', '30,841', '3.253', 'page-one', 'school-board', 'nekoosa', 'aslacton', 'lafite-rothschild']\n",
            "['less-than-brilliant', 'continuingly', 'credit-rating', 'nearly-30', 'investor-relations', 'more-efficient', '4.898', 'teacher-cadet', '95.09', 'nipponese']\n",
            "['scypher', '16.125', '2163.2', '1937-40', 'potables', 'co-developers', 'hallwood', 'school-district', 'family-planning', 'land-idling']\n",
            "['pricings', '30,537', 'tire-kickers', 'car-care', 'wfrr', 'post-hearing', 'high-balance', '1.5755', 'test-prep', 'rate-sensitive']\n",
            "['makato', 'training-wage', 'walbrecher', 'twin-jet', 'sell-offs', 'crystal-lattice', 'water-authority', 'anti-china', '446.62', 'yeargin']\n",
            "['radio-station', 'higher-salaried', 'bridgestone\\\\/firestone', '3,040,000', 'akerfeldt', 'arighi', 'jerritts', 'highest-pitched', 'bermuda-based', 'sulfur-dioxide']\n",
            "['revenue-desperate', 'chinchon', 'automotive-lighting', '2141.7', 'life-insurance', 'propagandizes', 'nissho-iwai', 'electrical-safety', 'wheel-loader', 'pro-forma']\n",
            "['anti-miscarriage', 'prudential-bache', 'collective-bargaining', 'weisfield', '14.', 'direct-investment', 'ntg', 'savings-and-loan', 'subminimum', 'rope-sight']\n",
            "['3\\\\/8', '11\\\\/16', 'boorse', 'mininum-wage', 'sticker-shock', 'machine-gun-toting', 'roof-crush', '7.422', 'solaia', 'one-newspaper']\n",
            "['rey\\\\/fawcett', 'foreign-led', 'index-related', 'sport-utility', 'flim-flammery', 'beer-belly', 'stock-price', 'anti-programmers', '82,389', 'diceon']\n",
            "['write-downs', 'mehrens', 'jalaalwalikraam', 'capital-markets', 'derel', 'electric-utility', 'unenticing', 'lezovich', '3648.82', 'wamre']\n",
            "['497.34', 'investment-grade', 'when-issued', 'parts-engineering', 'band-wagon', 'acid-rain', 'industry-supported', 'high-polluting', 'hart-scott-rodino', '62%-owned']\n",
            "['egnuss', 'quantitive', '84-month', 'norwick', 'high-rate', '127.03', 'macmillan\\\\/mcgraw', 'abortion-related', '13,056', '271-147']\n",
            "['c.j.b.', 'three-lawyer', 'sometimes-tawdry', 'news-american', 'gingl', 'veraldi', '372.9', 'stock-picking', 'freudtoy', 'sino-u.s.']\n",
            "['romanee-conti', 'takeover-stock', 'big-ticket', 'citizen-sparked', 'floating-rate', '14,821', 'insurance-company', 'change-ringing', 'centerbank', 'secilia']\n",
            "['mutual-fund', '11,762', 'buttoned-down', 'tissue-transplant', 'language-housekeeper', 'times-stock', 'mega-stadium', 'bank-backed', 'test-drive', 'double-c']\n",
            "['dydee', '449.04', 'preparatives', 'capital-gains', 'clean-air', 'yen-denominated', '37-a-share', '-rcb-', 'recession-inspired', 'six-packs']\n",
            "['lookee-loos', 'index-fund', 'cleaner-burning', 'school-improvement', 'synergistics', 'meinders', 'two-sevenths', 'antitrust-law', 'heiwado', 'social-studies']\n"
          ]
        }
      ],
      "source": [
        "# Function definition\n",
        "\n",
        "def check_OOV_terms(embedding_model, word_listing):\n",
        "    \"\"\"\n",
        "    Checks differences between pre-trained embedding model vocabulary\n",
        "    and dataset specific vocabulary in order to highlight out-of-vocabulary terms.\n",
        "\n",
        "    :param embedding_model: pre-trained word embedding model (gensim wrapper)\n",
        "    :param word_listing: dataset specific vocabulary (list)\n",
        "\n",
        "    :return\n",
        "        - list of OOV terms\n",
        "    \"\"\"\n",
        "    return list(set(word_listing) - set(embedding_model.vocab.keys()))\n",
        "\n",
        "word_tokenizer, tag_tokenizer, train_word_listing,train_word_to_idx, train_idx_to_word = words_tokenizer(list(train_sentences)+list(validation_sentences), list(train_tags))\n",
        "#word_tokenizer, tag_tokenizer, word_listing, word_to_idx, idx_to_word = words_tokenizer(list(train_sentences), list(train_tags))\n",
        "\n",
        "\n",
        "train_oov_terms = check_OOV_terms(embedding_model, train_word_listing)\n",
        "\n",
        "#print(\"Total OOV terms: {0} ({1:.2f}%)\".format(len(train_oov_terms), float(len(train_oov_terms)) / len(train_word_listing)))\n",
        "\n",
        "for i in range(len(train_oov_terms) // 10):\n",
        "  print(train_oov_terms[i * 10:(i+1) * 10])"
      ]
    },
    {
      "cell_type": "code",
      "execution_count": null,
      "metadata": {
        "colab": {
          "base_uri": "https://localhost:8080/",
          "height": 265
        },
        "id": "69z1yxlCIAvF",
        "outputId": "3284b39f-1c24-4472-f80c-d1e0865c3059"
      },
      "outputs": [
        {
          "output_type": "stream",
          "name": "stdout",
          "text": [
            "The training set has a percentage of OOV words equal to 5.53%\n"
          ]
        },
        {
          "output_type": "display_data",
          "data": {
            "text/plain": [
              "<Figure size 432x288 with 1 Axes>"
            ],
            "image/png": "[encoded data removed]"
          },
          "metadata": {}
        }
      ],
      "source": [
        "# Define data for pie chart\n",
        "oov_percentage = float(len(train_oov_terms) / len(train_word_listing)) * 100\n",
        "print('The training set has a percentage of OOV words equal to {:.2f}%'.format(oov_percentage))\n",
        "percentages = [100-oov_percentage, oov_percentage]\n",
        "labels = ['Words in GloVe', 'OOV',]\n",
        "\n",
        "# Define Seaborn color palette to use\n",
        "colors = sns.color_palette('pastel')[0:2]\n",
        "\n",
        "# Create pie chart\n",
        "plt.pie(percentages, labels = labels, colors = colors, autopct='%.2f%%')\n",
        "plt.show()"
      ]
    },
    {
      "cell_type": "markdown",
      "metadata": {
        "id": "KSJGLRKGIPQU"
      },
      "source": [
        "## Building Embedding Matrix\n",
        "\n",
        "The next step is to build an embedded matrix. The primary consideration in this process is how to handle OOV words. We have used the approach of assigning a weighted average of neighbour words for OOV words. The implementation is as follows:\n",
        "\n",
        "* Given a word w\n",
        "* If w is in the embedding model vocabulary -> assign embedding model vector\n",
        "\n",
        "\tElse\n",
        "    * If random strategy -> assign random vector (also check the vector value range to generate the vector correctly)\n",
        "    * If neighbour strategy -> get the co-occurrence vector of word w (window size equal to 1). For each word in the retrieved vector with count >= 1, get the corresponding embedding vector (if it is not an OOV term). At this point, compute a (weighted) average of the retrieved embedding vectors and assign it to word w. If word w has no neighbours, assign a random vector just like point 4.\n",
        "\n",
        "We tested both strategies, the random strategy in a separated notebook, and the neighbour strategy as our final implementation."
      ]
    },
    {
      "cell_type": "code",
      "execution_count": null,
      "metadata": {
        "colab": {
          "base_uri": "https://localhost:8080/"
        },
        "id": "4-G4o5PdIAyP",
        "outputId": "68f25f6e-f645-4b04-d8ca-c80af476e9df"
      },
      "outputs": [
        {
          "output_type": "stream",
          "name": "stdout",
          "text": [
            "Embedding matrix shape: (9903, 300)\n"
          ]
        }
      ],
      "source": [
        "# Function definition\n",
        "import random\n",
        "import scipy.sparse\n",
        "def build_embedding_matrix(embedding_model, embedding_dimension,\n",
        "                           word_to_idx, oov_terms, oov_terms_heuristic = 'none',df=None, old_embedding_matrix = []):\n",
        "    \"\"\"\n",
        "    Builds the embedding matrix of a specific dataset given a pre-trained word embedding model\n",
        "\n",
        "    :param embedding_model: pre-trained word embedding model (gensim wrapper)\n",
        "    :param word_to_idx: vocabulary map (word -> index) (dict)\n",
        "    :param oov_terms: list of OOV terms (list)\n",
        "\n",
        "    :return\n",
        "        - embedding matrix that assigns a high dimensional vector to each word in the dataset specific vocabulary (shape |V| x d)\n",
        "    \"\"\"\n",
        "    #A matrix to find the maximum and minimum value to rescale the random vector\n",
        "    embedding_matrix_value_generator = np.zeros((len(word_to_idx)+1, embedding_model.vector_size), dtype=float)\n",
        "    exception = ['--oov--']\n",
        "    for w, i in word_to_idx.items():\n",
        "      if w not in oov_terms and w not in exception:\n",
        "        embedding_matrix_value_generator[i] = embedding_model[w]\n",
        "    min_value, max_value = embedding_matrix_value_generator.min(), embedding_matrix_value_generator.max()\n",
        "\n",
        "    embedding_matrix = np.zeros((len(word_to_idx)+1, embedding_model.vector_size), dtype=float)\n",
        "\n",
        "    if oov_terms_heuristic == 'none':\n",
        "      for w, i in word_to_idx.items():\n",
        "        if w not in oov_terms and w not in exception:\n",
        "          embedding_matrix[i] = embedding_model[w]\n",
        "\n",
        "\n",
        "#Calculation of OOV words random allotment of vectors\n",
        "\n",
        "    if oov_terms_heuristic == 'random':\n",
        "      for w, i in word_to_idx.items():\n",
        "        if w not in oov_terms and w not in exception:\n",
        "          embedding_matrix[i] = embedding_model[w]\n",
        "        else:\n",
        "          embedding_matrix[i] = random_heuristic(w, embedding_model, min_value, max_value) # Select here an heuristic for the embedding assignment, three are provided.\n",
        "\n",
        "#Calculation of OOV words with respect to the average of all other words in its co-occurance row\n",
        "###VERY VERY SLOW\n",
        "\n",
        "    if oov_terms_heuristic == 'neighbour':\n",
        "      co_occurrence_matrix = co_occurrence_count(df, idx_to_word, word_to_idx, window_size=1)\n",
        "      for w, i in word_to_idx.items():\n",
        "        if w not in oov_terms and w not in exception:\n",
        "          embedding_matrix[i] = embedding_model[w]\n",
        "      for w1, i1 in word_to_idx.items():\n",
        "        if w1 in oov_terms and w1 in exception:\n",
        "          for w2, i2 in word_to_idx.items():\n",
        "            if w1 != w2:\n",
        "              embedding_matrix[i1] += embedding_matrix[i2] * (co_occurrence_matrix[i1,i2] / scipy.sparse.csr_matrix.sum(co_occurrence_matrix[word_to_idx[w1]]))\n",
        "\n",
        "    return embedding_matrix\n",
        "\n",
        "def zero_heuristic(word, embedding_model):\n",
        "  return np.zeros((embedding_model.vector_size,), dtype=float)\n",
        "\n",
        "def random_heuristic(word, embedding_model, min_value, max_value):\n",
        "  random_vector =  np.random.uniform(low=min_value, high=max_value, size=(embedding_model.vector_size,))\n",
        "  return random_vector\n",
        "\n",
        "\n",
        "#word_tokenizer, tag_tokenizer, train_word_listing, train_word_to_idx, train_idx_to_word = words_tokenizer(train_sentences, train_tags)\n",
        "\n",
        "word_tokenizer, tag_tokenizer, train_word_listing, train_word_to_idx, train_idx_to_word = words_tokenizer(list(train_sentences)+list(validation_sentences), train_tags)\n",
        "train_oov_terms = check_OOV_terms(embedding_model, train_word_listing)\n",
        "# Testing\n",
        "train_embedding_matrix = build_embedding_matrix(embedding_model, embedding_dimension, train_word_to_idx, train_oov_terms, oov_terms_heuristic = 'random', df=train_sentences)\n",
        "\n",
        "print(\"Embedding matrix shape: {}\".format(train_embedding_matrix.shape))"
      ]
    },
    {
      "cell_type": "markdown",
      "metadata": {
        "id": "u9DjyqQhIrmP"
      },
      "source": [
        "## Encoding of Input and Output Data\n",
        "\n",
        "We will encode all the datasets using the training vocabulary we have created. In this way all the words would be replaced by their corresponding indices which would help in extracting the specific vectors from the embedding matrix.\n",
        "\n",
        "Whereas, we shall create a tokenizer to encode tags, which would later be used for one hot encoding to be suitable for using in our neural networks."
      ]
    },
    {
      "cell_type": "code",
      "execution_count": null,
      "metadata": {
        "colab": {
          "base_uri": "https://localhost:8080/"
        },
        "id": "iPs58uXwIA01",
        "outputId": "349fe495-fc00-4a58-eded-7ffa3dde07dc"
      },
      "outputs": [
        {
          "output_type": "stream",
          "name": "stdout",
          "text": [
            "** Raw data point ** \n",
            " ---------------------------------------------------------------------- \n",
            "\n",
            "X:  ['Pierre', 'Vinken', ',', '61', 'years', 'old', ',', 'will', 'join', 'the', 'board', 'as', 'a', 'nonexecutive', 'director', 'Nov.', '29', '.'] \n",
            "\n",
            "Y:  ['NNP', 'NNP', ',', 'CD', 'NNS', 'JJ', ',', 'MD', 'VB', 'DT', 'NN', 'IN', 'DT', 'JJ', 'NN', 'NNP', 'CD', '.'] \n",
            "\n",
            "** Encoded data point ** \n",
            " ---------------------------------------------------------------------- \n",
            "\n",
            "X:  [4830, 3273, 2, 2549, 76, 321, 2, 41, 2079, 3, 134, 23, 7, 1734, 344, 475, 2550, 4] \n",
            "\n",
            "Y:  [3, 3, 8, 12, 6, 7, 8, 21, 13, 5, 2, 4, 5, 7, 2, 3, 12, 9] \n",
            "\n"
          ]
        },
        {
          "output_type": "stream",
          "name": "stderr",
          "text": [
            "<ipython-input-19-810d98d23be6>:6: VisibleDeprecationWarning: Creating an ndarray from ragged nested sequences (which is a list-or-tuple of lists-or-tuples-or ndarrays with different lengths or shapes) is deprecated. If you meant to do this, you must specify 'dtype=object' when creating the ndarray.\n",
            "  X_train_encoded = np.array(word_tokenizer.texts_to_sequences(train_sentences))\n",
            "<ipython-input-19-810d98d23be6>:7: VisibleDeprecationWarning: Creating an ndarray from ragged nested sequences (which is a list-or-tuple of lists-or-tuples-or ndarrays with different lengths or shapes) is deprecated. If you meant to do this, you must specify 'dtype=object' when creating the ndarray.\n",
            "  X_validation_encoded = np.array(word_tokenizer.texts_to_sequences(validation_sentences))\n",
            "<ipython-input-19-810d98d23be6>:8: VisibleDeprecationWarning: Creating an ndarray from ragged nested sequences (which is a list-or-tuple of lists-or-tuples-or ndarrays with different lengths or shapes) is deprecated. If you meant to do this, you must specify 'dtype=object' when creating the ndarray.\n",
            "  X_test_encoded = np.array(word_tokenizer.texts_to_sequences(test_sentences))\n",
            "<ipython-input-19-810d98d23be6>:12: VisibleDeprecationWarning: Creating an ndarray from ragged nested sequences (which is a list-or-tuple of lists-or-tuples-or ndarrays with different lengths or shapes) is deprecated. If you meant to do this, you must specify 'dtype=object' when creating the ndarray.\n",
            "  y_train_encoded =  np.array(tag_tokenizer.texts_to_sequences(train_tags))\n",
            "<ipython-input-19-810d98d23be6>:13: VisibleDeprecationWarning: Creating an ndarray from ragged nested sequences (which is a list-or-tuple of lists-or-tuples-or ndarrays with different lengths or shapes) is deprecated. If you meant to do this, you must specify 'dtype=object' when creating the ndarray.\n",
            "  y_validation_encoded =  np.array(tag_tokenizer.texts_to_sequences(validation_tags))\n",
            "<ipython-input-19-810d98d23be6>:14: VisibleDeprecationWarning: Creating an ndarray from ragged nested sequences (which is a list-or-tuple of lists-or-tuples-or ndarrays with different lengths or shapes) is deprecated. If you meant to do this, you must specify 'dtype=object' when creating the ndarray.\n",
            "  y_test_encoded =  np.array(tag_tokenizer.texts_to_sequences(test_tags))\n"
          ]
        }
      ],
      "source": [
        "#word_tokenizer, tag_tokenizer, word_listing, word_to_idx, idx_to_word = words_tokenizer(train_sentences, train_tags)\n",
        "oov_terms = check_OOV_terms(embedding_model, train_word_listing)\n",
        "embedding_matrix = build_embedding_matrix(embedding_model, embedding_dimension, word_to_idx, oov_terms, oov_terms_heuristic = 'random', df=train_sentences)\n",
        "\n",
        "# use the tokeniser to encode input sequence\n",
        "X_train_encoded = np.array(word_tokenizer.texts_to_sequences(train_sentences))\n",
        "X_validation_encoded = np.array(word_tokenizer.texts_to_sequences(validation_sentences))\n",
        "X_test_encoded = np.array(word_tokenizer.texts_to_sequences(test_sentences))\n",
        "\n",
        "# encode Y\n",
        "\n",
        "y_train_encoded =  np.array(tag_tokenizer.texts_to_sequences(train_tags))\n",
        "y_validation_encoded =  np.array(tag_tokenizer.texts_to_sequences(validation_tags))\n",
        "y_test_encoded =  np.array(tag_tokenizer.texts_to_sequences(test_tags))\n",
        "\n",
        "\n",
        "# look at first encoded data point\n",
        "print(\"** Raw data point **\", \"\\n\", \"-\"*70, \"\\n\")\n",
        "print('X: ', train_sentences[0], '\\n')\n",
        "print('Y: ', train_tags[0], '\\n')\n",
        "print(\"** Encoded data point **\", \"\\n\", \"-\"*70, \"\\n\")\n",
        "print('X: ', X_train_encoded[0], '\\n')\n",
        "print('Y: ', y_train_encoded[0], '\\n')"
      ]
    },
    {
      "cell_type": "markdown",
      "metadata": {
        "id": "8NZ7KI_gIzZ4"
      },
      "source": [
        "### Pad sequences\n",
        "\n",
        "The sentences in the corpus are not of the same length. Before we feed the input into the RNN model, we need to fix the sentences' length. It is impossible to dynamically allocate the memory required to process each sentence in the corpus as they are of different lengths.\n",
        "\n",
        "Therefore the next step after encoding the data is to define the sequence length. For that, we need to either pad short sentences or truncate long sentences to a fixed length.\n",
        "\n",
        "It is essential to point out that this fixed length is a hyperparameter of our strategy, which defines our model's expressiveness and the time to train the model.\n",
        "\n",
        "Our dataset's largest sentence has 250 tokens; we choose 100 token-length that we would expect to be a reasonable commitment between expressiveness and training time."
      ]
    },
    {
      "cell_type": "code",
      "execution_count": null,
      "metadata": {
        "colab": {
          "base_uri": "https://localhost:8080/"
        },
        "id": "Vv6hpPGrIA3u",
        "outputId": "978bba12-72e3-4e98-f2a2-44ffd7deea0b"
      },
      "outputs": [
        {
          "output_type": "stream",
          "name": "stdout",
          "text": [
            "Max Sequence Length:  250\n",
            "Defined Sequence Length:  100\n",
            "[   0    0    0    0    0    0    0    0    0    0    0    0    0    0\n",
            "    0    0    0    0    0    0    0    0    0    0    0    0    0    0\n",
            "    0    0    0    0    0    0    0    0    0    0    0    0    0    0\n",
            "    0    0    0    0    0    0    0    0    0    0    0    0    0    0\n",
            "    0    0    0    0    0    0    0    0    0    0    0    0    0    0\n",
            "    0    0    0    0    0    0    0    0    0    0    0    0 4830 3273\n",
            "    2 2549   76  321    2   41 2079    3  134   23    7 1734  344  475\n",
            " 2550    4] \n",
            "\n",
            "\n",
            "\n",
            "[ 0  0  0  0  0  0  0  0  0  0  0  0  0  0  0  0  0  0  0  0  0  0  0  0\n",
            "  0  0  0  0  0  0  0  0  0  0  0  0  0  0  0  0  0  0  0  0  0  0  0  0\n",
            "  0  0  0  0  0  0  0  0  0  0  0  0  0  0  0  0  0  0  0  0  0  0  0  0\n",
            "  0  0  0  0  0  0  0  0  0  0  3  3  8 12  6  7  8 21 13  5  2  4  5  7\n",
            "  2  3 12  9]\n"
          ]
        }
      ],
      "source": [
        "from keras_preprocessing.sequence import pad_sequences\n",
        "# Pad each sequence to MAX_SEQ_LENGTH using KERAS’ pad_sequences() function.\n",
        "# Sentences longer than MAX_SEQ_LENGTH are truncated.\n",
        "# Sentences shorter than MAX_SEQ_LENGTH are padded with zeroes.\n",
        "# Truncation and padding can either be ‘pre’ or ‘post’.\n",
        "# For padding we are using ‘pre’ padding type, that is, add zeroes on the left side.\n",
        "# For truncation, we are using ‘post’, that is, truncate a sentence from right side.\n",
        "# sequences greater than 100 in length will be truncated\n",
        "#MAX_SEQ_LENGTH =  len(max(sentences, key=len))\n",
        "print('Max Sequence Length: ',len(max(train_sentences,key=len)))\n",
        "MAX_SEQ_LENGTH = 100\n",
        "print('Defined Sequence Length: ',MAX_SEQ_LENGTH)\n",
        "X_train_padded = pad_sequences(X_train_encoded, maxlen=MAX_SEQ_LENGTH, padding='pre', truncating='post')\n",
        "X_validation_padded = pad_sequences(X_validation_encoded, maxlen=MAX_SEQ_LENGTH, padding='pre', truncating='post')\n",
        "X_test_padded = pad_sequences(X_test_encoded, maxlen=MAX_SEQ_LENGTH, padding='pre', truncating='post')\n",
        "y_train_padded = pad_sequences(y_train_encoded, maxlen=MAX_SEQ_LENGTH, padding='pre', truncating='post')\n",
        "y_validation_padded = pad_sequences(y_validation_encoded, maxlen=MAX_SEQ_LENGTH, padding='pre', truncating='post')\n",
        "y_test_padded = pad_sequences(y_test_encoded, maxlen=MAX_SEQ_LENGTH, padding='pre', truncating='post')\n",
        "\n",
        "# print the first sequence\n",
        "print(X_train_padded[0], \"\\n\"*3)\n",
        "print(y_train_padded[0])"
      ]
    },
    {
      "cell_type": "code",
      "execution_count": null,
      "metadata": {
        "colab": {
          "base_uri": "https://localhost:8080/"
        },
        "id": "FzzYsIf5IA7L",
        "outputId": "0fdc4ace-64b9-4be9-a786-435ee40b0a4d"
      },
      "outputs": [
        {
          "output_type": "stream",
          "name": "stdout",
          "text": [
            "(1938, 100)\n",
            "(1256, 100)\n",
            "(636, 100)\n",
            "(1938, 100)\n",
            "(1256, 100)\n",
            "(636, 100)\n"
          ]
        }
      ],
      "source": [
        "print(X_train_padded.shape)\n",
        "print(X_validation_padded.shape)\n",
        "print(X_test_padded.shape)\n",
        "print(y_train_padded.shape)\n",
        "print(y_validation_padded.shape)\n",
        "print(y_test_padded.shape)"
      ]
    },
    {
      "cell_type": "markdown",
      "metadata": {
        "id": "05q8F7P7JIGh"
      },
      "source": [
        "## Visulization of Tags\n",
        "\n",
        "We visualized the tags tokenizer to get insights of the data, particularly observing the punctuation symbols since we will discard them while analyzing are data sets.  \n",
        "\n",
        "Then, we create a vector of all tokens without those punctuation symbols."
      ]
    },
    {
      "cell_type": "code",
      "execution_count": null,
      "metadata": {
        "colab": {
          "base_uri": "https://localhost:8080/"
        },
        "id": "6m848QlyFZW0",
        "outputId": "38f8de5b-84bc-4d2d-d67a-59f5ef8b16aa"
      },
      "outputs": [
        {
          "output_type": "stream",
          "name": "stdout",
          "text": [
            "{'--oov--': 1, 'nn': 2, 'nnp': 3, 'in': 4, 'dt': 5, 'nns': 6, 'jj': 7, ',': 8, '.': 9, 'vbd': 10, 'rb': 11, 'cd': 12, 'vb': 13, 'cc': 14, 'vbz': 15, 'vbn': 16, 'to': 17, 'prp': 18, 'vbg': 19, 'vbp': 20, 'md': 21, 'prp$': 22, '``': 23, 'pos': 24, \"''\": 25, '$': 26, ':': 27, 'wdt': 28, 'jjr': 29, 'wp': 30, 'rp': 31, 'nnps': 32, 'jjs': 33, 'wrb': 34, 'rbr': 35, '-rrb-': 36, '-lrb-': 37, 'ex': 38, 'rbs': 39, 'ls': 40, 'pdt': 41, 'wp$': 42, 'fw': 43, 'uh': 44, 'sym': 45, '#': 46}\n",
            "[2, 3, 4, 5, 6, 7, 10, 11, 12, 13, 14, 15, 16, 17, 18, 19, 20, 21, 22, 24, 28, 29, 30, 31, 32, 33, 34, 35, 36, 37, 38, 39, 40, 41, 42, 43, 44, 45]\n",
            "Labels size: 38\n"
          ]
        }
      ],
      "source": [
        "tag_to_idx = tag_tokenizer.word_index\n",
        "print(tag_to_idx)\n",
        "#Let's list the labels of non punctuations symbols\n",
        "punctuations = [',','.',':','?','!',';','$','``',\"''\",'#', '--oov--', '-'] # We consider special characters as punctuation ($,', `,#)\n",
        "labels=[]\n",
        "[labels.append(s) for k,s in tag_to_idx.items() if k not in punctuations ]\n",
        "print(labels)\n",
        "print('Labels size: {}'.format(len(labels)))"
      ]
    },
    {
      "cell_type": "markdown",
      "metadata": {
        "id": "zyxuHsGqJPQQ"
      },
      "source": [
        "## Splitting the data in Train, Validation and Test datasets\n",
        "\n",
        "\n",
        "Before using RNN, we must make sure that the we provide the expected data dimensions. In general, an RNN expects the following shape:\n",
        "\n",
        "    Shape of X: (#samples, #timesteps, #features)\n",
        "\n",
        "Since, depending on the type of architecture, there can be variations in the RNN's shape. The problem that we are working on has a many-to-many architecture, the input and the output both include number of timesteps which is nothing but the sequence length. But notice that the tensor X doesn’t have the third dimension, that is, number of features. That’s because we’re going to use word embeddings before feeding in the data to an RNN, and hence there is no need to explicitly mention the third dimension. That’s because when you use the Embedding() layer in Keras, the training data will automatically be converted to (#samples, #timesteps, #features) where #features will be the embedding dimension (and note that the Embedding layer is always the very first layer of an RNN). While using the embedding layer we only need to reshape the data to (#samples, #timesteps) which was done previously. However, note that you’ll need to shape it to (#samples, #timesteps, #features) in case you don’t use the Embedding() layer in Keras.\n",
        "\n",
        "As explained before, we have used the one-hot encodding for the output padded y-vectors and we split the X-padded input dataset as per the length of sentences in each dataset found in the beginning of the code.  "
      ]
    },
    {
      "cell_type": "code",
      "execution_count": null,
      "metadata": {
        "colab": {
          "base_uri": "https://localhost:8080/"
        },
        "id": "fIJlRI-EJEc3",
        "outputId": "c4e15e54-20eb-4dcd-c040-624f64fd1b39"
      },
      "outputs": [
        {
          "output_type": "stream",
          "name": "stdout",
          "text": [
            "No. Training sentences: 1938\n",
            "No. Validation sentences: 1256\n",
            "No. Test sentences: 636\n",
            "(1938, 100, 47)\n"
          ]
        }
      ],
      "source": [
        "from keras.utils.np_utils import to_categorical\n",
        "# use Keras’ to_categorical function to one-hot encode Y\n",
        "def one_hot_encoder(vector):\n",
        "  one_hot_encoded_vector = []\n",
        "  for i in range(0,len(vector)):\n",
        "    encoded_tag = to_categorical(vector[i],47)\n",
        "    one_hot_encoded_vector.append(encoded_tag)\n",
        "  return np.array(one_hot_encoded_vector)\n",
        "\n",
        "\n",
        "#Splitting the dataset into train, test and validation\n",
        "print('No. Training sentences: {}'.format(number_training_sentences))\n",
        "print('No. Validation sentences: {}'.format(number_validation_sentences))\n",
        "print('No. Test sentences: {}'.format(number_test_sentences))\n",
        "\n",
        "\n",
        "X_train = X_train_padded\n",
        "X_validation = X_validation_padded\n",
        "X_test = X_test_padded\n",
        "y_train = one_hot_encoder(y_train_padded)\n",
        "y_validation = one_hot_encoder(y_validation_padded)\n",
        "y_test = one_hot_encoder(y_test_padded)\n",
        "\n",
        "print(y_train.shape)"
      ]
    },
    {
      "cell_type": "code",
      "execution_count": null,
      "metadata": {
        "id": "wAR6Big4JEf7"
      },
      "outputs": [],
      "source": [
        "# Plot the loss and the accuracy scores on the training and validation s\n",
        "\n",
        "def plot_history(model_history,keys):\n",
        "    m,val_m = keys\n",
        "    plt.plot(model_history.history[m])\n",
        "    plt.plot(model_history.history[val_m])\n",
        "    plt.ylabel(m)\n",
        "    plt.xlabel('epoch')\n",
        "    plt.legend(['train', 'validation'], loc='upper left')\n",
        "    plt.show()"
      ]
    },
    {
      "cell_type": "markdown",
      "metadata": {
        "id": "8rESXhhPmPDD"
      },
      "source": [
        "## RNN Models\n",
        "\n",
        "Now, let’s build the RNN model. We’re going to use word embeddings to represent the words. And, during the training of the model, you can also train the word embeddings along with the network weights. These are often called the embedding weights. While training, the embedding weights will be treated as normal weights of the network which are updated in each iteration.\n",
        "\n",
        "We will define the elements that would remain consistent for our models and analysis. Before defining the baseline model as indicated by the tutor we will implement vanilla rnn for better understanding of the working of the RNNs.\n",
        "\n",
        "\n",
        "In the next few sections before the base line model, we will try the following three RNN models:\n",
        "\n",
        "* RNN with arbitrarily initialized, untrainable embeddings: In this model, we will initialize the embedding weights arbitrarily. Further, we’ll freeze the embeddings, that is, we won’t allow the network to train them.\n",
        "\n",
        "* RNN with arbitrarily initialized, trainable embeddings: In this model, we’ll allow the network to train the embeddings.\n",
        "\n",
        "* RNN with trainable Glove embeddings: In this experiment, we’ll use Glove word embeddings and also allow the network to train them further.\n"
      ]
    },
    {
      "cell_type": "code",
      "execution_count": null,
      "metadata": {
        "colab": {
          "base_uri": "https://localhost:8080/"
        },
        "id": "GxHLL_2lmSIG",
        "outputId": "6ff11772-4693-44d6-8a80-0f53f7289d59"
      },
      "outputs": [
        {
          "output_type": "stream",
          "name": "stdout",
          "text": [
            "9903\n"
          ]
        }
      ],
      "source": [
        "# MAX_SEQ_LENGTH = 100,defining the maximum size of each sentence\n",
        "\n",
        "from keras import Sequential\n",
        "from keras.layers import Embedding,SimpleRNN,TimeDistributed,Dense,LSTM,GRU,Bidirectional\n",
        "EMBEDDING_SIZE  = embedding_matrix.shape[1] # # Dimension of the embeding matrix GLove 300\n",
        "VOCABULARY_SIZE = len(word_to_idx) + 1\n",
        "NUM_CLASSES = len(tag_tokenizer.word_index) + 1 #47\n",
        "EPOCHS=30\n",
        "print(VOCABULARY_SIZE)"
      ]
    },
    {
      "cell_type": "markdown",
      "metadata": {
        "id": "4J6NmwPjmVfu"
      },
      "source": [
        "## Uninitialized fixed embeddings\n",
        "Let’s start with the first experiment: a vanilla RNN with arbitrarily initialized, untrainable embedding. For this RNN we won’t use the pre-trained word embeddings. We’ll use randomly initialized embeddings. Moreover, we won’t update the embeddings weights."
      ]
    },
    {
      "cell_type": "code",
      "execution_count": null,
      "metadata": {
        "colab": {
          "base_uri": "https://localhost:8080/"
        },
        "id": "E19JyuaCmfgg",
        "outputId": "8e7b1b9d-88c2-4755-cd4d-ef6823db36d2"
      },
      "outputs": [
        {
          "output_type": "stream",
          "name": "stdout",
          "text": [
            "Model: \"sequential\"\n",
            "_________________________________________________________________\n",
            " Layer (type)                Output Shape              Param #   \n",
            "=================================================================\n",
            " embedding (Embedding)       (None, 100, 300)          2970900   \n",
            "                                                                 \n",
            " simple_rnn (SimpleRNN)      (None, 100, 64)           23360     \n",
            "                                                                 \n",
            " time_distributed (TimeDistr  (None, 100, 47)          3055      \n",
            " ibuted)                                                         \n",
            "                                                                 \n",
            "=================================================================\n",
            "Total params: 2,997,315\n",
            "Trainable params: 26,415\n",
            "Non-trainable params: 2,970,900\n",
            "_________________________________________________________________\n",
            "Epoch 1/30\n",
            "16/16 [==============================] - 8s 397ms/step - loss: 3.0735 - acc: 0.6180 - val_loss: 1.8141 - val_acc: 0.7517\n",
            "Epoch 2/30\n",
            "16/16 [==============================] - 7s 457ms/step - loss: 1.4400 - acc: 0.7565 - val_loss: 1.1634 - val_acc: 0.7517\n",
            "Epoch 3/30\n",
            "16/16 [==============================] - 5s 318ms/step - loss: 1.0655 - acc: 0.7579 - val_loss: 0.9733 - val_acc: 0.7652\n",
            "Epoch 4/30\n",
            "16/16 [==============================] - 5s 331ms/step - loss: 0.9193 - acc: 0.7785 - val_loss: 0.8980 - val_acc: 0.7809\n",
            "Epoch 5/30\n",
            "16/16 [==============================] - 5s 307ms/step - loss: 0.8594 - acc: 0.7848 - val_loss: 0.8577 - val_acc: 0.7831\n",
            "Epoch 6/30\n",
            "16/16 [==============================] - 5s 320ms/step - loss: 0.8274 - acc: 0.7860 - val_loss: 0.8331 - val_acc: 0.7848\n",
            "Epoch 7/30\n",
            "16/16 [==============================] - 5s 308ms/step - loss: 0.8066 - acc: 0.7872 - val_loss: 0.8159 - val_acc: 0.7867\n",
            "Epoch 8/30\n",
            "16/16 [==============================] - 5s 347ms/step - loss: 0.7907 - acc: 0.7891 - val_loss: 0.8009 - val_acc: 0.7875\n",
            "Epoch 9/30\n",
            "16/16 [==============================] - 5s 323ms/step - loss: 0.8511 - acc: 0.7841 - val_loss: 0.8424 - val_acc: 0.7857\n",
            "Epoch 10/30\n",
            "16/16 [==============================] - 4s 263ms/step - loss: 0.7889 - acc: 0.7897 - val_loss: 0.7906 - val_acc: 0.7883\n",
            "Epoch 11/30\n",
            "16/16 [==============================] - 4s 256ms/step - loss: 0.7655 - acc: 0.7915 - val_loss: 0.7781 - val_acc: 0.7915\n",
            "Epoch 12/30\n",
            "16/16 [==============================] - 4s 254ms/step - loss: 0.7542 - acc: 0.7952 - val_loss: 0.7681 - val_acc: 0.7980\n",
            "Epoch 13/30\n",
            "16/16 [==============================] - 3s 157ms/step - loss: 0.7441 - acc: 0.8055 - val_loss: 0.7583 - val_acc: 0.8096\n",
            "Epoch 14/30\n",
            "16/16 [==============================] - 2s 137ms/step - loss: 0.7342 - acc: 0.8141 - val_loss: 0.7485 - val_acc: 0.8146\n",
            "Epoch 15/30\n",
            "16/16 [==============================] - 2s 137ms/step - loss: 0.7245 - acc: 0.8183 - val_loss: 0.7390 - val_acc: 0.8176\n",
            "Epoch 16/30\n",
            "16/16 [==============================] - 2s 136ms/step - loss: 0.7142 - acc: 0.8214 - val_loss: 0.7285 - val_acc: 0.8203\n",
            "Epoch 17/30\n",
            "16/16 [==============================] - 2s 136ms/step - loss: 0.7038 - acc: 0.8244 - val_loss: 0.7181 - val_acc: 0.8235\n",
            "Epoch 18/30\n",
            "16/16 [==============================] - 2s 137ms/step - loss: 0.6930 - acc: 0.8280 - val_loss: 0.7074 - val_acc: 0.8284\n",
            "Epoch 19/30\n",
            "16/16 [==============================] - 2s 137ms/step - loss: 0.6820 - acc: 0.8325 - val_loss: 0.6964 - val_acc: 0.8307\n",
            "Epoch 20/30\n",
            "16/16 [==============================] - 2s 136ms/step - loss: 0.6707 - acc: 0.8357 - val_loss: 0.6852 - val_acc: 0.8347\n",
            "Epoch 21/30\n",
            "16/16 [==============================] - 2s 136ms/step - loss: 0.6594 - acc: 0.8383 - val_loss: 0.6737 - val_acc: 0.8365\n",
            "Epoch 22/30\n",
            "16/16 [==============================] - 2s 136ms/step - loss: 0.6479 - acc: 0.8402 - val_loss: 0.6620 - val_acc: 0.8374\n",
            "Epoch 23/30\n",
            "16/16 [==============================] - 2s 137ms/step - loss: 0.6363 - acc: 0.8410 - val_loss: 0.6505 - val_acc: 0.8381\n",
            "Epoch 24/30\n",
            "16/16 [==============================] - 2s 137ms/step - loss: 0.6249 - acc: 0.8433 - val_loss: 0.6391 - val_acc: 0.8411\n",
            "Epoch 25/30\n",
            "16/16 [==============================] - 2s 136ms/step - loss: 0.6136 - acc: 0.8446 - val_loss: 0.6281 - val_acc: 0.8419\n",
            "Epoch 26/30\n",
            "16/16 [==============================] - 2s 135ms/step - loss: 0.6026 - acc: 0.8466 - val_loss: 0.6169 - val_acc: 0.8448\n",
            "Epoch 27/30\n",
            "16/16 [==============================] - 2s 135ms/step - loss: 0.5920 - acc: 0.8487 - val_loss: 0.6061 - val_acc: 0.8473\n",
            "Epoch 28/30\n",
            "16/16 [==============================] - 2s 140ms/step - loss: 0.5812 - acc: 0.8501 - val_loss: 0.5954 - val_acc: 0.8484\n",
            "Epoch 29/30\n",
            "16/16 [==============================] - 2s 142ms/step - loss: 0.5709 - acc: 0.8519 - val_loss: 0.5858 - val_acc: 0.8499\n",
            "Epoch 30/30\n",
            "16/16 [==============================] - 2s 133ms/step - loss: 0.5611 - acc: 0.8538 - val_loss: 0.5763 - val_acc: 0.8509\n"
          ]
        }
      ],
      "source": [
        "# create architecture\n",
        "rnn_model = Sequential()\n",
        "# create embedding layer — usually the first layer in text problems\n",
        "# vocabulary size — number of unique words in data\n",
        "rnn_model.add(Embedding(input_dim = VOCABULARY_SIZE,\n",
        "# length of vector with which each word is represented\n",
        " output_dim = EMBEDDING_SIZE,\n",
        "# length of input sequence\n",
        " input_length = MAX_SEQ_LENGTH,\n",
        "# False — don’t update the embeddings\n",
        " trainable = False\n",
        "))\n",
        "# add an RNN layer which contains 64 RNN cells\n",
        "# True — return whole sequence; False — return single output of the end of the sequence\n",
        "rnn_model.add(SimpleRNN(64,\n",
        " return_sequences=True\n",
        "))\n",
        "# add time distributed (output at each sequence) layer\n",
        "rnn_model.add(TimeDistributed(Dense(NUM_CLASSES, activation='softmax')))\n",
        "#compile model\n",
        "rnn_model.compile(loss      =  'categorical_crossentropy',\n",
        "                  optimizer =  'adam',\n",
        "                  metrics   =  ['acc'])\n",
        "# check summary of the model\n",
        "rnn_model.summary()\n",
        "\n",
        "#fit model\n",
        "rnn_training = rnn_model.fit(X_train, y_train, batch_size=128, epochs=EPOCHS, validation_data=(X_validation, y_validation))"
      ]
    },
    {
      "cell_type": "markdown",
      "metadata": {
        "id": "MVZ_FiAwmpLD"
      },
      "source": [
        "## Uninitialized trainable embeddings\n",
        "Next, try the second model — RNN with arbitrarily initialized, trainable embeddings. Here, we’ll allow the embeddings to get trained with the network. All I am doing is changing the parameter trainable to true i.e trainable = True. Rest all remains the same as above. On checking the model summary we can see that all the parameters have become trainable. i.e trainable params are equal to total params."
      ]
    },
    {
      "cell_type": "code",
      "execution_count": null,
      "metadata": {
        "colab": {
          "base_uri": "https://localhost:8080/"
        },
        "id": "Xymm5WAwmrLS",
        "outputId": "89b9c8d2-8d31-43fe-abc2-cf48ae220376"
      },
      "outputs": [
        {
          "output_type": "stream",
          "name": "stdout",
          "text": [
            "Model: \"sequential_1\"\n",
            "_________________________________________________________________\n",
            " Layer (type)                Output Shape              Param #   \n",
            "=================================================================\n",
            " embedding_1 (Embedding)     (None, 100, 300)          2970900   \n",
            "                                                                 \n",
            " simple_rnn_1 (SimpleRNN)    (None, 100, 64)           23360     \n",
            "                                                                 \n",
            " time_distributed_1 (TimeDis  (None, 100, 47)          3055      \n",
            " tributed)                                                       \n",
            "                                                                 \n",
            "=================================================================\n",
            "Total params: 2,997,315\n",
            "Trainable params: 2,997,315\n",
            "Non-trainable params: 0\n",
            "_________________________________________________________________\n",
            "Epoch 1/30\n",
            "16/16 [==============================] - 4s 206ms/step - loss: 2.7114 - acc: 0.5656 - val_loss: 1.5610 - val_acc: 0.7544\n",
            "Epoch 2/30\n",
            "16/16 [==============================] - 3s 189ms/step - loss: 1.1997 - acc: 0.7606 - val_loss: 1.0296 - val_acc: 0.7690\n",
            "Epoch 3/30\n",
            "16/16 [==============================] - 3s 191ms/step - loss: 0.9261 - acc: 0.7893 - val_loss: 0.8769 - val_acc: 0.8005\n",
            "Epoch 4/30\n",
            "16/16 [==============================] - 3s 193ms/step - loss: 0.7943 - acc: 0.8176 - val_loss: 0.7621 - val_acc: 0.8278\n",
            "Epoch 5/30\n",
            "16/16 [==============================] - 3s 192ms/step - loss: 0.6849 - acc: 0.8393 - val_loss: 0.6682 - val_acc: 0.8443\n",
            "Epoch 6/30\n",
            "16/16 [==============================] - 3s 193ms/step - loss: 0.5918 - acc: 0.8642 - val_loss: 0.5875 - val_acc: 0.8610\n",
            "Epoch 7/30\n",
            "16/16 [==============================] - 3s 192ms/step - loss: 0.5100 - acc: 0.8859 - val_loss: 0.5160 - val_acc: 0.8803\n",
            "Epoch 8/30\n",
            "16/16 [==============================] - 3s 193ms/step - loss: 0.4373 - acc: 0.9072 - val_loss: 0.4528 - val_acc: 0.8985\n",
            "Epoch 9/30\n",
            "16/16 [==============================] - 3s 196ms/step - loss: 0.3726 - acc: 0.9267 - val_loss: 0.3969 - val_acc: 0.9146\n",
            "Epoch 10/30\n",
            "16/16 [==============================] - 3s 193ms/step - loss: 0.3142 - acc: 0.9432 - val_loss: 0.3475 - val_acc: 0.9268\n",
            "Epoch 11/30\n",
            "16/16 [==============================] - 3s 196ms/step - loss: 0.2632 - acc: 0.9560 - val_loss: 0.3048 - val_acc: 0.9383\n",
            "Epoch 12/30\n",
            "16/16 [==============================] - 4s 225ms/step - loss: 0.2194 - acc: 0.9662 - val_loss: 0.2702 - val_acc: 0.9448\n",
            "Epoch 13/30\n",
            "16/16 [==============================] - 3s 194ms/step - loss: 0.1841 - acc: 0.9723 - val_loss: 0.2420 - val_acc: 0.9498\n",
            "Epoch 14/30\n",
            "16/16 [==============================] - 4s 240ms/step - loss: 0.1556 - acc: 0.9766 - val_loss: 0.2201 - val_acc: 0.9536\n",
            "Epoch 15/30\n",
            "16/16 [==============================] - 3s 188ms/step - loss: 0.1329 - acc: 0.9797 - val_loss: 0.2032 - val_acc: 0.9562\n",
            "Epoch 16/30\n",
            "16/16 [==============================] - 3s 190ms/step - loss: 0.1149 - acc: 0.9822 - val_loss: 0.1897 - val_acc: 0.9578\n",
            "Epoch 17/30\n",
            "16/16 [==============================] - 3s 189ms/step - loss: 0.1004 - acc: 0.9844 - val_loss: 0.1788 - val_acc: 0.9591\n",
            "Epoch 18/30\n",
            "16/16 [==============================] - 3s 190ms/step - loss: 0.0884 - acc: 0.9862 - val_loss: 0.1702 - val_acc: 0.9604\n",
            "Epoch 19/30\n",
            "16/16 [==============================] - 3s 194ms/step - loss: 0.0785 - acc: 0.9879 - val_loss: 0.1631 - val_acc: 0.9615\n",
            "Epoch 20/30\n",
            "16/16 [==============================] - 3s 190ms/step - loss: 0.0703 - acc: 0.9891 - val_loss: 0.1573 - val_acc: 0.9624\n",
            "Epoch 21/30\n",
            "16/16 [==============================] - 3s 192ms/step - loss: 0.0633 - acc: 0.9900 - val_loss: 0.1523 - val_acc: 0.9635\n",
            "Epoch 22/30\n",
            "16/16 [==============================] - 3s 194ms/step - loss: 0.0573 - acc: 0.9909 - val_loss: 0.1482 - val_acc: 0.9641\n",
            "Epoch 23/30\n",
            "16/16 [==============================] - 3s 192ms/step - loss: 0.0522 - acc: 0.9917 - val_loss: 0.1446 - val_acc: 0.9646\n",
            "Epoch 24/30\n",
            "16/16 [==============================] - 3s 192ms/step - loss: 0.0477 - acc: 0.9923 - val_loss: 0.1417 - val_acc: 0.9650\n",
            "Epoch 25/30\n",
            "16/16 [==============================] - 3s 212ms/step - loss: 0.0440 - acc: 0.9928 - val_loss: 0.1392 - val_acc: 0.9654\n",
            "Epoch 26/30\n",
            "16/16 [==============================] - 4s 235ms/step - loss: 0.0407 - acc: 0.9933 - val_loss: 0.1369 - val_acc: 0.9658\n",
            "Epoch 27/30\n",
            "16/16 [==============================] - 4s 264ms/step - loss: 0.0378 - acc: 0.9938 - val_loss: 0.1352 - val_acc: 0.9660\n",
            "Epoch 28/30\n",
            "16/16 [==============================] - 4s 218ms/step - loss: 0.0353 - acc: 0.9941 - val_loss: 0.1337 - val_acc: 0.9662\n",
            "Epoch 29/30\n",
            "16/16 [==============================] - 3s 194ms/step - loss: 0.0330 - acc: 0.9944 - val_loss: 0.1325 - val_acc: 0.9663\n",
            "Epoch 30/30\n",
            "16/16 [==============================] - 3s 195ms/step - loss: 0.0310 - acc: 0.9947 - val_loss: 0.1313 - val_acc: 0.9663\n"
          ]
        }
      ],
      "source": [
        "# create architecture\n",
        "rnn_model = Sequential()\n",
        "# create embedding layer — usually the first layer in text problems\n",
        "# vocabulary size — number of unique words in data\n",
        "rnn_model.add(Embedding(input_dim = VOCABULARY_SIZE,\n",
        "# length of vector with which each word is represented\n",
        " output_dim = EMBEDDING_SIZE,\n",
        "# length of input sequence\n",
        " input_length = MAX_SEQ_LENGTH,\n",
        "# False — don’t update the embeddings\n",
        " trainable = True\n",
        "))\n",
        "# add an RNN layer which contains 64 RNN cells\n",
        "# True — return whole sequence; False — return single output of the end of the sequence\n",
        "rnn_model.add(SimpleRNN(64,\n",
        " return_sequences=True\n",
        "))\n",
        "# add time distributed (output at each sequence) layer\n",
        "rnn_model.add(TimeDistributed(Dense(NUM_CLASSES, activation='softmax')))\n",
        "#compile model\n",
        "rnn_model.compile(loss      =  'categorical_crossentropy',\n",
        "                  optimizer =  'adam',\n",
        "                  metrics   =  ['acc'])\n",
        "# check summary of the model\n",
        "rnn_model.summary()\n",
        "\n",
        "#fit model\n",
        "rnn_training = rnn_model.fit(X_train, y_train, batch_size=128, epochs=EPOCHS, validation_data=(X_validation, y_validation))"
      ]
    },
    {
      "cell_type": "markdown",
      "metadata": {
        "id": "eE7hLDjznATH"
      },
      "source": [
        "## Using pre-trained embedding weights\n",
        "Let’s now try the third experiment — RNN with trainable Gloves embeddings. Recall that we had loaded the Glove embeddings in a matrix called 'embedding_weights'. Using Glove embeddings is just as easy as including this matrix in the model architecture.\n",
        "The network architecture is the same as above but instead of starting with an arbitrary embedding matrix, we’ll use pre-trained embedding weights (weights = [embedding_weights])\n",
        "\n",
        "The results decreased marginally in this case. That’s because the model was already performing very well. You’ll see much more improvements by using pre-trained embeddings in cases where you don’t have such a good model performance. Pre-trained embeddings provide a real boost in many applications."
      ]
    },
    {
      "cell_type": "code",
      "execution_count": null,
      "metadata": {
        "colab": {
          "base_uri": "https://localhost:8080/"
        },
        "id": "ojF9YkzznWXp",
        "outputId": "1d5d9b9e-f76b-4997-ebcb-ae68e213433a"
      },
      "outputs": [
        {
          "output_type": "stream",
          "name": "stdout",
          "text": [
            "Model: \"sequential_2\"\n",
            "_________________________________________________________________\n",
            " Layer (type)                Output Shape              Param #   \n",
            "=================================================================\n",
            " embedding_2 (Embedding)     (None, 100, 300)          2970900   \n",
            "                                                                 \n",
            " simple_rnn_2 (SimpleRNN)    (None, 100, 64)           23360     \n",
            "                                                                 \n",
            " time_distributed_2 (TimeDis  (None, 100, 47)          3055      \n",
            " tributed)                                                       \n",
            "                                                                 \n",
            "=================================================================\n",
            "Total params: 2,997,315\n",
            "Trainable params: 2,997,315\n",
            "Non-trainable params: 0\n",
            "_________________________________________________________________\n",
            "Epoch 1/30\n",
            "16/16 [==============================] - 6s 269ms/step - loss: 1.9122 - acc: 0.6640 - val_loss: 0.9935 - val_acc: 0.7722\n",
            "Epoch 2/30\n",
            "16/16 [==============================] - 3s 192ms/step - loss: 0.8910 - acc: 0.7843 - val_loss: 0.8236 - val_acc: 0.7896\n",
            "Epoch 3/30\n",
            "16/16 [==============================] - 3s 196ms/step - loss: 0.7523 - acc: 0.8076 - val_loss: 0.7097 - val_acc: 0.8217\n",
            "Epoch 4/30\n",
            "16/16 [==============================] - 3s 193ms/step - loss: 0.6478 - acc: 0.8437 - val_loss: 0.6208 - val_acc: 0.8553\n",
            "Epoch 5/30\n",
            "16/16 [==============================] - 3s 192ms/step - loss: 0.5606 - acc: 0.8752 - val_loss: 0.5450 - val_acc: 0.8789\n",
            "Epoch 6/30\n",
            "16/16 [==============================] - 3s 193ms/step - loss: 0.4845 - acc: 0.8973 - val_loss: 0.4777 - val_acc: 0.8964\n",
            "Epoch 7/30\n",
            "16/16 [==============================] - 3s 190ms/step - loss: 0.4176 - acc: 0.9149 - val_loss: 0.4180 - val_acc: 0.9121\n",
            "Epoch 8/30\n",
            "16/16 [==============================] - 3s 186ms/step - loss: 0.3592 - acc: 0.9294 - val_loss: 0.3676 - val_acc: 0.9231\n",
            "Epoch 9/30\n",
            "16/16 [==============================] - 3s 189ms/step - loss: 0.3088 - acc: 0.9414 - val_loss: 0.3248 - val_acc: 0.9324\n",
            "Epoch 10/30\n",
            "16/16 [==============================] - 3s 192ms/step - loss: 0.2666 - acc: 0.9510 - val_loss: 0.2889 - val_acc: 0.9403\n",
            "Epoch 11/30\n",
            "16/16 [==============================] - 3s 191ms/step - loss: 0.2308 - acc: 0.9589 - val_loss: 0.2590 - val_acc: 0.9467\n",
            "Epoch 12/30\n",
            "16/16 [==============================] - 3s 189ms/step - loss: 0.2008 - acc: 0.9655 - val_loss: 0.2342 - val_acc: 0.9516\n",
            "Epoch 13/30\n",
            "16/16 [==============================] - 3s 190ms/step - loss: 0.1757 - acc: 0.9704 - val_loss: 0.2136 - val_acc: 0.9553\n",
            "Epoch 14/30\n",
            "16/16 [==============================] - 3s 189ms/step - loss: 0.1546 - acc: 0.9739 - val_loss: 0.1967 - val_acc: 0.9582\n",
            "Epoch 15/30\n",
            "16/16 [==============================] - 3s 191ms/step - loss: 0.1370 - acc: 0.9767 - val_loss: 0.1824 - val_acc: 0.9602\n",
            "Epoch 16/30\n",
            "16/16 [==============================] - 3s 191ms/step - loss: 0.1220 - acc: 0.9790 - val_loss: 0.1705 - val_acc: 0.9622\n",
            "Epoch 17/30\n",
            "16/16 [==============================] - 3s 191ms/step - loss: 0.1094 - acc: 0.9811 - val_loss: 0.1606 - val_acc: 0.9636\n",
            "Epoch 18/30\n",
            "16/16 [==============================] - 3s 190ms/step - loss: 0.0987 - acc: 0.9827 - val_loss: 0.1522 - val_acc: 0.9644\n",
            "Epoch 19/30\n",
            "16/16 [==============================] - 3s 188ms/step - loss: 0.0897 - acc: 0.9841 - val_loss: 0.1452 - val_acc: 0.9655\n",
            "Epoch 20/30\n",
            "16/16 [==============================] - 3s 191ms/step - loss: 0.0818 - acc: 0.9856 - val_loss: 0.1392 - val_acc: 0.9666\n",
            "Epoch 21/30\n",
            "16/16 [==============================] - 3s 190ms/step - loss: 0.0750 - acc: 0.9868 - val_loss: 0.1341 - val_acc: 0.9677\n",
            "Epoch 22/30\n",
            "16/16 [==============================] - 3s 189ms/step - loss: 0.0690 - acc: 0.9879 - val_loss: 0.1296 - val_acc: 0.9686\n",
            "Epoch 23/30\n",
            "16/16 [==============================] - 3s 191ms/step - loss: 0.0638 - acc: 0.9888 - val_loss: 0.1258 - val_acc: 0.9692\n",
            "Epoch 24/30\n",
            "16/16 [==============================] - 3s 187ms/step - loss: 0.0592 - acc: 0.9896 - val_loss: 0.1224 - val_acc: 0.9697\n",
            "Epoch 25/30\n",
            "16/16 [==============================] - 3s 191ms/step - loss: 0.0551 - acc: 0.9902 - val_loss: 0.1197 - val_acc: 0.9701\n",
            "Epoch 26/30\n",
            "16/16 [==============================] - 3s 189ms/step - loss: 0.0515 - acc: 0.9908 - val_loss: 0.1172 - val_acc: 0.9704\n",
            "Epoch 27/30\n",
            "16/16 [==============================] - 3s 191ms/step - loss: 0.0483 - acc: 0.9912 - val_loss: 0.1150 - val_acc: 0.9706\n",
            "Epoch 28/30\n",
            "16/16 [==============================] - 3s 186ms/step - loss: 0.0455 - acc: 0.9917 - val_loss: 0.1129 - val_acc: 0.9710\n",
            "Epoch 29/30\n",
            "16/16 [==============================] - 3s 191ms/step - loss: 0.0429 - acc: 0.9921 - val_loss: 0.1113 - val_acc: 0.9712\n",
            "Epoch 30/30\n",
            "16/16 [==============================] - 3s 191ms/step - loss: 0.0406 - acc: 0.9924 - val_loss: 0.1099 - val_acc: 0.9712\n"
          ]
        }
      ],
      "source": [
        "# create architecture\n",
        "rnn_model = Sequential()\n",
        "# create embedding layer — usually the first layer in text problems\n",
        "# vocabulary size — number of unique words in data\n",
        "rnn_model.add(Embedding(input_dim = VOCABULARY_SIZE,\n",
        "# length of vector with which each word is represented\n",
        " output_dim = EMBEDDING_SIZE,\n",
        "# length of input sequence\n",
        " input_length = MAX_SEQ_LENGTH,\n",
        "#Initializing weight\n",
        "weights = [embedding_matrix],\n",
        "# False — don’t update the embeddings\n",
        " trainable = True\n",
        "))\n",
        "# add an RNN layer which contains 64 RNN cells\n",
        "# True — return whole sequence; False — return single output of the end of the sequence\n",
        "rnn_model.add(SimpleRNN(64,\n",
        " return_sequences=True\n",
        "))\n",
        "# add time distributed (output at each sequence) layer\n",
        "rnn_model.add(TimeDistributed(Dense(NUM_CLASSES, activation='softmax')))\n",
        "#compile model\n",
        "rnn_model.compile(loss      =  'categorical_crossentropy',\n",
        "                  optimizer =  'adam',\n",
        "                  metrics   =  ['acc'])\n",
        "# check summary of the model\n",
        "rnn_model.summary()\n",
        "\n",
        "#fit model\n",
        "rnn_training = rnn_model.fit(X_train, y_train, batch_size=128, epochs=EPOCHS, validation_data=(X_validation, y_validation))"
      ]
    },
    {
      "cell_type": "markdown",
      "metadata": {
        "id": "UbbvQMGInjPH"
      },
      "source": [
        "## Baseline Model (Bidirectional LSTM)- Model-1\n",
        "\n",
        "To solve the vanishing gradients problem, many attempts have been made to tweak the vanilla RNNs such that the gradients don’t die when sequences get long. The most popular and successful of these attempts has been the long, short-term memory network, or the LSTM. LSTMs have proven to be so effective that they have almost replaced vanilla RNNs.\n",
        "\n",
        "Thus, one of the fundamental differences between an RNN and an LSTM is that an LSTM has an explicit memory unit which stores information relevant for learning some task. In the standard RNN, the only way the network remembers past information is through updating the hidden states over time, but it does not have an explicit memory to store information.\n",
        "\n",
        "On the other hand, in LSTMs, the memory units retain pieces of information even when the sequences get really long.\n",
        "\n",
        "### Bidirectional LSTM\n",
        "\n",
        "For example, when you want to assign a sentiment score to a piece of text (say a customer review), the network can see the entire review text before assigning them a score. On the other hand, in a task such as predicting the next word given previous few typed words, the network does not have access to the words in the future time steps while predicting the next word.\n",
        "\n",
        "These two types of tasks are called offline and online sequence processing respectively.\n",
        "\n",
        "Now, there is a neat trick you can use with offline tasks — since the network has access to the entire sequence before making predictions, why not use this task to make the network ‘look at the future elements in the sequence’ while training, hoping that this will make the network learn better?\n",
        "This is the idea exploited by what is called bidirectional RNNs.\n",
        "By using bidirectional RNNs, it is almost certain that you’ll get better results. However, bidirectional RNNs take almost double the time to train since the number of parameters of the network increase. Therefore, you have a tradeoff between training time and performance. The decision to use a bidirectional RNN depends on the computing resources that you have and the performance you are aiming for.\n",
        "\n",
        "Finally, let’s build our baseline model — a bidirectional LSTM model"
      ]
    },
    {
      "cell_type": "code",
      "execution_count": null,
      "metadata": {
        "id": "1A196B6-m0R0"
      },
      "outputs": [],
      "source": [
        "# definition of callback for early stopping\n",
        "\n",
        "callback = EarlyStopping(\n",
        "    monitor=\"val_acc\",\n",
        "    min_delta=0.0001,\n",
        "    patience=5,\n",
        "    verbose=1,\n",
        "    mode=\"auto\",\n",
        "    baseline=None,\n",
        "    restore_best_weights=False\n",
        ")"
      ]
    },
    {
      "cell_type": "code",
      "execution_count": null,
      "metadata": {
        "colab": {
          "base_uri": "https://localhost:8080/"
        },
        "id": "My1LsWhcntuU",
        "outputId": "01681cb5-35f6-4b94-ddeb-01f6c49277b0"
      },
      "outputs": [
        {
          "output_type": "stream",
          "name": "stdout",
          "text": [
            "Model: \"sequential\"\n",
            "_________________________________________________________________\n",
            " Layer (type)                Output Shape              Param #   \n",
            "=================================================================\n",
            " embedding (Embedding)       (None, 100, 300)          2970900   \n",
            "                                                                 \n",
            " bidirectional (Bidirectiona  (None, 100, 128)         186880    \n",
            " l)                                                              \n",
            "                                                                 \n",
            " time_distributed (TimeDistr  (None, 100, 47)          6063      \n",
            " ibuted)                                                         \n",
            "                                                                 \n",
            "=================================================================\n",
            "Total params: 3,163,843\n",
            "Trainable params: 192,943\n",
            "Non-trainable params: 2,970,900\n",
            "_________________________________________________________________\n",
            "Epoch 1/30\n",
            "16/16 [==============================] - 23s 858ms/step - loss: 1.5121 - acc: 0.7120 - val_loss: 0.9109 - val_acc: 0.7693\n",
            "Epoch 2/30\n",
            "16/16 [==============================] - 9s 543ms/step - loss: 0.8302 - acc: 0.7850 - val_loss: 0.7866 - val_acc: 0.7936\n",
            "Epoch 3/30\n",
            "16/16 [==============================] - 9s 544ms/step - loss: 0.7377 - acc: 0.8048 - val_loss: 0.7201 - val_acc: 0.8123\n",
            "Epoch 4/30\n",
            "16/16 [==============================] - 9s 542ms/step - loss: 0.6804 - acc: 0.8291 - val_loss: 0.6675 - val_acc: 0.8342\n",
            "Epoch 5/30\n",
            "16/16 [==============================] - 9s 547ms/step - loss: 0.6273 - acc: 0.8495 - val_loss: 0.6130 - val_acc: 0.8534\n",
            "Epoch 6/30\n",
            "16/16 [==============================] - 9s 540ms/step - loss: 0.5715 - acc: 0.8627 - val_loss: 0.5557 - val_acc: 0.8680\n",
            "Epoch 7/30\n",
            "16/16 [==============================] - 9s 576ms/step - loss: 0.5152 - acc: 0.8766 - val_loss: 0.4996 - val_acc: 0.8796\n",
            "Epoch 8/30\n",
            "16/16 [==============================] - 9s 566ms/step - loss: 0.4610 - acc: 0.8873 - val_loss: 0.4491 - val_acc: 0.8907\n",
            "Epoch 9/30\n",
            "16/16 [==============================] - 10s 638ms/step - loss: 0.4129 - acc: 0.9001 - val_loss: 0.4053 - val_acc: 0.9015\n",
            "Epoch 10/30\n",
            "16/16 [==============================] - 9s 558ms/step - loss: 0.3715 - acc: 0.9098 - val_loss: 0.3678 - val_acc: 0.9094\n",
            "Epoch 11/30\n",
            "16/16 [==============================] - 9s 566ms/step - loss: 0.3363 - acc: 0.9173 - val_loss: 0.3365 - val_acc: 0.9173\n",
            "Epoch 12/30\n",
            "16/16 [==============================] - 9s 569ms/step - loss: 0.3069 - acc: 0.9249 - val_loss: 0.3103 - val_acc: 0.9229\n",
            "Epoch 13/30\n",
            "16/16 [==============================] - 9s 550ms/step - loss: 0.2821 - acc: 0.9320 - val_loss: 0.2883 - val_acc: 0.9293\n",
            "Epoch 14/30\n",
            "16/16 [==============================] - 13s 860ms/step - loss: 0.2614 - acc: 0.9373 - val_loss: 0.2701 - val_acc: 0.9339\n",
            "Epoch 15/30\n",
            "16/16 [==============================] - 9s 568ms/step - loss: 0.2440 - acc: 0.9412 - val_loss: 0.2542 - val_acc: 0.9373\n",
            "Epoch 16/30\n",
            "16/16 [==============================] - 9s 584ms/step - loss: 0.2289 - acc: 0.9449 - val_loss: 0.2406 - val_acc: 0.9399\n",
            "Epoch 17/30\n",
            "16/16 [==============================] - 9s 550ms/step - loss: 0.2160 - acc: 0.9474 - val_loss: 0.2287 - val_acc: 0.9430\n",
            "Epoch 18/30\n",
            "16/16 [==============================] - 9s 564ms/step - loss: 0.2045 - acc: 0.9504 - val_loss: 0.2183 - val_acc: 0.9454\n",
            "Epoch 19/30\n",
            "16/16 [==============================] - 9s 578ms/step - loss: 0.1943 - acc: 0.9529 - val_loss: 0.2090 - val_acc: 0.9477\n",
            "Epoch 20/30\n",
            "16/16 [==============================] - 9s 576ms/step - loss: 0.1851 - acc: 0.9549 - val_loss: 0.2008 - val_acc: 0.9496\n",
            "Epoch 21/30\n",
            "16/16 [==============================] - 9s 573ms/step - loss: 0.1769 - acc: 0.9567 - val_loss: 0.1930 - val_acc: 0.9510\n",
            "Epoch 22/30\n",
            "16/16 [==============================] - 9s 594ms/step - loss: 0.1693 - acc: 0.9584 - val_loss: 0.1865 - val_acc: 0.9525\n",
            "Epoch 23/30\n",
            "16/16 [==============================] - 9s 572ms/step - loss: 0.1626 - acc: 0.9597 - val_loss: 0.1802 - val_acc: 0.9542\n",
            "Epoch 24/30\n",
            "16/16 [==============================] - 9s 567ms/step - loss: 0.1563 - acc: 0.9613 - val_loss: 0.1747 - val_acc: 0.9554\n",
            "Epoch 25/30\n",
            "16/16 [==============================] - 9s 547ms/step - loss: 0.1509 - acc: 0.9622 - val_loss: 0.1698 - val_acc: 0.9564\n",
            "Epoch 26/30\n",
            "16/16 [==============================] - 9s 587ms/step - loss: 0.1455 - acc: 0.9636 - val_loss: 0.1651 - val_acc: 0.9572\n",
            "Epoch 27/30\n",
            "16/16 [==============================] - 9s 574ms/step - loss: 0.1404 - acc: 0.9647 - val_loss: 0.1608 - val_acc: 0.9582\n",
            "Epoch 28/30\n",
            "16/16 [==============================] - 9s 575ms/step - loss: 0.1358 - acc: 0.9658 - val_loss: 0.1567 - val_acc: 0.9587\n",
            "Epoch 29/30\n",
            "16/16 [==============================] - 9s 556ms/step - loss: 0.1315 - acc: 0.9668 - val_loss: 0.1534 - val_acc: 0.9596\n",
            "Epoch 30/30\n",
            "16/16 [==============================] - 9s 578ms/step - loss: 0.1274 - acc: 0.9676 - val_loss: 0.1498 - val_acc: 0.9603\n"
          ]
        }
      ],
      "source": [
        "#Bidirectional LSTM\n",
        "#baseline model\n",
        "# create architecture\n",
        "baseline_model = Sequential()\n",
        "baseline_model.add(Embedding(input_dim = VOCABULARY_SIZE,\n",
        " output_dim = EMBEDDING_SIZE,\n",
        " input_length = MAX_SEQ_LENGTH,\n",
        " weights = [embedding_matrix],\n",
        " trainable = False\n",
        "))\n",
        "baseline_model.add(Bidirectional(LSTM(64, return_sequences=True)))\n",
        "baseline_model.add(TimeDistributed(Dense(NUM_CLASSES, activation='softmax')))\n",
        "#compile model\n",
        "baseline_model.compile(loss='categorical_crossentropy',\n",
        "              optimizer='adam',\n",
        "              metrics=['acc'])\n",
        "# check summary of model\n",
        "baseline_model.summary()\n",
        "\n",
        "\n",
        "baseline_training = baseline_model.fit(X_train, y_train, batch_size=128, epochs=EPOCHS, validation_data=(X_validation, y_validation), callbacks=callback)"
      ]
    },
    {
      "cell_type": "code",
      "execution_count": null,
      "metadata": {
        "colab": {
          "base_uri": "https://localhost:8080/",
          "height": 553
        },
        "id": "cMM-mE3oqz48",
        "outputId": "cea15b5e-125c-4cd0-82ad-f014d3ff17ea"
      },
      "outputs": [
        {
          "output_type": "display_data",
          "data": {
            "text/plain": [
              "<Figure size 432x288 with 1 Axes>"
            ],
            "image/png": "[encoded data removed]"
          },
          "metadata": {}
        },
        {
          "output_type": "display_data",
          "data": {
            "text/plain": [
              "<Figure size 432x288 with 1 Axes>"
            ],
            "image/png": "[encoded data removed]"
          },
          "metadata": {}
        }
      ],
      "source": [
        "plot_history(baseline_training,['loss','val_loss'])\n",
        "plot_history(baseline_training,['acc','val_acc'])"
      ]
    },
    {
      "cell_type": "markdown",
      "metadata": {
        "id": "dSUdOk_gogJZ"
      },
      "source": [
        "## Modified Model 2 (GRU Model)\n",
        "\n",
        "Keeping in mind the computational expenses and the problem of overfitting, researchers have tried to come up with alternate structures of the LSTM cell.\n",
        "The most popular one of these alternatives is the gated recurrent unit (GRU). GRU being a simpler model than LSTM, it's always easier to train. LSTMs and GRUs have almost completely replaced the standard RNNs in practice because they’re more effective and faster to train than vanilla RNNs (despite the larger number of parameters).\n",
        "\n",
        "Let’s now build a GRU model."
      ]
    },
    {
      "cell_type": "code",
      "execution_count": null,
      "metadata": {
        "colab": {
          "base_uri": "https://localhost:8080/"
        },
        "id": "WTFrF_cpolIz",
        "outputId": "f1750270-9f8d-4623-82d9-67f1b411cea5"
      },
      "outputs": [
        {
          "output_type": "stream",
          "name": "stdout",
          "text": [
            "Model: \"sequential_1\"\n",
            "_________________________________________________________________\n",
            " Layer (type)                Output Shape              Param #   \n",
            "=================================================================\n",
            " embedding_1 (Embedding)     (None, 100, 300)          2970900   \n",
            "                                                                 \n",
            " gru (GRU)                   (None, 100, 64)           70272     \n",
            "                                                                 \n",
            " time_distributed_1 (TimeDis  (None, 100, 47)          3055      \n",
            " tributed)                                                       \n",
            "                                                                 \n",
            "=================================================================\n",
            "Total params: 3,044,227\n",
            "Trainable params: 73,327\n",
            "Non-trainable params: 2,970,900\n",
            "_________________________________________________________________\n",
            "Epoch 1/30\n",
            "16/16 [==============================] - 7s 323ms/step - loss: 1.6032 - acc: 0.7171 - val_loss: 0.9298 - val_acc: 0.7661\n",
            "Epoch 2/30\n",
            "16/16 [==============================] - 5s 295ms/step - loss: 0.8666 - acc: 0.7759 - val_loss: 0.8304 - val_acc: 0.7768\n",
            "Epoch 3/30\n",
            "16/16 [==============================] - 4s 269ms/step - loss: 0.7771 - acc: 0.7932 - val_loss: 0.7514 - val_acc: 0.8056\n",
            "Epoch 4/30\n",
            "16/16 [==============================] - 4s 268ms/step - loss: 0.7064 - acc: 0.8248 - val_loss: 0.6898 - val_acc: 0.8358\n",
            "Epoch 5/30\n",
            "16/16 [==============================] - 5s 290ms/step - loss: 0.6476 - acc: 0.8468 - val_loss: 0.6330 - val_acc: 0.8467\n",
            "Epoch 6/30\n",
            "16/16 [==============================] - 4s 281ms/step - loss: 0.5911 - acc: 0.8615 - val_loss: 0.5770 - val_acc: 0.8652\n",
            "Epoch 7/30\n",
            "16/16 [==============================] - 4s 276ms/step - loss: 0.5356 - acc: 0.8741 - val_loss: 0.5225 - val_acc: 0.8736\n",
            "Epoch 8/30\n",
            "16/16 [==============================] - 4s 267ms/step - loss: 0.4829 - acc: 0.8831 - val_loss: 0.4725 - val_acc: 0.8839\n",
            "Epoch 9/30\n",
            "16/16 [==============================] - 5s 285ms/step - loss: 0.4354 - acc: 0.8959 - val_loss: 0.4282 - val_acc: 0.8970\n",
            "Epoch 10/30\n",
            "16/16 [==============================] - 4s 268ms/step - loss: 0.3938 - acc: 0.9076 - val_loss: 0.3909 - val_acc: 0.9071\n",
            "Epoch 11/30\n",
            "16/16 [==============================] - 4s 268ms/step - loss: 0.3589 - acc: 0.9157 - val_loss: 0.3596 - val_acc: 0.9122\n",
            "Epoch 12/30\n",
            "16/16 [==============================] - 5s 303ms/step - loss: 0.3299 - acc: 0.9215 - val_loss: 0.3331 - val_acc: 0.9183\n",
            "Epoch 13/30\n",
            "16/16 [==============================] - 4s 282ms/step - loss: 0.3051 - acc: 0.9266 - val_loss: 0.3111 - val_acc: 0.9224\n",
            "Epoch 14/30\n",
            "16/16 [==============================] - 4s 267ms/step - loss: 0.2842 - acc: 0.9301 - val_loss: 0.2920 - val_acc: 0.9255\n",
            "Epoch 15/30\n",
            "16/16 [==============================] - 4s 278ms/step - loss: 0.2659 - acc: 0.9336 - val_loss: 0.2753 - val_acc: 0.9295\n",
            "Epoch 16/30\n",
            "16/16 [==============================] - 4s 274ms/step - loss: 0.2502 - acc: 0.9376 - val_loss: 0.2609 - val_acc: 0.9328\n",
            "Epoch 17/30\n",
            "16/16 [==============================] - 4s 275ms/step - loss: 0.2362 - acc: 0.9409 - val_loss: 0.2480 - val_acc: 0.9365\n",
            "Epoch 18/30\n",
            "16/16 [==============================] - 4s 277ms/step - loss: 0.2237 - acc: 0.9443 - val_loss: 0.2367 - val_acc: 0.9394\n",
            "Epoch 19/30\n",
            "16/16 [==============================] - 4s 272ms/step - loss: 0.2127 - acc: 0.9471 - val_loss: 0.2267 - val_acc: 0.9416\n",
            "Epoch 20/30\n",
            "16/16 [==============================] - 4s 279ms/step - loss: 0.2027 - acc: 0.9494 - val_loss: 0.2175 - val_acc: 0.9436\n",
            "Epoch 21/30\n",
            "16/16 [==============================] - 4s 280ms/step - loss: 0.1936 - acc: 0.9513 - val_loss: 0.2090 - val_acc: 0.9454\n",
            "Epoch 22/30\n",
            "16/16 [==============================] - 4s 281ms/step - loss: 0.1853 - acc: 0.9531 - val_loss: 0.2015 - val_acc: 0.9471\n",
            "Epoch 23/30\n",
            "16/16 [==============================] - 5s 294ms/step - loss: 0.1777 - acc: 0.9550 - val_loss: 0.1945 - val_acc: 0.9485\n",
            "Epoch 24/30\n",
            "16/16 [==============================] - 5s 295ms/step - loss: 0.1707 - acc: 0.9564 - val_loss: 0.1881 - val_acc: 0.9501\n",
            "Epoch 25/30\n",
            "16/16 [==============================] - 5s 292ms/step - loss: 0.1643 - acc: 0.9579 - val_loss: 0.1823 - val_acc: 0.9513\n",
            "Epoch 26/30\n",
            "16/16 [==============================] - 4s 282ms/step - loss: 0.1583 - acc: 0.9590 - val_loss: 0.1771 - val_acc: 0.9523\n",
            "Epoch 27/30\n",
            "16/16 [==============================] - 5s 288ms/step - loss: 0.1528 - acc: 0.9605 - val_loss: 0.1721 - val_acc: 0.9538\n",
            "Epoch 28/30\n",
            "16/16 [==============================] - 4s 280ms/step - loss: 0.1477 - acc: 0.9620 - val_loss: 0.1676 - val_acc: 0.9552\n",
            "Epoch 29/30\n",
            "16/16 [==============================] - 4s 275ms/step - loss: 0.1429 - acc: 0.9632 - val_loss: 0.1633 - val_acc: 0.9565\n",
            "Epoch 30/30\n",
            "16/16 [==============================] - 5s 285ms/step - loss: 0.1384 - acc: 0.9643 - val_loss: 0.1592 - val_acc: 0.9572\n"
          ]
        }
      ],
      "source": [
        "#modified model 1\n",
        "#GRU\n",
        "# create architecture\n",
        "modified_model_2 = Sequential()\n",
        "# vocabulary size — number of unique words in data\n",
        "# length of vector with which each word is represented\n",
        "modified_model_2.add(Embedding(input_dim = VOCABULARY_SIZE,\n",
        " output_dim = EMBEDDING_SIZE,\n",
        "# length of input sequence\n",
        "input_length = MAX_SEQ_LENGTH,\n",
        "# word embedding matrix\n",
        "weights = [embedding_matrix],\n",
        "# True — update embeddings_weight matrix\n",
        "trainable = False\n",
        "))\n",
        "# add an GRU layer which contains 64 GRU cells\n",
        "# True — return whole sequence; False — return single output of the end of the sequence\n",
        "modified_model_2.add(GRU(64, return_sequences=True))\n",
        "modified_model_2.add(TimeDistributed(Dense(NUM_CLASSES, activation='softmax')))\n",
        "#compile model\n",
        "modified_model_2.compile(loss      =  'categorical_crossentropy',\n",
        "                  optimizer =  'adam',\n",
        "                  metrics   =  ['acc'])\n",
        "# check summary of the model\n",
        "modified_model_2.summary()\n",
        "\n",
        "#fit model\n",
        "modified_2_training = modified_model_2.fit(X_train, y_train, batch_size=128, epochs=EPOCHS, validation_data=(X_validation, y_validation), callbacks=callback)"
      ]
    },
    {
      "cell_type": "code",
      "execution_count": null,
      "metadata": {
        "colab": {
          "base_uri": "https://localhost:8080/",
          "height": 553
        },
        "id": "laTq6iwFtaLR",
        "outputId": "968fea9d-1dec-4a2b-902b-0ed81b1e122e"
      },
      "outputs": [
        {
          "output_type": "display_data",
          "data": {
            "text/plain": [
              "<Figure size 432x288 with 1 Axes>"
            ],
            "image/png": "[encoded data removed]"
          },
          "metadata": {}
        },
        {
          "output_type": "display_data",
          "data": {
            "text/plain": [
              "<Figure size 432x288 with 1 Axes>"
            ],
            "image/png": "[encoded data removed]"
          },
          "metadata": {}
        }
      ],
      "source": [
        "plot_history(modified_2_training,['loss','val_loss'])\n",
        "plot_history(modified_2_training,['acc','val_acc'])"
      ]
    },
    {
      "cell_type": "markdown",
      "metadata": {
        "id": "p9qmJkA0ou-K"
      },
      "source": [
        "## Modified Model 3 (Baseline Model with addtional LSTM Layer)\n",
        "\n",
        "As specified by the tutor, additional layer of LSTM is used on top of baseline model\n"
      ]
    },
    {
      "cell_type": "code",
      "execution_count": null,
      "metadata": {
        "colab": {
          "base_uri": "https://localhost:8080/"
        },
        "id": "Jhkr_6MRoz46",
        "outputId": "e1349ef8-dfb9-4658-ad3c-14362c3700b4"
      },
      "outputs": [
        {
          "output_type": "stream",
          "name": "stdout",
          "text": [
            "Model: \"sequential_2\"\n",
            "_________________________________________________________________\n",
            " Layer (type)                Output Shape              Param #   \n",
            "=================================================================\n",
            " embedding_2 (Embedding)     (None, 100, 300)          2970900   \n",
            "                                                                 \n",
            " bidirectional_1 (Bidirectio  (None, 100, 128)         186880    \n",
            " nal)                                                            \n",
            "                                                                 \n",
            " lstm_2 (LSTM)               (None, 100, 64)           49408     \n",
            "                                                                 \n",
            " time_distributed_2 (TimeDis  (None, 100, 47)          3055      \n",
            " tributed)                                                       \n",
            "                                                                 \n",
            "=================================================================\n",
            "Total params: 3,210,243\n",
            "Trainable params: 239,343\n",
            "Non-trainable params: 2,970,900\n",
            "_________________________________________________________________\n",
            "Epoch 1/30\n",
            "16/16 [==============================] - 20s 909ms/step - loss: 2.1211 - acc: 0.7148 - val_loss: 1.1153 - val_acc: 0.7681\n",
            "Epoch 2/30\n",
            "16/16 [==============================] - 13s 814ms/step - loss: 0.9543 - acc: 0.7800 - val_loss: 0.8729 - val_acc: 0.7852\n",
            "Epoch 3/30\n",
            "16/16 [==============================] - 13s 813ms/step - loss: 0.8216 - acc: 0.7874 - val_loss: 0.8101 - val_acc: 0.7862\n",
            "Epoch 4/30\n",
            "16/16 [==============================] - 16s 993ms/step - loss: 0.7766 - acc: 0.7886 - val_loss: 0.7805 - val_acc: 0.7877\n",
            "Epoch 5/30\n",
            "16/16 [==============================] - 13s 793ms/step - loss: 0.7532 - acc: 0.7899 - val_loss: 0.7618 - val_acc: 0.7882\n",
            "Epoch 6/30\n",
            "16/16 [==============================] - 13s 815ms/step - loss: 0.7381 - acc: 0.7905 - val_loss: 0.7487 - val_acc: 0.7887\n",
            "Epoch 7/30\n",
            "16/16 [==============================] - 13s 815ms/step - loss: 0.7239 - acc: 0.7940 - val_loss: 0.7335 - val_acc: 0.7982\n",
            "Epoch 8/30\n",
            "16/16 [==============================] - 13s 802ms/step - loss: 0.7054 - acc: 0.8073 - val_loss: 0.7133 - val_acc: 0.8070\n",
            "Epoch 9/30\n",
            "16/16 [==============================] - 13s 794ms/step - loss: 0.6841 - acc: 0.8153 - val_loss: 0.6910 - val_acc: 0.8101\n",
            "Epoch 10/30\n",
            "16/16 [==============================] - 13s 840ms/step - loss: 0.6600 - acc: 0.8193 - val_loss: 0.6652 - val_acc: 0.8180\n",
            "Epoch 11/30\n",
            "16/16 [==============================] - 13s 804ms/step - loss: 0.6325 - acc: 0.8259 - val_loss: 0.6348 - val_acc: 0.8234\n",
            "Epoch 12/30\n",
            "16/16 [==============================] - 13s 819ms/step - loss: 0.6007 - acc: 0.8365 - val_loss: 0.5994 - val_acc: 0.8403\n",
            "Epoch 13/30\n",
            "16/16 [==============================] - 13s 802ms/step - loss: 0.5639 - acc: 0.8519 - val_loss: 0.5599 - val_acc: 0.8585\n",
            "Epoch 14/30\n",
            "16/16 [==============================] - 12s 786ms/step - loss: 0.5234 - acc: 0.8686 - val_loss: 0.5181 - val_acc: 0.8755\n",
            "Epoch 15/30\n",
            "16/16 [==============================] - 12s 774ms/step - loss: 0.4820 - acc: 0.8816 - val_loss: 0.4770 - val_acc: 0.8828\n",
            "Epoch 16/30\n",
            "16/16 [==============================] - 12s 786ms/step - loss: 0.4421 - acc: 0.8903 - val_loss: 0.4391 - val_acc: 0.8892\n",
            "Epoch 17/30\n",
            "16/16 [==============================] - 12s 787ms/step - loss: 0.4062 - acc: 0.8970 - val_loss: 0.4062 - val_acc: 0.8955\n",
            "Epoch 18/30\n",
            "16/16 [==============================] - 13s 805ms/step - loss: 0.3751 - acc: 0.9043 - val_loss: 0.3785 - val_acc: 0.9037\n",
            "Epoch 19/30\n",
            "16/16 [==============================] - 13s 801ms/step - loss: 0.3484 - acc: 0.9124 - val_loss: 0.3539 - val_acc: 0.9101\n",
            "Epoch 20/30\n",
            "16/16 [==============================] - 14s 901ms/step - loss: 0.3250 - acc: 0.9183 - val_loss: 0.3324 - val_acc: 0.9150\n",
            "Epoch 21/30\n",
            "16/16 [==============================] - 13s 809ms/step - loss: 0.3043 - acc: 0.9234 - val_loss: 0.3136 - val_acc: 0.9210\n",
            "Epoch 22/30\n",
            "16/16 [==============================] - 13s 825ms/step - loss: 0.2857 - acc: 0.9290 - val_loss: 0.2959 - val_acc: 0.9256\n",
            "Epoch 23/30\n",
            "16/16 [==============================] - 13s 809ms/step - loss: 0.2690 - acc: 0.9332 - val_loss: 0.2804 - val_acc: 0.9290\n",
            "Epoch 24/30\n",
            "16/16 [==============================] - 13s 820ms/step - loss: 0.2538 - acc: 0.9367 - val_loss: 0.2662 - val_acc: 0.9325\n",
            "Epoch 25/30\n",
            "16/16 [==============================] - 13s 830ms/step - loss: 0.2399 - acc: 0.9400 - val_loss: 0.2535 - val_acc: 0.9362\n",
            "Epoch 26/30\n",
            "16/16 [==============================] - 13s 806ms/step - loss: 0.2275 - acc: 0.9436 - val_loss: 0.2420 - val_acc: 0.9385\n",
            "Epoch 27/30\n",
            "16/16 [==============================] - 13s 804ms/step - loss: 0.2161 - acc: 0.9472 - val_loss: 0.2317 - val_acc: 0.9410\n",
            "Epoch 28/30\n",
            "16/16 [==============================] - 13s 817ms/step - loss: 0.2055 - acc: 0.9496 - val_loss: 0.2228 - val_acc: 0.9437\n",
            "Epoch 29/30\n",
            "16/16 [==============================] - 13s 818ms/step - loss: 0.1960 - acc: 0.9526 - val_loss: 0.2136 - val_acc: 0.9461\n",
            "Epoch 30/30\n",
            "16/16 [==============================] - 12s 787ms/step - loss: 0.1869 - acc: 0.9550 - val_loss: 0.2056 - val_acc: 0.9486\n"
          ]
        }
      ],
      "source": [
        "#modified model 2\n",
        "#Bidirectional LSTM\n",
        "# create architecture\n",
        "modified_model_3 = Sequential()\n",
        "modified_model_3 .add(Embedding(input_dim = VOCABULARY_SIZE,\n",
        " output_dim = EMBEDDING_SIZE,\n",
        " input_length = MAX_SEQ_LENGTH,\n",
        " weights = [embedding_matrix],\n",
        " trainable = False\n",
        "))\n",
        "modified_model_3 .add(Bidirectional(LSTM(64, return_sequences=True)))\n",
        "modified_model_3 .add(LSTM(64, return_sequences=True))\n",
        "modified_model_3 .add(TimeDistributed(Dense(NUM_CLASSES, activation='softmax')))\n",
        "#compile model\n",
        "modified_model_3 .compile(loss='categorical_crossentropy',\n",
        "              optimizer='adam',\n",
        "              metrics=['acc'])\n",
        "# check summary of model\n",
        "modified_model_3 .summary()\n",
        "\n",
        "#fit model\n",
        "modified_3_training = modified_model_3.fit(X_train, y_train, batch_size=128, epochs=EPOCHS, validation_data=(X_validation, y_validation), callbacks=callback)"
      ]
    },
    {
      "cell_type": "code",
      "execution_count": null,
      "metadata": {
        "colab": {
          "base_uri": "https://localhost:8080/",
          "height": 553
        },
        "id": "QjtnyeSDtd6L",
        "outputId": "00135bc6-c417-444e-f44b-2a21a3fd2a9e"
      },
      "outputs": [
        {
          "output_type": "display_data",
          "data": {
            "text/plain": [
              "<Figure size 432x288 with 1 Axes>"
            ],
            "image/png": "[encoded data removed]"
          },
          "metadata": {}
        },
        {
          "output_type": "display_data",
          "data": {
            "text/plain": [
              "<Figure size 432x288 with 1 Axes>"
            ],
            "image/png": "[encoded data removed]"
          },
          "metadata": {}
        }
      ],
      "source": [
        "plot_history(modified_3_training,['loss','val_loss'])\n",
        "plot_history(modified_3_training,['acc','val_acc'])"
      ]
    },
    {
      "cell_type": "markdown",
      "metadata": {
        "id": "dA_sDTR-pFX4"
      },
      "source": [
        "## Our GRU model is promissing, let's check it adding a LSTM extra-layer\n",
        "\n",
        "### Modified Model 4\n",
        "An lstm layer on top of GRU layer"
      ]
    },
    {
      "cell_type": "code",
      "execution_count": null,
      "metadata": {
        "colab": {
          "base_uri": "https://localhost:8080/"
        },
        "id": "FTjr1E4GpL5p",
        "outputId": "28672a99-9663-4d37-8445-3f2e297b72ad"
      },
      "outputs": [
        {
          "output_type": "stream",
          "name": "stdout",
          "text": [
            "Model: \"sequential_3\"\n",
            "_________________________________________________________________\n",
            " Layer (type)                Output Shape              Param #   \n",
            "=================================================================\n",
            " embedding_3 (Embedding)     (None, 100, 300)          2970900   \n",
            "                                                                 \n",
            " gru_1 (GRU)                 (None, 100, 64)           70272     \n",
            "                                                                 \n",
            " lstm_3 (LSTM)               (None, 100, 64)           33024     \n",
            "                                                                 \n",
            " time_distributed_3 (TimeDis  (None, 100, 47)          3055      \n",
            " tributed)                                                       \n",
            "                                                                 \n",
            "=================================================================\n",
            "Total params: 3,077,251\n",
            "Trainable params: 106,351\n",
            "Non-trainable params: 2,970,900\n",
            "_________________________________________________________________\n",
            "Epoch 1/30\n",
            "16/16 [==============================] - 15s 553ms/step - loss: 2.0464 - acc: 0.7206 - val_loss: 1.1746 - val_acc: 0.7696\n",
            "Epoch 2/30\n",
            "16/16 [==============================] - 8s 500ms/step - loss: 1.0327 - acc: 0.7772 - val_loss: 0.9531 - val_acc: 0.7787\n",
            "Epoch 3/30\n",
            "16/16 [==============================] - 8s 480ms/step - loss: 0.8850 - acc: 0.7838 - val_loss: 0.8475 - val_acc: 0.7839\n",
            "Epoch 4/30\n",
            "16/16 [==============================] - 8s 481ms/step - loss: 0.8059 - acc: 0.7867 - val_loss: 0.7956 - val_acc: 0.7862\n",
            "Epoch 5/30\n",
            "16/16 [==============================] - 8s 513ms/step - loss: 0.7661 - acc: 0.7903 - val_loss: 0.7702 - val_acc: 0.7886\n",
            "Epoch 6/30\n",
            "16/16 [==============================] - 8s 491ms/step - loss: 0.7451 - acc: 0.7906 - val_loss: 0.7524 - val_acc: 0.7888\n",
            "Epoch 7/30\n",
            "16/16 [==============================] - 8s 499ms/step - loss: 0.7277 - acc: 0.7924 - val_loss: 0.7361 - val_acc: 0.7922\n",
            "Epoch 8/30\n",
            "16/16 [==============================] - 8s 485ms/step - loss: 0.7095 - acc: 0.7994 - val_loss: 0.7158 - val_acc: 0.8000\n",
            "Epoch 9/30\n",
            "16/16 [==============================] - 8s 498ms/step - loss: 0.6863 - acc: 0.8095 - val_loss: 0.6890 - val_acc: 0.8109\n",
            "Epoch 10/30\n",
            "16/16 [==============================] - 7s 463ms/step - loss: 0.6567 - acc: 0.8248 - val_loss: 0.6555 - val_acc: 0.8342\n",
            "Epoch 11/30\n",
            "16/16 [==============================] - 9s 584ms/step - loss: 0.6207 - acc: 0.8442 - val_loss: 0.6171 - val_acc: 0.8485\n",
            "Epoch 12/30\n",
            "16/16 [==============================] - 8s 487ms/step - loss: 0.5808 - acc: 0.8550 - val_loss: 0.5768 - val_acc: 0.8565\n",
            "Epoch 13/30\n",
            "16/16 [==============================] - 8s 484ms/step - loss: 0.5401 - acc: 0.8645 - val_loss: 0.5380 - val_acc: 0.8642\n",
            "Epoch 14/30\n",
            "16/16 [==============================] - 8s 491ms/step - loss: 0.5017 - acc: 0.8731 - val_loss: 0.5027 - val_acc: 0.8724\n",
            "Epoch 15/30\n",
            "16/16 [==============================] - 8s 484ms/step - loss: 0.4667 - acc: 0.8822 - val_loss: 0.4696 - val_acc: 0.8814\n",
            "Epoch 16/30\n",
            "16/16 [==============================] - 8s 482ms/step - loss: 0.4354 - acc: 0.8900 - val_loss: 0.4400 - val_acc: 0.8871\n",
            "Epoch 17/30\n",
            "16/16 [==============================] - 8s 496ms/step - loss: 0.4070 - acc: 0.8953 - val_loss: 0.4126 - val_acc: 0.8929\n",
            "Epoch 18/30\n",
            "16/16 [==============================] - 8s 499ms/step - loss: 0.3812 - acc: 0.9013 - val_loss: 0.3884 - val_acc: 0.8992\n",
            "Epoch 19/30\n",
            "16/16 [==============================] - 8s 473ms/step - loss: 0.3577 - acc: 0.9093 - val_loss: 0.3657 - val_acc: 0.9072\n",
            "Epoch 20/30\n",
            "16/16 [==============================] - 8s 504ms/step - loss: 0.3360 - acc: 0.9160 - val_loss: 0.3452 - val_acc: 0.9122\n",
            "Epoch 21/30\n",
            "16/16 [==============================] - 8s 501ms/step - loss: 0.3163 - acc: 0.9208 - val_loss: 0.3261 - val_acc: 0.9163\n",
            "Epoch 22/30\n",
            "16/16 [==============================] - 8s 483ms/step - loss: 0.2981 - acc: 0.9245 - val_loss: 0.3090 - val_acc: 0.9200\n",
            "Epoch 23/30\n",
            "16/16 [==============================] - 8s 478ms/step - loss: 0.2816 - acc: 0.9278 - val_loss: 0.2935 - val_acc: 0.9242\n",
            "Epoch 24/30\n",
            "16/16 [==============================] - 8s 477ms/step - loss: 0.2664 - acc: 0.9324 - val_loss: 0.2789 - val_acc: 0.9279\n",
            "Epoch 25/30\n",
            "16/16 [==============================] - 8s 519ms/step - loss: 0.2523 - acc: 0.9365 - val_loss: 0.2660 - val_acc: 0.9316\n",
            "Epoch 26/30\n",
            "16/16 [==============================] - 8s 509ms/step - loss: 0.2396 - acc: 0.9405 - val_loss: 0.2542 - val_acc: 0.9348\n",
            "Epoch 27/30\n",
            "16/16 [==============================] - 10s 639ms/step - loss: 0.2279 - acc: 0.9440 - val_loss: 0.2432 - val_acc: 0.9379\n",
            "Epoch 28/30\n",
            "16/16 [==============================] - 8s 508ms/step - loss: 0.2171 - acc: 0.9470 - val_loss: 0.2332 - val_acc: 0.9410\n",
            "Epoch 29/30\n",
            "16/16 [==============================] - 8s 500ms/step - loss: 0.2071 - acc: 0.9500 - val_loss: 0.2241 - val_acc: 0.9439\n",
            "Epoch 30/30\n",
            "16/16 [==============================] - 8s 507ms/step - loss: 0.1980 - acc: 0.9529 - val_loss: 0.2159 - val_acc: 0.9460\n"
          ]
        }
      ],
      "source": [
        "#model 1 (modified)\n",
        "#GRU\n",
        "# create architecture\n",
        "modified_model_4 = Sequential()\n",
        "# vocabulary size — number of unique words in data\n",
        "# length of vector with which each word is represented\n",
        "modified_model_4.add(Embedding(input_dim = VOCABULARY_SIZE,\n",
        " output_dim = EMBEDDING_SIZE,\n",
        "# length of input sequence\n",
        "input_length = MAX_SEQ_LENGTH,\n",
        "# word embedding matrix\n",
        "weights = [embedding_matrix],\n",
        "# True — update embeddings_weight matrix\n",
        "trainable = False\n",
        "))\n",
        "# add an GRU layer which contains 64 GRU cells\n",
        "# True — return whole sequence; False — return single output of the end of the sequence\n",
        "modified_model_4.add(GRU(64, return_sequences=True))\n",
        "modified_model_4.add(LSTM(64, return_sequences=True))\n",
        "\n",
        "modified_model_4.add(TimeDistributed(Dense(NUM_CLASSES, activation='softmax')))\n",
        "#compile model\n",
        "modified_model_4.compile(loss      =  'categorical_crossentropy',\n",
        "                  optimizer =  'adam',\n",
        "                  metrics   =  ['acc'])\n",
        "# check summary of the model\n",
        "modified_model_4.summary()\n",
        "\n",
        "\n",
        "#fit model\n",
        "modified_4_training = modified_model_4.fit(X_train, y_train, batch_size=128, epochs=EPOCHS, validation_data=(X_validation, y_validation), callbacks=callback)"
      ]
    },
    {
      "cell_type": "code",
      "execution_count": null,
      "metadata": {
        "colab": {
          "base_uri": "https://localhost:8080/",
          "height": 553
        },
        "id": "3xpN4PCRB9Jw",
        "outputId": "e76c35c5-78ac-4d35-8ae1-1b00b7107d05"
      },
      "outputs": [
        {
          "output_type": "display_data",
          "data": {
            "text/plain": [
              "<Figure size 432x288 with 1 Axes>"
            ],
            "image/png": "[encoded data removed]"
          },
          "metadata": {}
        },
        {
          "output_type": "display_data",
          "data": {
            "text/plain": [
              "<Figure size 432x288 with 1 Axes>"
            ],
            "image/png": "[encoded data removed]"
          },
          "metadata": {}
        }
      ],
      "source": [
        "plot_history(modified_4_training,['loss','val_loss'])\n",
        "plot_history(modified_4_training,['acc','val_acc'])"
      ]
    },
    {
      "cell_type": "markdown",
      "metadata": {
        "id": "DH51WqNRqlG7"
      },
      "source": [
        "### Modified Model 5\n",
        "An Bi-Directional Lstm layer on top of GRU layer"
      ]
    },
    {
      "cell_type": "code",
      "execution_count": null,
      "metadata": {
        "colab": {
          "base_uri": "https://localhost:8080/"
        },
        "id": "qIFzKxWtq-s_",
        "outputId": "e493902b-6665-4b9b-c76c-27a01c7b5079"
      },
      "outputs": [
        {
          "output_type": "stream",
          "name": "stdout",
          "text": [
            "Model: \"sequential_4\"\n",
            "_________________________________________________________________\n",
            " Layer (type)                Output Shape              Param #   \n",
            "=================================================================\n",
            " embedding_4 (Embedding)     (None, 100, 300)          2970900   \n",
            "                                                                 \n",
            " gru_2 (GRU)                 (None, 100, 64)           70272     \n",
            "                                                                 \n",
            " bidirectional_2 (Bidirectio  (None, 100, 128)         66048     \n",
            " nal)                                                            \n",
            "                                                                 \n",
            " time_distributed_4 (TimeDis  (None, 100, 47)          6063      \n",
            " tributed)                                                       \n",
            "                                                                 \n",
            "=================================================================\n",
            "Total params: 3,113,283\n",
            "Trainable params: 142,383\n",
            "Non-trainable params: 2,970,900\n",
            "_________________________________________________________________\n",
            "Epoch 1/30\n",
            "16/16 [==============================] - 19s 785ms/step - loss: 1.5504 - acc: 0.7078 - val_loss: 0.9610 - val_acc: 0.7617\n",
            "Epoch 2/30\n",
            "16/16 [==============================] - 11s 700ms/step - loss: 0.8734 - acc: 0.7783 - val_loss: 0.8250 - val_acc: 0.7840\n",
            "Epoch 3/30\n",
            "16/16 [==============================] - 11s 690ms/step - loss: 0.7726 - acc: 0.7895 - val_loss: 0.7663 - val_acc: 0.7878\n",
            "Epoch 4/30\n",
            "16/16 [==============================] - 11s 672ms/step - loss: 0.7343 - acc: 0.7917 - val_loss: 0.7400 - val_acc: 0.7892\n",
            "Epoch 5/30\n",
            "16/16 [==============================] - 11s 688ms/step - loss: 0.7125 - acc: 0.8034 - val_loss: 0.7203 - val_acc: 0.8043\n",
            "Epoch 6/30\n",
            "16/16 [==============================] - 11s 665ms/step - loss: 0.6910 - acc: 0.8122 - val_loss: 0.6970 - val_acc: 0.8128\n",
            "Epoch 7/30\n",
            "16/16 [==============================] - 11s 683ms/step - loss: 0.6633 - acc: 0.8237 - val_loss: 0.6643 - val_acc: 0.8255\n",
            "Epoch 8/30\n",
            "16/16 [==============================] - 11s 688ms/step - loss: 0.6261 - acc: 0.8384 - val_loss: 0.6218 - val_acc: 0.8451\n",
            "Epoch 9/30\n",
            "16/16 [==============================] - 11s 706ms/step - loss: 0.5804 - acc: 0.8567 - val_loss: 0.5706 - val_acc: 0.8605\n",
            "Epoch 10/30\n",
            "16/16 [==============================] - 11s 677ms/step - loss: 0.5275 - acc: 0.8700 - val_loss: 0.5154 - val_acc: 0.8715\n",
            "Epoch 11/30\n",
            "16/16 [==============================] - 11s 675ms/step - loss: 0.4732 - acc: 0.8809 - val_loss: 0.4639 - val_acc: 0.8814\n",
            "Epoch 12/30\n",
            "16/16 [==============================] - 11s 686ms/step - loss: 0.4242 - acc: 0.8905 - val_loss: 0.4197 - val_acc: 0.8906\n",
            "Epoch 13/30\n",
            "16/16 [==============================] - 11s 696ms/step - loss: 0.3826 - acc: 0.8999 - val_loss: 0.3827 - val_acc: 0.8994\n",
            "Epoch 14/30\n",
            "16/16 [==============================] - 11s 701ms/step - loss: 0.3476 - acc: 0.9092 - val_loss: 0.3501 - val_acc: 0.9076\n",
            "Epoch 15/30\n",
            "16/16 [==============================] - 11s 694ms/step - loss: 0.3163 - acc: 0.9172 - val_loss: 0.3215 - val_acc: 0.9148\n",
            "Epoch 16/30\n",
            "16/16 [==============================] - 11s 685ms/step - loss: 0.2890 - acc: 0.9242 - val_loss: 0.2966 - val_acc: 0.9213\n",
            "Epoch 17/30\n",
            "16/16 [==============================] - 15s 990ms/step - loss: 0.2653 - acc: 0.9308 - val_loss: 0.2751 - val_acc: 0.9275\n",
            "Epoch 18/30\n",
            "16/16 [==============================] - 11s 679ms/step - loss: 0.2446 - acc: 0.9365 - val_loss: 0.2564 - val_acc: 0.9329\n",
            "Epoch 19/30\n",
            "16/16 [==============================] - 11s 691ms/step - loss: 0.2268 - acc: 0.9416 - val_loss: 0.2401 - val_acc: 0.9365\n",
            "Epoch 20/30\n",
            "16/16 [==============================] - 11s 706ms/step - loss: 0.2112 - acc: 0.9452 - val_loss: 0.2262 - val_acc: 0.9398\n",
            "Epoch 21/30\n",
            "16/16 [==============================] - 11s 690ms/step - loss: 0.1977 - acc: 0.9488 - val_loss: 0.2137 - val_acc: 0.9438\n",
            "Epoch 22/30\n",
            "16/16 [==============================] - 11s 697ms/step - loss: 0.1857 - acc: 0.9523 - val_loss: 0.2028 - val_acc: 0.9467\n",
            "Epoch 23/30\n",
            "16/16 [==============================] - 11s 687ms/step - loss: 0.1747 - acc: 0.9552 - val_loss: 0.1925 - val_acc: 0.9493\n",
            "Epoch 24/30\n",
            "16/16 [==============================] - 11s 683ms/step - loss: 0.1646 - acc: 0.9579 - val_loss: 0.1836 - val_acc: 0.9517\n",
            "Epoch 25/30\n",
            "16/16 [==============================] - 11s 682ms/step - loss: 0.1557 - acc: 0.9603 - val_loss: 0.1755 - val_acc: 0.9536\n",
            "Epoch 26/30\n",
            "16/16 [==============================] - 11s 678ms/step - loss: 0.1474 - acc: 0.9623 - val_loss: 0.1679 - val_acc: 0.9563\n",
            "Epoch 27/30\n",
            "16/16 [==============================] - 11s 679ms/step - loss: 0.1398 - acc: 0.9645 - val_loss: 0.1614 - val_acc: 0.9576\n",
            "Epoch 28/30\n",
            "16/16 [==============================] - 11s 694ms/step - loss: 0.1330 - acc: 0.9661 - val_loss: 0.1556 - val_acc: 0.9595\n",
            "Epoch 29/30\n",
            "16/16 [==============================] - 11s 686ms/step - loss: 0.1268 - acc: 0.9681 - val_loss: 0.1499 - val_acc: 0.9611\n",
            "Epoch 30/30\n",
            "16/16 [==============================] - 11s 674ms/step - loss: 0.1210 - acc: 0.9696 - val_loss: 0.1450 - val_acc: 0.9621\n"
          ]
        }
      ],
      "source": [
        "#model 1 (modified 2)\n",
        "#GRU\n",
        "# create architecture\n",
        "modified_model_5 = Sequential()\n",
        "# vocabulary size — number of unique words in data\n",
        "# length of vector with which each word is represented\n",
        "modified_model_5.add(Embedding(input_dim = VOCABULARY_SIZE,\n",
        " output_dim = EMBEDDING_SIZE,\n",
        "# length of input sequence\n",
        "input_length = MAX_SEQ_LENGTH,\n",
        "# word embedding matrix\n",
        "weights = [embedding_matrix],\n",
        "# True — update embeddings_weight matrix\n",
        "trainable = False\n",
        "))\n",
        "# add an GRU layer which contains 64 GRU cells\n",
        "# True — return whole sequence; False — return single output of the end of the sequence\n",
        "modified_model_5.add(GRU(64, return_sequences=True))\n",
        "modified_model_5.add(Bidirectional(LSTM(64, return_sequences=True)))\n",
        "#modified_model_4.add(Bidirectional(LSTM(64, return_sequences=True)))\n",
        "\n",
        "modified_model_5.add(TimeDistributed(Dense(NUM_CLASSES, activation='softmax')))\n",
        "#compile model\n",
        "modified_model_5.compile(loss      =  'categorical_crossentropy',\n",
        "                  optimizer =  'adam',\n",
        "                  metrics   =  ['acc'])\n",
        "# check summary of the model\n",
        "modified_model_5.summary()\n",
        "\n",
        "#fit model\n",
        "modified_5_training = modified_model_5.fit(X_train, y_train, batch_size=128, epochs=EPOCHS, validation_data=(X_validation, y_validation), callbacks=callback)"
      ]
    },
    {
      "cell_type": "code",
      "execution_count": null,
      "metadata": {
        "colab": {
          "base_uri": "https://localhost:8080/",
          "height": 554
        },
        "id": "-LJ-EXNktkH0",
        "outputId": "7f859ee5-5702-4070-82a2-22cf9dda01c9"
      },
      "outputs": [
        {
          "output_type": "display_data",
          "data": {
            "text/plain": [
              "<Figure size 432x288 with 1 Axes>"
            ],
            "image/png": "[encoded data removed]"
          },
          "metadata": {}
        },
        {
          "output_type": "display_data",
          "data": {
            "text/plain": [
              "<Figure size 432x288 with 1 Axes>"
            ],
            "image/png": "[encoded data removed]"
          },
          "metadata": {}
        }
      ],
      "source": [
        "plot_history(modified_5_training,['loss','val_loss'])\n",
        "plot_history(modified_5_training,['acc','val_acc'])"
      ]
    },
    {
      "cell_type": "markdown",
      "metadata": {
        "id": "mGWxyPydrhBs"
      },
      "source": [
        "## Evaluation of the Implemented Models\n",
        "\n",
        "We will use various parameters to evaluate our models. Initially we will find the F1 score of all our baseline and modified models. First we find the performance of our models according to the validation sets."
      ]
    },
    {
      "cell_type": "code",
      "execution_count": null,
      "metadata": {
        "id": "is0oWVY6rh1m",
        "colab": {
          "base_uri": "https://localhost:8080/"
        },
        "outputId": "57a5f8fa-db79-4cdc-94f0-74334a2c4775"
      },
      "outputs": [
        {
          "output_type": "stream",
          "name": "stdout",
          "text": [
            "40/40 [==============================] - 3s 81ms/step - loss: 0.1498 - acc: 0.9603\n",
            "40/40 [==============================] - 4s 82ms/step\n",
            "40/40 [==============================] - 1s 37ms/step - loss: 0.1592 - acc: 0.9572\n",
            "40/40 [==============================] - 2s 34ms/step\n",
            "40/40 [==============================] - 4s 100ms/step - loss: 0.2056 - acc: 0.9486\n",
            "40/40 [==============================] - 5s 97ms/step\n",
            "40/40 [==============================] - 2s 57ms/step - loss: 0.2159 - acc: 0.9460\n",
            "40/40 [==============================] - 3s 53ms/step\n",
            "40/40 [==============================] - 3s 69ms/step - loss: 0.1450 - acc: 0.9621\n",
            "40/40 [==============================] - 4s 64ms/step\n"
          ]
        }
      ],
      "source": [
        "from sklearn.metrics import f1_score\n",
        "# The truth of the validation set\n",
        "y_val_classes = y_validation_padded\n",
        "y_val_classes = y_val_classes.flatten()\n",
        "result_dict ={}\n",
        "\n",
        "#Model Baseline-Model-1\n",
        "loss, accuracy = baseline_model.evaluate(X_validation, y_validation, verbose = 1)\n",
        "yhat_classes = baseline_model.predict(X_validation, verbose=1)\n",
        "yhat_classes = np.argmax(yhat_classes,axis=-1).flatten()\n",
        "f1 = f1_score(yhat_classes , y_val_classes, average='macro')\n",
        "result_dict['base'] = [accuracy,f1]\n",
        "\n",
        "#Model 2\n",
        "loss, accuracy = modified_model_2.evaluate(X_validation, y_validation, verbose = 1)\n",
        "yhat_classes = modified_model_2.predict(X_validation, verbose=1)\n",
        "yhat_classes = np.argmax(yhat_classes,axis=-1).flatten()\n",
        "f1 = f1_score(y_val_classes , yhat_classes, average='macro')\n",
        "result_dict['model2'] = [accuracy,f1]\n",
        "\n",
        "\n",
        "#Model 3\n",
        "loss, accuracy = modified_model_3.evaluate(X_validation, y_validation, verbose = 1)\n",
        "yhat_classes = modified_model_3.predict(X_validation, verbose=1)\n",
        "yhat_classes = np.argmax(yhat_classes,axis=-1).flatten()\n",
        "f1 = f1_score(y_val_classes , yhat_classes, average='macro')\n",
        "result_dict['model3'] = [accuracy,f1]\n",
        "\n",
        "\n",
        "#Model 4\n",
        "loss, accuracy = modified_model_4.evaluate(X_validation, y_validation, verbose = 1)\n",
        "yhat_classes = modified_model_4.predict(X_validation, verbose=1)\n",
        "yhat_classes = np.argmax(yhat_classes,axis=-1).flatten()\n",
        "f1 = f1_score(y_val_classes , yhat_classes, average='macro')\n",
        "result_dict['model4'] = [accuracy,f1]\n",
        "\n",
        "#Model 5\n",
        "loss, accuracy = modified_model_5.evaluate(X_validation, y_validation, verbose = 1)\n",
        "yhat_classes = modified_model_5.predict(X_validation, verbose=1)\n",
        "yhat_classes = np.argmax(yhat_classes,axis=-1).flatten()\n",
        "f1 = f1_score(y_val_classes , yhat_classes, average='macro')\n",
        "result_dict['model5'] = [accuracy,f1]"
      ]
    },
    {
      "cell_type": "code",
      "execution_count": null,
      "metadata": {
        "colab": {
          "base_uri": "https://localhost:8080/",
          "height": 374
        },
        "id": "fOZH4bLQsxIC",
        "outputId": "b1cabeec-7062-4e1b-daab-bb668cf9e1f8"
      },
      "outputs": [
        {
          "output_type": "stream",
          "name": "stdout",
          "text": [
            "Model: \tAccuracy: \tF1-score:\n",
            "base \t0.96 \t\t0.61\n",
            "model2 \t0.96 \t\t0.61\n",
            "model3 \t0.95 \t\t0.47\n",
            "model4 \t0.95 \t\t0.47\n",
            "model5 \t0.96 \t\t0.59\n"
          ]
        },
        {
          "output_type": "display_data",
          "data": {
            "text/plain": [
              "<Figure size 432x288 with 1 Axes>"
            ],
            "image/png": "[encoded data removed]"
          },
          "metadata": {}
        }
      ],
      "source": [
        "# Let's print and plot the results of our models\n",
        "# these are the values without the early stopping\n",
        "loss=[]\n",
        "f1_score=[]\n",
        "print('Model: \\tAccuracy: \\tF1-score:')\n",
        "[print('{} \\t{:.2f} \\t\\t{:.2f}'.format(key,value[0],value[1]))\n",
        " for key,value in result_dict.items()]\n",
        "[loss.append(value[0])\n",
        " for key,value in result_dict.items()]\n",
        "[f1_score.append(value[1])\n",
        " for key,value in result_dict.items()]\n",
        "# print(loss)\n",
        "# print(f1_score)\n",
        "p1 = plt.bar(list(result_dict.keys()),loss,color='b',width=0.35)\n",
        "p2 = plt.bar(list(result_dict.keys()),f1_score,color='g',width=0.35)\n",
        "plt.xticks([0,1,2,3,4,5],['Base:BILS','GRU','BILS/LSTM','GRU/LSTM','GRU/BILS'])\n",
        "\n",
        "plt.ylabel('Score')\n",
        "plt.yticks(np.arange(0,1.1,0.1))\n",
        "plt.legend(('loss','F1 score'))\n",
        "plt.show()"
      ]
    },
    {
      "cell_type": "markdown",
      "metadata": {
        "id": "iyzvy8Zqt6rL"
      },
      "source": [
        "## Manual inspection\n",
        "\n",
        "Let's inspect our result on our two best models with the test set.\n",
        "Our resultings are quite convincing since for these particular sentences we were able to predict the same POS tagging as our test classification. The two best models are Baseline and GRU as they have the highest f1 score on the validation set. (**Baseline - 0.60** and **GRU - 0.58**)"
      ]
    },
    {
      "cell_type": "code",
      "execution_count": null,
      "metadata": {
        "colab": {
          "base_uri": "https://localhost:8080/"
        },
        "id": "0xoMU3znt7c_",
        "outputId": "1921d079-1623-42d4-e572-98a9c91f89fb"
      },
      "outputs": [
        {
          "output_type": "stream",
          "name": "stdout",
          "text": [
            "Lets take a look to our results: \n",
            "Sentence[0]:  \n",
            "['--oov--', '--oov--', 'inc.', ',', 'san', 'antonio', ',', 'texas', ',', 'said', 'it', 'bought', '2.7', 'million', 'shares', ',', 'or', 'about', '18', '%', ',', 'of', 'its', 'common', 'stock', 'from', 'an', '--oov--', 'shareholder', 'for', '$', '--oov--', 'a', 'share', ',', 'or', '$', '9.9', 'million', '.']\n",
            "Prediction[0]:  \n",
            "['NNP', 'NNP', 'NNP', ',', 'NNP', 'NNP', ',', 'NNP', ',', 'VBD', 'PRP', 'VBD', 'CD', 'CD', 'NNS', ',', 'CC', 'IN', 'CD', 'NN', ',', 'IN', 'PRP$', 'JJ', 'NN', 'IN', 'DT', 'JJ', 'NN', 'IN', '$', 'CD', 'DT', 'NN', ',', 'CC', '$', 'CD', 'CD', '.', 'DT', 'NNP', 'VBZ', 'NNP', 'NNP', 'NNP', 'NNP', 'POS', 'NN', 'TO', 'CD', 'NN', 'IN', 'CD', 'NN', 'CC', 'MD', 'VB', 'VB', 'NNP', 'NN', 'IN', 'VBG', 'DT', 'NN', 'IN', 'DT', 'NN', 'NN', '.', 'NNP', 'NNP', 'RB', 'VBZ', 'VBG', 'TO', 'NNP', 'NNP', 'NNP', 'IN', 'NN', 'IN', 'NNP', 'NNP', ',', 'DT', 'NNP', 'NNP', '.', 'DT', 'NN', 'NN', 'IN', 'CD', 'NN', 'DT', 'NN', 'NN', 'IN', 'PRP', 'MD', 'VB', 'DT', 'NN', 'NN', 'TO', 'JJ', 'NNS', '``', 'TO', 'VB', 'NN', 'NN', ',', \"''\", 'NNS', 'DT', 'JJ', 'NN', 'IN', 'DT', 'NN', '.', 'IN', 'NNP', 'NNP', 'NNP', 'NNP', 'NNP', 'NN', 'NN', ',', 'NNP', 'NNS', 'VBD', 'CD', 'NNS', 'TO', 'VB', 'IN', '$', 'NN', '.', 'NNP', 'NNP', 'VBD', 'TO', 'NNP', 'DT', 'NN', 'DT', 'JJ', 'NN', ',', 'VBD', 'PRP', 'VBP', 'VBN', 'RB', 'TO', 'VB', 'NNS', 'IN', '``', 'DT', 'NN', 'VBZ', 'IN', 'DT', 'NN', '.', \"''\", 'PRP', 'VBD', ',', '``', 'DT', 'VBZ', 'NN', 'TO', 'VB', 'IN', 'JJ', 'NN', 'CC', 'PRP', 'VBZ', 'RB', 'VBN', ',', 'JJ', ',', 'TO', 'VB', 'DT', 'NN', 'NN', '.', \"''\", 'CC', 'NNP', 'NNP', 'VBD', 'DT', 'NN', ',', 'CC', 'DT', 'NNP', 'NN', 'NN', ',', 'RB', 'IN', 'NNP', 'NNP', 'VBZ', 'VBG', 'RB', '.', 'NNP', 'NNP', 'CC', 'NNP', 'VBD', 'PRP', 'RB', 'PRP$', '$', 'NN', 'NN', 'IN', 'NNP', 'NNP', 'JJ', 'NN', 'IN', 'CD', 'NNP', 'NNP', 'NNP', 'CD', '.', 'DT', 'NN', ',', 'VBN', 'IN', 'IN', '$', 'CD', 'CD', 'IN', 'DT', 'CD', 'NN', 'IN', 'NNP', 'IN', 'NNP', 'NNP', 'VBZ', 'RB', 'RB', 'PRP$', ',', 'VBD', 'VBN', 'VBN', 'TO', 'VB', 'NNP', 'CD', '.', 'NNP', 'NNP', ',', 'WDT', 'VBZ', 'IN', 'CD', 'CD', 'IN', 'NNP', 'POS', 'NNP', 'CD', 'JJ', 'NNS', 'NN', ',', 'VBD', 'IN', 'IN', 'NNP', 'NNS', 'VBP', 'VBN', 'NNP', 'IN', 'PRP$', 'NN', '.', 'NNP', 'POS', 'CD', 'JJ', 'NNS', 'VBP', 'VBD', 'DT', 'NN', 'IN', 'JJ', '.', 'IN', 'NNP', 'NN', 'IN', 'DT', 'NNP', 'NNP', 'NNP', 'NN', ',', 'NNP', 'NNS', 'VBD', 'IN', '$', 'NNP', ',', 'RB', 'CD', 'NNS', '.', 'NNP', 'VBZ', 'DT', 'JJ', 'NN', 'NN', 'NN', '.', 'NNP', 'NNP', 'NNP', 'DT', 'NNP', 'NNP', 'NNP', ',', 'NNP', 'POS', 'NN', ',', 'CC', 'JJ', 'NNS', 'CC', 'VBZ', 'JJ', 'NNP', 'NNS', 'CC', 'NNP', 'NNS', 'NNS', '.', 'NNP', 'NNP', 'NNP', 'VBD', 'VBD', 'VBG', 'NNS', 'IN', 'DT', 'JJ', 'NN', 'NN', 'NNP', 'CD', '.', 'DT', 'NN', ',', 'NN', 'NN', ',', 'NN', 'CC', 'NNP', 'NN', 'RB', 'VBN', 'IN', 'DT', 'JJ', 'NN', 'IN', 'NN', 'CD', 'MD', 'VB', 'JJ', '.', 'IN', 'DT', 'NN', ',', 'NNP', 'NNP', ',', 'NNP', ',', 'VBD', 'NNP', 'NNS', 'NN', 'MD', 'NNP', 'DT', 'JJ', 'NN', 'POS', ',', 'VBN', 'IN', 'IN', 'NN', 'IN', 'DT', 'NNP', 'CC', 'NNP', 'NNS', '.', 'RB', ',', 'PRP', 'VBD', ',', 'IN', 'DT', 'JJ', 'NN', 'VBZ', 'JJ', 'NN', ',', 'NNP', 'MD', 'VB', 'VB', 'TO', 'VB', 'IN', 'DT', 'NN', 'NN', 'CC', 'IN', 'JJ', 'NN', 'CD', 'POS', 'JJ', 'NNS', 'IN', '$', 'CD', 'CD', '.', 'IN', 'NN', 'CD', 'POS', 'JJ', 'NN', ',', 'NNP', 'POS', 'JJ', 'NN', 'CD', '$', 'CD', 'CD', ',', 'CC', 'CD', 'NNS', 'DT', 'NN', '.', 'DT', 'NN', 'IN', 'JJ', 'NNS', 'IN', '$', 'CD', 'CD', ',', 'CC', 'CD', 'CD', 'DT', 'NN', ',', 'DT', 'NN', 'NN', '.', 'DT', 'NNP', 'NN', 'VBZ', 'DT', 'JJ', 'JJ', 'NN', 'NN', 'IN', 'DT', 'NNP', 'NNP', 'NN', 'CC', 'DT', 'NN', 'IN', 'NN', 'IN', 'DT', 'NNP', 'NNP', 'NN', ',', 'WDT', 'VBD', 'JJ', '$', 'CD', 'CD', ',', 'CC', 'CD', 'NNS', 'DT', 'NN', '.', 'NNS', 'VBD', 'CD', 'NN', 'TO', '$', 'CD', 'CD', 'IN', '$', 'CD', 'CD', '.', 'NNP', 'NNP', 'VBD', 'IN', 'PRP', 'VBD', 'RB', 'VBN', 'IN', 'DT', 'NN', 'NNS', 'CC', 'VBG', 'DT', 'JJ', 'JJ', 'NN', 'IN', 'DT', 'NN', 'POS', 'NN', 'NN', '.', 'NN', ',', 'NN', 'NN', 'NNS', 'NNS', 'CD', 'NN', 'TO', '$', 'CD', 'CD', 'IN', '$', 'CD', 'CD', '.', 'DT', 'CD', 'NNS', 'VBD', 'JJ', 'NN', 'IN', 'DT', 'CD', 'NNS', 'JJ', 'NNP', 'CD', '.', 'IN', 'DT', 'NN', ',', 'NNP', 'NNP', 'IN', 'NNP', 'POS', 'NN', 'NN', 'IN', 'NNS', 'IN', 'NNS', 'CC', 'NNS', ',', 'NNP', 'IN', 'NN', 'IN', 'DT', 'JJ', 'NN', '.', 'DT', 'NNP', 'NN', ',', 'WDT', 'RB', 'VBD', 'NN', 'IN', 'IN', 'DT', 'NN', 'IN', 'DT', 'NN', ',', 'VBD', 'PRP$', 'JJ', 'NNS', 'IN', 'DT', 'NN', 'NN', 'CD', 'NN', 'TO', '$', 'CD', 'CD', 'IN', '$', 'CD', 'CD', '.', 'IN', 'DT', 'NN', ',', 'VBN', 'IN', 'DT', 'NN', 'IN', 'DT', 'NNP', 'NNP', 'NN', ',', 'NNP', 'NNS', 'RB', 'VBN', '.', 'NNP', 'NNS', 'NNP', 'CD', 'NN', 'IN', 'DT', 'NN', 'CC', 'CD', 'NN', 'IN', 'DT', 'NN', ',', 'VBN', 'VBN', 'TO', 'VB', 'NNP', 'NN', 'NNS', ':', 'DT', 'NN', 'IN', 'DT', 'NNP', 'NN', 'IN', 'IN', 'NNP', 'CD', '.', 'IN', 'VBD', 'VBN', 'VBN', 'IN', 'DT', 'NN', 'IN', 'NNP', 'NNP', 'NNS', 'CC', 'NN', 'NN', 'IN', 'NN', 'NN', 'NNP', '.', 'DT', 'NN', 'RB', 'VBD', 'NNP', 'IN', 'DT', 'JJ', 'NN', 'IN', 'CD', 'CC', 'CD', 'IN', 'DT', 'JJ', 'NNP', 'NN', 'NN', ':', 'RB', 'DT', 'NNP', 'NN', ',', 'VBD', 'TO', 'NNS', '.', 'IN', 'JJ', 'CD', ',', 'DT', 'NN', 'VBD', 'NN', 'IN', '$', 'CD', 'CD', ',', 'CC', '$', 'CD', 'DT', 'NN', ',', 'RB', 'IN', '$', 'CD', 'CD', ',', 'CC', '$', 'CD', 'DT', 'NN', ',', 'IN', 'NN', 'CD', '.', 'JJ', 'JJ', 'TO', 'NNS', 'IN', 'DT', 'NN', ',', 'NNS', 'CD', 'NNS', 'VBD', '$', 'CD', ',', 'RB', 'CD', 'NN', 'IN', '$', 'CD', 'IN', 'NN', 'CD', '.', 'NNS', 'IN', 'DT', 'NN', 'VBD', 'CD', 'NN', 'TO', '$', 'CD', 'CD', 'IN', '$', 'CD', 'CD', 'IN', 'NN', 'CD', '.', 'NNP', 'NNP', 'NNP', 'VBD', 'PRP', 'VB', 'NNS', 'IN', 'NNS', 'IN', 'PRP$', 'JJ', 'NN', 'NNS', 'IN', 'CD', 'NN', 'TO', 'CD', 'NN', '.', 'DT', 'NNP', ',', 'NNP', 'NN', ',', 'WDT', 'NN', 'IN', 'DT', 'JJ', 'NN', 'IN', 'JJ', 'NNS', 'CC', 'NNS', ',', 'VBD', 'PRP$', 'NN', 'NNS', 'NNS', 'DT', '$', 'CD', 'NN', 'IN', 'PRP$', 'NN', 'NNP', 'NN', 'IN', 'NNP', 'NNP', 'IN', 'NN', ',', 'DT', 'NN', 'NN', 'NN', 'CC', 'DT', 'NN', 'NN', '.', 'DT', 'NN', 'RB', 'VBZ', 'IN', 'IN', '$', 'NN', '.', 'DT', 'NN', 'IN', 'DT', 'NNP', 'NNP', 'NNP', 'NNP', 'NNP', ',', 'IN', 'CD', 'NN', 'IN', 'NN', 'CC', 'DT', 'NN', 'NN', 'NN', 'RB', 'VBZ', 'IN', '$', 'NN', ',', 'IN', 'IN', '$', 'CD', '.', 'JJ', 'NN', 'NNS', 'IN', 'NNS', 'IN', 'DT', 'NNP', 'NNP', 'CC', 'NNP', 'NNP', ',', 'IN', 'DT', 'NNP', 'NNS', 'NN', ',', 'RB', 'VBP', 'VBN', 'VBG', 'RB', 'IN', 'NN', 'NNS', 'VBP', 'VBN', '.', 'NNP', 'NNP', 'NNS', 'NNS', 'NNS', 'IN', 'NNS', 'DT', 'NNP', ',', 'DT', 'JJ', 'NN', 'CC', 'NNP', ',', 'MD', 'RB', 'NNP', 'NN', 'DT', 'JJ', 'NN', 'CC', 'NN', '.', 'NNS', 'RB', 'VBD', 'VBN', 'IN', 'DT', 'NN', 'IN', 'NNP', ',', 'RB', 'DT', 'JJ', 'NN', 'CC', 'NN', ',', 'MD', 'VB', 'TO', 'VB', 'DT', 'JJ', 'NN', 'IN', 'NN', '.', 'RB', 'NNS', 'VBD', 'TO', 'VB', 'NNS', 'NNS', ',', 'JJ', 'VBD', 'NNS', 'IN', 'DT', 'NNP', 'NN', ',', 'WDT', 'MD', 'RB', 'VB', 'VBN', ',', 'NNS', 'VBD', '.', 'DT', 'NNP', 'CC', 'MD', 'NNS', 'VBD', 'TO', 'JJ', 'NN', 'NNS', 'IN', 'NNP', 'NNP', 'CC', 'NNP', 'NNS', 'IN', 'PRP$', 'JJ', 'NNS', 'IN', 'DT', 'NN', '.', 'DT', 'NNP', 'NN', ',', 'WDT', 'VBZ', 'DT', 'NN', ',', 'VBD', 'IN', 'NNP', 'NNP', ',', 'RB', 'CD', 'NN', 'DT', 'NN', '.', 'DT', 'NNP', 'NN', ',', 'WDT', 'RB', 'VBZ', 'IN', 'NN', ',', 'NN', 'IN', 'DT', 'NN', 'IN', 'JJ', 'NN', 'TO', 'JJ', 'NNS', '.', 'DT', 'NNP', 'NN', 'VBD', 'PRP$', 'NN', 'NNP', 'NN', 'IN', 'NNP', 'NN', 'DT', 'NN', 'TO', 'JJ', 'NNP', ',', 'IN', 'JJ', 'NN', 'NNS', 'VBD', 'NNP', 'NNS', '.', 'NN', 'TO', 'NNS', 'VBN', 'IN', 'JJ', 'NNP', 'NNS', ',', 'DT', 'NNP', 'NN', 'VBD', 'PRP$', 'NN', 'NNS', 'IN', 'PRP', 'VBP', 'RB', 'VB', 'VB', 'TO', 'VB', 'NN', 'IN', 'DT', 'JJ', 'NN', 'NN', ',', 'WDT', 'VBD', 'MD', 'CD', ',', 'CC', 'DT', 'NNP', 'NN', 'RB', 'IN', 'PRP', 'MD', 'VB', 'VBN', 'TO', 'VB', 'NN', 'IN', 'NN', 'NN', '.', 'CD', 'NNP', ',', 'NNP', 'NNP', ',', 'IN', 'NNP', 'NNS', ',', 'NNP', 'NNP', ',', 'CD', 'IN', 'CD', 'NN', 'CC', 'RB', 'IN', 'NNP', 'POS', 'VBN', 'VBD', 'NNS', 'NN', 'IN', 'NN', 'CC', 'VBP', 'RB', 'VB', 'NNS', '.', '``', 'DT', 'VBZ', 'DT', 'NN', 'IN', 'MD', 'VB', 'VBN', ',', 'NN', 'IN', 'DT', 'NN', 'IN', 'NN', ',', \"''\", 'VBD', 'NNP', 'NNP', '.', 'NNP', 'VBZ', 'DT', 'NNP', 'NN', 'CC', 'DT', 'NNP', 'NNP', 'IN', 'NN', 'IN', 'DT', 'NNP', '.', 'DT', 'NNP', 'TO', 'RB', 'JJR', 'NN', 'CC', 'JJ', 'NN', 'VBD', 'VBN', 'VBN', ',', 'IN', 'DT', 'JJ', 'NN', ',', 'RB', 'NN', ',', 'VBZ', 'DT', 'JJ', 'NN', 'NN', 'IN', 'VBD', 'VBN', 'VBN', '.', 'IN', 'DT', 'JJ', 'NN', 'NN', ',', 'NNP', 'VBD', 'VBN', 'TO', 'VB', 'CD', 'CD', 'CD', 'IN', 'NNP', ',', 'DT', 'NN', 'IN', 'CD', 'CD', 'CD', 'IN', 'NN', '.', 'PRP$', 'NNP', 'NNS', 'VBD', 'VBN', 'TO', 'CD', 'CD', 'CD', 'IN', 'JJ', 'TO', 'NNS', 'IN', 'CD', 'CD', 'CD', 'IN', '``', 'PRP', 'VBZ', 'JJ', 'NNP', 'CD', 'IN', 'VBP', 'IN', 'NN', 'IN', 'DT', 'JJ', 'NN', ',', \"''\", 'VBD', 'NNP', 'NNP', ',', 'NN', 'IN', 'NNP', 'NNP', 'NNP', ',', 'NNP', 'NNP', '.', '``', 'NNS', 'VBD', 'NNP', 'DT', 'NN', 'VBD', 'DT', 'NN', 'TO', 'NNP', 'NNP', 'CC', 'DT', 'NN', 'NNP', 'VBD', 'VBN', 'TO', 'VB', 'VBG', 'TO', 'VB', 'VBN', \"''\", 'NN', '.', 'IN', 'DT', 'NN', ',', 'VBD', 'NNP', 'VBD', ',', 'PRP', 'VBZ', 'VBN', 'IN', 'JJ', 'CC', 'DT', 'NN', 'IN', 'DT', 'NNP', 'NN', 'VBZ', 'VBN', 'VBN', 'RB', ',', 'RB', 'RB', 'DT', 'NN', 'NN', 'VBZ', 'CD', 'NNS', 'NN', '.', 'RB', 'IN', 'DT', 'NN', 'IN', 'DT', 'NNP', 'VBN', 'IN', 'NNP', 'VBZ', 'IN', 'NN', 'NN', ',', 'VBD', 'TO', 'VBD', 'NNP', '.', 'RB', ',', 'RB', 'VBZ', 'VBN', 'DT', 'NN', 'IN', 'DT', 'JJ', 'NN', 'TO', 'NNP', 'IN', 'NNP', 'NNP', 'IN', 'NNS', 'IN', 'VBD', 'VBN', 'VBN', 'IN', 'NN', ',', 'CC', 'DT', 'NN', 'VBZ', 'VBN', 'VBD', 'RB', ',', 'PRP', 'VBD', '.', 'DT', 'JJ', ',', 'VBD', 'NNP', 'NN', ',', '``', 'NNP', 'NNS', 'VBD', 'IN', 'DT', 'NN', 'VBZ', 'IN', 'RB', 'VBN', 'VBN', 'IN', 'DT', 'NN', 'IN', 'NNS', '.', \"''\", 'NNP', 'NNP', ',', 'NNP', 'NN', 'IN', 'NNP', 'IN', 'NNP', ',', 'NNP', ',', 'VBD', ':', '``', 'PRP', 'NNP', 'JJ', 'RB', 'IN', 'NNP', 'MD', 'NNP', 'NNP', 'NNS', ',', 'JJ', 'IN', 'DT', 'NN', 'IN', 'NNP', 'IN', 'IN', 'CD', 'CD', 'DT', 'NN', '.', \"''\", 'IN', 'DT', ',', 'NNP', 'NNP', 'NN', ',', 'DT', 'NN', 'VBZ', 'JJ', 'JJ', '.', '``', 'JJ', 'NN', 'NNS', 'RB', 'WP', 'VBP', 'JJ', 'NNS', 'IN', 'DT', 'NNP', 'NNP', 'NN', 'VBP', 'VBN', 'VBN', 'TO', 'JJ', 'DT', 'NNS', 'CC', 'VB', 'RB', 'NN', 'TO', 'VB', 'DT', 'NN', ',', \"''\", 'PRP', 'VBD', '.', '``', 'PRP', 'VBZ', 'DT', 'NN', 'IN', 'JJ', 'NN', 'IN', 'WDT', 'DT', 'NN', 'MD', 'VB', 'VB', 'RP', ',', 'JJ', 'IN', 'DT', 'JJ', 'NN', 'NNS', 'MD', 'VB', 'VBN', ',', 'CC', 'DT', 'CD', 'MD', 'NN', 'PRP', '.', \"''\", 'NNP', 'NNP', 'VBN', 'IN', 'DT', 'NN', 'IN', 'NNP', 'VBZ', 'RB', 'RB', 'JJ', '.', 'IN', 'DT', 'CD', 'NN', ',', 'NNP', 'VBD', 'DT', 'NNP', 'NN', 'IN', 'CD', 'NNS', 'VBN', 'TO', 'VB', 'DT', 'JJ', 'NN', 'IN', 'PRP$', 'NNP', 'NN', 'IN', 'NNS', 'CC', 'VBZ', 'RB', 'VBN', 'TO', 'DT', 'NN', '.', '``', 'PRP', 'VBZ', 'TO', 'VB', ',', 'IN', 'DT', 'JJ', 'NN', ',', 'DT', 'JJ', 'JJ', 'NN', 'IN', 'NNP', 'PRP', 'MD', 'VB', 'IN', 'DT', 'NN', 'NN', 'IN', 'JJ', 'NNS', 'IN', 'TO', 'VB', 'TO', 'VB', 'NN', 'CC', 'NN', ',', \"''\", 'NNP', 'NNP', 'VBD', '.', 'NNP', ',', 'WDT', 'VBZ', 'RB', 'DT', 'NN', 'NN', ',', 'VBZ', 'VBD', 'VBN', 'VBG', 'IN', 'DT', 'JJ', 'CD', 'NNS', ',', 'NNS', 'VBD', '.', 'JJ', 'NN', ',', 'PRP', 'VBD', 'TO', 'VB', 'NN', 'IN', 'DT', 'NNP', 'NN', 'TO', 'VB', 'NN', 'NNS', ',', 'PRP', 'VBN', '.', 'DT', 'NN', 'PRP', 'VBZ', 'VBN', 'TO', 'VB', 'DT', 'JJ', 'NN', 'CC', 'VBZ', 'VBD', 'TO', 'VB', 'VBG', 'TO', 'VB', 'IN', 'CD', 'CD', 'IN', 'NN', 'TO', 'VB', 'JJ', 'NN', ',', 'NNS', 'VBD', '.', 'IN', 'JJ', 'NN', 'NNS', 'NN', ':', 'NNP', ':', 'NNP', 'NNS', 'VBD', 'RB', 'NNS', 'IN', 'JJ', 'NN', 'NN', 'DT', 'NN', '.', 'IN', 'DT', 'NNP', 'NNP', 'NNP', 'NN', ',', 'JJ', 'NN', 'IN', 'VBD', 'NN', 'NN', 'CD', 'NNS', 'TO', 'VB', 'IN', 'NNP', 'CD', 'DT', 'NN', '.', 'NNS', 'NNS', 'VBD', 'RB', 'TO', 'NNS', '.', 'CC', 'DT', 'NN', 'IN', 'JJ', 'NN', 'VBD', 'VB', 'RP', 'JJ', 'NN', '.', 'NNP', 'NNP', 'JJ', 'NNS', 'IN', 'NNP', 'NN', 'VBD', 'CD', 'CD', 'DT', 'NN', 'TO', 'VB', 'IN', '$', 'CD', '.', 'DT', 'NNP', 'IN', 'JJ', 'NN', 'VBD', 'VBN', 'TO', 'NNP', 'NN', 'IN', 'NNS', 'IN', 'DT', 'NNP', 'CC', 'TO', 'DT', 'JJ', 'NN', 'NN', 'IN', 'DT', 'NNP', 'NNP', 'NNP', ',', 'WDT', 'VBD', 'DT', 'NN', 'IN', 'NNS', 'IN', 'DT', 'NN', '.', 'NNP', 'CC', 'NNS', ':', 'NNS', 'VBD', 'RB', 'NNS', 'IN', 'JJ', 'JJ', 'NN', 'IN', 'NNS', 'NN', 'TO', 'VB', 'PRP$', 'NNS', 'IN', 'DT', 'NN', 'IN', 'DT', 'NN', 'IN', 'NNS', 'NNS', 'TO', 'VB', '.', 'NN', 'VBD', 'NNP', 'IN', 'NN', 'NN', 'IN', 'DT', 'NN', 'IN', 'DT', 'NNP', 'POS', 'NN', 'NNS', 'RB', 'IN', 'NN', '.', 'JJ', 'NN', 'NN', 'RB', 'VBN', 'NNS', '.', 'IN', 'DT', 'NN', 'IN', 'DT', 'JJ', 'NN', 'NN', 'NN', 'IN', 'DT', 'NNP', ',', 'NN', 'NNS', 'VBD', 'IN', 'JJ', 'VBD', 'DT', 'JJ', 'NN', ',', 'WDT', 'RB', 'NNP', 'NNP', 'NNP', 'IN', 'NN', ',', 'VBD', 'VBG', 'TO', 'VB', 'TO', 'VB', 'VB', 'CD', 'CD', 'IN', 'NN', '.', 'NNS', 'VBD', 'NNS', 'RB', 'VBD', 'VBN', 'IN', 'JJ', 'VBN', 'IN', 'DT', 'JJ', 'NN', 'VBZ', 'IN', 'DT', 'NN', 'IN', 'VBG', 'JJ', 'JJ', 'NN', 'NN', 'IN', 'DT', 'NNP', '.', 'DT', 'NNP', 'MD', ',', 'IN', 'JJ', 'NNS', ',', 'JJ', 'JJR', 'JJ', 'NN', 'NNS', 'IN', 'IN', 'DT', 'VBD', 'MD', 'NN', 'NN', '.', 'DT', 'VBD', 'VBP', 'VBN', 'VBN', 'TO', 'VB', 'JJ', 'NNS', ',', 'JJ', 'VBG', 'RP', 'JJ', 'JJ', 'NNS', 'IN', 'JJ', 'CD', 'CD', 'IN', 'NN', 'IN', 'NNP', '.', 'NNP', ':', 'NNS', 'NNS', 'NNP', ',', 'VBG', 'NNP', 'POS', 'NNS', '.', 'DT', 'NNP', 'NN', 'VBD', 'CD', 'CD', 'DT', 'NN', 'TO', '$', 'NN', '.', 'NNS', 'IN', 'DT', 'JJ', 'NN', 'VBN', 'IN', 'IN', 'DT', 'JJ', 'NN', ',', 'CC', 'NNS', 'VBD', 'NNP', 'NNS', 'IN', 'DT', 'NN', 'NNP', 'NN', 'MD', 'VBP', 'VBN', 'RB', 'IN', 'PRP', 'VBG', ',', 'DT', 'NN', 'VBD', '.', 'NN', 'TO', 'NNP', 'NN', 'NNS', ',', 'JJ', 'NNS', 'IN', 'DT', 'NNP', 'NNP', 'NNP', 'IN', 'NNP', 'NNP', 'VBD', 'TO', 'DT', 'JJ', 'JJ', 'NN', 'NN', 'WDT', 'VBZ', 'DT', 'CD', 'NN', 'NN', 'CC', 'JJ', 'NNS', '.', 'RB', ',', 'DT', 'NNS', 'VBP', 'RB', 'RB', 'VBN', 'DT', 'JJ', 'NN', 'CC', 'VBP', 'JJ', 'NNS', ',', 'DT', 'NN', 'VBD', '.', 'RB', ',', 'NNP', 'VBD', 'IN', 'DT', 'NNP', 'NNP', 'NN', 'NNP', 'PRP$', 'NN', 'TO', 'VB', 'DT', 'NN', 'IN', 'NNP', 'IN', 'NNP', 'NNP', 'NNP', 'IN', 'CD', 'NNS', '.', 'DT', 'NNP', 'NNP', 'NNP', 'VBZ', 'VBN', 'NNP', 'IN', 'MD', 'CD', 'RB', 'IN', 'NNS', 'IN', 'NNP', 'NNP', 'WP', 'VB', 'NNP', 'TO', 'NNP', 'IN', 'NNP', 'NNP', '.', 'DT', 'NN', 'IN', 'NNP', ',', 'IN', 'VBG', 'TO', 'VB', 'DT', 'NN', 'IN', 'DT', 'NN', 'IN', 'NNP', 'NNP', 'NNS', ',', 'VBD', 'PRP', 'MD', 'VB', 'DT', 'NN', 'IN', 'DT', 'NN', 'TO', 'NN', 'CC', 'VB', 'JJ', 'NNS', 'TO', 'VB', 'PRP$', 'NN', 'IN', 'NN', '.', 'NNP', 'IN', 'NNP', 'NNP', ',', 'NNP', 'NNP', ',', 'VBD', 'VBN', 'VBG', 'DT', 'NN', 'IN', 'DT', 'JJ', 'NNP', 'NN', 'IN', 'NNP', ',', 'IN', 'PRP', 'VBD', 'PRP$', 'NN', 'TO', 'VB', 'RP', 'NN', 'TO', 'VB', 'PRP$', 'NN', 'NN', '.', 'CC', 'NNP', 'VBD', 'PRP', 'VBD', 'VBN', 'TO', 'VB', 'DT', 'NN', 'VB', 'TO', 'VB', 'PRP', 'PRP', 'VBZ', '``', 'NN', 'NN', \"''\", 'IN', 'NN', 'NN', 'IN', 'JJ', 'NN', 'IN', 'DT', 'NN', 'CC', 'NN', 'NNS', 'CC', 'IN', 'NN', '.', 'NNP', 'NNP', 'NN', 'NNS', 'IN', 'CD', 'IN', '$', 'CD', 'CD', '.', 'PRP', 'VBZ', 'NNS', 'RB', 'IN', 'NNP', 'CC', 'NNP', '.', 'NNP', 'NN', 'VBZ', 'VBN', 'TO', 'VB', 'DT', 'CD', 'NN', 'TO', 'CD', 'NN', 'NN', 'IN', 'DT', 'NN', 'IN', 'NNP', ',', 'VBD', 'NNP', 'NNP', 'NNP', ',', 'NNP', 'POS', 'NN', 'CC', 'NN', 'NN', 'NN', '.', 'PRP', 'VBD', 'NNP', 'VBZ', 'TO', 'VB', 'VB', 'PRP$', 'NN', 'IN', 'NNP', 'TO', 'VB', 'IN', 'CD', 'NN', '.', 'NNP', 'NNP', 'NNP', 'VBD', 'IN', 'NNP', 'NN', 'NNP', 'JJ', 'NN', 'VBZ', 'VBN', 'VBG', 'DT', 'NN', 'IN', 'DT', 'NN', 'TO', '$', 'CD', 'IN', 'NN', 'CC', 'NN', 'IN', 'DT', 'NNP', 'NN', '.', 'IN', 'NN', 'IN', 'DT', 'NNP', 'NN', ',', 'NNP', ',', 'VBD', 'IN', 'NNP', 'NNP', 'NNP', ',', 'NNP', ',', 'MD', 'VB', '$', 'CD', 'NN', 'CC', 'CD', 'JJ', 'NN', 'NNS', 'IN', 'DT', 'NN', 'NN', 'IN', '$', 'CD', 'DT', 'NN', 'IN', 'CD', 'IN', 'NNP', 'NNP', 'POS', 'CD', 'CD', 'NNS', 'NN', '.', 'VBN', ',', 'PRP', 'VBD', '$', 'CD', 'DT', 'NN', 'IN', 'NN', ',', 'CC', '$', 'CD', 'CD', '.', 'DT', 'NNP', 'NNP', ',', 'NNP', ',', 'NN', 'IN', 'NNP', 'NNP', 'CC', 'NNP', 'NNS', 'VBD', 'DT', 'NN', 'NN', 'MD', 'NNP', 'NNS', 'IN', 'DT', 'CD', 'NN', 'NN', ',', 'RB', 'MD', 'VB', 'VB', 'VBN', 'IN', 'DT', 'JJ', 'CD', 'NNS', '.', 'DT', 'NN', 'MD', 'VB', 'VBN', 'IN', 'CD', 'NNS', ',', 'JJ', 'TO', 'NNS', 'IN', 'DT', 'JJ', 'NN', 'POS', 'NN', '.', 'RB', 'NNP', 'NNP', 'NNP', 'NNP', 'VBD', 'DT', 'NN', 'IN', 'DT', 'NN', 'NN', 'CC', 'NNP', 'NNP', 'MD', 'RB', 'VB', 'VBN', 'IN', 'NN', '.', 'RB', ',', 'NNP', 'NNP', 'VBD', 'PRP', 'MD', 'VBD', 'VB', 'DT', 'NN', 'TO', 'DT', 'JJ', 'NN', 'IN', 'DT', 'NN', 'POS', 'NN', '.', 'NNP', 'NNP', 'NNP', 'VBD', 'NNP', 'NNP', 'NN', 'IN', 'JJ', 'NN', 'TO', 'VB', 'NNP', 'NNS', ',', 'DT', 'NN', 'DT', 'NNP', 'NNP', 'NNP', 'DT', '``', 'NNP', 'NN', '.', \"''\", 'NNP', 'NNP', ',', 'CD', 'CD', 'NN', 'CC', 'DT', 'JJ', 'NNP', 'NN', ',', 'VBD', 'VBN', 'DT', 'NNP', 'NN', 'POS', 'NN', 'NN', 'IN', 'DT', 'CD', 'NNS', '.', 'PRP$', 'NN', 'TO', 'DT', 'NN', ',', 'WDT', 'VBZ', 'JJ', 'NN', ',', 'NN', 'CC', 'JJ', 'JJ', ',', 'VBD', 'DT', 'NN', 'NN', 'IN', 'NNP', 'POS', 'NN', 'IN', 'NN', '.', 'DT', 'NN', 'VBD', 'NNP', ',', 'CC', 'NNP', 'NNP', 'POS', 'JJ', 'MD', 'VB', 'VBN', 'IN', 'CD', 'JJ', 'JJ', 'NNP', 'NNS', ',', 'DT', 'NN', 'VBD', '.', 'IN', 'DT', 'NN', 'NN', ',', 'NNP', 'NNP', 'VBD', 'PRP$', 'NN', 'VBD', 'IN', '``', 'JJ', 'NNS', ',', \"''\", 'WDT', 'PRP', 'VBD', 'TO', 'NNP', '.', '``', 'RB', 'VBZ', 'DT', 'NN', 'NN', 'IN', 'PRP$', 'NN', ',', \"''\", 'RB', 'DT', 'NN', 'IN', 'NN', ',', 'PRP', 'VBD', '.', 'PRP', 'RB', 'VBD', 'NNS', 'IN', 'PRP$', 'NN', 'NN', 'IN', 'NN', 'DT', 'NN', 'NN', 'POS', 'NN', 'VBD', 'RB', 'RB', 'VBN', 'TO', 'DT', 'NN', 'NN', 'IN', 'DT', 'JJ', 'NNP', 'NN', '.', 'NNP', 'NNP', 'VBD', 'CD', 'IN', 'CD', 'NNS', 'IN', 'NNP', 'POS', 'NNP', 'NN', 'NN', 'WP', 'VBD', 'RB', 'RB', 'VB', 'IN', 'DT', 'NN', 'POS', 'NN', 'IN', 'NNS', '.', '``', 'IN', 'PRP', 'VBD', 'VBG', 'DT', 'NNS', 'IN', 'NN', ',', 'PRP', 'MD', 'VB', 'VBN', 'DT', 'NNS', 'WP', 'VBP', 'RB', 'IN', 'DT', 'NN', ',', \"''\", 'PRP', 'VBD', '.', 'DT', 'NNP', 'NN', 'VBD', 'DT', 'NN', 'NN', '``', 'DT', 'NN', 'IN', 'NN', 'CC', 'NNS', '.', \"''\", 'NNP', 'NNP', ',', 'DT', 'NN', 'IN', 'NNP', 'NNP', 'NNP', 'NNP', 'IN', 'NNP', ',', 'VBD', ',', '``', 'PRP', 'NN', '-LRB-', 'DT', 'NN', '-RRB-', 'MD', 'VB', 'RB', 'NN', 'IN', 'DT', 'NN', '.', 'PRP', 'MD', 'VB', 'RB', 'RB', 'IN', 'PRP$', 'NN', 'NNS', 'DT', 'NN', 'IN', 'NN', 'CC', 'VB', 'IN', 'NNS', 'NNS', '.', \"''\", 'IN', 'NNP', 'POS', 'NNP', 'NN', ',', 'NNP', 'NNS', 'VBD', 'CD', 'NNS', 'TO', 'NNP', 'NNP', '-LRB-', '$', 'NNP', '-RRB-', '.', 'IN', 'DT', 'NNP', 'JJ', 'NN', ',', 'JJ', 'NNS', 'NNS', 'IN', 'NNP', ',', 'DT', 'NNS', 'CD', 'NNS', 'IN', 'DT', 'NNP', 'NN', ',', 'VBD', 'NNS', 'IN', '$', 'CD', '.', 'DT', 'NN', 'IN', 'DT', 'CD', 'NNS', 'WP', 'MD', 'VB', 'NNP', 'NNP', 'POS', 'JJ', 'VBZ', 'NNP', 'NNP', ',', 'CD', ',', 'NNP', 'NN', 'CC', 'DT', 'NNP', 'NN', 'NN', '.', 'NNP', 'NNP', ',', 'CD', ',', 'NN', 'NN', 'NN', ',', 'VBZ', 'NN', 'IN', 'JJ', 'NNP', '.', 'CC', 'NNP', 'NNP', ',', 'CD', ',', 'NNP', 'JJ', 'NN', ',', 'VBZ', 'NN', 'IN', 'NNP', 'NN', 'NNS', '.', 'NNP', 'NNP', 'NNP', ',', 'DT', 'NN', 'IN', 'NNP', 'NNP', 'NNP', 'POS', 'NNP', 'NN', 'NN', 'CC', 'NNP', 'NNP', 'NNP', ',', 'VBN', 'TO', 'NNP', 'CD', 'PRP$', '$', 'CD', 'NN', 'IN', 'DT', 'NNP', 'NNP', 'NNP', 'NNS', 'NN', '.', 'DT', 'NN', ',', 'WDT', 'VBD', 'VBN', 'TO', 'VB', 'NN', ',', 'VBZ', 'NN', 'IN', 'NN', 'NN', 'IN', 'NNP', 'JJ', 'NNS', ',', 'IN', 'DT', 'RB', 'JJ', 'NN', ',', 'VBN', 'NNP', 'CC', 'IN', 'DT', 'NN', 'IN', 'DT', 'NN', 'POS', 'NNP', 'NN', 'NNS', 'NN', '.', 'NNP', 'NN', 'VBZ', 'VBD', 'DT', 'NN', 'IN', 'DT', 'NN', 'NN', 'VBG', 'DT', 'NN', 'IN', 'NNP', 'POS', 'NNP', 'NN', 'NNS', 'CC', 'NN', 'NN', 'NN', 'NN', ',', 'WDT', 'PRP', 'VBZ', 'VBD', 'VBN', 'IN', 'JJ', 'TO', 'JJ', 'NNS', '.', 'NNP', 'NN', 'VBD', 'CD', 'CD', 'NNS', ',', 'CC', 'IN', 'CD', 'NN', 'IN', 'DT', 'NN', 'NN', ',', 'VBP', 'VBN', 'NNP', 'IN', 'PRP$', 'NN', '.', 'DT', 'NNS', 'VBD', 'PRP', 'RB', 'VB', 'CD', 'NN', 'IN', 'DT', 'NNS', 'NN', '.', 'NNP', 'VBZ', 'JJ', 'NNP', 'CD', 'IN', 'DT', 'NN', 'IN', 'DT', 'NN', 'IN', 'DT', 'NNS', 'NNS', '.', 'NNP', 'NN', 'VBD', 'DT', 'NN', 'VBZ', 'TO', 'VB', 'DT', 'NN', 'TO', 'VB', 'VBN', '.', 'NNP', 'VBZ', 'NN', 'IN', 'NNP', ',', 'NN', '.', 'NNP', ',', 'DT', 'NN', 'NN', 'NN', 'NN', 'CC', 'NN', ',', 'DT', 'NN', 'NN', ',', 'VBP', 'VBN', 'IN', 'NNP', '.', 'NNP', 'NNP', 'VBD', 'DT', 'JJ', 'NN', 'NN', 'IN', '$', 'CD', 'CD', ',', 'CC', 'CD', 'CD', 'DT', 'NN', ',', 'VBN', 'IN', 'JJ', 'NNS', 'IN', '$', 'CD', 'CD', ',', 'CC', 'CD', 'NN', 'DT', 'NN', '.', 'DT', 'NN', 'IN', 'DT', 'NNP', ',', 'NNP', 'NN', 'VBD', 'NN', 'VBD', 'DT', 'NN', 'IN', '$', 'CD', 'CD', 'IN', 'DT', 'NN', ':', 'IN', 'NN', ',', 'DT', 'NN', 'VBD', 'NNP', 'IN', 'NNP', 'NNS', 'CD', '$', 'CD', 'CD', 'CC', '$', 'CD', 'CD', 'IN', 'NNP', 'NNP', 'IN', 'PRP', 'VBD', 'IN', '``', 'JJ', '.', \"''\", 'DT', 'NNS', 'VBD', 'VBN', 'VBN', 'IN', 'DT', '$', 'CD', 'CD', 'NN', 'IN', 'DT', 'NN', 'IN', 'NNS', 'IN', 'CD', 'JJ', 'NNS', ',', 'PRP', 'VBD', '.', 'NN', 'VBD', 'CD', 'NN', 'TO', '$', 'CD', 'CD', ',', 'IN', '$', 'CD', 'CD', 'DT', 'NN', 'NN', '.', 'NNP', 'NN', '``', 'DT', 'JJ', 'NNP', 'IN', 'DT', 'NN', 'IN', 'NN', 'NNS', 'IN', 'DT', 'NN', 'NNS', 'IN', 'DT', 'NNP', 'VBZ', '.', 'NNP', 'NNP', 'VBD', 'PRP', 'VBZ', 'TO', 'VB', 'DT', 'JJ', 'NN', 'NN', 'IN', '$', 'CD', 'CD', 'TO', '$', 'CD', 'CD', 'IN', 'IN', 'JJ', 'NNS', 'CC', 'VBD', 'JJ', 'NN', 'NNS', '.', 'DT', 'NNP', 'NNP', 'NN', 'CC', 'JJ', 'NN', 'VBD', 'PRP', 'MD', 'VB', 'DT', '$', 'CD', 'CD', 'NN', 'IN', 'PRP$', 'NN', 'NN', ',', 'JJ', 'DT', '$', 'CD', 'CD', 'NN', 'NNS', 'TO', 'VB', 'IN', 'DT', 'JJ', 'NN', 'NN', 'CC', '$', 'CD', 'CD', 'IN', 'JJ', 'NNS', 'IN', 'VBP', 'RB', 'VB', 'NN', '.', 'IN', 'NN', ',', 'NNP', 'VBD', 'PRP', 'MD', 'NNP', 'IN', 'IN', '$', 'CD', 'CD', 'IN', 'NN', 'NNS', 'TO', 'NNP', 'NNP', 'NNS', 'IN', 'NNP', 'NNS', 'VBP', 'VBN', 'VBN', '.', 'DT', 'NN', 'RB', 'JJ', 'JJ', 'NNS', 'CC', 'NNP', 'IN', 'NNP', 'IN', 'NNS', 'IN', 'DT', 'NN', '.', 'DT', 'NN', 'NN', ',', 'JJ', 'NN', 'VBD', '$', 'CD', 'CD', ',', 'CC', 'CD', 'NNS', 'DT', 'NN', ',', 'IN', 'NN', 'IN', '$', 'CD', 'CD', '.', 'DT', 'NN', 'IN', 'NN', 'IN', 'DT', 'JJ', 'JJ', 'NNS', 'NNS', 'DT', 'NN', 'NN', 'POS', 'NN', 'TO', 'VB', 'NNP', 'POS', 'JJ', 'NNS', ',', 'IN', 'NNS', 'VBD', 'RB', 'NNS', 'IN', 'JJ', 'NN', '.', 'IN', 'NN', 'NN', 'IN', 'DT', 'NN', 'IN', 'NN', 'NN', 'VBN', 'JJ', 'JJ', 'NN', 'NNS', ',', 'NNS', 'VBD', 'VBD', 'VBN', 'IN', 'DT', 'NN', ',', 'IN', 'NNP', 'NN', 'DT', 'NN', 'IN', 'DT', 'NN', '.', 'DT', 'NNP', 'NNP', 'NNP', 'NN', ',', 'WDT', 'VBD', 'VBD', 'NNP', 'CD', 'IN', 'NNP', ',', 'VBD', 'IN', 'RB', 'DT', 'IN', 'PRP$', 'JJ', 'NN', 'CC', 'VBD', 'IN', 'DT', 'NN', 'IN', 'RB', 'CD', 'IN', 'VBD', '.', 'NNP', 'CC', 'NNP', 'POS', 'NNP', 'NN', 'VBD', 'NNP', 'TO', 'NNP', ':', 'DT', 'NN', 'VBD', 'NN', 'TO', 'DT', 'NN', 'IN', 'IN', 'CD', 'NNS', 'IN', 'DT', 'NN', 'NN', '.', 'DT', 'NNP', 'NNP', 'NNP', 'NN', 'NN', 'VBD', 'NNP', 'TO', 'NNP', 'CC', 'DT', 'NNP', 'NNP', 'NNP', 'NNP', 'NNP', 'NN', 'VBD', 'RB', 'NNP', 'TO', 'NNP', '.', 'NNP', 'NNS', 'NNP', 'NNP', 'IN', 'DT', 'NNP', 'NNP', 'NNP', 'NN', 'IN', 'CD', 'TO', 'CD', '.', 'NNP', 'NN', 'VBD', 'CD', 'TO', 'NNP', 'NNS', ',', 'RB', 'IN', 'NNP', 'CD', 'NNP', '.', 'DT', 'NNP', 'NN', 'IN', 'JJ', 'NN', 'NNS', ',', 'IN', 'VBN', ',', 'JJ', 'NN', 'IN', 'JJ', 'NN', 'NN', 'NN', '.', 'DT', 'NN', 'IN', 'JJ', 'NN', 'VBN', 'IN', 'DT', 'NN', 'VBD', 'VBD', 'NN', 'IN', 'CD', 'NN', ':', 'DT', 'NN', 'IN', 'CD', 'NN', 'MD', 'VB', 'VBN', 'IN', 'DT', 'NN', 'NN', 'VBD', 'VBG', '.', 'CC', 'IN', 'DT', 'NN', 'JJ', 'NNP', 'NN', 'IN', 'NNS', 'CC', 'DT', 'VBN', 'VBN', 'NN', 'IN', 'NNP', 'NN', 'NN', 'TO', 'NNP', 'NN', ',', 'NN', 'NNS', 'NNP', 'RB', 'RB', 'IN', 'NN', 'TO', 'DT', 'NN', 'CC', 'PRP', 'NNP', '.', '``', 'DT', 'NN', 'POS', 'RB', 'RB', 'IN', 'PRP$', 'NN', ',', \"''\", 'VBD', 'NNP', 'NNP', ',', 'NN', 'IN', 'NN', 'NN', 'IN', 'NNS', 'NNS', '.', '``', 'DT', 'NN', 'VBZ', 'RB', ':', '``', 'PRP', 'VB', '-LRB-', 'NNS', '-RRB-', 'RB', ',', 'RB', 'IN', 'PRP', 'VBP', 'RB', 'VB', 'VB', 'VBP', 'VBG', 'TO', 'VB', 'PRP', '.', 'POS', \"''\", 'NN', 'IN', 'DT', 'NN', 'IN', 'JJ', 'NN', 'TO', 'JJ', 'JJ', 'NN', ',', 'DT', 'NN', 'IN', 'NN', 'NN', 'VBG', 'IN', 'JJ', 'NN', 'IN', 'DT', 'NN', ',', 'RB', 'VBN', 'TO', 'PRP$', 'NN', 'IN', 'NN', ',', 'NNP', 'NNP', 'VBD', '.', 'NNP', 'NN', 'VBD', 'DT', 'NN', 'VBD', 'RB', 'VBN', 'TO', 'DT', 'JJ', 'IN', 'NN', 'NNS', 'IN', 'DT', 'NN', ',', 'WDT', 'VBD', 'VB', 'DT', 'NN', 'IN', 'NN', 'IN', 'NNP', 'NNS', '.', 'NN', 'VBZ', 'VBN', 'TO', 'VB', 'NN', 'IN', 'DT', 'NN', 'NNP', 'NN', 'POS', 'NN', 'IN', 'DT', 'NNS', 'NNS', 'IN', 'DT', 'NN', 'IN', 'PRP', 'MD', 'VB', 'VBG', 'DT', 'NN', 'IN', 'NN', 'NNS', '.', '``', 'PRP', 'NN', 'IN', 'DT', 'NNS', 'VBP', 'JJ', 'TO', 'NNP', 'PRP$', 'NN', 'IN', 'IN', 'DT', 'JJ', 'NN', 'IN', 'IN', 'DT', 'NNS', 'NNS', 'RB', ',', \"''\", 'VBD', 'NNP', 'NNP', ',', 'NN', 'IN', 'NNP', 'NNP', ',', 'NN', 'NNP', ',', 'NNP', 'NNP', 'VBD', 'CD', 'NNP', 'TO', 'CD', 'VBZ', 'IN', 'DT', 'NN', 'IN', 'NNP', 'NNP', 'NNP', 'IN', 'NN', 'CC', 'NN', 'NN', 'NN', 'NN', 'DT', 'NN', 'IN', 'NN', 'IN', 'DT', 'NN', 'MD', 'VB', 'DT', 'NN', 'NN', '.', 'NNP', 'NNS', 'NNS', 'DT', 'NN', 'POS', 'JJ', 'NN', 'NN', 'IN', 'NN', 'TO', 'DT', 'NN', ':', 'NNP', 'NNP', 'NNP', 'VBD', 'PRP', 'VBZ', 'DT', 'NN', 'MD', 'VB', 'TO', 'JJ', 'NN', '``', 'WDT', 'POS', 'JJR', 'RB', 'NN', '.', \"''\", 'DT', 'JJ', 'NN', 'CC', 'JJ', 'NNS', 'TO', 'VB', 'NNS', 'JJ', 'NN', ',', 'WDT', 'VBD', 'RB', 'CD', 'CD', 'TO', 'CD', 'CD', ':', 'NNP', 'NNS', ',', 'RB', 'CD', 'CD', 'TO', 'CD', 'CD', ':', 'NNP', 'NNP', ',', 'RB', 'CD', 'TO', 'CD', 'CD', ',', 'CC', 'NNP', ',', 'RB', 'CD', 'CD', 'TO', 'CD', 'CD', '.', 'NNP', ',', 'DT', 'JJ', 'NN', 'IN', 'DT', 'NN', 'NN', ',', 'CC', 'CD', 'TO', 'CD', 'CD', '.', 'DT', 'NN', 'VBD', 'PRP', 'VBZ', 'DT', 'JJ', 'NN', ',', 'WDT', 'PRP', 'VBD', 'RB', 'NNP', ',', 'IN', 'DT', 'NNP', 'NN', '.', 'NNP', 'NNP', 'CD', 'CD', 'TO', 'CD', 'VBZ', 'NN', 'NN', 'IN', 'NNP', 'NNP', 'NNP', 'NNP', 'NNP', 'VBD', 'VBG', 'NN', 'TO', 'VB', 'DT', 'JJ', ',', 'RB', 'NN', 'IN', 'DT', 'NN', 'NN', 'IN', 'JJ', 'NNS', '.', 'NNP', 'NNP', 'NNP', 'DT', '$', 'NNP', 'NN', 'JJ', 'NN', '.', 'NNP', 'VBD', 'CD', 'CD', 'TO', 'CD', '.', 'NNP', 'NNP', 'NNP', 'NNP', 'NNP', 'NNP', 'VBD', 'PRP', 'VBZ', 'DT', 'CD', 'NN', 'NN', 'IN', 'DT', 'NN', 'IN', 'NNP', 'NNS', ',', 'DT', 'NN', 'IN', 'DT', 'JJ', '$', 'VBN', 'NN', 'IN', 'DT', 'JJ', 'NN', ',', 'MD', 'VB', 'VBN', 'CC', 'VBN', 'RB', 'CD', 'NNS', '.', 'NNP', 'NNP', 'VBD', 'CD', 'CD', 'TO', 'CD', 'CD', 'IN', 'NNP', 'NN', ',', 'VBN', 'IN', 'NNP', 'NNP', 'NNP', 'NNP', ',', 'VBD', 'TO', 'VB', 'DT', 'NN', 'PRP', 'VBZ', 'RB', 'RB', 'PRP$', 'IN', '$', 'CD', 'DT', 'NN', '.', 'NNP', ',', 'WDT', 'VBD', 'NNS', 'IN', 'CD', 'CD', ',', 'VBZ', 'DT', 'NN', 'IN', 'RB', 'IN', 'CD', 'NN', '.', 'NNP', 'NNP', 'NNP', ',', 'WDT', 'VBD', 'CD', 'VBZ', 'NNP', 'IN', 'NNP', 'VBD', 'DT', '$', 'CD', 'CD', 'NN', 'IN', 'DT', 'NN', ',', 'VBD', 'CD', 'NNP', 'TO', 'CD', 'CD', 'IN', 'NNP', 'NNP', 'VBD', 'NN', 'IN', 'JJ', 'CD', 'NNS', '.', 'NNP', ',', 'WDT', 'VBD', 'RB', 'CD', 'CD', 'NNP', ',', 'VBD', 'DT', 'CD', 'TO', 'CD', 'VBN', '.', 'DT', 'NN', 'CC', 'NNS', 'NNS', 'RB', 'RB', '.', 'NNP', 'NNP', 'CD', 'TO', 'NNP', 'CD', ',', 'NNP', 'NN', 'NN', 'VBD', 'CD', 'TO', 'CD', 'NNP', 'CC', 'VBD', 'VBD', 'VBD', 'CD', 'TO', 'CD', 'NNP', ',', 'IN', 'NNP', 'NN', 'VBD', 'CD', 'TO', 'CD', 'CD', ',', 'NNP', 'NNP', 'NNP', 'NNP', 'TO', 'CD', 'CD', 'CC', 'NNP', 'NN', 'VBZ', 'TO', 'CD', 'CD', '.', 'NNP', 'NNP', 'CD', 'TO', 'CD', 'VBN', 'IN', 'CD', 'CD', 'NNS', 'VBD', 'NNS', '.', 'JJ', 'IN', 'DT', 'NN', 'VBD', 'IN', 'NNS', 'VBD', 'TO', 'VB', 'DT', 'NN', 'POS', 'JJ', 'NN', ':', 'NNP', 'VBZ', 'DT', 'NN', 'IN', 'NN', 'NN', 'CC', 'VBZ', 'NNP', 'NN', '.', 'NNP', 'NNP', 'NNP', 'NNP', 'CD', 'VBZ', 'TO', 'CD', 'CD', '.', 'DT', 'NN', 'POS', 'NN', 'TO', 'VB', 'DT', 'CD', 'NN', 'NN', 'IN', 'PRP$', 'JJ', 'NN', 'IN', 'IN', '$', 'CD', 'CD', 'VBZ', 'JJ', 'NNS', 'TO', 'VB', 'VB', 'TO', 'VB', 'PRP$', 'NNS', 'IN', 'NNP', 'NNP', 'POS', 'NN', 'NN', '.', 'NNP', 'NNP', 'CD', 'TO', 'CD', '.', 'DT', 'NN', 'NN', 'IN', 'JJ', 'NN', 'IN', 'NN', 'NN', 'MD', 'VB', '``', 'RB', \"''\", 'RB', 'IN', 'DT', 'NN', 'NN', '.', 'NNS', 'VBD', 'RB', 'CD', 'TO', 'CD', 'VBN', '.', 'DT', 'NN', 'CC', 'NN', 'NN', 'VB', 'DT', 'NN', 'TO', 'VB', 'NN', 'DT', 'JJ', 'NN', 'IN', 'NN', 'IN', 'JJ', 'NNS', '.', 'DT', 'NNP', 'NN', 'NN', 'NN', 'NN', 'NN', 'VBD', 'CD', 'TO', 'NNP', '.', 'CD', 'CD', 'CD', 'NNS', '.', 'JJ', 'NNP', 'NNP', 'NN', 'CD', 'TO', 'CD', 'NN', '.', 'PRP$', 'JJ', 'NN', 'IN', 'DT', 'NNP', 'NN', 'NN', 'IN', 'CD', 'NN', 'IN', 'DT', 'NN', 'NN', '.', 'NNP', 'NNP', 'VBD', 'PRP', 'MD', 'NNP', 'PRP$', 'NNP', 'NNP', 'NNP', 'NNP', 'NN', 'IN', 'DT', 'RB', 'VBN', 'NN', 'IN', 'DT', 'NN', 'IN', 'NNS', 'IN', 'DT', 'NN', 'IN', 'JJ', 'NNS', '.', 'DT', 'NN', 'VBD', 'DT', 'NN', 'VBZ', 'RB', 'VB', 'TO', 'VB', 'DT', 'NN', ',', 'NNP', 'CC', 'NNP', ',', 'IN', 'PRP$', 'JJ', 'NNS', '.', 'NNP', ',', 'DT', 'JJ', 'NNP', 'NNP', 'NNP', 'NN', ',', 'VBD', 'DT', 'NN', 'MD', 'NN', 'PRP$', 'NNS', 'IN', 'JJ', 'NNS', 'IN', 'DT', 'NN', 'NN', '.', 'NNP', 'NNP', 'NNS', 'MD', 'VB', 'NN', 'CC', 'NNS', 'IN', 'DT', 'JJ', 'NN', 'NNP', 'TO', 'DT', 'NN', 'POS', 'NN', '.', 'NNP', 'MD', 'VB', 'CD', 'JJ', 'CD', 'CD', 'NN', 'NNS', 'IN', 'DT', 'NN', 'VBZ', 'NNP', 'IN', 'JJ', 'CD', ',', 'DT', 'NN', 'VBD', '.', 'PRP', 'VBZ', 'VBN', 'IN', 'JJ', 'NNS', 'NN', 'TO', 'DT', 'NNS', 'IN', 'JJ', 'NN', ':', 'IN', 'CD', 'CD', 'IN', 'NNP', 'CD', ':', 'MD', 'VB', 'VBN', 'IN', 'DT', 'JJ', 'NN', 'IN', 'CD', '.', 'NNP', ',', 'DT', 'NN', 'NN', ',', 'VBZ', 'CD', 'CD', 'NN', 'IN', 'DT', 'JJ', 'NN', '.', 'NNP', 'NNP', 'NNP', ',', 'NNP', 'POS', 'NN', 'NN', 'NN', ',', 'NNP', 'NNP', 'IN', 'DT', 'NN', 'NN', 'POS', 'NN', 'NNS', 'IN', 'DT', 'JJ', 'NN', 'VBD', 'IN', 'NNP', 'CD', 'VBD', 'CD', 'NN', 'TO', 'CD', 'CD', 'NNS', '-LRB-', '$', 'CD', 'CD', '-RRB-', 'IN', 'CD', 'CD', 'NNS', 'DT', 'NN', 'NN', '.', 'NNP', 'NN', 'JJ', 'JJ', 'NNS', 'IN', 'DT', 'NNP', 'IN', 'NNP', 'JJ', 'NN', '.', 'NNS', 'VBD', 'CD', 'NN', 'TO', 'CD', 'CD', 'NNS', ',', 'CC', 'CD', 'NN', 'DT', 'NN', ',', 'IN', 'CD', 'CD', 'NNS', ',', 'CC', 'CD', 'NN', 'DT', 'NN', '.', 'NNS', 'CD', 'CD', 'CD', 'NNS', ',', 'VBG', 'CD', 'NN', 'IN', 'CD', 'CD', 'NNS', 'IN', 'DT', 'JJ', 'NN', '.', 'NNP', 'NNP', 'DT', 'JJ', 'JJ', 'NN', 'NN', ',', 'NNS', '.', 'NNP', 'NNP', ',', 'NN', 'NN', 'NN', 'CC', 'NN', 'JJ', 'NN', 'IN', 'NNP', ',', 'VBD', ',', '``', 'DT', 'NN', 'VBZ', 'VBZ', 'DT', 'NN', 'NN', 'IN', 'NN', 'IN', 'NN', 'IN', 'DT', 'NN', 'NN', 'NN', 'NNP', 'CD', ',', 'IN', 'DT', 'JJ', 'CC', 'JJ', 'NN', 'IN', 'DT', 'NN', 'IN', 'JJ', 'NNP', '.', '``', 'PRP', 'MD', 'VB', 'VBD', 'IN', 'DT', 'NN', 'IN', 'JJ', 'NN', 'VBZ', 'VBN', 'NNP', 'NN', ',', \"''\", 'PRP', 'VBD', '.', 'NNP', 'NNP', 'NNP', ',', 'NNP', 'NNP', ',', 'VBD', 'PRP', 'VBD', 'TO', 'VB', 'DT', 'NNS', 'IN', 'NNP', 'NNP', 'NNP', 'PRP', 'VBZ', 'RB', 'RB', 'PRP$', 'IN', 'DT', 'NN', 'NN', '.', 'NNP', ',', 'WDT', 'VBZ', 'CD', 'NN', 'IN', 'NN', 'POS', 'CD', 'CD', 'NNS', 'NN', ',', 'VBD', 'PRP', 'MD', 'VB', 'DT', 'NN', 'IN', 'DT', 'JJ', 'NN', 'NN', 'IN', 'DT', 'JJ', 'JJ', 'NN', 'PRP', 'VBZ', 'RB', 'RB', 'PRP$', '.', 'RB', 'RB', 'RB', 'JJ', 'NNS', 'CC', 'NNS', 'VBP', 'VBN', 'VBN', 'TO', 'NN', 'IN', 'DT', 'NN', ',', 'NNP', 'MD', 'VB', 'IN', 'CD', 'CD', 'CC', 'CD', 'CD', 'VBN', 'NNS', ',', 'DT', 'NN', 'NN', 'CD', '.', 'IN', 'NNP', 'JJ', 'NN', 'NN', ',', 'JJ', 'NNP', '$', 'CD', 'TO', '$', 'NN', '.', 'DT', 'NN', 'NN', ',', 'WDT', 'MD', 'VB', 'DT', 'NN', 'NN', 'IN', '$', 'CD', 'DT', 'NN', ',', 'MD', 'VB', 'VBN', 'IN', 'NN', 'NN', 'IN', 'DT', 'NN', 'IN', 'CD', 'JJ', 'NNS', 'IN', 'DT', 'NN', '.', 'NNP', 'JJ', 'NNP', 'NNP', 'NN', ',', 'IN', 'DT', 'NN', ',', 'NNP', 'NN', ',', 'DT', 'NN', 'NN', ',', 'NN', 'CC', 'NN', 'NN', 'WDT', 'NNP', 'RB', 'NNP', '.', 'NNP', 'NNP', 'CC', 'VBZ', 'NN', 'CC', 'NNP', 'NNS', 'CC', 'NNP', 'NN', 'CC', 'NN', 'NNS', '.', 'NNP', 'NNP', ',', 'RB', 'IN', 'DT', 'NN', 'NN', 'CC', 'JJ', 'NNP', 'NN', ',', 'VBD', 'PRP', 'VBZ', 'TO', 'VB', 'IN', 'JJ', 'JJ', 'NNS', 'IN', 'JJ', 'NN', 'MD', 'VB', 'VB', 'IN', 'JJ', 'NN', 'POS', '$', 'CD', 'CD', '.', 'DT', 'NNP', ',', 'NNP', 'NN', 'RB', 'VBD', 'IN', 'JJ', 'NNS', 'IN', 'JJ', 'NN', 'MD', 'VB', 'RB', 'IN', 'JJ', 'NN', 'POS', '$', 'CD', 'CD', '.', 'IN', 'NN', 'POS', 'NNS', 'NNS', 'DT', 'JJ', 'NN', 'IN', '$', 'CD', 'CD', 'IN', 'NN', 'CC', 'JJ', 'NNS', '.', 'CC', 'DT', 'NN', 'NNS', 'CC', 'NN', 'NN', 'VBZ', 'IN', 'NN', 'IN', 'DT', 'NN', 'NN', 'NNP', 'CD', 'MD', 'VB', 'IN', 'JJ', 'NN', 'POS', 'NN', 'IN', '$', 'CD', 'CD', ',', 'CC', '$', 'CD', 'DT', 'NN', ',', 'VBN', 'RB', 'IN', '$', 'CD', 'CD', 'IN', 'NNS', 'IN', 'NNS', 'IN', 'VBN', 'NN', '.', 'NNP', 'NNP', ',', 'DT', 'NN', 'IN', 'NNP', 'NNP', 'NNP', 'IN', 'NNP', ',', 'VBD', 'NNP', 'POS', 'NNP', 'JJ', 'VBP', 'VBN', 'IN', 'DT', 'NN', 'IN', 'DT', 'NNP', 'NNP', 'NN', 'IN', 'NNP', ',', 'NN', 'IN', 'DT', 'NN', 'NN', ',', 'IN', 'VBZ', 'JJ', 'NN', 'IN', 'NN', 'POS', 'NN', 'NNP', 'NN', '.', 'NNP', 'NNP', ',', 'NNP', 'NNP', ',', 'VBD', 'JJ', 'NNS', 'VBD', 'RB', 'RB', 'VBG', 'DT', 'JJ', 'JJ', 'NN', 'DT', 'NN', 'NN', '.', 'DT', 'NN', 'CC', 'JJ', 'NNS', 'NN', 'VBD', 'NNS', 'IN', 'DT', 'NN', 'VBD', 'CD', 'NN', 'TO', '$', 'CD', 'CD', ',', 'CC', '$', 'CD', 'DT', 'NN', ',', 'VBN', 'IN', '$', 'CD', 'CD', ',', 'CC', '$', 'CD', 'DT', 'NN', ',', 'DT', 'NN', 'NN', '.', 'DT', 'JJ', 'NN', 'DT', 'CD', 'NN', 'NN', 'IN', 'NN', 'IN', 'PRP$', 'NN', 'NNS', ',', 'CC', 'DT', 'CD', 'NN', 'NN', 'IN', 'NN', 'IN', 'NN', 'NN', '.', 'NNP', 'VBD', 'JJ', 'NN', 'NNS', 'VBD', '$', 'CD', 'CD', ',', 'VBN', 'IN', '$', 'CD', 'CD', 'DT', 'NN', 'VBD', '.', 'PRP', 'VBD', 'NN', 'NNS', 'VBD', 'DT', '$', 'CD', 'CD', 'NN', 'IN', 'NNP', 'NNP', '.', 'PRP', 'RB', 'VBN', 'DT', 'NNS', 'IN', 'DT', 'NNP', 'CD', 'NNP', 'IN', 'NNP', 'MD', 'VB', 'DT', 'JJR', 'IN', '$', 'CD', 'CD', ',', 'CC', 'MD', 'VB', 'VBN', 'IN', 'JJ', 'NNS', '.', 'NNP', 'NNP', 'NNP', ',', 'NNP', 'NNP', ',', 'NNP', ',', 'VBG', 'DT', 'JJ', 'NN', ',', 'VBD', 'PRP', 'VBZ', 'VBG', 'JJ', 'JJ', 'NNS', 'CC', 'NNP', 'IN', 'NN', 'NNS', '.', 'DT', 'NN', 'VBD', 'IN', 'RB', 'IN', 'NN', 'NNS', 'PRP', 'VBZ', 'RB', 'IN', 'NN', 'IN', 'NN', 'IN', 'PRP', 'JJ', '$', 'CD', 'CD', 'IN', 'VBG', 'NN', '.', 'NNP', 'NNP', 'NN', 'NNS', 'CC', 'NNP', 'NN', 'NNS', 'CC', 'NN', 'NN', 'NN', '.', 'NNP', 'VBD', 'PRP', 'VBD', 'DT', 'NN', 'IN', '$', 'NNP', ',', 'CC', 'CD', 'CD', 'DT', 'NN', ',', 'IN', 'DT', 'JJ', 'NN', ',', 'VBN', 'IN', 'DT', 'JJ', 'NN', 'IN', '$', 'NNP', ',', 'CC', 'CD', 'NNS', 'DT', 'NN', '.', 'NNS', 'VBD', 'TO', '$', 'CD', 'CD', 'IN', '$', 'CD', 'CD', '.', 'IN', 'DT', 'CD', 'NNS', ',', 'DT', 'NN', 'VBD', 'DT', 'JJ', 'NN', 'IN', '$', 'CD', ',', 'CC', 'CD', 'CD', 'DT', 'NN', ',', 'VBN', 'IN', 'JJ', 'JJ', 'NN', 'IN', '$', 'CD', ',', 'CC', 'CD', 'CD', 'DT', 'NN', '.', 'NNS', 'VBD', 'TO', '$', 'CD', 'CD', 'IN', '$', 'CD', 'CD', '.', 'NNP', 'NNP', 'NNP', 'VBD', 'PRP', 'VBN', 'NNP', 'NNS', 'IN', 'PRP$', 'JJ', 'NN', 'TO', 'DT', 'NN', 'DT', 'NNS', ',', 'IN', '$', 'CD', 'CD', ',', 'CC', '$', 'CD', 'DT', 'NN', '.', 'DT', 'NN', 'NN', 'CD', 'NN', 'IN', 'NNP', 'POS', 'NN', 'NN', '.', 'DT', 'NNP', 'NNP', ',', 'WDT', 'VBZ', 'DT', 'JJ', 'IN', 'NNP', 'NNS', ',', 'JJ', 'DT', 'JJ', 'NN', 'CC', 'NN', 'NN', ',', 'RB', 'VBD', 'TO', 'NNP', 'NNP', '$', 'CD', '.', 'DT', 'NN', 'VBZ', 'VBN', 'IN', 'NNS', 'IN', 'NNP', 'JJ', 'NN', 'IN', '$', 'CD', 'DT', 'NN', 'NN', 'PRP$', 'JJ', 'NN', '.', 'DT', 'NN', 'MD', 'VB', 'VBN', 'IN', 'DT', 'NN', 'NN', 'IN', 'DT', 'JJ', 'NN', 'IN', 'DT', 'NN', 'IN', 'DT', 'NN', 'NN', 'TO', '$', 'CD', 'DT', 'NN', '.', 'DT', 'NN', 'IN', 'NNS', 'TO', 'DT', 'NN', 'PRP', 'RB', 'IN', 'DT', 'JJ', 'NN', 'IN', 'NNP', 'NNS', 'IN', 'NNP', 'NN', 'TO', 'NNP', 'NNP', 'NN', 'NN', 'IN', 'NNP', ',', 'NNP', 'CC', 'DT', 'JJ', 'NN', 'NNS', 'VBP', 'VBN', 'NN', 'POS', 'NN', 'NN', 'TO', '$', 'CD', 'CD', ',', 'VBD', 'NNP', 'NNP', ',', 'NN', 'NN', 'NN', 'IN', 'NNP', ',', 'NNP', 'NNP', '.', 'NNP', 'NNP', 'NNP', ',', 'DT', 'JJ', ',', 'NNP', 'JJ', 'NN', ',', 'VBD', 'PRP$', 'NN', 'IN', 'NNP', 'NN', 'NNP', 'NNP', 'POS', 'NNP', 'TO', '$', 'CD', 'DT', 'NN', ',', 'CC', '$', 'CD', 'CD', ',', 'IN', '$', 'CD', 'DT', 'NN', ',', 'CC', '$', 'CD', 'CD', ',', 'IN', 'DT', 'NN', 'VBD', 'PRP', 'MD', 'VB', 'VB', 'TO', 'NNP', 'NNP', 'POS', 'NN', 'NN', '.', 'DT', 'JJ', 'NN', 'VBD', 'RB', 'VBN', '.', 'NNP', 'POS', 'NNP', ',', 'NNP', 'NNP', ',', 'VBD', 'DT', 'NN', 'NN', 'IN', '``', 'JJ', 'NN', 'TO', 'VB', '.', \"''\", 'IN', 'NNP', 'IN', 'NNP', 'NN', ',', 'NNP', 'POS', 'NNS', 'VBD', 'RB', 'CD', 'CD', '-LRB-', 'JJ', 'NNP', '-RRB-', ',', 'IN', 'NNP', 'NNP', '-LRB-', '$', 'CD', '-RRB-', '.', 'DT', 'NNP', 'NN', 'VBZ', 'VBD', 'IN', 'JJR', 'IN', 'CD', 'NN', 'IN', 'NNP', 'POS', 'NNS', ',', 'CC', 'PRP', 'VBZ', 'VBN', 'IN', 'NN', 'IN', 'NNP', 'CD', '.', 'DT', 'NN', 'IN', 'NNP', 'NNP', 'POS', 'NNP', 'NNP', 'POS', 'NNP', 'NN', 'TO', 'CD', 'NNS', '.', 'IN', 'CD', 'NN', 'IN', 'NNP', 'POS', 'NNS', 'RB', 'VBZ', 'NN', 'IN', 'DT', 'NNP', '.', 'NNP', 'NNP', 'NNS', 'NNP', 'VBD', 'JJ', 'NNS', 'IN', 'DT', 'NN', 'IN', 'CD', 'NN', 'NNP', 'NNS', 'IN', 'NNP', 'VBP', 'VBN', 'NN', '.', 'IN', 'NN', ',', 'NNP', 'NNP', 'VBD', 'IN', 'NNP', 'NNP', 'NN', ',', 'DT', 'NNP', 'NNP', 'IN', 'VBZ', 'NN', 'NNP', 'POS', 'NNP', 'NNP', 'NNS', ',', 'VBN', 'TO', 'VB', 'IN', 'NN', '.', 'NN', ',', 'NNP', 'VBD', 'DT', 'JJ', 'NN', 'VBZ', 'VBN', 'VBN', 'IN', 'NNP', 'IN', 'MD', 'VB', 'IN', 'NNP', 'POS', 'NNP', 'NN', '.', 'NNP', 'VBD', 'PRP', 'MD', 'VB', 'DT', 'CD', 'NN', 'NN', 'IN', 'DT', 'JJ', 'NN', '.', 'NNP', 'VBD', 'DT', 'NNP', ',', 'DT', 'NN', 'NNP', 'IN', 'VBD', 'JJ', 'TO', 'VB', 'NN', 'DT', 'NN', ',', 'MD', 'VB', 'NN', 'IN', 'NNP', '.', 'DT', 'JJ', 'NN', 'VBZ', 'RB', 'VBN', 'TO', 'VB', 'NN', 'JJ', 'NN', 'NN', 'CC', 'JJ', 'IN', 'CD', '.', 'NNP', 'VBD', 'VBN', 'DT', 'NNP', 'TO', 'VB', 'JJ', 'NN', 'NN', '.', 'DT', 'NN', 'JJ', 'NN', 'RB', 'MD', 'VB', 'VBN', 'IN', 'DT', 'NNP', 'NNP', ',', 'CC', 'MD', 'VB', 'VBN', 'NNS', ',', 'NNP', 'VBD', '.', 'NNP', 'NNP', 'NNS', 'CC', 'NNP', 'NNP', 'VBD', 'DT', '$', 'CD', 'CD', 'NN', 'IN', 'PRP', 'VBD', 'DT', 'JJ', 'NN', 'IN', '$', 'CD', 'CD', ',', 'CC', '$', 'CD', 'DT', 'NN', '.', 'DT', 'NNP', 'NNP', ',', 'NNP', ',', 'NNP', 'VBD', 'JJ', 'NN', 'IN', '$', 'NNP', ',', 'CC', 'CD', 'NNS', 'DT', 'NN', ',', 'DT', 'NN', 'NN', '.', 'DT', 'NN', 'IN', 'DT', 'NN', 'NN', 'VBZ', 'DT', '$', 'CD', 'CD', 'CD', 'IN', 'JJ', 'NN', 'IN', 'DT', 'NN', 'NNP', 'NN', 'NNP', ',', 'IN', 'DT', 'NN', 'VBD', 'VBD', 'VBN', 'DT', 'JJ', 'NN', 'IN', 'NNS', '.', 'DT', 'NN', 'VBD', 'DT', 'JJ', 'NN', 'MD', 'VB', 'VB', 'DT', 'JJ', 'NNS', 'IN', 'DT', 'NN', '.', 'NNP', 'NN', 'RB', 'VBD', '$', 'CD', 'CD', 'TO', 'NNP', 'NN', 'NNS', 'CC', 'VBD', '$', 'CD', 'CD', 'IN', 'NN', 'MD', '.', 'DT', 'NN', 'VBD', 'IN', '``', 'IN', 'JJ', 'NNS', 'CC', 'NN', 'DT', 'JJ', 'NN', 'IN', 'NN', 'NNS', ',', 'DT', 'NNP', 'VBZ', 'TO', 'VB', 'IN', 'JJ', 'NNS', 'IN', 'CD', '.', \"''\", 'NNP', 'NN', 'VBZ', 'VBZ', 'VBN', 'VBN', 'IN', 'NNS', '.', 'JJ', 'NNS', 'NNS', 'TO', 'VB', ':', 'PRP', 'VBD', '$', 'CD', 'CD', 'IN', 'DT', 'JJ', 'NN', 'IN', '$', 'CD', 'CD', 'DT', 'NN', 'NN', '.', 'DT', 'NNP', 'VBZ', 'NNS', 'IN', '$', 'CD', 'CD', '.', 'NN', 'IN', 'NNP', 'NNP', 'NNP', 'VBD', 'PRP', 'VBD', 'PRP$', 'NN', 'IN', 'NNP', 'NNP', 'NNP', 'NNP', 'IN', 'IN', '$', 'CD', 'CD', '.', 'NN', 'IN', 'NNP', ',', 'WDT', 'RB', 'VBZ', 'CD', 'NNS', 'CC', '$', 'CD', 'CD', 'IN', 'NNS', ',', 'VBD', 'DT', 'NN', 'TO', 'VB', 'DT', 'NNP', ',', 'NNP', ',', 'NNP', 'VBG', 'NN', 'IN', 'NNP', '.', 'NNP', 'NN', 'VBZ', '$', 'CD', 'CD', 'IN', 'NNS', 'CC', 'CD', 'NNS', '.', 'DT', 'NNP', 'NN', 'NNP', 'NNS', 'MD', 'VB', 'TO', 'VB', 'IN', 'PRP$', 'JJ', 'NNS', 'IN', 'JJ', 'CD', ',', 'IN', 'DT', 'MD', 'NNP', 'DT', 'NN', 'IN', 'NNP', 'NN', '.', 'NNP', ',', 'NNP', 'NN', 'IN', 'NNP', 'VBD', 'PRP', 'MD', 'VB', 'DT', 'CD', 'NN', 'NNS', 'IN', 'DT', 'JJ', 'NNP', 'JJ', 'NN', 'NN', '.', 'NN', 'IN', 'NNP', 'VBD', 'DT', 'IN', 'DT', 'NNS', 'MD', 'VB', 'JJ', 'NNS', 'IN', 'JJ', 'IN', 'NNP', '.', 'CC', 'PRP', 'VBD', 'IN', 'NNP', 'NN', 'TO', 'VB', 'NNS', 'RB', 'NN', 'IN', 'DT', 'NN', 'MD', 'VB', 'JJ', 'IN', 'NNP', 'POS', 'JJ', 'NNS', 'IN', 'CD', 'IN', '$', 'CD', 'CD', 'TO', '$', 'CD', 'CD', ',', 'CC', 'CD', 'NNS', 'TO', 'CD', 'CD', 'DT', 'NN', '.', 'NNP', 'NNP', 'NNP', ',', 'DT', 'RB', 'NNP', 'NNP', 'NN', 'JJ', 'NN', 'NN', 'IN', '$', 'CD', 'DT', 'NN', 'IN', 'DT', 'JJ', 'NN', ',', 'VBD', 'DT', 'NN', 'CD', 'NN', 'NN', 'WDT', 'VBZ', 'RB', 'CD', 'NNS', 'DT', 'NN', 'IN', 'JJ', 'NN', '.', 'IN', 'DT', 'NN', ',', 'JJ', 'NNS', ',', 'WP', 'VBP', 'VBN', 'IN', '$', 'CD', 'CD', ',', 'MD', 'VB', 'IN', '$', 'CD', 'CD', ',', 'CC', 'CD', 'NNS', 'IN', 'DT', 'NN', 'PRP', 'VBP', 'VBN', '.', 'IN', 'NN', ',', 'PRP', 'MD', 'VB', 'NN', 'IN', 'DT', 'NNP', 'NN', ',', 'WDT', 'MD', 'VB', 'VBN', 'NNP', 'NNP', 'NNP', '.', 'IN', 'JJ', 'NNS', ',', 'IN', '$', 'NNP', 'MD', 'VB', 'VBN', 'IN', 'DT', 'CD', 'CD', 'JJ', 'NNS', 'NN', '.', 'DT', 'NNP', ',', 'NNP', ',', 'NN', 'POS', 'NN', 'VBD', 'DT', 'NN', 'IN', 'CD', 'IN', 'PRP', 'NNP', 'PRP$', 'NNP', 'NNP', 'NN', ',', 'CC', 'DT', 'NN', 'VBD', 'NN', 'IN', 'NNP', 'CC', 'DT', 'NN', 'POS', 'NN', 'NN', '.', 'CC', 'NNP', 'NNP', 'NN', 'IN', 'DT', 'NN', 'IN', 'DT', 'NNP', 'NNP', 'NNP', ',', 'JJ', 'NNS', 'CD', '$', 'CD', 'CD', 'IN', 'CD', '.', 'CC', 'IN', 'DT', 'NN', 'NNP', ',', 'NNP', 'VBD', 'TO', 'VB', 'RP', 'IN', 'DT', 'NN', 'CC', 'NNP', 'IN', 'NNP', 'NN', 'IN', 'NNP', 'CD', '.', 'DT', 'NN', 'VBD', 'VBN', 'VBN', 'IN', 'JJ', 'NNS', 'IN', 'JJ', 'NN', 'NNP', 'IN', 'NNP', 'NNP', 'CC', 'MD', 'VB', 'VBN', 'IN', 'DT', 'NN', '.', 'NNP', 'VBD', 'DT', 'NN', 'IN', 'DT', 'NNP', 'CC', 'VBD', 'NNS', 'VBD', 'VBN', '.', 'DT', 'NNP', 'NN', ',', 'JJ', 'NNS', 'IN', 'DT', 'NNP', 'NNP', ',', 'VBN', 'DT', 'JJ', 'NNP', 'CC', 'VBG', 'NNP', 'IN', '``', 'NN', 'IN', '.', \"''\", 'IN', 'PRP', 'NNP', 'NN', 'IN', 'DT', 'NN', 'POS', 'NNP', 'CD', 'NNS', ',', 'NNP', 'NN', 'IN', 'VBN', 'NNP', 'JJ', 'NN', 'TO', 'DT', 'NN', 'MD', 'NN', 'DT', 'NN', '.', 'PRP', 'VBD', 'NNP', 'NN', 'MD', 'VB', 'VBN', 'TO', 'JJ', 'DT', 'NN', '.', 'DT', 'NNP', 'NNP', 'NN', 'VBD', 'DT', 'JJ', 'NN', 'IN', '``', 'NNP', \"''\", 'RB', 'NNP', 'IN', 'NN', 'IN', 'NNP', 'JJ', 'NN', 'IN', 'DT', 'NN', '.', 'DT', 'NNP', 'JJ', 'NN', ',', 'IN', 'DT', 'NN', 'IN', 'NNP', ',', 'VBD', 'NNP', 'NNP', 'VBD', 'VBD', 'DT', 'JJ', 'NN', 'IN', 'DT', 'NNP', 'NN', '.', 'NNP', 'NN', 'NNP', 'NNP', 'VBD', 'DT', 'NNS', 'IN', 'PRP$', 'NN', 'DT', '``', 'JJ', 'NN', ',', \"''\", 'VBD', 'IN', 'JJ', 'IN', 'NNS', 'VBG', 'IN', 'JJ', 'NNP', 'VBD', 'VBG', 'NN', 'IN', '``', 'DT', 'NN', 'IN', 'NN', '.', \"''\", 'DT', 'NNP', 'NN', 'NN', ',', 'IN', 'NNP', 'IN', 'NN', 'IN', 'JJ', 'NNS', ',', 'RB', 'VBD', 'NNP', 'NNP', 'MD', 'VB', 'NNP', 'POS', 'NN', 'NN', '.', 'NNS', 'IN', 'NNP', 'VBD', 'NNP', 'TO', 'VBD', 'IN', 'DT', 'NNP', 'NNP', 'NN', 'VBD', 'NNP', 'NNS', '.', 'DT', 'NN', 'IN', 'NNP', 'NN', 'VBD', 'VBN', 'JJ', 'NN', 'IN', 'DT', 'NN', 'NN', 'IN', 'NNP', 'TO', 'NNP', 'NNP', '.', 'RB', ',', 'DT', 'NN', 'NN', 'IN', 'DT', 'JJ', 'NN', 'VBD', 'DT', 'NN', 'IN', 'DT', 'NNP', 'NN', 'MD', 'VB', 'JJ', 'TO', 'NN', '.', 'NNP', 'NNS', 'NN', 'TO', 'VB', 'DT', 'NN', 'IN', 'JJ', 'NN', 'IN', 'NN', 'NNS', 'JJ', 'NNS', '.', 'DT', 'NN', 'NNP', 'NNP', 'VBD', 'DT', 'NN', '``', 'MD', 'VB', 'VBN', 'VB', '.', \"''\", 'IN', 'NNS', 'VBP', 'JJ', 'NNS', 'MD', 'VB', 'VB', 'NNS', 'IN', 'NNP', 'POS', ',', 'NNP', 'NN', 'DT', 'NN', '.', 'NNP', 'NNP', 'IN', 'NNP', 'NNP', 'TO', 'VB', 'RB', 'DT', 'NN', 'IN', 'MD', 'VB', 'IN', 'NNP', 'POS', 'JJ', 'NN', 'IN', 'DT', 'NN', 'IN', 'NN', 'IN', 'JJ', 'TO', 'VB', 'RB', '.', 'DT', 'NNP', 'POS', 'NN', 'VBZ', 'VBN', 'IN', 'NN', 'NNS', 'CC', 'NNS', 'IN', 'RB', 'NNS', 'IN', 'DT', 'NN', 'POS', 'NN', 'TO', 'VB', 'JJ', 'NNS', '.', 'JJ', 'NNP', 'NNP', 'JJ', 'NNS', 'IN', 'DT', 'NN', 'IN', 'JJR', 'IN', '$', 'CD', 'CD', 'IN', 'JJ', 'NN', 'IN', 'NNP', '.', 'DT', 'NN', 'VBZ', 'RB', 'IN', '$', 'CD', 'CD', 'IN', 'NN', 'CC', 'JJ', 'NN', 'IN', 'NN', 'CD', 'IN', 'NN', 'IN', 'JJ', 'JJ', 'NN', 'CC', 'NN', '.', 'NNP', 'NNP', 'VBG', 'NNP', 'NNP', 'NNP', 'NNP', 'IN', 'VBG', 'IN', 'JJ', 'IN', 'NNP', 'NNP', ',', 'NNP', 'NNP', 'NNP', 'NN', 'IN', 'DT', 'NNP', 'POS', 'NN', 'IN', 'NNP', '.', 'NNP', 'JJ', 'NNP', 'VBD', 'VBN', 'IN', 'NNP', '.', 'NNP', 'NNS', 'VBD', 'NNP', 'VBD', 'VBG', 'TO', 'NNP', 'NN', 'NN', 'POS', 'NNS', 'IN', 'NN', '.', 'NNP', 'IN', 'NNP', 'NNP', 'DT', 'NNP', 'NNP', 'NNP', 'NN', ',', 'CC', 'DT', 'NNP', 'NNP', 'NN', 'VBD', 'NN', 'IN', 'DT', 'NNP', 'TO', 'NNP', 'DT', 'NNP', 'IN', 'CD', 'NNP', 'IN', 'NNP', 'POS', 'NN', 'IN', 'NNP', '.', 'RB', 'IN', 'NNP', ',', 'DT', 'NNP', 'NN', 'NN', 'TO', 'VB', 'VB', 'IN', 'DT', 'NNP', 'NNP', 'DT', 'NN', 'TO', 'VB', 'NNS', 'NNS', '.', 'NNP', 'VBD', 'CD', 'NNS', 'IN', 'NN', 'NNS', 'IN', 'JJ', 'NNS', 'IN', 'NNP', ',', 'CC', 'VBN', 'VBN', 'TO', 'VB', 'JJ', 'IN', 'NNP', 'NNS', 'NN', 'IN', 'NNP', 'POS', 'NNS', 'IN', 'JJ', 'NNS', 'IN', 'NNP', '.', 'NNP', 'POS', 'NNP', 'VBD', 'TO', 'DT', 'JJ', 'NN', 'IN', 'NNP', '``', 'JJ', \"''\", 'IN', 'NNP', 'POS', 'JJ', 'NN', '.', 'NNP', 'POS', 'NNP', 'NNP', 'VBD', 'DT', 'NN', 'POS', 'NN', 'VBD', 'VBD', 'CC', 'DT', 'NN', 'VBD', 'VBG', 'RB', '.', 'IN', 'PRP$', 'JJ', 'NN', 'IN', 'DT', 'NN', 'NN', ',', 'NNP', 'NNP', 'TO', 'VB', 'PRP$', 'NN', 'IN', 'NNP', 'CC', 'NNP', 'NNS', 'NNS', 'IN', 'NNP', 'NN', 'MD', 'VB', 'PRP', 'JJ', 'NN', '.', 'NNP', 'POS', 'NNP', 'NNP', 'DT', 'JJ', 'NN', 'NN', 'IN', 'DT', 'NN', 'POS', 'NNP', 'NN', ',', 'JJ', 'DT', 'NN', 'IN', 'MD', 'VB', 'VBN', 'IN', 'PRP$', 'NN', 'NN', '.', 'DT', 'NN', 'NN', 'POS', 'NNS', 'VBD', 'DT', 'NNP', ',', 'CD', 'CD', 'JJ', 'IN', 'DT', 'NN', 'IN', 'NN', 'POS', 'NN', 'NNP', ',', 'VBD', 'NN', '.', 'DT', 'NNP', 'NNP', 'VBD', 'DT', 'NNP', 'NNS', 'NN', 'NN', 'IN', 'NNP', 'CC', 'JJ', 'NN', 'NNP', 'MD', 'VB', 'VB', 'IN', 'DT', 'NNP', 'IN', 'NNP', '.', 'DT', 'NN', 'VBD', 'VBN', 'IN', 'DT', 'NNP', 'VBG', 'NN', 'DT', 'NNS', 'TO', 'VB', 'VBN', 'IN', 'DT', 'NNP', 'NN', 'NNP', '.', 'NNP', 'NNP', 'DT', 'NN', 'IN', 'NN', 'NNS', 'TO', 'VB', 'VB', '``', 'JJ', 'NNS', 'TO', 'VB', 'NN', \"''\", 'IN', 'DT', 'NNP', 'NNS', 'IN', 'NNP', 'NNP', '.', 'DT', 'NN', 'POS', 'NN', 'VBZ', 'DT', 'NN', 'TO', 'VB', 'VB', 'DT', 'JJ', 'NNP', 'NNP', 'NN', '.', 'NNP', 'NNP', 'VBZ', 'NNP', 'JJ', 'NN', 'NNS', ',', 'IN', 'DT', 'NNP', 'CC', 'NNP', ',', 'TO', 'VB', 'VB', 'PRP', 'VBD', 'VBN', 'IN', 'DT', 'NN', 'VBD', 'VBN', 'JJ', 'NNP', 'DT', 'NN', 'IN', 'NNP', 'IN', 'NNP', 'JJ', 'NNP', ',', 'IN', 'CD', 'NNS', '.', 'DT', 'NN', 'VBZ', 'VBG', 'TO', 'VB', 'IN', 'VBZ', 'CC', 'NNP', 'NNP', 'VBD', 'DT', 'NNP', 'IN', 'DT', 'NN', 'NN', '.', 'NNP', ':', 'NNP', 'NNP', 'NNP', ',', 'CD', ',', 'NNP', 'NN', 'CC', 'NN', 'IN', 'NNS', 'CC', 'NNP', 'NNP', 'IN', 'NNP', 'NNP', ',', 'NNP', ',', 'IN', 'NNP', 'NNP', 'NNP', ',', 'IN', 'DT', 'JJ', 'NNP', 'NN', '.', 'NNP', 'NNP', 'VBD', 'PRP$', 'JJ', 'NN', 'IN', 'NNP', 'NNP', 'NNP', 'NNP', ',', 'IN', 'NNP', 'NNS', 'NNP', 'NNP', 'NN', 'IN', 'DT', 'JJ', 'NNS', 'NN', 'IN', 'DT', 'NNP', 'NN', '.', 'NNP', 'NNP', 'NNP', 'NNP', ',', 'VBD', 'IN', 'DT', 'NNP', 'NN', ',', 'MD', 'VBN', 'VB', 'NN', 'IN', 'DT', 'NN', 'NNP', 'VBD', 'DT', 'NN', ',', 'DT', 'NN', 'VBD', '.', 'NNP', 'VBZ', 'VBG', '$', 'CD', 'DT', 'NN', ',', 'CC', '$', 'CD', 'CD', ',', 'NN', 'CC', 'VBZ', 'JJ', '$', 'CD', 'CD', 'IN', 'JJ', 'NN', '.', 'RB', 'NNP', 'VBZ', 'NNP', 'POS', 'NN', 'TO', 'VB', 'VB', 'NNP', 'NNP', 'CC', 'NNP', 'NNP', 'TO', 'VB', 'DT', 'NN', '.', 'NNP', 'POS', 'NNP', 'NN', 'IN', 'NNP', 'NNP', 'NNP', 'IN', '$', 'CD', 'CD', 'VBZ', 'VBN', 'TO', 'VB', 'NN', '.', 'NNP', 'VBZ', 'VBN', 'VBN', 'IN', 'NN', 'IN', 'NNP', 'NNP', 'NNP', 'IN', 'DT', 'NN', 'TO', 'VB', 'RP', 'IN', 'DT', 'NN', 'NN', 'NN', 'IN', 'NNP', '.', 'CC', 'NNS', 'VBP', 'IN', 'NN', 'TO', 'VB', 'DT', 'NN', '.', 'NNP', 'NNP', 'VBZ', 'VBD', 'NNS', 'IN', 'PRP$', 'NNP', 'NNP', 'NNP', 'JJ', 'NN', 'NN', 'IN', 'PRP', 'VBZ', 'NN', 'IN', 'IN', 'CD', 'NNS', ',', 'CC', 'CD', 'NN', 'IN', 'DT', 'NN', '.', 'DT', 'NN', 'IN', 'NNP', 'NNP', 'NNP', 'VBD', 'NNS', 'VBD', 'VBD', 'VBD', 'DT', 'NN', 'IN', 'JJ', 'NN', 'NNS', 'IN', 'DT', 'JJ', 'NN', 'NNS', 'VBD', 'RB', 'TO', 'VB', 'NN', 'IN', 'DT', 'NN', 'NN', '.', 'PRP', 'VBD', 'DT', 'NN', 'MD', 'VB', 'IN', 'DT', 'JJ', 'NN', 'IN', 'RB', 'IN', '$', 'CD', 'CD', 'TO', 'VB', 'VBN', 'IN', 'DT', 'NN', 'CD', 'NNS', '.', 'IN', 'NNP', ',', 'IN', 'DT', 'JJ', 'CD', 'NNS', ',', 'NNP', 'NNP', '$', 'CD', 'CD', ',', 'CC', '$', 'CD', 'DT', 'NN', ',', 'IN', 'NN', 'IN', '$', 'CD', 'CD', '.', 'NNS', 'IN', 'NNP', 'POS', 'CD', 'NN', 'RB', 'VBD', 'RB', ',', 'RB', 'IN', 'VBD', 'VBN', 'RB', 'JJ', 'NNS', 'IN', 'NNP', 'NNP', 'NNP', 'NNS', 'NNP', 'NNP', 'NNS', 'CC', 'DT', 'NNS', 'NN', 'RP', 'TO', 'VB', 'JJ', 'NNS', '.', 'NNP', 'NNS', 'VBZ', 'VBN', 'DT', 'JJ', 'NN', 'IN', 'JJ', 'NNS', ',', 'IN', 'NN', 'VBZ', 'VBN', 'VBN', 'CC', 'JJ', 'NNP', 'JJ', 'IN', 'JJ', 'NNP', 'CC', 'DT', 'NNP', 'NNP', 'VBP', 'VBN', 'IN', 'JJ', 'NNS', '.', 'NNP', 'NNP', ',', 'DT', 'JJ', 'NN', 'NN', 'IN', 'NN', 'NN', ',', 'VBD', 'DT', 'CD', 'NN', 'JJ', 'NN', 'IN', 'JJ', 'NN', 'NNS', '.', 'IN', 'DT', 'JJ', 'NN', 'NN', ',', 'PRP', 'CD', 'CD', 'CD', 'NNS', ',', '-LRB-', 'CD', 'CD', 'CD', '-RRB-', 'RB', 'IN', 'CD', 'CD', 'NN', 'DT', 'NN', 'IN', '.', 'NNS', 'VBD', 'CD', 'NN', 'TO', 'CD', 'CD', 'NNS', 'IN', 'CD', 'CD', 'NNS', '.', 'JJ', 'NN', 'VBD', 'CD', 'NN', 'TO', 'CD', 'CD', 'NNS', 'IN', 'CD', 'CD', 'NNS', '.', 'NNP', 'NN', 'VBD', 'TO', 'JJ', 'NN', 'IN', 'JJ', 'NN', '.', 'NNP', 'JJ', 'NN', 'VBN', 'TO', 'VBG', 'NN', 'NN', 'VBD', 'RB', 'NNS', 'RB', 'IN', 'NN', 'CC', 'JJ', 'NN', 'NNS', '.', 'JJ', 'NNS', 'IN', 'NN', 'NN', ',', 'JJ', 'IN', 'JJ', 'NNS', 'CC', 'JJ', 'VBD', 'TO', 'CD', 'CD', 'NNS', 'IN', 'CD', 'CD', 'NNS', '.', 'NN', 'IN', 'NNP', 'CC', 'NNP', 'NNP', 'RB', 'VBD', ',', 'RB', 'VBN', 'TO', 'VBG', 'NN', 'IN', 'JJ', 'NNS', ',', 'JJ', 'NNS', 'VBD', 'IN', 'CD', 'NN', '.', 'NNP', 'NN', 'IN', 'IN', 'DT', 'NN', 'NN', 'NN', 'NNP', 'CD', 'NNS', 'MD', 'NNP', 'TO', 'CD', 'CD', 'NNS', 'IN', 'CD', 'CD', 'NNS', ':', 'NN', 'NNS', 'VBD', 'NN', 'IN', 'CD', 'CD', 'NNS', ',', 'RB', 'IN', 'CD', 'CD', 'NN', 'IN', 'NN', 'CD', '.', 'NN', 'VBZ', 'VBN', 'TO', 'VB', 'TO', 'CD', 'CD', 'NNS', 'IN', 'CD', 'CD', 'NN', 'DT', 'NN', 'NN', '.', 'JJ', 'NN', 'VBZ', 'TO', 'VB', 'VBG', 'RB', ',', 'JJ', 'NNS', 'NNS', '.', 'NN', 'NNS', 'CC', 'NN', 'NNP', 'VBD', 'VBN', 'RB', 'IN', 'NNP', ',', 'IN', 'VBG', 'NNS', 'VBD', 'NN', 'NNP', 'NN', 'IN', 'NNP', '.', 'RB', ',', 'JJ', 'NNS', 'VBP', 'RB', 'VBG', 'DT', 'NN', 'NN', 'RB', '.', 'DT', 'NNP', 'VBZ', 'VBG', 'IN', 'NN', 'TO', 'VB', 'JJ', 'NN', 'NNS', 'VBN', 'TO', 'DT', 'NN', 'NN', 'IN', 'DT', 'NN', '.', 'CC', 'PRP', 'VBZ', 'RB', 'RB', 'RB', 'IN', 'DT', 'JJ', 'NN', 'MD', 'VB', 'JJ', 'DT', 'NN', '.', 'NNP', 'NNP', 'NN', 'IN', 'PRP$', 'NN', 'CC', 'NN', 'NN', ',', 'NNP', 'NNP', 'NNP', ',', 'DT', 'JJ', 'NN', 'RB', 'IN', 'DT', 'NNP', 'NNP', 'VBZ', 'TO', 'VB', 'NN', 'IN', 'VBG', 'DT', 'NN', 'NN', 'NN', '.', 'NNP', 'POS', 'NN', 'VBD', '$', 'CD', ',', 'TO', '$', 'CD', ',', 'IN', 'NN', '.', 'DT', 'NNP', 'NNP', 'VBZ', 'DT', 'JJ', '``', 'NN', 'NN', \"''\", 'TO', 'VB', 'JJ', 'NN', 'IN', 'DT', 'NN', '.', 'RB', ',', 'JJ', 'NNP', 'NNP', 'NNP', 'VBD', 'PRP', 'MD', 'VB', 'NNP', 'NNP', 'IN', 'NN', 'NN', 'VBD', 'NN', 'NN', 'RB', 'RB', 'DT', 'NN', 'IN', 'DT', '``', 'NN', \"''\", 'IN', 'NN', '.', 'NNP', 'NNP', 'VBD', 'DT', 'JJ', 'NN', 'NN', 'IN', 'NNP', 'NNP', 'NNP', 'CC', 'NNP', 'NNS', 'IN', '$', 'CD', 'DT', 'NN', ',', 'CC', 'IN', '$', 'CD', 'CD', '.', 'DT', 'NN', ',', 'WDT', 'VBZ', 'DT', '$', 'NN', 'NN', 'IN', 'VBD', 'VBD', 'IN', 'NNP', ',', 'VBG', 'RP', 'NN', 'IN', 'DT', 'NNS', 'NN', '.', 'DT', 'NNP', 'NN', 'VBD', 'IN', 'IN', 'NNP', 'CC', 'NNP', 'VBD', 'JJ', 'NN', 'IN', 'DT', 'NN', '.', 'DT', 'NN', 'NN', ',', 'WDT', 'VBZ', 'DT', 'NN', 'NN', 'IN', 'DT', 'JJ', 'NN', 'IN', 'CD', ',', 'VBZ', 'VBN', 'TO', 'VB', 'DT', 'NN', 'NN', '.', 'NNP', 'VBD', 'NN', 'TO', 'VB', 'VB', 'IN', 'CD', 'NN', 'IN', 'NNP', 'NNP', 'POS', 'NN', ',', 'VBD', 'PRP', 'MD', 'VB', 'NN', '.', 'NNP', 'NNS', 'VBD', 'PRP', 'VBD', 'DT', 'NN', 'MD', 'VB', 'DT', 'NN', 'IN', 'NN', '.', 'DT', 'NN', 'NN', 'NN', 'VBD', 'VBN', 'IN', 'DT', 'NN', '.', 'DT', 'NN', 'MD', 'VB', 'PRP', 'VB', 'IN', 'DT', 'NN', 'NN', 'TO', 'VB', 'NN', 'NNP', 'IN', 'DT', 'NN', '.', 'NNP', 'VBD', 'VBN', 'IN', 'NNP', 'IN', 'JJ', 'NNS', 'CC', 'NN', 'NNS', 'IN', 'CD', 'NNP', 'NNS', 'CC', 'MD', 'VB', 'DT', 'JJ', 'NN', 'IN', '$', 'CD', 'CD', '.', 'NNP', 'NNP', 'NNP', 'NNP', 'NNP', 'VBD', 'PRP', 'VBZ', 'NNP', 'IN', 'DT', 'NN', 'NNP', 'PRP', 'VBZ', 'VBN', 'IN', 'CD', 'NNS', '.', 'DT', 'NN', 'VBD', 'RB', 'VBN', '.', 'NNP', 'NNP', 'VBD', 'IN', 'DT', 'NN', 'IN', 'DT', 'NN', 'NN', ',', 'WDT', 'VBZ', 'VBG', 'DT', 'JJ', 'NNP', ',', 'NNP', 'RB', 'IN', 'PRP$', 'NN', 'CC', 'NN', 'NN', ',', 'NNP', 'NNP', '.', 'JJ', 'NNS', 'CC', 'NNS', 'MD', 'VB', 'DT', 'JJ', 'NN', 'NNS', 'IN', 'NNS', 'IN', 'JJ', 'NNS', 'IN', 'DT', 'NNP', 'NN', '.', 'DT', 'NNP', 'VBZ', 'TO', 'VB', '$', 'CD', 'CD', 'IN', 'NNS', 'CC', 'NNS', 'NN', 'NN', 'RB', 'MD', 'VB', 'DT', 'NN', 'NN', 'NNP', 'RB', 'VBZ', 'DT', 'NN', 'NN', '.', 'NNP', 'NNS', 'POS', 'JJ', 'NN', 'VBD', 'TO', 'DT', 'JJ', '$', 'CD', 'CD', 'IN', 'NN', 'JJ', 'CD', 'IN', 'DT', 'JJ', 'NNS', 'NN', '.', 'CD', 'JJ', 'NNS', 'MD', 'VB', 'JJ', 'NNS', 'RB', 'IN', 'DT', 'JJ', 'JJ', 'NN', 'NN', ',', 'DT', 'NNS', 'IN', 'NN', 'VBP', 'NN', '.', 'NNS', ':', 'NNS', ':', 'CD', 'NNP', 'NNS', '.', 'NNP', 'NNP', 'NNP', 'VBD', ',', 'RB', 'CD', ':', 'NNP', 'NNP', ',', 'RB', 'NN', ':', 'NNP', 'NNP', ',', 'RB', 'NN', '.', 'NNS', ':', 'NNP', 'NNP', 'NNP', 'NNP', 'NNP', 'NNP', ',', 'RB', 'NNS', ':', 'NNP', 'NNP', 'NNP', 'NNP', 'NNP', ',', 'RB', 'NNP', ':', 'JJ', 'NN', 'NN', ',', 'RB', 'NN', '.', 'NN', ':', 'CD', 'NNS', ',', 'RB', 'NNP', ':', 'NNP', 'NN', ',', 'RB', 'NN', '.', 'NNP', 'NNP', ',', 'DT', 'JJ', 'NNS', 'CC', 'NNP', 'NNP', 'NN', ',', 'DT', 'NN', 'NNP', 'NNP', 'NN', ',', 'DT', 'NN', 'NN', 'NN', '.', 'DT', 'DT', 'VBZ', 'VBN', 'DT', 'NN', 'IN', 'NNP', 'NNS', 'CC', 'NNP', 'NNP', 'CC', 'PRP$', 'NNP', 'NNP', 'NNP', ',', 'NNP', 'NNP', ',', 'WP', 'VBN', 'DT', '$', 'CD', 'CD', 'NNP', 'NNP', ',', 'NNP', ',', 'NNP', 'IN', 'JJ', 'NN', 'NNS', '.', 'NNP', 'VBP', 'VBN', 'NNP', 'POS', 'NN', 'IN', 'IN', 'DT', 'NN', 'POS', 'NN', 'TO', 'DT', 'NN', 'NN', 'NN', '.', 'CC', 'DT', 'NNS', 'NNP', 'NNP', 'NNP', 'POS', 'NN', 'NN', ':', 'PRP', 'VBZ', 'NNS', 'IN', 'CD', 'DT', 'NN', 'CC', 'NNP', 'IN', 'IN', 'NNP', 'POS', 'NNP', 'NN', '.', 'NNP', 'NNP', 'VBD', 'CD', 'CD', 'VBZ', ',', 'IN', 'CD', 'CD', 'CD', 'VBD', 'DT', 'NN', 'IN', 'NN', 'IN', 'NNP', 'NNP', 'MD', 'VB', 'DT', 'NN', 'NN', '.', 'NNS', ',', 'NN', 'NNS', 'RB', 'NNP', 'POS', 'JJ', 'JJ', 'NN', 'IN', 'PRP$', 'NN', 'NN', 'TO', '$', 'CD', 'CD', 'VBD', 'RB', 'RB', ',', 'JJ', 'DT', 'NN', 'MD', 'VB', 'VBG', '.', 'CC', 'IN', 'JJ', 'NNS', ',', 'NNP', 'VBZ', 'VBN', 'RB', ',', 'NN', 'IN', 'CD', 'CD', ',', 'RB', 'NNP', ',', 'VBD', 'IN', 'VBN', 'NN', 'IN', 'DT', 'NN', 'MD', 'NNS', '.', 'NNP', 'NNP', 'POS', 'IN', 'VBP', 'NNP', 'POS', 'NNP', 'NNP', 'NNS', 'VBP', 'JJ', 'NNP', ',', 'CC', 'DT', 'NN', 'VBZ', '$', 'CD', 'CD', 'IN', 'NNS', 'NN', 'NN', 'PRP$', 'NNS', '.', 'DT', 'POS', 'RB', '$', 'CD', 'IN', 'NN', 'IN', 'DT', 'NNP', 'NNS', ',', 'JJ', 'JJ', 'VBN', 'NNS', ',', 'RB', 'RB', 'NN', 'NNP', 'MD', 'VB', 'DT', 'NN', '.', 'NNP', 'VBZ', 'RB', 'IN', 'CD', 'CD', 'JJ', 'NNS', 'IN', 'NN', 'NNS', '.', 'DT', 'NNP', 'NNP', 'VBZ', 'CD', 'NN', 'IN', 'DT', 'NN', 'CC', 'CD', 'NN', 'IN', 'DT', 'NN', '.', 'DT', 'JJ', 'JJ', 'NNS', 'VBP', 'NNP', 'NNP', 'POS', 'JJ', 'NN', ',', 'NN', 'NNP', 'NNP', 'CC', 'NNP', 'NNP', 'NNP', ',', 'RB', 'DT', 'NNP', 'NN', 'PRP$', 'NN', 'DT', 'NN', '.', 'IN', 'JJ', 'NNS', 'MD', 'VB', 'DT', 'NN', 'IN', 'NNP', ',', 'NNS', 'VBP', 'NNP', 'NNP', 'VBZ', 'NNP', 'IN', 'DT', 'NN', 'TO', 'NNP', 'NNP', 'POS', 'NN', 'NNS', '.', 'RB', ',', 'NNP', 'NNS', 'VBD', 'VBD', 'VBD', 'PRP', 'VBD', 'VBG', 'IN', 'VBG', 'DT', 'JJ', 'NN', 'TO', 'VB', 'NNP', 'POS', 'NN', 'NNS', 'CC', 'RB', 'VBP', 'NNP', 'NN', '.', 'NNP', 'VBP', 'RB', 'VBD', 'IN', 'DT', 'DT', 'NN', '.', 'CC', 'IN', 'JJ', 'NNS', ',', 'PRP', 'POS', 'NN', 'TO', 'VB', 'NNS', 'POS', 'NN', 'TO', 'VB', 'DT', 'NN', 'JJ', 'NNP', '.', 'VBZ', 'TO', 'VB', 'DT', 'VBP', 'VBN', 'TO', 'VB', 'VBN', 'IN', 'DT', 'NN', 'CC', 'RB', '.', 'JJ', 'NNS', 'NN', 'NNS', 'TO', 'NNP', 'IN', 'PRP$', 'NN', 'TO', 'NN', 'NN', ',', 'PRP', 'VB', 'DT', 'NNS', 'IN', 'CD', 'NNS', '.', 'DT', 'POS', 'NN', 'NNP', 'RB', 'VBD', 'IN', '$', 'CD', 'CD', 'IN', 'PRP$', 'NN', 'CC', 'NNP', '$', 'CD', 'CD', 'IN', 'JJ', 'NN', 'NNS', '.', 'CC', 'RB', 'NNP', 'MD', 'VB', 'PRP$', 'NN', 'NNS', 'NNS', 'IN', 'DT', 'NN', 'NNP', 'PRP', 'NNS', ':', 'IN', 'JJ', 'NN', ',', 'NN', 'DT', 'NNP', 'VBZ', 'NNP', 'CC', 'NN', ':', 'DT', 'NN', 'NN', 'MD', 'VBP', 'DT', 'NN', '.', 'NNP', ',', 'DT', 'NNP', 'NNP', 'NN', ',', 'VBP', 'RB', 'VB', 'JJ', 'NNS', 'IN', 'PRP$', 'NN', '.', 'CC', 'PRP$', 'CD', 'NNP', 'NNP', 'NNP', 'IN', 'NN', 'NN', 'VBD', 'RB', 'DT', 'JJ', 'NNS', 'IN', 'VBP', 'VBN', 'RB', 'NN', '.', 'DT', 'VBD', 'VBN', 'NNS', ',', 'NNP', 'NNP', 'NNP', ',', 'NNP', 'NNP', ',', 'NNP', 'NN', 'CC', 'NNP', 'NNP', ',', 'RB', 'JJ', 'JJ', 'NNS', 'IN', 'NNP', 'POS', 'NN', 'RB', 'VBP', 'JJ', 'NN', '.', 'IN', 'NNS', 'IN', ',', 'NNP', 'VBD', 'VBN', 'PRP', 'VBZ', 'VBZ', 'NNS', 'IN', 'RB', 'VBN', 'NN', 'NNS', 'IN', 'JJR', 'IN', '$', 'CD', 'CD', '.', 'PRP', 'RB', 'VBZ', 'IN', 'NN', 'NNS', 'IN', 'IN', 'RB', 'IN', '$', 'CD', 'CD', 'IN', 'NN', 'NNS', 'IN', 'NNP', 'CC', 'NNP', '.', 'CD', 'NN', 'NNP', 'NNP', 'NNP', 'VBZ', 'VBD', 'TO', 'VB', 'JJ', 'TO', 'NNS', ':', 'NNP', 'MD', 'VB', 'RB', 'RB', ',', 'IN', 'NNP', 'NN', 'VBD', 'VBN', 'IN', 'DT', 'JJ', 'NN', 'CC', 'DT', 'JJ', 'NN', '.', 'CC', 'NNP', 'POS', 'JJ', 'NN', 'MD', 'VB', 'DT', 'JJ', 'NN', ',', 'IN', 'DT', 'JJ', 'NN', 'MD', 'VB', 'DT', 'JJ', 'NN', 'NN', ',', 'VBG', 'DT', 'IN', 'NNP', 'POS', 'NN', 'NNS', ',', 'JJ', 'NN', 'CC', 'NN', 'NNS', '.', 'DT', 'RB', 'NNP', 'POS', 'NNP', ',', 'WDT', 'RB', 'VBZ', 'VBG', 'DT', 'JJ', 'NN', 'VBG', 'NN', ',', 'MD', 'VB', 'NN', 'IN', ',', 'VBP', '$', 'CD', 'CD', ',', 'CC', 'NNP', 'TO', 'DT', 'NN', 'NN', 'IN', 'VBZ', 'DT', 'NNP', 'NN', '.', 'DT', 'NN', 'NN', 'MD', 'VB', 'VBN', 'IN', 'JJR', 'IN', 'DT', 'NN', 'IN', 'PRP$', 'NN', ',', 'JJ', 'NN', 'NNS', 'VBP', '.', 'NNP', ',', 'DT', 'JJ', 'NN', 'IN', 'DT', 'NN', 'NNS', ':', 'CC', 'DT', 'NN', ':', 'MD', 'VB', 'NN', 'IN', 'TO', 'NNP', 'NNS', ',', 'JJ', 'NNP', 'NNP', ',', 'WP', 'MD', 'PRP', 'VBP', 'DT', 'JJ', 'NN', ',', 'NNS', 'VBP', '.', 'PRP', 'VBZ', 'RB', 'RB', 'RB', 'RB', 'DT', 'NN', 'MD', 'VB', 'NNP', 'NNS', '.', 'CC', '``', 'DT', 'NN', 'VBZ', 'NN', '.', 'PRP', 'VB', 'DT', 'NN', 'NN', 'IN', 'DT', 'JJ', 'NN', 'CC', 'VB', 'NNS', 'IN', 'DT', 'NN', 'TO', 'NNP', 'DT', 'JJ', 'NNP', ',', \"''\", 'VBZ', 'NNP', 'NNP', 'NNP', 'NNP', 'IN', 'NNP', 'NNS', 'IN', 'NNP', 'NNP', '.', 'NNP', 'NNP', 'POS', 'NN', 'NN', 'NN', 'VBZ', 'DT', 'NN', 'IN', 'NN', 'IN', 'NNP', 'NNP', '.', 'NNS', 'NNS', 'VBP', 'NNP', 'NNP', 'VBZ', 'TO', 'VB', 'DT', 'NNP', 'NN', ',', 'WDT', 'JJ', 'NNS', 'MD', 'VB', 'NNP', 'TO', 'VB', '.', '``', 'PRP', 'VBP', 'RB', 'RB', 'DT', 'NN', ',', \"''\", 'VBZ', 'NNP', 'NNP', ',', 'DT', 'NNP', 'NNP', 'NNP', 'NNP', '.', 'IN', 'NN', ',', 'NNS', 'MD', 'VB', 'TO', 'VB', 'NNP', 'POS', 'NN', '.', 'CC', 'DT', 'NN', 'NNS', 'VBP', 'DT', 'NN', 'VBZ', 'RB', 'RB', 'IN', 'DT', 'NN', 'RB', 'VBZ', 'VBG', 'NNP', 'NNP', 'POS', 'JJ', 'JJ', 'NNS', '.', 'NNP', 'NNP', 'IN', 'NNP', 'NNP', 'NNP', 'TO', 'DT', 'NN', '.', 'NNP', 'NNP', 'CC', 'NNP', '-LRB-', 'NNP', ':', 'NN', ':', 'NNP', '-RRB-', 'NN', ':', 'NNS', 'CC', 'NN', 'IN', 'NNP', 'NNP', 'CD', ',', 'CD', ':', 'JJ', 'NN', ':', '$', 'CD', 'CD', ':', 'CC', '$', 'CD', 'DT', 'NN', 'JJ', 'NN', ',', 'NNP', 'CD', ',', 'CD', ':', 'JJ', 'NN', ':', '$', 'CD', 'DT', 'NN', 'NNP', 'JJ', 'NN', ':', 'CD', 'CD', 'DT', 'NN', 'NN', 'NN', 'NN', 'NN', ':', 'NNP', 'NNS', 'JJ', 'NNS', 'NN', ':', 'CD', 'CD', 'NN', ':', 'DT', 'NNP', 'NNS', 'VBP', 'RB', 'NN', '.', 'NNP', 'NNP', 'NNP', ',', 'NNP', ',', 'NNP', ',', 'VBD', 'PRP', 'VBD', 'VBN', 'NNP', 'NNS', 'IN', 'NN', 'CC', 'NNP', 'NNP', 'NNP', '.', 'DT', 'NN', 'IN', 'JJ', 'NN', 'NNS', 'CC', 'JJ', 'VBN', 'TO', 'VB', 'DT', 'JJ', 'NN', 'NN', 'NN', 'NN', 'NNP', 'NNP', 'NNP', 'NN', '.', 'NNP', 'NNP', 'VBZ', 'VBN', 'JJ', 'NN', 'CC', 'NN', 'NNS', 'IN', 'NNP', 'IN', 'NNP', 'NNP', 'CC', 'VBZ', 'JJ', 'NNP', 'NN', 'IN', 'PRP', '.', 'NNP', 'MD', 'TO', 'IN', 'NNP', 'NN', 'NN', 'JJ', 'NN', 'IN', 'NN', 'NN', ',', 'NNP', 'NNP', 'NNS', 'CC', 'JJ', 'NNP', 'NNS', ',', 'NNP', 'NNP', 'VBD', '.', 'DT', 'JJ', 'NN', 'VBZ', 'NNP', 'NNP', 'NNP', ',', 'DT', 'NN', 'IN', 'MD', 'JJ', 'NNP', 'IN', 'NNP', 'NNP', '.', 'DT', 'NN', 'CD', 'NNP', 'NN', 'NNP', 'CC', 'NN', 'NNP', 'CC', 'NNS', 'IN', 'JJ', 'NNP', 'CC', 'NN', 'NNP', ',', 'NNP', 'NNP', 'VBD', '.', 'DT', 'NN', 'VBD', 'IN', 'PRP', 'VBZ', 'VBN', 'NN', 'NNS', '``', 'IN', 'DT', 'JJ', 'NNS', 'IN', 'JJ', 'NNP', 'NNP', \"''\", 'CC', 'DT', 'NN', 'IN', 'NNP', 'VBZ', 'DT', 'NN', 'PRP', 'VBZ', 'VBD', '.', 'NNP', 'NNS', 'MD', 'VB', 'JJ', 'IN', 'NNP', 'NNP', 'CC', 'IN', 'NNP', 'NNP', 'NN', 'NN', 'IN', 'NNP', 'NN', 'CC', 'JJ', 'NNP', ',', 'DT', 'NN', 'VBD', '.', 'DT', 'NNP', 'NN', 'POS', 'NN', 'IN', 'NNP', 'NNP', 'TO', 'DT', 'NN', 'IN', 'DT', 'NN', 'NNP', 'IN', 'RB', 'VBD', 'DT', 'NN', 'DT', 'NN', 'IN', 'DT', 'NNP', 'NNP', 'NNP', 'VBD', 'NNP', 'NNP', 'RB', 'DT', '``', 'NNP', \"''\", 'NN', ',', 'RB', 'IN', '``', 'RB', 'NN', '.', \"''\", 'DT', 'JJ', 'IN', 'DT', 'JJ', 'NNP', 'NN', ',', 'WDT', 'MD', 'VB', 'IN', 'DT', 'NN', ',', 'VBD', 'DT', 'NNP', 'NNS', 'IN', 'DT', 'NN', 'VBP', 'VBN', 'TO', 'VB', 'DT', 'NNP', 'NN', 'IN', 'NNS', 'IN', 'DT', 'NN', '.', 'NNP', 'NNP', ',', 'VBZ', 'NN', 'IN', 'DT', 'JJ', 'NN', 'NN', 'NN', ',', 'MD', 'VB', 'DT', 'JJ', 'NN', 'TO', 'DT', 'NNS', 'NNS', 'IN', '.', 'NNS', 'VBP', 'VBG', 'PRP', 'IN', 'NNP', 'NNS', 'IN', 'NNP', 'NNS', 'IN', 'JJ', 'NNS', 'CC', 'IN', 'VBG', 'NNP', 'IN', 'JJ', 'NNS', '.', 'NNP', 'NNS', 'IN', 'DT', 'NNP', 'IN', 'NNP', 'IN', 'DT', 'NNP', 'VBP', 'VBD', 'PRP', 'VBP', 'NNP', 'NNP', 'POS', 'NN', 'NN', 'IN', '``', 'JJ', 'NNS', 'IN', 'PRP$', 'NN', '-LRB-', 'CC', '-RRB-', 'NN', 'IN', 'DT', 'NN', '.', \"''\", 'DT', 'NN', 'NNP', 'NNP', 'NN', ',', 'RB', ',', 'VBD', 'DT', 'NN', 'VBZ', 'RB', 'RB', 'IN', 'DT', 'NNP', 'NN', '.', '``', 'PRP', 'RB', 'VBN', 'DT', 'NNP', 'NNP', 'PRP', 'NNP', ',', \"''\", 'NNP', 'NNP', ',', 'DT', 'NNP', 'POS', 'NN', 'NN', ',', 'VBD', 'IN', 'DT', 'NN', '.', 'DT', 'NNP', 'VBZ', 'DT', '``', 'NNP', \"''\", 'NN', 'TO', 'NNP', 'PRP', 'VBZ', 'MD', 'VB', '``', 'NNP', \"''\", 'IN', 'DT', 'NN', '.', 'IN', 'NN', ',', 'DT', 'NNS', 'POS', 'NNP', 'VBZ', 'DT', '``', 'RB', 'NNP', \"''\", 'NN', 'TO', 'VB', '``', 'JJ', 'IN', 'CD', 'IN', 'DT', 'JJ', 'NN', 'IN', 'DT', 'NN', '.', 'NNP', 'NNP', 'VBD', 'PRP', 'VBD', 'TO', 'VB', 'CD', 'NN', 'IN', 'NNP', 'NN', 'IN', 'DT', 'NNP', 'NNP', 'NNP', '.', 'NNS', 'VBD', 'RB', 'VBN', '.', 'NNP', ',', 'DT', 'JJ', 'NNP', ',', 'NNP', 'NNP', 'NNP', 'NNP', ',', 'VBD', 'PRP', 'VBZ', 'VBG', 'DT', 'NN', 'IN', 'DT', 'NNP', 'NN', 'NN', 'TO', 'VB', 'PRP$', 'NN', 'IN', 'NN', 'NNS', 'IN', 'JJ', 'NNS', '.', 'NNP', 'POS', 'NN', 'NN', 'IN', 'NNP', 'NNP', 'CC', 'NNP', 'VBZ', 'DT', 'NN', 'NN', 'IN', 'PRP$', 'JJ', 'NN', 'NN', '.', 'NNP', 'NNP', 'NN', 'NN', ',', 'DT', 'NN', 'VBD', '.', 'DT', 'NN', 'VBZ', 'NN', 'IN', 'DT', 'NN', 'TO', 'VB', 'IN', 'PRP$', 'JJ', 'NNS', 'NN', ',', 'NN', 'CC', 'NN', 'NN', 'NN', 'IN', 'JJ', 'JJ', 'NNS', ',', 'DT', 'NN', 'VBD', '.', 'NNP', 'VBD', 'CD', 'NNS', 'IN', 'CD', 'CD', 'CD', '-LRB-', '$', 'CD', 'CD', '-RRB-', 'CC', 'VBZ', 'DT', 'JJ', 'NN', 'NN', 'IN', 'CD', 'CD', 'NN', '.', 'DT', 'NN', 'VBZ', 'IN', 'NN', 'IN', 'DT', 'NN', 'NN', 'NN', 'NN', 'IN', 'NNP', 'NN', '.', 'DT', 'NN', 'TO', 'VB', 'DT', 'NN', 'TO', 'NN', 'IN', 'NN', 'IN', 'VBN', 'VBD', 'VBN', 'IN', 'DT', 'JJ', 'NN', 'IN', 'NNP', 'NN', 'NNS', '.', 'DT', 'NNP', 'NNP', 'NNP', 'NNP', 'VBD', 'NNP', 'NNP', 'IN', 'DT', 'NNP', 'NNP', 'NN', 'DT', 'NNS', 'IN', 'NNP', 'IN', 'NNP', 'NNP', ',', 'NNP', 'CC', 'NNP', 'NNP', 'MD', 'VB', 'JJ', 'DT', 'JJ', 'NN', '.', 'IN', 'IN', 'DT', 'NNP', ',', 'DT', 'NNP', 'NNP', 'MD', 'VB', 'TO', 'JJ', 'NNS', 'IN', 'NNP', 'NNP', 'NNS', 'IN', 'DT', 'NNS', 'VBP', 'NNP', 'DT', 'NNP', 'IN', 'RB', 'JJ', 'NNS', 'IN', 'NN', 'IN', 'DT', 'NNP', 'NNP', 'NN', '.', 'DT', 'NN', 'NNP', 'VBG', 'JJ', 'NNS', 'IN', 'JJ', 'IN', 'DT', 'NN', 'IN', 'NN', 'CC', 'IN', 'NNS', 'IN', 'DT', 'NNP', 'POS', 'NNP', 'NN', '.', 'NNP', 'NNS', 'VBD', 'IN', 'NNP', 'NNP', 'CC', 'NNP', 'NNP', 'VBP', 'RB', 'VB', 'IN', 'JJ', 'NNP', 'CC', 'VBD', '.', 'IN', 'CC', 'NNS', 'JJ', 'NNS', 'IN', 'DT', 'NNP', 'NN', 'NN', ',', 'DT', 'NNP', 'MD', 'NNP', 'JJ', 'NN', 'IN', 'DT', 'NNS', ',', 'WDT', 'RB', 'VBP', 'JJ', 'TO', 'VB', 'NNS', 'IN', 'JJ', 'NN', 'CC', 'NNP', 'NN', 'NN', '.', 'NNS', 'IN', 'NNP', 'NNP', 'IN', 'CD', 'CD', 'IN', '$', 'CD', 'CD', 'IN', 'NNP', ',', '$', 'CD', 'CD', 'IN', 'NNP', 'NNP', 'CC', '$', 'CD', 'CD', 'IN', 'NNP', 'NNP', ',', 'VBD', 'TO', 'DT', 'NN', '.', 'IN', 'DT', 'NN', ',', 'DT', 'NNP', 'VBD', 'NNP', 'NN', 'NNS', 'NNP', 'IN', 'NNP', 'NNP', 'NNP', 'IN', 'NNP', ',', 'NNP', ',', 'IN', 'NNS', 'IN', 'NNP', ',', 'DT', 'NN', 'IN', 'JJ', 'NN', ',', 'IN', 'NNP', 'CC', 'NNP', 'NNP', '.', 'DT', 'NNS', 'NNS', 'IN', '$', 'CD', 'CD', 'JJ', 'NN', '.', 'NNP', 'NNP', 'VBD', 'PRP', 'MD', 'VB', 'DT', 'JJ', 'NN', 'NN', 'TO', 'IN', 'JJ', 'IN', 'JJ', 'NNS', 'IN', 'DT', 'NNP', 'NN', 'MD', 'TO', 'VB', 'IN', 'DT', 'JJ', 'NN', '.', 'NNP', 'NNS', 'VBD', 'PRP', 'MD', 'VB', 'VB', 'DT', 'NN', 'IN', 'DT', 'NN', 'IN', 'PRP', 'VB', 'WDT', 'NNS', ',', 'CC', 'RB', 'NNS', ',', 'MD', 'VB', 'IN', 'DT', 'NN', 'NN', '.', 'CC', 'DT', 'NN', 'NN', 'VBD', 'PRP', '``', 'VBZ', 'DT', 'JJ', 'NN', 'NN', 'IN', 'DT', 'NN', 'POS', 'NNP', 'MD', 'VB', 'IN', 'JJ', 'JJ', 'NNS', '.', \"''\", 'DT', 'NN', ',', 'RB', 'TO', 'JJ', 'NNS', 'CD', 'NNS', 'JJ', 'CC', 'NNS', ',', 'MD', 'VB', 'DT', 'JJ', 'POS', 'NN', 'NNS', 'CD', 'NN', 'TO', 'CD', 'NN', '.', 'IN', 'NN', ',', 'NNP', 'VBZ', 'VBG', 'DT', 'JJ', 'NN', 'NN', 'NN', 'TO', 'CD', 'NNS', 'IN', 'NN', 'NN', '.', 'NNP', 'NNP', 'NNP', 'VBD', 'DT', 'NN', 'NN', 'IN', 'DT', 'NN', 'POS', 'JJ', 'NN', 'TO', 'VB', 'JJ', 'JJ', 'CC', '``', 'DT', 'JJ', 'NN', 'NN', '.', \"''\", 'RB', 'DT', 'NNS', 'NNP', 'RB', 'RB', 'IN', 'DT', 'NN', 'DT', 'NN', 'NN', 'MD', 'VB', ',', 'IN', 'JJ', 'NNS', 'MD', 'VB', 'RP', 'VBN', 'VBN', '.', '``', 'PRP', 'VBZ', 'DT', 'NN', 'NN', ',', \"''\", 'VBD', 'NNP', 'NNP', 'NNP', 'IN', 'NNP', 'NNP', 'NNP', 'NNP', '.', 'NN', 'TO', 'NNP', 'POS', 'NNS', ',', 'RB', 'CD', 'NN', 'TO', 'CD', 'NN', 'IN', 'DT', 'NNP', 'NNS', 'NNS', 'MD', 'VB', 'NN', 'IN', 'DT', 'NN', '.', 'NNP', 'NN', 'VBN', 'IN', 'IN', 'CD', 'NN', 'IN', 'DT', 'NNS', 'WP', 'VB', 'IN', 'JJ', 'NN', 'MD', 'VB', 'VBN', '.', 'IN', 'DT', 'NN', ',', 'NNP', 'MD', 'VB', 'NN', 'RB', 'IN', 'NNP', 'TO', 'NNP', 'IN', 'PRP$', 'JJR', 'IN', 'JJ', 'NNS', 'NNS', '.', 'IN', 'NNP', 'NN', 'IN', 'DT', 'NNP', 'NNP', 'NNP', 'NNP', 'NN', ',', 'NNP', 'NNP', 'VBD', 'NNP', 'NNP', 'TO', '$', 'CD', 'CD', '.', 'DT', 'NNP', 'NN', 'VBD', 'PRP', 'VBD', '``', 'VBD', 'NN', \"''\", 'TO', 'VB', 'DT', 'JJ', 'NN', 'NN', 'VBD', 'VBN', 'IN', 'NN', 'NN', 'CC', 'DT', 'JJ', 'NN', 'IN', 'DT', 'NN', ',', 'WDT', 'RB', 'VBZ', 'VBN', 'DT', 'NN', 'IN', 'NN', 'NN', '.', 'DT', 'NN', 'VBD', 'DT', 'NN', 'VBD', 'DT', 'NN', 'NN', 'TO', 'VB', 'IN', 'NNP', 'NNP', '.', 'DT', 'NN', 'VBD', 'PRP', 'VBZ', 'DT', 'JJ', 'JJ', 'NN', 'NN', 'VBD', 'IN', 'PRP$', 'JJ', 'NN', 'NN', '.', 'VBD', 'NNP', 'VBZ', 'RB', 'NNP', 'IN', 'CD', 'NNS', ',', 'DT', 'NN', 'VBD', '.', 'NNP', 'NNP', '.', '-LRB-', 'NNP', ',', 'NNP', '-RRB-', ':', 'NNP', 'NNP', ',', 'NNP', 'NN', 'IN', 'NNP', 'NNP', ',', 'VBD', 'VBN', 'DT', 'NN', 'IN', 'DT', 'NN', 'NN', 'NN', 'CC', 'NNS', 'NN', '.', 'PRP', 'NN', 'DT', 'NN', 'TO', 'CD', '.', '``', 'NNP', 'NN', \"''\", '-LRB-', 'NNP', 'NNP', ',', 'NNP', 'NNS', ',', '$', 'NNP', '-RRB-', ',', 'DT', 'JJ', 'JJ', 'NN', 'IN', 'DT', 'NNP', 'NN', ',', 'VBZ', 'IN', 'DT', 'NN', 'NN', '.', 'DT', 'RP', 'NN', 'IN', 'DT', 'NNP', ',', 'NNP', 'NNP', 'NNP', 'VBZ', 'NN', 'DT', 'NN', 'IN', 'PRP$', 'PRP$', 'NN', '.', 'IN', 'VBD', 'DT', 'JJ', 'NN', 'IN', 'DT', 'NNP', ',', 'NNP', 'POS', 'NNP', ',', 'TO', 'NNP', ',', 'NNP', ',', 'IN', 'CD', 'IN', 'NNP', 'POS', 'NNS', ',', 'PRP', 'VBZ', 'DT', 'NN', ',', '``', 'NNP', 'IN', 'VBG', 'NN', 'IN', 'NN', 'IN', 'NNS', 'PRP', 'VBD', 'VBG', 'IN', ',', 'PRP', 'VBD', '.', \"''\", 'DT', 'NN', 'IN', 'TO', 'VB', 'DT', 'NN', 'MD', 'VB', 'DT', 'NN', ',', 'NNP', 'NN', 'IN', 'NN', 'VBZ', 'NN', 'VBZ', 'VBD', 'IN', 'NN', 'DT', 'NN', 'IN', 'NN', 'NNP', 'CC', 'NN', 'NNP', '.', 'NNP', 'IN', 'NNP', ',', 'NNP', 'NNP', 'CC', 'PRP$', 'NNP', ',', 'NNP', 'NNP', 'NNP', 'NNP', ',', 'JJ', 'NN', 'IN', 'DT', 'NNP', 'NNP', 'NNP', ',', 'IN', 'PRP$', 'NNP', 'IN', 'DT', 'JJ', 'NN', 'NN', 'TO', 'DT', 'NN', 'IN', 'NNP', 'JJ', 'NN', ',', 'VBN', 'IN', 'DT', 'NN', 'IN', 'VBG', 'NN', 'NN', 'IN', 'DT', 'NNP', 'CC', 'NNP', '.', 'DT', 'NN', 'NNP', 'IN', 'NNP', 'NNP', ',', 'DT', 'NN', 'IN', 'DT', 'NN', ',', 'CC', 'NNP', 'NNP', ',', 'WP', 'VBD', 'PRP$', 'NN', 'NN', 'IN', 'NNP', 'POS', 'NN', '.', 'RB', 'VBG', 'IN', 'CD', ',', 'NNP', 'VBD', 'RB', 'RB', 'RB', 'VBN', 'IN', 'CD', ',', 'IN', 'NNP', 'NNP', 'VBD', 'DT', 'NNP', 'NN', 'POS', 'NN', 'CD', '-LRB-', 'DT', '-RRB-', 'NN', 'NN', 'NN', '.', 'DT', 'VBZ', 'DT', 'NN', ',', 'DT', 'NN', 'NN', 'IN', 'NNP', 'JJ', 'NN', 'NNS', 'RB', 'VBN', 'JJ', 'TO', 'NNS', 'NNS', '.', 'NNP', 'NNP', 'VBD', 'IN', ',', 'RB', 'IN', 'JJ', 'NN', ',', 'NNP', 'NNP', 'RB', 'MD', 'VB', 'IN', 'DT', 'NN', 'NN', 'IN', 'PRP', 'VBD', 'NN', 'IN', 'NN', 'NNP', '.', 'DT', 'CD', 'NNS', 'RB', 'VBD', 'TO', 'NNP', 'DT', 'NN', 'NN', 'IN', 'DT', 'NNP', '.', 'IN', 'IN', 'NNP', 'PRP', 'VBD', ',', 'IN', 'NN', 'RB', ',', 'CD', 'CD', ',', 'JJ', 'NNP', ',', 'CC', 'PRP', 'VBD', 'IN', 'DT', 'NN', 'CC', 'RP', 'TO', 'DT', 'NN', '.', 'VBG', 'VBN', 'DT', '``', 'NNP', 'NN', \"''\", 'NNP', 'VBD', 'NNP', 'IN', 'DT', 'NNP', 'NNP', ',', 'DT', 'NN', 'NN', ',', 'VBD', 'NNP', 'IN', 'NNP', 'NNP', 'IN', 'PRP$', 'CD', 'JJ', 'NN', '.', 'DT', 'NN', 'NNP', 'NN', 'IN', 'IN', 'NNP', 'NN', 'NN', 'IN', 'NNP', 'DT', 'NNP', 'NNP', 'CC', 'VBD', 'IN', 'DT', 'NN', ':', 'NNP', 'NNP', 'NN', 'IN', 'DT', 'NNP', 'NNP', '.', 'NN', 'IN', 'NNP', 'NNP', 'NNP', '-LRB-', 'RB', 'IN', 'DT', 'NN', 'NN', '-RRB-', ',', 'DT', 'NN', 'VBD', 'DT', 'NN', 'IN', 'NNP', 'NN', ',', 'NN', 'CC', 'JJ', 'NN', 'NNS', 'CC', 'NNS', 'JJ', 'TO', 'JJ', 'NNS', ',', 'DT', 'RP', 'TO', 'CC', 'JJ', 'NNP', 'NNP', 'NNP', ',', 'RB', 'NN', 'CC', 'NN', 'TO', 'JJ', 'NN', 'NNP', 'NNP', 'NNP', '.', 'NNP', 'VBD', 'RB', 'RB', 'VB', 'JJ', 'NN', 'NN', '.', 'PRP', 'JJ', 'JJ', 'NN', 'IN', 'DT', 'JJ', 'NN', 'IN', 'JJ', 'NNP', ',', 'VBG', 'NNP', 'RB', '``', 'NNP', \"''\", 'NN', 'NNS', ',', 'NN', 'NNS', 'CC', 'JJ', 'NNS', ',', 'JJ', 'NNP', 'NNP', 'NNP', 'NNP', '.', 'IN', 'NN', ',', 'PRP', 'VBD', 'CC', 'VBD', 'NN', 'IN', 'NNP', 'NN', '.', 'RB', 'DT', 'NNP', 'JJ', 'NNS', 'IN', 'DT', 'NN', '.', 'NNP', 'NN', 'IN', 'DT', 'NN', 'NN', '.', 'IN', 'PRP', 'VBD', 'JJ', 'NN', 'IN', 'DT', 'NN', 'NN', 'PRP', 'VBD', 'RB', 'RB', 'NN', 'IN', 'DT', 'NN', ',', 'RB', 'NN', '.', 'IN', 'PRP', 'VBD', 'RB', 'DT', 'JJ', 'NN', ',', 'PRP', 'VBD', 'NN', 'IN', 'IN', 'DT', 'JJ', ',', 'DT', 'NN', 'IN', 'VBD', 'NNP', 'NNP', 'NNP', ',', 'DT', 'NN', 'POS', 'NNP', '``', 'NN', \"''\", 'NN', '.', 'CC', 'VBG', 'DT', 'NNP', 'NN', 'IN', 'DT', 'NNP', 'CC', 'DT', 'NNP', ',', 'NNP', 'NN', 'NN', 'NN', ',', '``', 'NNP', 'NN', \"''\", 'RB', 'VBZ', 'RB', 'IN', 'NNP', 'NN', '.', 'NNS', 'IN', 'DT', 'NNP', 'NN', 'RB', 'NNP', ':', 'NNP', 'VBD', 'NNP', 'DT', 'JJ', 'NN', 'IN', 'DT', 'NN', '.', 'NNP', 'POS', 'NNP', 'RB', 'NNP', 'PRP', 'TO', 'VB', 'RP', '.', 'DT', 'NNP', 'VBP', 'VBD', 'NNP', 'JJ', 'NN', ',', 'JJ', 'NNS', 'WP', 'VBD', 'JJ', 'NNS', ',', 'NNP', 'NNS', ',', 'JJ', 'NNS', ',', 'JJ', 'NN', '.', 'IN', 'DT', 'NN', 'IN', 'PRP', ',', 'RB', 'CD', 'VBZ', 'NN', 'IN', 'NN', 'CC', 'NNP', ',', 'CC', 'JJ', 'NN', 'CC', 'RB', 'VBN', 'NN', '.', 'DT', 'JJ', 'NN', 'IN', 'CD', 'CD', 'JJ', 'VBD', 'NNP', 'NNP', 'NNP', ',', 'DT', 'NN', 'WP', 'VBD', 'PRP$', 'NN', 'TO', 'JJ', 'NNP', 'NNP', 'CC', 'VBD', 'DT', 'NN', 'NN', 'CC', 'NN', 'IN', 'DT', 'NN', 'IN', 'NN', '.', 'PRP', 'VBZ', 'DT', 'NN', 'VBG', 'DT', 'NN', ',', 'RB', 'IN', 'NN', 'TO', 'VB', 'NN', '.', 'RB', 'IN', 'NNP', 'IN', '``', 'NNP', 'NN', 'POS', \"''\", 'NNP', ',', 'DT', 'JJ', 'NNP', 'IN', 'DT', 'NN', 'NN', 'IN', 'NNP', ',', 'NNS', 'DT', 'NN', 'CD', '-LRB-', 'DT', '-RRB-', 'JJ', 'NN', 'IN', 'JJ', 'NNP', 'DT', 'NN', 'VBD', 'NN', '.', 'PRP', 'VBP', 'IN', 'CD', 'VBP', 'IN', 'TO', 'VB', 'IN', 'DT', 'NNS', 'MD', 'VB', 'TO', 'VB', '``', 'NNP', 'NNP', 'NN', 'NNS', '.', \"''\", 'NNS', 'IN', 'NN', 'CD', '-LRB-', 'DT', '-RRB-', 'VBP', 'DT', 'JJ', 'IN', 'IN', 'NN', 'IN', 'DT', 'NNP', 'CC', 'PRP', 'NNP', 'NN', 'IN', 'NNP', 'NN', 'IN', 'TO', 'VB', 'PRP', 'RB', '.', 'JJ', 'JJ', 'NNP', ',', 'NNS', 'PRP', 'DT', 'NNS', 'IN', 'NNP', ',', 'VBP', 'DT', 'JJ', 'NN', 'IN', 'NN', '.', 'PRP', 'VB', 'IN', 'IN', 'NN', 'NNS', 'IN', 'VBP', 'NNP', 'IN', 'NN', '.', 'VBP', 'VBP', 'NNS', 'IN', 'DT', 'RB', 'VBN', 'NN', '``', 'NNP', 'NN', \"''\", 'VBZ', 'VB', 'DT', 'JJ', 'NNS', '.', 'IN', 'CC', 'IN', 'DT', 'NNS', 'IN', 'NN', 'IN', 'DT', 'NNP', 'VBP', 'NNS', 'IN', 'NNS', 'WP', 'MD', 'VB', 'VB', 'VBN', 'IN', 'JJ', 'TO', 'DT', 'JJ', 'NN', 'NN', 'NN', '.', 'PRP', 'VBP', 'DT', 'NNP', 'NN', 'VBZ', 'NNP', 'NN', ',', 'VBG', 'NNP', 'CC', 'VBG', 'DT', 'JJ', 'JJ', 'NN', ',', 'IN', 'VBZ', 'JJ', 'NN', 'TO', 'VB', 'VBN', 'IN', 'NNP', ',', 'NNP', 'CC', 'VBG', 'DT', 'NNS', 'CC', 'NNS', 'IN', 'NN', '.', 'PRP', 'VBP', 'PRP$', 'NN', 'IN', 'DT', 'NNP', 'NNP', 'POS', 'NNP', 'CC', 'PRP', 'VBP', 'NN', 'DT', 'NN', 'TO', 'VB', 'RB', 'NN', '.', 'RB', 'JJ', 'NN', 'NNS', 'CC', 'NNS', 'NNS', 'IN', 'PRP', 'IN', 'DT', 'NN', 'IN', 'JJ', 'NNS', 'VBP', 'DT', 'VBZ', 'DT', 'JJ', 'NN', 'VBN', 'IN', 'DT', 'NNP', 'NN', '.', 'NNP', 'NNP', 'VBD', 'NN', 'CC', 'NN', 'NN', 'NN', 'IN', 'DT', 'NNP', 'NNP', 'NNP', 'NNP', 'NNP', 'NNP', ',', 'NNP', '.', 'DT', 'NNP', 'NN', 'CC', 'JJ', 'NNS', 'IN', 'NNP', 'NNP', 'NNP', 'NNP', 'NNP', 'NNP', 'VBD', 'IN', 'NN', 'TO', 'VB', 'DT', 'JJ', 'NN', 'TO', 'VB', 'JJ', 'IN', 'DT', 'NN', 'NNP', 'POS', 'NN', 'IN', 'CD', 'NNS', '.', 'DT', 'JJ', 'NN', 'MD', 'VB', 'TO', 'VB', 'DT', 'NNP', 'POS', 'NNS', ',', 'NNS', 'VBD', '.', '``', 'DT', 'NN', 'VBZ', 'IN', 'DT', 'NN', 'NN', 'MD', 'VB', 'IN', 'IN', 'DT', 'NNP', 'NN', '.', 'CC', 'MD', 'VB', 'VBN', 'IN', 'IN', 'DT', 'JJ', 'NN', ',', \"''\", 'VBD', 'JJ', 'NNP', ',', 'NN', 'NN', 'NN', 'IN', 'NNP', 'NNP', ',', 'JJ', 'NN', 'IN', 'NNP', 'NNP', '.', 'RB', 'PRP$', 'NN', 'VBZ', 'NN', ',', 'DT', 'JJ', 'NN', 'MD', 'VB', 'NN', 'IN', 'NNP', 'NNP', 'TO', 'VB', 'CC', 'NNP', 'NNP', 'NNP', 'POS', 'JJ', 'NN', '.', 'NNP', 'MD', 'VB', 'VBN', 'DT', 'NN', 'CC', 'DT', 'JJ', 'NN', 'TO', 'JJ', 'NN', 'VBZ', 'VBN', 'TO', 'CD', 'DT', 'NN', 'IN', 'JJ', 'NNS', 'IN', 'NNP', 'NNP', 'POS', 'CD', 'JJ', 'NNP', ',', 'NN', 'NNS', 'VBD', '.', 'IN', 'DT', 'NN', 'NNP', 'NN', ',', 'DT', 'NN', 'CC', 'NNP', 'NNP', 'IN', 'NNP', 'MD', 'VB', 'JJ', 'NNS', 'IN', 'DT', 'JJ', 'NN', ',', 'DT', 'CD', 'CD', 'CD', 'CD', 'JJ', '-LRB-', '$', 'CD', 'CD', '-RRB-', '.', 'NNP', 'NNP', 'VBZ', 'TO', 'VB', 'CD', 'CD', 'CD', ',', 'JJ', 'IN', 'PRP', 'IN', 'JJ', 'NN', ',', 'CC', 'VB', 'DT', 'NN', 'NN', 'IN', 'DT', 'JJ', 'NN', '.', 'NNS', 'VBG', 'NNS', 'IN', 'NNP', 'NNP', 'POS', 'NNP', 'NNS', 'VBP', 'VBN', 'TO', 'VB', 'JJ', 'IN', 'DT', 'JJ', 'CD', 'CD', 'CD', 'IN', 'NN', 'NN', ',', 'NN', 'NNS', 'VBD', '.', 'NNP', 'NNP', 'POS', 'NN', 'NN', 'VBZ', 'NNP', 'NNP', 'NNP', 'NNS', 'NNP', '.', 'NNP', ',', 'WDT', 'VBZ', 'CD', 'NNS', 'IN', 'NN', 'IN', 'NNP', 'NNP', ',', 'VBD', 'VBZ', 'IN', '$', 'CD', 'CD', 'NN', 'IN', 'DT', 'NN', 'NN', 'DT', 'NN', '.', 'NNP', 'NNP', 'POS', 'NN', 'NNS', 'VBG', 'NNP', 'IN', 'DT', 'NN', 'NN', '.', 'PRP$', 'NN', 'TO', 'VB', 'VBN', 'NN', ',', 'NN', 'NN', 'NNP', 'VBD', 'PRP', 'VBZ', 'TO', 'VB', 'JJ', 'IN', 'PRP$', 'NN', 'CC', 'NN', 'JJ', 'NNS', 'IN', 'NNP', 'CC', 'DT', 'JJ', 'NNS', 'TO', 'VB', 'PRP$', 'NN', 'CC', 'JJ', 'NN', 'NN', '.', 'IN', 'NNS', ',', 'DT', 'NN', 'NN', 'TO', 'NNP', '$', 'CD', 'CD', 'IN', 'NN', 'IN', 'DT', 'NNS', ',', 'WDT', 'MD', 'RB', 'VB', 'PRP$', 'NN', 'NN', ',', 'DT', 'NN', 'VBD', '.', 'IN', 'NN', ',', 'DT', 'NN', 'VBZ', 'VBN', 'PRP$', 'NN', 'CC', 'NN', 'NN', ',', 'NNP', 'NNP', 'NNP', 'NNP', ',', 'NN', 'IN', 'DT', 'NN', 'POS', 'NN', 'NN', 'NN', ',', 'TO', 'VB', 'NNP', 'NNP', 'NNP', '.', 'NNP', 'NNP', 'VBD', 'PRP', 'VBD', '``', 'JJ', 'VBD', 'IN', 'DT', 'NN', 'NN', 'IN', 'DT', 'NN', 'POS', 'NN', 'IN', 'PRP', 'VBD', 'TO', 'VB', 'DT', 'NN', 'NN', 'DT', 'JJ', 'CD', 'NNS', '.', \"''\", 'NNP', 'IN', 'NNP', 'NNP', 'POS', 'NN', ',', 'NN', 'NN', 'VBD', 'PRP$', 'JJ', 'NN', 'IN', 'NNP', ',', 'NNP', ',', 'TO', 'NNP', 'NNP', ',', 'IN', 'DT', 'NN', 'VBD', 'PRP$', 'NN', 'NN', 'NNS', '.', 'NNP', 'NNP', 'VBZ', 'IN', 'NN', '.', 'NNP', 'NN', 'VBD', 'VBD', 'TO', 'VB', 'VBN', 'IN', 'VBN', 'IN', 'JJ', 'NNP', 'NNP', 'IN', 'NNP', ',', 'NNP', ',', 'CC', 'DT', 'NN', 'NN', 'RB', 'IN', 'DT', 'NN', 'CC', 'VBD', 'VBD', 'IN', 'NN', '.', 'IN', 'NNP', 'NN', 'IN', 'DT', 'NNP', 'NNP', 'NNP', 'NNP', 'NN', ',', 'NNP', 'NN', 'VBD', 'IN', '$', 'CD', 'DT', 'NN', ',', 'RB', 'CD', 'NNS', '.', 'NNP', 'NNP', 'NNP', 'VBD', 'DT', 'CD', 'NN', 'NN', 'IN', 'JJ', 'NNS', ',', 'JJ', 'JJ', 'NNS', 'IN', 'RB', 'IN', 'DT', 'JJ', 'JJ', 'NN', 'NN', 'NN', '.', 'DT', 'NNP', 'NNP', 'NN', 'NNP', '$', 'CD', 'CD', ',', 'CC', 'CD', 'CD', 'DT', 'NN', ',', 'VBN', 'IN', '$', 'CD', 'CD', ',', 'CC', '$', 'CD', 'DT', 'NN', ',', 'DT', 'NN', 'NN', '.', 'NNS', 'IN', 'DT', 'NN', 'NN', 'VBD', '$', 'CD', 'CD', ',', 'DT', 'CD', 'NN', 'NN', 'IN', 'JJ', 'NN', 'POS', '$', 'CD', 'CD', '.', 'IN', 'DT', 'NN', 'NN', 'NNP', 'CD', ',', 'NNP', 'NNP', '$', 'CD', 'CD', ',', 'CC', '$', 'CD', 'DT', 'NN', ',', 'RB', 'CD', 'NN', 'IN', '$', 'CD', 'CD', ',', 'CC', '$', 'CD', 'DT', 'NN', '.', 'DT', 'NN', 'POS', 'NNS', 'VBD', 'DT', 'NN', 'IN', '$', 'CD', 'CD', 'IN', 'DT', 'NN', 'IN', 'NNP', 'NN', '.', 'NNS', 'IN', 'DT', 'NN', 'NN', 'VBD', '$', 'CD', 'CD', ',', 'RB', 'CD', 'NN', 'IN', '$', 'CD', 'CD', '.', 'NNP', 'VBD', 'PRP$', 'JJ', 'NN', 'NNS', 'DT', 'NN', 'IN', 'DT', 'NNP', 'NN', 'IN', 'NNP', ',', 'NNP', ',', 'DT', 'JJ', 'NN', 'IN', 'DT', 'NN', 'NNP', 'NNP', 'IN', 'NNP', 'CC', 'DT', 'NN', 'IN', 'NN', 'NNS', 'DT', 'NN', '.', 'DT', 'NNP', 'NN', ',', 'WDT', 'VBZ', 'NNP', 'NN', 'NNP', 'CC', 'NNP', 'NNP', 'NNS', ',', 'MD', 'VB', 'VBN', 'IN', 'DT', 'JJ', 'NN', 'CC', 'RB', ',', 'DT', 'NN', 'VBD', '.', 'NNP', 'NN', 'PRP$', 'JJ', 'NN', 'VBN', 'TO', 'VB', 'NNS', 'IN', 'NN', 'IN', 'DT', 'NN', 'NN', 'NN', 'IN', 'RB', 'IN', 'JJ', 'NNS', ',', 'WDT', 'JJ', 'JJ', 'NN', 'NNS', '.', 'IN', 'DT', 'NN', ',', 'NN', 'NN', 'NN', 'VBD', 'NN', ',', 'DT', 'NN', 'VBD', '.', 'PRP$', 'NNP', 'NN', 'VBD', 'RB', 'VBG', 'NNS', 'IN', 'NN', 'NN', ',', 'RB', 'RB', 'VBN', 'RB', 'IN', 'NN', '.', 'DT', 'NNP', 'NNP', 'NN', 'VBD', 'IN', 'NNS', 'NNS', 'IN', 'NNP', 'CC', 'IN', 'NN', 'NNP', 'NNS', ',', 'PRP', 'VBD', '.', 'NNP', 'VBD', 'PRP$', 'NNP', 'NNP', 'NN', 'VBD', 'RB', 'IN', 'VBG', 'JJ', 'NNS', 'IN', 'NNP', 'NNP', '.', 'NNP', 'NNP', 'VBD', 'VBD', 'IN', '$', 'NNP', ',', 'IN', '$', 'CD', ',', 'IN', 'NNP', 'NNP', 'NNP', 'NNP', 'NNP', 'NN', '.', 'NNS', 'VBN', 'IN', 'VBD', 'JJ', 'NNS', 'RB', 'NNS', 'IN', 'DT', 'NN', 'IN', 'NNS', 'POS', 'NNS', '.', 'DT', 'NNS', 'VBP', 'VBN', 'IN', 'IN', 'CD', 'CD', 'NNS', ',', 'CC', 'VBD', 'DT', 'NN', 'NN', 'NN', 'IN', 'JJ', 'NNS', 'CD', 'NNS', '.', 'NNS', 'CC', 'JJ', 'JJ', 'JJ', 'NNS', 'VBP', 'VBN', '.', 'DT', 'JJ', 'NN', 'NN', 'NN', 'NNS', 'IN', 'DT', 'NN', 'NNS', 'IN', 'IN', 'CD', 'CD', 'NNS', 'VBP', 'JJ', 'NNS', 'IN', 'DT', 'JJ', 'CD', 'NNS', '.', 'NNP', ',', 'JJ', 'NNS', 'VBZ', 'VBN', 'IN', 'DT', 'NNP', 'NN', '.', 'DT', 'NNP', 'NNP', 'VBD', 'PRP', 'VBD', 'PRP$', '$', 'CD', 'CD', 'CD', 'NN', 'IN', 'VBN', 'IN', 'NNP', 'NNP', 'NNP', ',', 'DT', 'NNP', 'NN', 'VBG', 'NN', '.', 'DT', 'JJ', 'NNP', 'NNP', 'IN', 'DT', 'JJ', 'NN', 'VBZ', 'VBG', 'JJ', 'NN', 'IN', 'DT', 'NNP', 'NN', 'NN', '.', 'DT', 'JJ', 'NNS', 'VBP', 'RB', 'NNP', 'IN', 'NNP', 'VBP', 'VBG', 'TO', 'VB', 'VB', 'NNP', 'NNP', 'CC', 'NNP', 'TO', 'VB', 'DT', 'VBD', 'NNP', 'JJ', 'NN', 'TO', 'NN', 'IN', 'JJ', 'NN', 'JJ', 'NNS', '.', 'NNP', 'NNP', 'NNS', 'VBP', 'VBN', 'CD', 'NN', 'DT', 'NN', 'IN', 'DT', 'NN', 'NN', '.', 'NNP', 'NNS', 'CC', 'DT', 'NNP', 'VBP', 'NNP', 'DT', 'JJ', 'NN', 'IN', 'NN', '.', 'CC', 'DT', 'NN', 'NNS', 'VBP', 'NNS', 'IN', 'JJ', 'NNS', 'VB', 'NNP', 'DT', 'NN', 'IN', 'JJ', 'NNP', 'TO', 'VB', 'VB', 'IN', 'DT', 'NN', 'TO', 'VB', 'PRP$', 'NNS', 'TO', 'DT', 'NN', '.', 'DT', 'JJ', 'NN', 'VBD', 'CD', 'CD', 'CD', 'CD', 'IN', 'NNP', 'NNP', 'IN', 'NNP', ',', 'WDT', 'VBZ', 'DT', 'JJ', 'NN', 'VBN', 'TO', 'DT', 'JJ', 'NN', 'IN', 'CD', 'NN', 'IN', 'DT', 'NNP', '.', 'DT', 'JJ', 'NN', 'VBZ', 'RB', 'IN', 'PRP', 'NNP', 'IN', 'NNP', ',', 'WDT', 'MD', 'VB', 'DT', 'NN', 'IN', 'JJ', 'NNS', '.', 'CC', 'PRP', 'VBZ', 'JJ', 'JJ', 'DT', 'NN', 'NN', 'IN', 'JJ', 'NN', 'NNS', 'IN', 'DT', 'NNP', 'NNP', ',', 'IN', 'WDT', 'RB', 'RB', 'IN', 'DT', 'NNP', 'NN', 'IN', 'VBZ', 'VBN', 'NNS', '.', '``', 'PRP', 'VBP', 'NNS', 'DT', 'JJ', 'NN', 'IN', 'DT', 'JJ', 'IN', 'NN', 'NN', 'TO', 'DT', 'NN', 'IN', 'NN', ',', \"''\", 'VBD', 'NNP', 'NNP', ',', 'DT', 'NNP', 'NNP', 'NNP', 'NNP', 'NN', '.', '``', 'PRP', 'VBZ', 'RB', 'TO', 'VB', 'JJ', 'NN', '.', \"''\", 'RB', 'IN', 'JJ', 'JJ', 'NN', 'IN', 'DT', 'NNP', 'NNP', ',', 'DT', 'JJ', 'NN', 'IN', 'DT', 'JJ', 'NN', 'IN', 'DT', 'NNP', 'NNP', 'VBZ', 'RB', 'JJ', 'IN', 'JJ', 'NNP', 'NNS', 'VBP', 'RB', 'VBG', 'DT', 'NNS', 'IN', 'NNP', 'PRP$', 'NNP', 'NN', 'IN', 'CD', 'NN', '.', 'IN', 'DT', 'JJ', 'NNS', ',', 'JJ', 'NNP', 'RB', 'RB', 'RB', 'VB', 'VB', 'TO', 'VB', 'RB', 'VBN', 'NNP', 'IN', 'NNP', 'NNP', 'IN', 'DT', 'NNP', 'NNP', 'NNP', 'IN', 'NNS', 'VBZ', 'JJ', 'TO', 'VB', 'DT', 'NN', 'IN', 'DT', 'NNP', 'NNP', ',', 'WDT', 'NNP', 'IN', 'DT', 'NNP', 'NNP', '.', 'DT', 'NNP', 'NNP', 'VBZ', 'VBG', 'DT', 'NN', 'IN', 'DT', 'NNP', 'NNP', 'IN', 'CD', 'NNS', 'VBD', 'IN', 'NN', 'RB', 'IN', 'JJ', 'NN', 'NNS', 'IN', 'DT', 'NNP', 'IN', 'VBP', 'PRP', '.', 'NNP', 'NNS', 'IN', 'DT', 'NNP', 'NNP', 'NNP', 'NN', 'IN', 'NN', 'DT', 'NN', 'RB', 'DT', 'NN', 'IN', 'DT', 'NNP', 'MD', 'VB', 'NNP', 'DT', 'NN', '.', 'CC', 'DT', 'NNP', 'NNP', 'IN', 'NNS', 'VBZ', 'DT', 'NNP', 'NN', 'TO', 'VB', 'VBG', 'DT', 'NN', '.', 'IN', 'NNP', 'NNP', ',', 'DT', 'JJ', 'NN', 'IN', 'DT', 'NNP', 'NNP', 'VBZ', 'RB', 'CD', 'RB', 'IN', 'NN', 'CC', 'PRP', 'MD', 'VB', 'DT', 'JJ', 'CD', 'RB', 'IN', 'DT', 'NN', 'IN', 'DT', 'NNP', 'NNP', 'VBZ', 'NNP', ',', 'DT', 'NNP', 'NNP', 'NN', 'VBD', '.', 'JJ', 'JJ', 'NNP', 'NNP', 'NNS', 'IN', 'NN', 'IN', 'DT', 'NN', 'IN', 'DT', 'NN', 'NN', 'IN', 'CD', 'NNS', '.', 'RB', 'RB', ',', 'DT', 'NN', 'NN', 'POS', 'NNP', 'NNP', 'NNS', 'VBP', 'RB', 'VBN', 'DT', 'JJ', 'NN', 'IN', 'DT', 'NN', 'IN', 'JJ', 'NNS', 'IN', 'DT', 'NNP', 'NN', 'IN', 'NN', '.', 'JJ', 'NN', 'NNS', 'CC', 'NNP', 'IN', 'DT', 'NN', 'IN', 'DT', 'NNP', 'NNS', 'NNS', 'NNS', 'IN', 'TO', 'VB', 'DT', 'NN', 'PRP', 'VBP', 'TO', 'VB', 'VB', 'IN', 'NNS', '.', 'IN', 'DT', 'NN', 'IN', 'NNP', 'VBD', 'DT', 'NN', 'IN', 'DT', 'NNP', 'NN', 'IN', 'NNP', 'NN', 'VBD', 'CD', 'CD', 'DT', 'JJ', 'TO', 'VB', 'IN', '$', 'CD', 'DT', 'NN', '.', 'NNP', 'NNS', 'VBP', 'VBN', 'VBN', 'DT', 'NN', 'VBG', 'DT', 'JJ', 'JJ', 'NNS', 'IN', 'DT', 'NNP', 'VBZ', 'VBN', 'NNS', 'TO', 'JJ', 'DT', 'NNP', 'NNP', 'IN', 'DT', 'CD', 'NN', '.', 'IN', 'DT', 'NNP', 'NNP', 'NN', ',', 'RB', ',', 'DT', 'NNS', 'VBP', 'NNP', 'IN', 'NNS', 'MD', 'VB', 'IN', 'DT', 'NNS', 'IN', 'NNP', 'JJ', 'NN', 'TO', 'NNP', 'DT', 'NN', 'PRP', 'VBP', 'VBN', 'TO', 'VB', '.', 'NNS', 'VBP', 'IN', 'DT', 'JJ', 'NN', 'IN', 'JJ', 'NNS', 'TO', 'VB', 'RB', 'JJ', 'NNS', '.', 'IN', 'DT', 'JJ', 'NN', 'NNP', 'NNP', ',', 'PRP', 'VBP', 'RB', 'IN', 'RB', 'JJ', 'NN', 'IN', 'PRP$', 'JJ', 'NN', ',', 'CC', 'DT', 'NNP', 'PRP', 'TO', 'VB', 'IN', 'NNS', 'TO', 'VB', '.', 'IN', 'NNS', 'IN', 'NNP', ',', 'IN', 'NN', ',', 'DT', 'NN', 'NNS', 'VBP', 'JJ', 'NNS', '$', 'CD', 'DT', 'NN', 'IN', 'NN', '.', 'DT', 'NNS', 'RB', 'MD', 'VB', 'VB', 'IN', 'NNS', 'VBD', 'IN', 'CD', 'CD', 'CD', 'DT', 'NN', ',', 'VBD', 'NNP', 'NNP', ',', 'NN', 'IN', 'NNP', 'NNP', 'CC', 'NNP', 'NNP', 'NNP', 'IN', 'NNP', ',', 'NNP', '.', 'PRP', 'VBZ', 'RB', 'RB', ',', 'RB', ',', 'WP', 'MD', 'VB', 'DT', 'NN', 'NN', '.', 'RB', 'NNP', 'NNP', 'NNP', 'NNP', 'IN', 'CD', 'RB', 'IN', 'DT', 'NN', 'IN', 'DT', 'NN', ',', 'DT', 'NNP', 'NNP', 'NNS', 'IN', 'CD', 'NN', 'IN', 'DT', 'NNP', 'MD', 'RB', 'VBN', 'IN', 'NN', 'IN', 'DT', 'CD', 'NNP', 'NNP', 'NN', '.', 'DT', 'NNS', 'VBP', 'VBP', 'IN', 'NNS', 'IN', 'DT', 'NN', 'NN', 'POS', 'NNS', 'MD', 'VB', 'NNS', 'TO', 'VB', 'NNS', 'IN', 'NNS', 'NNS', ':', 'DT', 'TO', 'VB', 'JJ', 'NN', '.', '``', 'DT', 'NN', 'VBZ', 'VBG', 'DT', 'NN', 'IN', 'IN', 'NN', 'IN', 'VBZ', 'JJ', 'IN', 'NN', 'TO', 'VB', 'VBN', ',', \"''\", 'VBD', 'NNP', 'NNP', ',', 'NNP', 'NNP', 'NNP', 'NN', '.', 'RB', 'RB', 'IN', 'DT', 'NN', 'POS', 'NN', 'NN', 'VBZ', 'TO', 'JJ', 'NNP', 'IN', 'NNP', ',', 'PRP', 'VBZ', 'JJ', 'IN', 'NN', 'TO', 'VB', 'DT', 'NNP', 'NNP', 'IN', 'NNP', 'DT', 'JJ', 'NN', 'IN', 'NN', 'IN', 'NN', 'TO', 'DT', 'NN', '.', 'NNP', 'IN', 'DT', 'NNP', 'NNP', 'CC', 'NNP', 'NNP', 'MD', 'RB', 'NNP', 'NN', 'IN', 'NNP', 'NNP', '.', 'DT', 'NN', ',', 'IN', 'NN', ',', 'VBZ', 'RB', 'VBG', 'PRP$', 'NN', 'NNP', 'NN', 'IN', 'NNP', 'TO', 'NNP', '.', 'CC', 'PRP', 'VBZ', 'RB', 'RB', 'IN', 'DT', 'JJ', 'NN', 'MD', 'VB', 'IN', 'PRP$', 'JJ', 'NN', 'NN', '.', 'DT', 'JJ', 'NNS', 'VBD', 'NNP', 'IN', 'DT', 'NN', 'IN', 'NNP', 'IN', 'IN', 'NNS', '.', 'DT', 'JJ', 'NN', 'RB', 'VBZ', 'VBG', 'NNP', 'JJ', 'VBD', 'IN', 'DT', 'NN', '.', 'CC', 'PRP$', 'NNS', 'VBD', 'VBD', 'NNP', 'IN', 'DT', 'NN', 'IN', 'PRP$', 'NN', 'NN', 'IN', 'RB', 'IN', 'JJ', 'NNS', '.', 'IN', 'JJ', 'NN', 'NNS', 'NN', ':', 'NN', ':', 'NNS', 'NN', 'NNS', 'NNS', 'VBN', 'IN', 'JJ', 'NN', ',', 'RB', 'RB', 'IN', 'DT', 'NN', 'VBD', 'IN', 'JJ', 'NN', '.', 'NNS', 'VBD', 'IN', 'DT', 'NN', 'IN', 'DT', 'NN', ',', 'NN', 'NN', 'VBD', 'VBN', 'IN', 'DT', 'NN', ',', 'NNP', 'DT', 'RB', 'JJ', 'JJ', 'NN', '.', 'JJ', 'NN', 'IN', 'NNP', 'NN', 'VBD', 'IN', 'NNP', 'CD', 'DT', 'NN', ',', 'RB', 'DT', 'NN', 'IN', 'DT', 'NNP', 'NNP', 'NNP', 'NN', '.', 'NNP', 'NNP', 'NNP', 'IN', 'NNP', 'NN', 'NNP', 'CD', 'CD', 'TO', '$', 'CD', 'DT', 'NN', '.', 'NNP', 'NNS', 'VBD', 'DT', 'NN', 'IN', 'VBG', 'NN', '.', 'NNP', 'NNS', ':', 'NNS', 'NNS', 'NNS', 'IN', 'NN', 'NN', 'CC', 'NN', 'VBD', 'IN', 'DT', 'NNS', 'NNS', '.', 'NNP', 'NN', 'VBD', 'VBD', '$', 'CD', 'DT', 'NN', 'TO', '$', 'NN', '.', 'NNP', 'NNP', 'VBD', 'NNP', 'NNP', 'DT', 'NN', 'TO', '$', 'NN', '.', 'NNP', 'NNP', 'VBD', 'RB', '$', 'CD', 'DT', 'NN', 'IN', '$', 'NN', '.', 'NNP', 'NNS', ',', 'VBD', 'IN', 'NN', ',', 'VBZ', 'VBP', 'VBN', 'JJ', 'RB', 'IN', 'NN', 'NN', 'NNS', 'IN', 'DT', 'NN', 'IN', 'NNS', 'VB', 'JJ', 'NN', 'NN', ',', 'VBD', 'TO', 'NNP', 'NNP', ',', 'NN', 'NN', 'IN', 'NN', 'IN', 'NNP', 'NNS', 'IN', 'NNP', 'NNP', '.', '``', 'DT', 'JJ', 'NN', 'IN', 'NNP', 'NNS', 'VBD', 'DT', 'NN', 'IN', 'NN', 'CC', 'NN', 'IN', 'NNP', ',', \"''\", 'PRP', 'VBD', '.', 'NN', ',', 'DT', 'NN', 'NN', 'VBD', 'RB', ',', 'VBG', 'DT', 'JJ', 'JJ', 'NN', 'NNS', 'NNS', 'NNS', 'NNS', ',', 'PRP', 'VBD', '.', 'NNP', 'CC', 'NNP', ',', 'WDT', 'VBP', 'RB', 'IN', 'DT', 'NN', 'NN', 'IN', 'NN', ',', 'VBD', 'RB', 'NNS', ',', 'PRP', 'VBD', '.', 'NNP', 'VBZ', 'RB', 'IN', 'NN', 'IN', '``', 'JJ', 'JJ', \"''\", 'NNS', 'IN', 'NNP', 'IN', 'DT', 'NN', 'NN', ',', 'PRP', 'VBD', '.', 'NN', ',', 'JJ', 'NNS', 'VBD', 'IN', 'NNP', 'CD', 'TO', 'DT', 'NN', 'IN', 'NNP', 'CD', ',', 'VBD', 'TO', 'DT', 'NN', 'NN', '.', 'NNP', ':', 'NNS', 'NNS', 'VBN', 'VBN', 'NNP', 'POS', 'NNS', 'IN', 'NNP', 'NNP', 'NN', 'TO', 'VB', '.', 'DT', 'NNP', 'NN', 'VBD', 'CD', 'CD', 'DT', 'NN', 'TO', '$', 'NN', '.', 'IN', 'NNP', ',', 'NNS', 'IN', 'CD', 'NNP', 'NNP', ',', 'NNP', 'NNP', 'CC', 'NNP', 'NNP', ',', 'WDT', 'VBP', 'TO', 'DT', 'NNP', 'NNP', 'NNP', ',', 'VBD', 'VBD', 'TO', 'VB', 'DT', 'JJ', 'NN', 'NN', ',', 'DT', 'NN', 'VBD', '.', 'NNS', 'IN', 'DT', 'NNP', ',', 'DT', 'NNP', 'VBD', ',', 'VBD', 'DT', 'JJ', 'IN', 'NNP', 'NNS', ',', 'JJ', 'IN', 'DT', 'NN', 'TO', 'NN', '.', 'DT', 'NN', 'VBD', 'IN', 'RB', 'JJ', 'IN', 'DT', 'JJ', 'NNS', 'VBD', 'DT', 'JJ', 'NN', 'TO', 'NNS', '.', 'IN', 'DT', 'NN', 'IN', 'NNP', ',', 'PRP', 'VBD', ',', 'DT', 'NNP', 'NNP', 'IN', 'NNS', 'VBD', 'VBN', 'IN', 'NN', 'IN', 'NNS', 'NNS', 'IN', 'DT', 'JJ', 'NN', 'VBZ', 'JJ', 'VBG', 'NN', 'IN', 'DT', 'NN', '.', 'RB', 'VBG', 'TO', 'DT', 'NNP', 'IN', 'NNP', ',', 'DT', 'NNP', 'VBD', ',', 'VBD', 'DT', 'NN', 'IN', 'NNP', 'NN', 'NNS', ',', 'WDT', 'NNP', 'DT', 'JJ', 'NN', 'NNS', 'POS', 'NN', 'WDT', 'VBZ', 'VBN', 'IN', 'NN', 'CC', 'VBZ', 'DT', 'NN', 'IN', 'IN', 'DT', 'NN', 'NN', 'MD', 'VB', '.', 'DT', 'NN', 'NN', 'NNP', 'IN', 'NNP', 'POS', 'NNP', 'NN', 'VBD', 'TO', 'CD', 'NN', 'IN', 'CD', 'JJ', 'NNS', 'IN', 'NNP', 'IN', 'CD', 'NN', '.', 'DT', 'NNP', 'NN', 'VBD', 'CD', 'NN', '.', 'DT', 'NN', 'IN', 'CD', 'NN', 'RB', 'VBZ', 'DT', 'NN', 'IN', 'DT', 'JJ', 'NN', 'IN', 'DT', 'NN', ',', 'IN', 'DT', 'NN', 'IN', 'CD', 'NN', 'CD', 'TO', 'NN', '.', 'DT', 'NNP', 'NN', 'VBD', 'DT', 'NN', 'IN', 'DT', 'NNP', 'NN', 'IN', 'DT', 'NNP', 'NNP', 'IN', 'NN', 'NN', 'MD', 'RB', 'VBN', 'DT', 'NN', 'IN', 'CD', 'NN', '.', 'NNP', 'NNP', 'NNP', 'CD', 'NNS', 'IN', 'PRP$', 'NN', 'NN', 'IN', 'NNP', 'NNS', 'CC', 'VBD', 'NNP', 'NNP', 'NN', 'TO', 'VB', 'DT', 'NN', 'PRP', 'TO', 'VB', 'IN', 'DT', 'JJ', 'NN', 'IN', 'DT', 'NN', 'IN', 'NNS', '.', 'DT', 'JJ', 'NN', 'VBZ', 'VBN', 'IN', 'NNP', 'NNP', 'POS', 'NNP', 'NN', 'VBG', 'NN', 'NN', '.', 'NNP', 'NNP', 'VBD', 'DT', 'CD', 'NN', 'NN', 'IN', 'JJ', 'NNS', ',', 'IN', 'VBN', 'NN', 'JJ', 'VBD', 'TO', 'VB', 'NN', 'IN', 'NN', 'CC', 'CC', 'NN', 'NN', '.', 'DT', 'NN', 'POS', 'NN', 'NN', 'VBD', '$', 'CD', 'CD', ',', 'CC', 'CD', 'CD', 'DT', 'NN', ',', 'VBN', 'IN', 'DT', 'JJ', '$', 'CD', 'CD', ',', 'CC', 'CD', 'CD', 'DT', 'NN', '.', 'DT', 'JJ', 'NN', 'VBZ', 'NN', 'NNS', 'IN', '$', 'CD', 'CD', 'IN', 'NN', 'NNS', ',', 'IN', 'IN', 'NNS', 'IN', 'DT', 'JJ', 'JJ', 'CD', '$', 'CD', 'CD', '.', 'IN', 'DT', 'CD', 'NN', ',', 'NNP', 'RB', 'VBD', 'DT', '$', 'CD', 'CD', 'JJ', 'NN', 'IN', 'DT', 'NN', 'NN', 'NN', '.', 'NNS', 'VBD', 'CD', 'NN', 'TO', '$', 'CD', 'CD', 'IN', '$', 'CD', 'CD', '.', 'DT', 'NNS', 'NN', 'VBZ', 'JJ', 'JJ', 'IN', 'NN', 'IN', 'JJ', 'NN', 'POS', 'JJ', 'JJ', 'JJ', 'NN', ',', 'IN', 'DT', 'NN', 'VBD', 'NNP', 'DT', 'NN', 'NN', 'IN', 'NN', 'CC', 'NNS', '.', 'RB', ',', 'JJ', 'VBG', 'NNS', 'VBD', 'CD', 'NN', ',', 'IN', 'NNP', 'VBD', 'JJ', 'NN', 'IN', 'PRP$', 'NN', 'CC', 'NNP', 'NNS', ',', 'VBG', 'NN', 'IN', 'NNS', 'NNS', '.', 'IN', 'NNS', 'IN', 'VBP', 'TO', 'VB', ',', 'RB', ',', 'DT', 'NN', 'POS', 'NN', 'NN', 'VBD', 'TO', 'VB', 'IN', 'JJ', 'NN', 'IN', 'PRP$', 'JJ', 'NNS', 'IN', 'DT', 'NN', 'NN', 'CC', 'JJ', 'NNS', '.', 'NNP', 'NNP', ',', 'DT', 'NN', 'IN', 'NNP', 'NNP', ',', 'VBD', 'IN', 'DT', 'NN', 'IN', 'DT', 'NNP', 'NN', ',', 'NN', 'IN', 'JJ', 'NN', 'NNS', ',', 'RB', 'NNP', 'NNS', '.', 'NNP', ',', 'NNP', 'NNS', 'RB', 'IN', 'JJ', 'NNP', ',', 'CC', 'DT', 'JJ', 'NN', 'VBZ', 'VBN', 'IN', 'JJ', 'JJ', 'NN', 'NN', '.', 'DT', 'NN', 'VBN', 'JJ', 'NNS', 'CC', 'NNS', 'IN', 'DT', 'NN', 'NN', 'TO', 'DT', 'NN', 'IN', 'NNS', 'IN', 'DT', 'NNP', ',', 'NNP', ',', 'NN', ',', 'WDT', 'RB', 'VBZ', 'DT', 'JJ', 'NN', 'NN', 'IN', 'NNP', 'POS', 'NNP', 'NNP', 'NNP', '.', 'IN', 'DT', 'NN', 'NN', ',', 'VBG', 'NNS', 'VBD', 'CD', 'NN', 'TO', '$', 'CD', 'CD', '.', 'NNS', 'CD', 'NN', 'IN', 'NNP', 'VBN', 'VBD', 'TO', 'IN', '$', 'CD', 'DT', 'NN', 'IN', '$', 'CD', 'DT', 'NN', 'NN', 'NN', 'CC', '$', 'CD', 'DT', 'NN', 'IN', 'DT', 'JJ', 'NN', ',', 'NNS', 'VBD', '.', 'RB', ',', 'NNP', 'RB', 'RB', 'IN', 'JJ', 'JJ', 'NN', ',', 'NNP', 'JJR', 'CD', 'NN', 'IN', 'NN', 'VBN', 'IN', 'RB', 'NNP', 'NNP', 'NNP', ',', 'WDT', 'VBD', 'DT', 'NN', 'NN', 'NN', 'IN', 'JJ', 'NN', ',', 'CC', 'NNP', 'NNP', 'NNP', 'NNP', ',', 'JJ', 'NNS', 'CD', 'CD', 'NN', '.', 'IN', 'NNP', 'NNP', 'NNP', 'NNP', 'NNP', 'NN', 'NN', ',', 'NNP', 'NNS', 'VBD', 'RB', '$', 'CD', ',', 'IN', '$', 'NNP', ',', 'IN', 'DT', 'JJ', 'NNS', 'NNP', 'NNP', 'IN', 'DT', 'NNS', 'WP', 'VBD', 'RB', 'VBN', 'IN', 'JJ', 'DT', 'NN', 'IN', 'NN', 'NNS', '.', 'DT', 'NN', 'IN', 'DT', 'NN', 'POS', 'NN', 'MD', 'RB', 'NNS', 'DT', 'NN', 'IN', 'NNP', 'POS', 'NN', 'JJ', 'RB', 'RB', 'IN', 'DT', 'JJ', 'NN', 'NNS', '.', 'NNP', 'NNP', ',', 'DT', 'NN', 'IN', 'NNP', 'NNP', 'NNP', 'NNS', ',', 'VBD', 'NNP', 'MD', 'VBP', 'VBD', 'NNS', 'VBD', 'IN', 'NNS', 'WP', 'VBD', 'VBN', 'IN', 'NN', 'NNS', 'VBD', 'DT', 'NN', '.', 'PRP', 'VBD', 'NNP', 'RB', 'VBD', 'TO', 'VB', 'DT', 'JJ', 'NN', 'IN', 'NN', 'NNS', ',', 'JJ', 'IN', 'DT', 'JJ', 'JJ', 'NN', 'CC', 'JJ', 'NNP', 'NN', ',', 'IN', 'JJ', 'JJ', 'NNS', '.', 'DT', 'NN', 'NN', ',', 'IN', 'DT', 'CD', 'NN', 'NN', 'IN', 'VBG', 'NNS', ',', 'VBZ', 'RB', 'DT', 'NN', 'POS', 'NN', '.', 'JJ', 'NNS', 'NN', 'NNS', 'VBD', 'VB', 'JJ', 'NNS', 'IN', 'DT', 'NNP', 'NN', 'NNP', 'NN', 'TO', '$', 'CD', 'CD', 'IN', '$', 'CD', 'CD', '.', 'DT', 'NNP', 'NN', 'CC', 'NNP', 'NNP', 'VBZ', 'TO', 'VB', 'IN', 'DT', 'NNP', ',', 'RB', 'JJ', 'NNP', 'TO', '$', 'CD', 'CD', 'IN', '$', 'CD', 'CD', '.', 'NNP', 'VBD', 'IN', 'NNP', 'IN', 'PRP', 'VBD', 'JJ', 'NNS', 'TO', 'VB', 'NNP', 'POS', 'NN', 'CC', 'NN', 'NNS', '.', 'NN', 'IN', 'DT', 'NN', 'VBP', 'TO', 'VB', 'VBN', 'TO', 'VB', 'NN', 'CC', 'NNS', 'PRP', 'NNS', '.', 'DT', 'NN', 'VBD', 'IN', 'PRP', 'VBZ', 'VBN', 'NN', 'IN', '$', 'CD', 'CD', 'IN', 'DT', 'NN', 'IN', 'CD', 'CC', 'VBD', 'RB', 'IN', 'JJ', 'CD', 'NNS', 'IN', 'JJ', 'NN', 'IN', 'DT', 'JJ', 'NN', 'IN', 'CD', '.', 'NNP', 'VBZ', 'IN', '$', 'CD', 'CD', 'IN', 'JJ', 'NN', 'CC', 'NNP', 'CD', 'NNS', 'NN', '.', 'DT', 'NN', 'NN', 'IN', 'DT', 'NNS', 'VBD', 'VBN', 'IN', 'NN', 'DT', 'NN', 'NNP', 'NNP', 'VBD', 'VBN', 'PRP$', 'NN', 'IN', 'NNP', 'TO', 'CD', 'NN', 'CC', 'VBD', 'DT', 'NN', 'CC', 'JJ', 'NN', 'NN', '.', 'NNP', 'NNP', 'VBZ', 'VBD', 'PRP', 'VBZ', 'NNP', 'MD', 'VB', 'VBN', 'RB', 'MD', 'RB', 'RP', 'IN', 'NN', 'CC', 'NN', 'NNS', '.', 'NNS', 'IN', 'DT', 'CD', 'NNS', 'VBD', 'CD', 'NN', 'TO', '$', 'CD', 'CD', ',', 'CC', '$', 'CD', 'DT', 'NN', ',', 'IN', '$', 'CD', 'CD', ',', 'CC', '$', 'CD', 'DT', 'NN', '.', 'NNS', 'VBD', 'CD', 'NN', 'TO', '$', 'CD', 'CD', 'IN', '$', 'CD', 'CD', '.', 'NNP', 'NNP', 'NNP', ',', 'CD', ',', 'NNP', 'NN', 'NN', 'NN', 'CC', 'NN', 'JJ', 'NN', ',', 'VBD', 'VBN', 'NN', 'CC', 'NN', 'JJ', 'NN', ',', 'NNS', 'WDT', 'VBD', 'VBN', 'VBN', '.', 'NNP', 'NNP', 'NN', ',', 'NN', 'NN', 'CC', 'NN', 'JJ', 'NN', 'IN', 'DT', 'NN', 'NN', 'NN', ',', 'CC', 'NNP', 'NNP', 'NNP', ',', 'DT', 'NN', 'IN', 'NNP', 'NNP', 'POS', 'NNP', 'NN', 'IN', 'NN', ',', 'VBD', 'VBN', 'NNS', ',', 'VBG', 'NN', 'NN', 'TO', 'CD', '.', 'NNP', 'NNP', 'NNP', ',', 'NN', 'IN', 'JJ', 'NNP', 'NN', ',', 'VBD', 'VBN', 'TO', 'DT', 'JJ', 'NN', 'IN', 'NNP', 'NN', 'NN', ',', 'NN', 'NNS', ',', 'IN', 'DT', 'NN', ',', 'NN', 'CC', 'NN', 'NNS', 'NN', ',', 'NNP', 'NNP', 'NNP', 'NNP', ',', 'WP', 'VBD', 'VBN', 'NN', 'CC', 'NN', 'VBG', 'NN', 'IN', 'NNP', '.', 'CD', 'JJ', 'NNP', 'NNS', 'VBD', 'NN', 'NNP', 'VBZ', 'RB', 'VB', 'DT', 'JJ', 'NN', 'TO', 'VB', 'DT', 'JJ', 'NN', '.', 'NNP', 'NNP', 'NNP', 'IN', 'DT', 'NN', 'IN', 'NNP', 'CC', 'NNP', 'NNP', 'IN', 'NNP', 'NNP', 'NNP', 'VBD', 'DT', 'NN', 'IN', 'NN', 'NNP', 'TO', 'VB', 'NN', 'IN', 'DT', 'JJ', 'NN', 'MD', 'VB', 'DT', 'NN', 'IN', 'DT', 'NN', 'CC', 'DT', 'NN', 'IN', 'PRP$', 'NNS', ',', 'IN', 'RB', 'IN', 'DT', 'NNS', 'IN', 'JJ', 'NNS', '.', 'DT', 'JJ', 'NN', 'VBZ', 'DT', 'NN', 'IN', 'MD', 'VB', 'DT', 'NN', 'TO', 'VB', 'NN', 'IN', 'DT', 'JJ', 'JJ', 'NN', 'NN', 'IN', 'VBD', 'TO', 'NNP', 'DT', 'NN', 'NN', '.', 'NNP', 'NNP', 'VBZ', 'VBD', 'PRP', 'MD', 'RB', 'TO', 'VB', 'VB', 'TO', 'VB', 'DT', 'NN', '.', 'DT', 'NNP', 'NNP', 'NN', 'VBD', 'VBD', 'NN', 'IN', 'DT', 'NN', 'VBZ', 'VBG', 'VBG', 'IN', 'DT', 'NNP', 'NNP', 'VBZ', 'PRP', 'DT', 'NN', 'IN', 'DT', 'JJ', 'NN', 'TO', 'VB', 'DT', 'NN', 'NN', '.', 'CC', 'DT', 'CD', 'JJ', 'NNS', ',', 'VBG', 'TO', 'DT', 'NN', 'IN', 'NNP', 'NNP', 'NNP', '-LRB-', 'NNP', ',', 'NNP', '-RRB-', ',', 'VBD', 'IN', 'DT', 'NN', 'NN', 'IN', 'DT', 'NN', '``', 'VBZ', 'DT', 'JJ', 'NN', 'TO', 'VB', 'DT', 'JJ', 'NN', '.', \"''\", 'DT', 'CD', 'JJ', 'NNS', 'JJ', 'NN', 'IN', 'DT', 'JJ', 'NNP', ':', 'NNP', 'NNP', 'VBZ', 'DT', 'NN', 'CC', 'NNP', 'NNP', 'VBZ', 'DT', 'NN', '.', 'DT', 'CD', 'NNP', 'VBD', 'DT', 'NNP', 'NNP', 'DT', 'NN', 'TO', 'VB', 'NN', 'NNS', ',', 'RB', 'JJ', 'NN', '.', 'NNS', ',', 'PRP', 'VBD', 'DT', 'JJ', 'JJ', 'NN', 'VBD', 'CD', 'NNS', 'VBN', 'VBN', 'JJ', 'JJ', 'NNS', ',', 'CC', 'DT', 'VBD', 'DT', 'NN', 'IN', 'DT', 'JJ', 'NN', '.', 'PRP', 'RB', 'VBD', 'WDT', 'RB', 'IN', 'DT', 'JJ', 'NNS', 'VBP', 'VBN', 'IN', 'JJ', 'JJ', 'NN', 'IN', 'DT', 'JJ', 'NN', ',', 'CC', '``', 'CC', 'VBP', 'NNP', 'DT', 'NN', 'IN', 'JJ', 'NNP', 'NN', 'VBZ', 'VBG', 'DT', 'NN', \"''\", 'IN', 'DT', 'NN', '.', 'NNP', 'NNP', 'VBD', 'IN', 'DT', 'JJ', 'NN', 'IN', 'PRP', 'NNP', 'NN', 'TO', 'VB', 'DT', 'NN', 'JJ', 'NN', 'NN', ',', 'RB', 'IN', 'PRP', 'MD', 'VB', 'DT', '``', 'JJ', 'NN', 'IN', 'NN', \"''\", 'IN', 'NN', 'NNP', 'TO', 'VB', 'DT', 'NN', 'IN', 'JJ', 'NN', '.', 'NNP', 'NNP', 'NNP', 'VBD', 'PRP', 'VBD', 'DT', 'JJ', 'NN', 'TO', 'VB', 'CD', 'CD', 'CD', 'TO', 'NNP', 'NNP', 'NNP', 'IN', 'NNP', '.', 'NNS', 'VBD', 'RB', 'VBN', '.', 'NNP', 'VBD', 'PRP', 'VBZ', 'TO', 'VB', 'NN', 'IN', 'DT', 'JJ', 'NN', 'IN', 'NN', 'NN', '.']\n",
            "Test[0]:  \n",
            "['NNP', 'NNP', 'NNP', ',', 'NNP', 'NNP', ',', 'NNP', ',', 'VBD', 'PRP', 'VBD', 'CD', 'CD', 'NNS', ',', 'CC', 'IN', 'CD', 'NN', ',', 'IN', 'PRP$', 'JJ', 'NN', 'IN', 'DT', 'JJ', 'NN', 'IN', '$', 'CD', 'DT', 'NN', ',', 'CC', '$', 'CD', 'CD', '.']\n"
          ]
        }
      ],
      "source": [
        "from sklearn.metrics import accuracy_score\n",
        "from sklearn.metrics import precision_score\n",
        "from sklearn.metrics import recall_score\n",
        "from sklearn.metrics import f1_score\n",
        "from sklearn.metrics import confusion_matrix\n",
        "\n",
        "\n",
        "y_test_classes = y_test_padded\n",
        "# predict probabilities for test set\n",
        "yhat_probs = baseline_model.predict(X_test, verbose=0)\n",
        "# predict crisp classes for test set\n",
        "yhat_classes = baseline_model.predict(X_test, verbose=0)\n",
        "yhat_classes = np.argmax(yhat_classes,axis=-1).flatten()\n",
        "def show_tags (v):\n",
        "    result=[]\n",
        "    [result.append(tag_tokenizer.index_word[x].upper()) for x in v if x != 0 ]\n",
        "    return(result)\n",
        "def show_tokens (v):\n",
        "    result=[]\n",
        "    [result.append(word_tokenizer.index_word[x]) for x in v if x != 0 ]\n",
        "    return(result)\n",
        "\n",
        "\n",
        "print('Let''s take a look to our results: ')\n",
        "print('Sentence[0]:  ')\n",
        "print(show_tokens(X_test[0]))\n",
        "print('Prediction[0]:  ')\n",
        "print(show_tags(yhat_classes))\n",
        "print('Test[0]:  ')\n",
        "print(show_tags(y_test_classes[0]))"
      ]
    },
    {
      "cell_type": "code",
      "execution_count": null,
      "metadata": {
        "id": "2BBMAch-ulzH"
      },
      "outputs": [],
      "source": [
        "#Using the Y_padded as we are trying to find the metrics according to the class predicted by the model\n",
        "y_test_classes = y_test_classes.flatten()"
      ]
    },
    {
      "cell_type": "markdown",
      "metadata": {
        "id": "kjD3tlR1utXz"
      },
      "source": [
        "### Closer look on the Baseline model\n",
        "\n",
        "Since our Baseline model provided the best results on our validation set, we use it to compute values on our test set."
      ]
    },
    {
      "cell_type": "code",
      "execution_count": null,
      "metadata": {
        "id": "8ckldiIguuG8",
        "colab": {
          "base_uri": "https://localhost:8080/"
        },
        "outputId": "4d35a74a-cebb-48e1-eec9-20a2b90c6fdf"
      },
      "outputs": [
        {
          "output_type": "stream",
          "name": "stdout",
          "text": [
            "Accuracy: 0.958255\n",
            "Precision: 0.958255\n",
            "Recall: 0.958255\n",
            "F1 score: 0.673519\n"
          ]
        }
      ],
      "source": [
        "# accuracy: (tp + tn) / (p + n)\n",
        "accuracy = accuracy_score(y_test_classes , yhat_classes)\n",
        "print('Accuracy: %f' % accuracy)\n",
        "# precision tp / (tp + fp)\n",
        "precision = precision_score(y_test_classes , yhat_classes, average='micro')\n",
        "print('Precision: %f' % precision)\n",
        "# recall: tp / (tp + fn)\n",
        "recall = recall_score(y_test_classes , yhat_classes, average='micro')\n",
        "print('Recall: %f' % recall)\n",
        "# f1: 2 tp / (2 tp + fp + fn)\n",
        "f1 = f1_score(y_test_classes , yhat_classes, average='macro')\n",
        "print('F1 score: %f' % f1)"
      ]
    },
    {
      "cell_type": "markdown",
      "metadata": {
        "id": "0wCIyvAvvRFz"
      },
      "source": [
        "### Deeper look on our classification\n",
        "We take a look at the F1-score and support of each feature. We observe that some features have a small or no support at all. This is also capture on the F1-score plot."
      ]
    },
    {
      "cell_type": "code",
      "execution_count": null,
      "metadata": {
        "id": "pXQhthl_vR42",
        "colab": {
          "base_uri": "https://localhost:8080/",
          "height": 1000
        },
        "outputId": "ed24fd30-225e-4cc8-a4d8-e222e8554631"
      },
      "outputs": [
        {
          "output_type": "stream",
          "name": "stderr",
          "text": [
            "/usr/local/lib/python3.8/dist-packages/sklearn/metrics/_classification.py:1318: UndefinedMetricWarning: Precision and F-score are ill-defined and being set to 0.0 in labels with no predicted samples. Use `zero_division` parameter to control this behavior.\n",
            "  _warn_prf(average, modifier, msg_start, len(result))\n",
            "/usr/local/lib/python3.8/dist-packages/sklearn/metrics/_classification.py:1318: UndefinedMetricWarning: Recall and F-score are ill-defined and being set to 0.0 in labels with no true samples. Use `zero_division` parameter to control this behavior.\n",
            "  _warn_prf(average, modifier, msg_start, len(result))\n",
            "/usr/local/lib/python3.8/dist-packages/sklearn/metrics/_classification.py:1318: UndefinedMetricWarning: Precision and F-score are ill-defined and being set to 0.0 in labels with no predicted samples. Use `zero_division` parameter to control this behavior.\n",
            "  _warn_prf(average, modifier, msg_start, len(result))\n",
            "/usr/local/lib/python3.8/dist-packages/sklearn/metrics/_classification.py:1318: UndefinedMetricWarning: Recall and F-score are ill-defined and being set to 0.0 in labels with no true samples. Use `zero_division` parameter to control this behavior.\n",
            "  _warn_prf(average, modifier, msg_start, len(result))\n",
            "/usr/local/lib/python3.8/dist-packages/sklearn/metrics/_classification.py:1318: UndefinedMetricWarning: Precision and F-score are ill-defined and being set to 0.0 in labels with no predicted samples. Use `zero_division` parameter to control this behavior.\n",
            "  _warn_prf(average, modifier, msg_start, len(result))\n",
            "/usr/local/lib/python3.8/dist-packages/sklearn/metrics/_classification.py:1318: UndefinedMetricWarning: Recall and F-score are ill-defined and being set to 0.0 in labels with no true samples. Use `zero_division` parameter to control this behavior.\n",
            "  _warn_prf(average, modifier, msg_start, len(result))\n"
          ]
        },
        {
          "output_type": "stream",
          "name": "stdout",
          "text": [
            "              precision    recall  f1-score   support\n",
            "\n",
            "           2       0.75      0.81      0.78      2383\n",
            "           3       0.62      0.87      0.72      1504\n",
            "           4       0.93      0.94      0.94      1630\n",
            "           5       0.97      0.98      0.98      1335\n",
            "           6       0.80      0.70      0.75       941\n",
            "           7       0.62      0.55      0.58       918\n",
            "          10       0.84      0.76      0.80       634\n",
            "          11       0.64      0.64      0.64       381\n",
            "          12       0.89      0.86      0.87       858\n",
            "          13       0.85      0.82      0.83       403\n",
            "          14       0.98      0.94      0.96       366\n",
            "          15       0.94      0.85      0.89       280\n",
            "          16       0.69      0.52      0.59       366\n",
            "          17       1.00      1.00      1.00       386\n",
            "          18       0.96      0.96      0.96       192\n",
            "          19       0.72      0.33      0.45       221\n",
            "          20       0.83      0.64      0.73       134\n",
            "          21       0.96      0.95      0.95       167\n",
            "          22       0.95      1.00      0.98        99\n",
            "          24       0.96      0.99      0.98       152\n",
            "          28       0.96      0.65      0.78        84\n",
            "          29       0.60      0.10      0.17        59\n",
            "          30       1.00      0.85      0.92        20\n",
            "          31       0.64      0.27      0.38        33\n",
            "          32       0.00      0.00      0.00        44\n",
            "          33       0.00      0.00      0.00        31\n",
            "          34       0.00      0.00      0.00        24\n",
            "          35       0.00      0.00      0.00        15\n",
            "          36       1.00      1.00      1.00        18\n",
            "          37       1.00      1.00      1.00        18\n",
            "          38       0.00      0.00      0.00         5\n",
            "          39       0.00      0.00      0.00         3\n",
            "          40       0.00      0.00      0.00         0\n",
            "          41       0.00      0.00      0.00         4\n",
            "          42       0.00      0.00      0.00         4\n",
            "          43       0.00      0.00      0.00         0\n",
            "          44       0.00      0.00      0.00         0\n",
            "          45       0.00      0.00      0.00         0\n",
            "\n",
            "   micro avg       0.81      0.81      0.81     13712\n",
            "   macro avg       0.58      0.53      0.54     13712\n",
            "weighted avg       0.80      0.81      0.80     13712\n",
            "\n"
          ]
        },
        {
          "output_type": "display_data",
          "data": {
            "text/plain": [
              "<Figure size 432x288 with 2 Axes>"
            ],
            "image/png": "[encoded data removed]"
          },
          "metadata": {}
        }
      ],
      "source": [
        "from sklearn.metrics import r2_score, mean_absolute_error, mean_squared_error\n",
        "from sklearn.metrics import classification_report, confusion_matrix, plot_confusion_matrix\n",
        "import matplotlib.pyplot as plt\n",
        "import itertools\n",
        "# task as multiclass classification\n",
        "# labels has been ammended to not include the punctuations\n",
        "report = classification_report(y_test_classes .astype('int'), yhat_classes.astype('int'),\n",
        "                               labels=labels)\n",
        "print(report)\n",
        "confusion_matrix = confusion_matrix(y_test_classes .astype('int'), yhat_classes.astype('int'),\n",
        "                                    labels=labels)\n",
        "fig = plt.figure()\n",
        "ax = fig.add_subplot(111)\n",
        "np.seterr(divide='ignore', invalid='ignore')\n",
        "# Let's normalize the confusion matrix for plotting\n",
        "confusion_matrix = confusion_matrix.astype('float') / (confusion_matrix.sum(axis=1)[:, np.newaxis] +1)\n",
        "cax = ax.matshow(confusion_matrix)\n",
        "plt.title('Confusion matrix of the classifier')\n",
        "fig.colorbar(cax)\n",
        "plt.xlabel('Predicted')\n",
        "plt.ylabel('True')\n",
        "plt.show()\n",
        "####################################################################"
      ]
    },
    {
      "cell_type": "markdown",
      "metadata": {
        "id": "bTwo1pWBvZHB"
      },
      "source": [
        "### Error analysis - Checking the least frequent Tags\n",
        "We will check the performance of our Baseline model on the test set after removing the punctuations and the least frequent tags.\n",
        "\n",
        "The least frequent tags are the ones that contributes to low or zero f1-score. We considered a tag F1-score below 0.3 as a low score on our analysis."
      ]
    },
    {
      "cell_type": "code",
      "execution_count": null,
      "metadata": {
        "id": "KyYryHm9vZ7W",
        "colab": {
          "base_uri": "https://localhost:8080/"
        },
        "outputId": "27c6dd5a-339b-4858-927e-2f0a37c325f5"
      },
      "outputs": [
        {
          "output_type": "stream",
          "name": "stdout",
          "text": [
            "ID:Tag\t- Support\tF1-score\n",
            "29:JJR\t- 59\t\t0.17\n",
            "32:NNPS\t- 44\t\t0.00\n",
            "33:JJS\t- 31\t\t0.00\n",
            "34:WRB\t- 24\t\t0.00\n",
            "35:RBR\t- 15\t\t0.00\n",
            "38:EX\t- 5\t\t0.00\n",
            "39:RBS\t- 3\t\t0.00\n",
            "40:LS\t- 0\t\t0.00\n",
            "41:PDT\t- 4\t\t0.00\n",
            "42:WP$\t- 4\t\t0.00\n",
            "43:FW\t- 0\t\t0.00\n",
            "44:UH\t- 0\t\t0.00\n",
            "45:SYM\t- 0\t\t0.00\n"
          ]
        }
      ],
      "source": [
        "report = classification_report(y_test_classes .astype('int'), yhat_classes.astype('int'),\n",
        "                               labels=labels, zero_division=0,output_dict=True)\n",
        "# Just show the least frequent Tags i.e. F1-score < .5\n",
        "print('ID:Tag\\t- Support\\tF1-score')\n",
        "\n",
        "for k,v in report.items():\n",
        "    if k.isnumeric() and v['f1-score'] < 0.3:\n",
        "        print('{}:{}\\t- {}\\t\\t{:.2f}'.format(k,tag_tokenizer.index_word[int(k)].upper(),\n",
        "                               v['support'],\n",
        "                               v['f1-score']))"
      ]
    },
    {
      "cell_type": "code",
      "execution_count": null,
      "metadata": {
        "id": "rC1GYhzyv1su",
        "colab": {
          "base_uri": "https://localhost:8080/"
        },
        "outputId": "48eadeb8-50c0-490c-c0a8-d4104b16dae3"
      },
      "outputs": [
        {
          "output_type": "stream",
          "name": "stdout",
          "text": [
            "              precision    recall  f1-score   support\n",
            "\n",
            "           2       0.75      0.81      0.78      2383\n",
            "           3       0.62      0.87      0.72      1504\n",
            "           4       0.93      0.94      0.94      1630\n",
            "           5       0.97      0.98      0.98      1335\n",
            "           6       0.80      0.70      0.75       941\n",
            "           7       0.62      0.55      0.58       918\n",
            "          10       0.84      0.76      0.80       634\n",
            "          11       0.64      0.64      0.64       381\n",
            "          12       0.89      0.86      0.87       858\n",
            "          13       0.85      0.82      0.83       403\n",
            "          14       0.98      0.94      0.96       366\n",
            "          15       0.94      0.85      0.89       280\n",
            "          16       0.69      0.52      0.59       366\n",
            "          17       1.00      1.00      1.00       386\n",
            "          18       0.96      0.96      0.96       192\n",
            "          19       0.72      0.33      0.45       221\n",
            "          20       0.83      0.64      0.73       134\n",
            "          21       0.96      0.95      0.95       167\n",
            "          22       0.95      1.00      0.98        99\n",
            "          24       0.96      0.99      0.98       152\n",
            "          28       0.96      0.65      0.78        84\n",
            "          29       0.60      0.10      0.17        59\n",
            "          30       1.00      0.85      0.92        20\n",
            "          31       0.64      0.27      0.38        33\n",
            "          32       0.00      0.00      0.00        44\n",
            "          33       0.00      0.00      0.00        31\n",
            "          34       0.00      0.00      0.00        24\n",
            "          35       0.00      0.00      0.00        15\n",
            "          36       1.00      1.00      1.00        18\n",
            "          37       1.00      1.00      1.00        18\n",
            "          38       0.00      0.00      0.00         5\n",
            "          39       0.00      0.00      0.00         3\n",
            "          41       0.00      0.00      0.00         4\n",
            "          42       0.00      0.00      0.00         4\n",
            "\n",
            "   micro avg       0.81      0.81      0.81     13712\n",
            "   macro avg       0.65      0.59      0.61     13712\n",
            "weighted avg       0.80      0.81      0.80     13712\n",
            "\n"
          ]
        }
      ],
      "source": [
        "# Let's exclude those 0 support items\n",
        "tag_to_idx = tag_tokenizer.word_index\n",
        "# punctuations = [',','.',':','?','!',';','$','``',\"''\",'#', '--oov--','LS','FW','UH','SYM'] # We consider special characters as punctuation ($,', `,#)\n",
        "\n",
        "punctuations = [',','.',':','?','!',';','$','``',\"''\",'#', '--oov--','ls','fw','uh','sym'] # We consider special characters as punctuation ($,', `,#)\n",
        "#'JJR','RP','NNPS','JJS','WRB','RBR','EX','RBS','PDT','WP'\n",
        "labels=[]\n",
        "[labels.append(s) for k,s in tag_to_idx.items() if k not in punctuations ]\n",
        "# task as multiclass classification\n",
        "# labels has been ammended to not include the punctuations\n",
        "report = classification_report(y_test_classes.astype('int'), yhat_classes.astype('int'),\n",
        "                               labels=labels, zero_division=0)\n",
        "print(report)"
      ]
    },
    {
      "cell_type": "markdown",
      "source": [
        "####Here we observed that the f1 macro for Baseline was 0.54 but after removal of the punctuations and the least frequent tags, it increased to 0.61."
      ],
      "metadata": {
        "id": "NWEC0mXdvMOg"
      }
    },
    {
      "cell_type": "markdown",
      "metadata": {
        "id": "cMS-jEUr6oxk"
      },
      "source": [
        "##Model 2 (GRU Model)\n",
        "\n",
        "###GRU is the second best model and now using GRU, we will perform all the analysis we did on the Baseline."
      ]
    },
    {
      "cell_type": "code",
      "execution_count": null,
      "metadata": {
        "id": "ByhLHzCx6mrX",
        "colab": {
          "base_uri": "https://localhost:8080/"
        },
        "outputId": "67890a02-c498-406c-84fd-3d117310ca78"
      },
      "outputs": [
        {
          "output_type": "stream",
          "name": "stdout",
          "text": [
            "Lets take a look to our results: \n",
            "Sentence[0]:  \n",
            "['--oov--', '--oov--', 'inc.', ',', 'san', 'antonio', ',', 'texas', ',', 'said', 'it', 'bought', '2.7', 'million', 'shares', ',', 'or', 'about', '18', '%', ',', 'of', 'its', 'common', 'stock', 'from', 'an', '--oov--', 'shareholder', 'for', '$', '--oov--', 'a', 'share', ',', 'or', '$', '9.9', 'million', '.']\n",
            "Prediction[0]:  \n",
            "['NNP', 'NNP', 'NNP', ',', 'NNP', 'NNP', ',', 'NNP', ',', 'VBD', 'PRP', 'VBD', 'CD', 'CD', 'NNS', ',', 'CC', 'IN', 'CD', 'NN', ',', 'IN', 'PRP$', 'JJ', 'NN', 'IN', 'DT', 'JJ', 'NN', 'IN', '$', 'CD', 'DT', 'NN', ',', 'CC', '$', 'CD', 'CD', '.', 'DT', 'NN', 'NN', 'NN', 'NN', 'NN', 'NN', 'POS', 'NN', 'TO', 'CD', 'NN', 'IN', 'JJ', 'NN', 'CC', 'MD', 'VB', 'VB', 'NNP', 'NNP', 'IN', 'VBG', 'DT', 'NN', 'IN', 'DT', 'JJ', 'NN', '.', 'NNP', 'NNP', 'RB', 'VBZ', 'VBG', 'TO', 'NN', 'NNP', 'NNP', 'IN', 'NNP', 'IN', 'JJ', 'NNP', ',', 'DT', 'JJ', 'NN', '.', 'DT', 'NN', 'NN', 'IN', 'CD', 'NN', 'DT', 'JJ', 'NN', 'IN', 'PRP', 'MD', 'VB', 'DT', 'NN', 'NN', 'TO', 'NN', 'NNS', '``', 'TO', 'VB', 'NN', 'NN', ',', \"''\", 'JJ', 'DT', 'NN', 'NN', 'IN', 'DT', 'NN', '.', 'IN', 'NNP', 'NNP', 'NNP', 'NNP', 'NNP', 'NN', 'NN', ',', 'JJ', 'NNS', 'VBD', 'CD', 'CD', 'TO', 'VB', 'IN', '$', 'CD', '.', 'NNP', 'NNP', 'VBD', 'TO', 'NN', 'RB', 'NNP', 'DT', 'JJ', 'NN', ',', 'VBD', 'PRP', 'VBP', 'VBN', 'RB', 'TO', 'VB', 'NNS', 'IN', '``', 'DT', 'NN', 'VBZ', 'IN', 'DT', 'NN', '.', \"''\", 'PRP', 'VBD', ',', '``', 'DT', 'VBZ', 'RB', 'TO', 'VB', 'IN', 'NN', 'NNP', 'CC', 'PRP', 'VBZ', 'RB', 'VBN', ',', 'JJ', ',', 'TO', 'VB', 'DT', 'NN', 'NN', '.', \"''\", 'CC', 'NNP', 'NNP', 'VBD', 'DT', 'NN', ',', 'CC', 'DT', 'JJ', 'NN', 'VBD', ',', 'JJ', 'IN', 'NNP', 'NNP', 'VBZ', 'VBG', 'VBG', '.', 'NNP', 'NNP', 'CC', 'NNP', 'VBD', 'PRP', 'RB', 'PRP$', '$', 'CD', 'NN', 'IN', 'NNP', 'NNP', 'JJ', 'NN', 'IN', 'CD', 'NNP', 'NNP', 'NNP', 'CD', '.', 'DT', 'NN', ',', 'VBD', 'IN', 'IN', '$', 'CD', 'CD', 'IN', 'DT', 'CD', 'NN', 'IN', 'NNP', 'WDT', 'NNP', 'NNP', 'VBZ', 'RB', 'VBN', 'PRP$', ',', 'VBD', 'VBN', 'VBN', 'TO', 'VB', 'NNP', 'CD', '.', 'NNP', 'NNP', ',', 'WDT', 'VBZ', 'IN', 'CD', 'CD', 'IN', 'NNP', 'POS', 'NN', 'CD', 'JJ', 'NNS', 'JJ', ',', 'VBD', 'IN', 'IN', 'JJ', 'NNS', 'VBP', 'VBN', 'VBN', 'IN', 'PRP$', 'NN', '.', 'NNP', 'POS', 'CD', 'JJ', 'NNS', 'VBP', 'VBN', 'DT', 'NN', 'IN', 'JJ', '.', 'IN', 'VBN', 'NN', 'IN', 'DT', 'JJ', 'NNP', 'NNP', 'NNP', ',', 'NNP', 'NNS', 'VBD', 'IN', '$', 'CD', ',', 'RP', 'CD', 'CD', '.', 'NNP', 'VBZ', 'DT', 'NN', 'NN', 'NN', 'NN', '.', 'NNP', 'NNP', 'VBZ', 'DT', 'NNP', 'NNP', 'NNP', ',', 'NNP', 'POS', 'NN', ',', 'CC', 'NN', 'NNS', 'CC', 'VBZ', 'JJ', 'NNP', 'NNS', 'CC', 'NN', 'NNS', 'NNP', '.', 'NNP', 'NNP', 'NNP', 'VBD', 'JJ', 'NN', 'NNS', 'IN', 'DT', 'NN', 'NN', 'NN', 'NNP', 'CD', '.', 'DT', 'NN', ',', 'NNP', 'NN', ',', 'NNP', 'CC', 'JJ', 'NN', 'RB', 'VBN', 'IN', 'DT', 'JJ', 'NN', 'IN', 'NN', 'CD', 'MD', 'VB', 'VB', '.', 'IN', 'DT', 'NN', ',', 'NNP', 'NNP', ',', 'NNP', ',', 'VBD', 'VBN', 'NNS', 'NN', 'MD', 'VBN', 'DT', 'JJ', 'NN', 'POS', ',', 'RB', 'IN', 'IN', 'NN', 'IN', 'DT', 'JJ', 'CC', 'NN', 'NNS', '.', 'IN', ',', 'PRP', 'VBD', ',', 'RB', 'DT', 'NN', 'NN', 'VBZ', 'JJ', 'JJ', ',', 'NNP', 'MD', 'VB', 'VB', 'TO', 'VB', 'IN', 'DT', 'NN', 'NN', 'CC', 'IN', 'NN', 'NN', 'CD', 'POS', 'NN', 'NN', 'IN', '$', 'CD', 'CD', '.', 'IN', 'NN', 'CD', 'POS', 'JJ', 'NN', ',', 'NNP', 'POS', 'NN', 'NN', 'CD', '$', 'CD', 'CD', ',', 'CC', 'CD', 'NNS', 'DT', 'NN', '.', 'IN', 'NN', 'IN', 'VBG', 'NNS', 'IN', '$', 'CD', 'CD', ',', 'CC', 'CD', 'NNS', 'DT', 'NN', ',', 'DT', 'NN', 'VBD', '.', 'DT', 'JJ', 'NN', 'NN', 'DT', 'JJ', 'NNS', 'NN', 'NN', 'IN', 'DT', 'JJ', 'NN', 'NN', 'CC', 'DT', 'NN', 'IN', 'NN', 'IN', 'DT', 'NN', 'NN', 'NN', ',', 'WDT', 'VBD', 'NN', '$', 'CD', 'CD', ',', 'CC', 'CD', 'NNS', 'DT', 'NN', '.', 'NNS', 'VBD', 'CD', 'NN', 'TO', '$', 'CD', 'CD', 'IN', '$', 'CD', 'CD', '.', 'NNP', 'NNP', 'VBD', 'IN', 'PRP', 'VBD', 'RB', 'RB', 'IN', 'DT', 'NN', 'NNS', 'CC', 'JJ', 'DT', 'JJ', 'JJ', 'NN', 'IN', 'DT', 'NN', 'POS', 'NN', 'NN', '.', 'NN', ',', 'NN', 'NN', 'NNS', 'NNS', 'CD', 'NN', 'TO', '$', 'CD', 'CD', 'IN', '$', 'CD', 'CD', '.', 'DT', 'CD', 'NNS', 'VBD', 'NNS', 'NN', 'IN', 'DT', 'CD', 'NNS', 'VBD', 'NNP', 'CD', '.', 'IN', 'DT', 'NN', ',', 'NNP', 'NN', 'IN', 'NNP', 'POS', 'NN', 'NN', 'IN', 'JJ', 'IN', 'NNS', 'CC', 'NNS', ',', 'JJ', 'IN', 'NNP', 'IN', 'DT', 'JJ', 'NN', '.', 'DT', 'JJ', 'NN', ',', 'WDT', 'RB', 'VBD', 'VBN', 'IN', 'IN', 'DT', 'NN', 'IN', 'DT', 'NN', ',', 'VBD', 'PRP$', 'NN', 'NNS', 'IN', 'DT', 'NN', 'NN', 'NN', 'NN', 'TO', '$', 'CD', 'CD', 'IN', '$', 'CD', 'CD', '.', 'IN', 'DT', 'NN', ',', 'VBG', 'IN', 'DT', 'NN', 'IN', 'DT', 'JJ', 'NN', 'NN', ',', 'NNP', 'NNS', 'RB', 'VBN', '.', 'NNP', 'NNS', 'NN', 'CD', 'NN', 'IN', 'DT', 'NN', 'CC', 'CD', 'NN', 'IN', 'DT', 'NN', ',', 'RB', 'JJ', 'TO', 'VB', 'NN', 'NN', 'NNS', ':', 'DT', 'JJ', 'IN', 'DT', 'JJ', 'VBD', 'IN', 'IN', 'NNP', 'CD', '.', 'IN', 'VBD', 'VBN', 'JJ', 'IN', 'DT', 'JJ', 'IN', 'NN', 'NN', 'NNS', 'CC', 'NN', 'NN', 'IN', 'JJ', 'JJ', 'NN', '.', 'DT', 'NN', 'RB', 'VBD', 'JJ', 'IN', 'DT', 'NN', 'JJ', 'IN', 'CD', 'CC', 'CD', 'IN', 'DT', 'JJ', 'NN', 'NN', 'NN', ':', 'RB', 'DT', 'JJ', 'NN', ',', 'NNP', 'TO', 'VB', '.', 'IN', 'NN', 'CD', ',', 'DT', 'NN', 'NN', 'NN', 'IN', '$', 'CD', 'CD', ',', 'CC', '$', 'CD', 'DT', 'NN', ',', 'RB', 'IN', '$', 'CD', 'CD', ',', 'CC', '$', 'CD', 'DT', 'NN', ',', 'IN', 'JJ', 'CD', '.', 'JJ', 'JJ', 'TO', 'VB', 'IN', 'DT', 'NN', ',', 'NNS', 'NN', 'NNS', 'VBD', '$', 'CD', ',', 'RP', 'JJ', 'NN', 'IN', '$', 'CD', 'IN', 'JJ', 'CD', '.', 'NNS', 'IN', 'DT', 'NN', 'NN', 'CD', 'NN', 'TO', '$', 'CD', 'CD', 'IN', '$', 'CD', 'CD', 'IN', 'JJ', 'CD', '.', 'NNP', 'NNP', 'NNP', 'VBD', 'PRP', 'RB', 'NNS', 'IN', 'JJ', 'IN', 'PRP$', 'NN', 'NN', 'NNS', 'IN', 'CD', 'NN', 'TO', 'CD', 'NN', '.', 'DT', 'JJ', ',', 'NNP', 'NN', ',', 'WDT', 'VBG', 'IN', 'DT', 'NN', 'NN', 'IN', 'NN', 'NNS', 'CC', 'NNS', ',', 'VBD', 'PRP$', 'NN', 'NNS', 'NNS', 'DT', '$', 'CD', 'NN', 'IN', 'PRP$', 'NN', 'NN', 'NN', 'IN', 'JJ', 'NN', 'IN', 'NN', ',', 'DT', 'JJ', 'NN', 'NN', 'CC', 'DT', 'NN', 'NN', '.', 'IN', 'NN', 'VBZ', 'VBZ', 'IN', 'IN', '$', 'CD', '.', 'DT', 'NN', 'NN', 'DT', 'JJ', 'NN', 'NNP', 'NNP', 'NNP', ',', 'IN', 'CD', 'CD', 'IN', 'NN', 'CC', 'DT', 'JJ', 'NN', 'NN', 'RB', 'VBZ', 'IN', '$', 'CD', ',', 'RB', 'IN', '$', 'CD', '.', 'NN', 'NN', 'NNS', 'IN', 'NNS', 'IN', 'DT', 'JJ', 'NN', 'CC', 'DT', 'NN', ',', 'WDT', 'DT', 'NNP', 'NNS', 'IN', ',', 'RB', 'VBP', 'VBN', 'JJ', 'RB', 'IN', 'NN', 'NNS', 'VBP', 'RB', '.', 'IN', 'NNP', 'NNS', 'NNS', 'NNS', 'IN', 'NN', 'IN', 'NNP', ',', 'DT', 'JJ', 'NN', 'CC', 'DT', ',', 'MD', 'RB', 'JJ', 'NN', 'DT', 'NN', 'NN', 'CC', 'NN', '.', 'NNS', 'RB', 'VBD', 'VBN', 'IN', 'DT', 'JJ', 'WDT', 'NNP', ',', 'RB', 'DT', 'JJ', 'NN', 'CC', 'JJ', ',', 'MD', 'VB', 'TO', 'VB', 'DT', 'JJ', 'NN', 'IN', 'NNP', '.', 'RB', 'NNS', 'VBD', 'TO', 'VB', 'NNS', 'NNS', ',', 'JJ', 'JJ', 'NNS', 'IN', 'DT', 'JJ', 'NN', ',', 'WDT', 'MD', 'VB', 'VB', 'VBN', ',', 'NNS', 'VBD', '.', 'DT', 'NNP', 'CC', 'MD', 'NNS', 'VBD', 'TO', 'VB', 'NN', 'NNS', 'IN', 'JJ', 'CD', 'CC', 'JJ', 'CD', 'IN', 'PRP$', 'JJ', 'NNS', 'IN', 'DT', 'NN', '.', 'DT', 'NNP', 'NN', ',', 'WDT', 'VBZ', 'DT', 'NNS', ',', 'VBD', 'IN', 'JJ', 'CD', ',', 'RP', 'JJ', 'NN', 'DT', 'NN', '.', 'DT', 'NNS', 'NN', ',', 'WDT', 'RB', 'VBZ', 'VBG', 'JJ', ',', 'VBD', 'IN', 'DT', 'NN', 'IN', 'JJ', 'NN', 'TO', 'NN', 'CD', '.', 'DT', 'NNP', 'NN', 'VBD', 'PRP$', 'NN', 'NN', 'NN', 'IN', 'JJ', 'NN', 'DT', 'NN', 'TO', 'NN', 'CD', ',', 'IN', 'JJ', 'NN', 'NNS', 'VBD', 'NN', 'NNS', '.', 'NNP', 'TO', 'NNS', 'VBD', 'IN', 'JJ', 'NN', 'NNS', ',', 'DT', 'JJ', 'NN', 'VBD', 'PRP$', 'NN', 'NNS', 'IN', 'PRP', 'VBP', 'RB', 'VB', 'VB', 'TO', 'VB', 'NN', 'IN', 'DT', 'NN', 'NN', 'IN', ',', 'WDT', 'VBG', 'MD', 'CD', ',', 'CC', 'DT', 'JJ', 'NN', 'RB', 'IN', 'PRP', 'MD', 'VB', 'VBN', 'TO', 'VB', 'NN', 'IN', 'NN', 'NN', '.', 'DT', 'NN', ',', 'NNP', 'NNP', ',', 'IN', 'NNS', 'NNP', ',', 'NNP', 'NNP', ',', 'CD', 'IN', 'CD', 'NN', 'CC', 'JJR', 'IN', 'NNP', 'POS', 'VBN', 'VBD', 'NNS', 'NN', 'IN', 'NN', 'CC', 'NN', 'RB', 'VB', 'NNS', '.', '``', 'DT', 'VBZ', 'DT', 'NN', 'IN', 'MD', 'VB', 'VBN', ',', 'JJ', 'IN', 'DT', 'NN', 'IN', 'NN', ',', \"''\", 'VBD', 'NNP', 'NNP', '.', 'NNP', 'VBZ', 'DT', 'JJ', 'NN', 'CC', 'DT', 'JJ', 'NN', 'IN', 'NNP', 'IN', 'DT', 'NNP', '.', 'DT', 'JJ', 'TO', 'VB', 'JJR', 'NN', 'CC', 'RB', 'NN', 'VBD', 'VBN', 'VBN', ',', 'CC', 'DT', 'NN', 'NN', ',', 'RB', 'VBZ', ',', 'NN', 'DT', 'JJR', 'JJ', 'JJ', 'IN', 'VBD', 'VBN', 'VBN', '.', 'IN', 'DT', 'NN', 'NN', 'NN', ',', 'NNP', 'VBD', 'VBN', 'TO', 'VB', 'CD', 'CD', 'CD', 'IN', 'NNP', ',', 'DT', 'NN', 'IN', 'CD', 'CD', 'CD', 'IN', 'JJ', '.', 'PRP$', 'NN', 'NNS', 'VBD', 'VBN', 'TO', 'CD', 'JJ', 'CD', 'IN', 'JJ', 'TO', 'VB', 'IN', 'CD', 'CD', 'CD', 'IN', '``', 'PRP', 'VBZ', 'JJ', 'JJ', 'CD', 'IN', 'VBP', 'IN', 'NN', 'IN', 'DT', 'NN', 'NN', ',', \"''\", 'NN', 'VBN', 'NN', ',', 'NN', 'IN', 'NNP', 'NNP', 'NNP', ',', 'NNP', 'NNP', '.', '``', 'NNS', 'VBD', 'VBN', 'DT', 'NN', 'VBD', 'DT', 'NN', 'TO', 'NN', 'NN', 'CC', 'DT', 'NN', 'NN', 'VBD', 'MD', 'TO', 'VB', 'VBG', 'TO', 'VB', 'VBN', \"''\", 'NN', '.', 'IN', 'DT', 'NN', ',', 'NNP', 'NNP', 'VBD', ',', 'PRP', 'VBZ', 'VBN', 'IN', 'JJ', 'CC', 'DT', 'NN', 'IN', 'DT', 'JJ', 'NN', 'VBZ', 'VBN', 'VBN', 'RB', ',', 'RB', 'RB', 'DT', 'NN', 'NN', 'VBZ', 'CD', 'NNS', 'JJ', '.', 'RB', 'IN', 'DT', 'NN', 'IN', 'DT', 'NNP', 'VBN', 'IN', 'NNP', 'VBZ', 'IN', 'NN', 'NN', ',', 'NNP', 'TO', 'NNP', 'NNP', '.', 'RB', ',', 'DT', 'VBZ', 'VBN', 'DT', 'NN', 'IN', 'DT', 'JJ', 'NNS', 'TO', 'NN', 'IN', 'NNP', 'NN', 'IN', 'JJ', 'IN', 'VBD', 'VBN', 'VBN', 'IN', 'JJ', ',', 'CC', 'DT', 'NN', 'VBZ', 'VBN', 'VBD', 'RB', ',', 'PRP', 'VBD', '.', 'DT', 'JJ', ',', 'NNP', 'NNP', 'VBD', ',', '``', 'NN', 'NNS', 'VBD', 'IN', 'DT', 'NN', 'VBZ', 'IN', 'RB', 'VBN', 'VBN', 'IN', 'DT', 'NN', 'IN', 'NNS', '.', \"''\", 'NNP', 'NNP', ',', 'NNP', 'NN', 'IN', 'NNP', 'IN', 'JJ', ',', 'NNP', ',', 'VBD', ':', '``', 'PRP', 'JJ', 'JJ', 'NNS', 'IN', 'NNP', 'MD', 'NNP', 'NNP', 'NNS', ',', 'JJ', 'IN', 'DT', 'NN', 'IN', 'NNP', 'IN', 'IN', 'CD', 'NNS', 'DT', 'NN', '.', \"''\", 'IN', 'DT', ',', 'NNP', 'NNP', 'VBD', ',', 'DT', 'NN', 'VBZ', 'JJ', 'VBN', '.', '``', 'JJ', 'NNP', 'NNS', 'RB', 'WP', 'VBP', 'JJ', 'NNS', 'IN', 'DT', 'JJ', 'NN', 'NN', 'VBP', 'VBN', 'VBN', 'TO', 'NN', 'DT', 'NNS', 'CC', 'VB', 'RB', 'NN', 'TO', 'VB', 'DT', 'NN', ',', \"''\", 'PRP', 'VBD', '.', '``', 'PRP', 'VBZ', 'DT', 'NN', 'IN', 'NN', 'JJ', 'IN', 'WDT', 'DT', 'NN', 'MD', 'VB', 'VBN', 'IN', ',', 'JJ', 'IN', 'DT', 'JJ', 'NN', 'NNS', 'MD', 'VB', 'VBN', ',', 'CC', 'DT', 'JJ', 'MD', 'NN', 'PRP', '.', \"''\", 'NNP', 'NNP', 'NNS', 'IN', 'DT', 'NN', 'IN', 'NNP', 'VBZ', 'RB', 'RB', 'JJ', '.', 'IN', 'DT', 'JJ', 'NN', ',', 'NNP', 'VBG', 'DT', 'JJ', 'NN', 'IN', 'CD', 'NNS', 'VBD', 'TO', 'VB', 'DT', 'NN', 'NN', 'IN', 'PRP$', 'NNP', 'NN', 'IN', 'NNS', 'CC', 'VBZ', 'RB', 'VBG', 'TO', 'DT', 'NN', '.', '``', 'PRP', 'VBZ', 'TO', 'VB', ',', 'IN', 'DT', 'JJ', 'NN', ',', 'DT', 'JJ', 'JJ', 'NN', 'IN', 'NNP', 'PRP', 'MD', 'VB', 'IN', 'DT', 'NN', 'NN', 'IN', 'VBG', 'NNS', 'IN', 'TO', 'VB', 'TO', 'VB', 'NN', 'CC', 'NN', ',', \"''\", 'NNP', 'NNP', 'VBD', '.', 'NNP', ',', 'WDT', 'VBZ', 'RB', 'DT', 'NN', 'NN', ',', 'VBZ', 'VBD', 'NN', 'NNS', 'IN', 'DT', 'JJ', 'CD', 'NNS', ',', 'NNS', 'VBD', '.', 'IN', 'NN', ',', 'PRP', 'VBD', 'TO', 'VB', 'NNP', 'IN', 'DT', 'NNP', 'NN', 'TO', 'VB', 'NN', 'NNS', ',', 'PRP', 'VBD', '.', 'DT', 'NN', 'PRP', 'VBZ', 'VBN', 'TO', 'VB', 'DT', 'NN', 'NN', 'CC', 'VBZ', 'VBD', 'TO', 'VB', 'VBG', 'TO', 'VB', 'IN', 'CD', 'CD', 'IN', 'NNP', 'TO', 'VB', 'NN', 'NN', ',', 'NNS', 'VBD', '.', 'IN', 'JJ', 'NN', 'NNS', 'VBD', ':', 'NNP', ':', 'NNP', 'NNS', 'VBD', 'RB', 'NNS', 'IN', 'NN', 'NN', 'JJ', 'DT', 'NN', '.', 'IN', 'DT', 'NNP', 'NNP', 'NNP', 'NNP', ',', 'VBG', 'NN', 'IN', 'NNP', 'NN', 'NN', 'NN', 'CD', 'TO', 'VB', 'IN', 'JJ', 'CD', 'DT', 'JJ', '.', 'NNS', 'NNS', 'VBD', 'JJ', 'TO', 'CD', '.', 'CC', 'DT', 'NN', 'IN', 'NN', 'NN', 'NNP', 'VB', 'RP', 'NNS', 'NN', '.', 'NNP', 'NNP', 'NNP', 'NNS', 'IN', 'NNP', 'NN', 'VBD', 'CD', 'CD', 'DT', 'NN', 'TO', 'VB', 'IN', '$', 'CD', '.', 'DT', 'JJ', 'IN', 'NN', 'NN', 'VBD', 'VBN', 'TO', 'NN', 'NN', 'IN', 'NNS', 'IN', 'DT', 'NNP', 'CC', 'TO', 'DT', 'NN', 'NN', 'NN', 'IN', 'DT', 'JJ', 'NNP', 'NNP', ',', 'WDT', 'VBD', 'DT', 'NN', 'IN', 'NNS', 'IN', 'DT', 'NN', '.', 'NNP', 'CC', 'NNS', ':', 'NNS', 'VBD', 'RB', 'NNS', 'IN', 'JJ', 'NN', 'NN', 'IN', 'NNS', 'RB', 'TO', 'VB', 'PRP$', 'NNS', 'IN', 'DT', 'NN', 'IN', 'DT', 'NN', 'IN', 'NNS', 'NNS', 'TO', 'VB', '.', 'NN', 'VBD', 'VBN', 'IN', 'NN', 'IN', 'IN', 'DT', 'JJ', 'IN', 'DT', 'JJ', 'POS', 'NN', 'NNS', 'RB', 'IN', 'NNP', '.', 'IN', 'NN', 'NN', 'RB', 'VBN', 'NNS', '.', 'IN', 'DT', 'NN', 'IN', 'DT', 'JJ', 'NN', 'NN', 'NN', 'IN', 'DT', 'NNP', ',', 'NN', 'NNS', 'VBD', 'IN', 'VBD', 'NNP', 'DT', 'JJ', 'NN', ',', 'WDT', 'RB', 'JJ', 'NNP', 'NNP', 'IN', 'NN', ',', 'VBD', 'RB', 'TO', 'VB', 'TO', 'VB', 'CD', 'CD', 'CD', 'IN', 'NN', '.', 'NNS', 'VBD', 'NNS', 'RB', 'VBD', 'VBN', 'IN', 'JJ', 'NN', 'IN', 'DT', 'JJ', 'NN', 'VBZ', 'IN', 'DT', 'JJ', 'IN', 'NN', 'JJ', 'VBN', 'NN', 'NN', 'IN', 'DT', 'NNP', '.', 'IN', 'JJ', 'MD', ',', 'JJ', 'JJ', 'NNS', ',', 'JJ', 'JJR', 'JJ', 'NN', 'NNS', 'IN', 'WDT', 'DT', 'VBD', 'MD', 'VB', 'NN', '.', 'DT', 'VBD', 'VBP', 'VBN', 'VBN', 'TO', 'VB', 'NNS', 'NNS', ',', 'JJ', 'NN', 'RP', 'NN', 'JJ', 'NNS', 'IN', 'JJ', 'CD', 'CD', 'IN', 'NNP', 'IN', 'NNP', '.', 'NNP', ':', 'NNS', 'NNS', 'VBD', ',', 'VBG', 'NNP', 'POS', 'NNS', '.', 'DT', 'NNP', 'NN', 'NNP', 'CD', 'CD', 'DT', 'NN', 'TO', '$', 'CD', '.', 'VBG', 'IN', 'DT', 'JJ', 'NN', 'VBN', 'IN', 'IN', 'DT', 'JJ', 'NN', ',', 'CC', 'NNS', 'VBD', 'VBN', 'NNS', 'IN', 'DT', 'JJ', 'NN', 'NN', 'MD', 'VBP', 'VBN', 'RB', 'IN', 'PRP', 'VBG', ',', 'DT', 'NN', 'VBD', '.', 'NNP', 'TO', 'NNP', 'NN', 'NNS', ',', 'JJ', 'NNS', 'IN', 'DT', 'JJ', 'NN', 'NN', 'IN', 'NNP', 'NNP', 'VBD', 'TO', 'DT', 'JJ', 'NN', 'NN', 'NN', 'IN', 'VBZ', 'DT', 'CD', 'NN', 'NN', 'CC', 'JJ', 'NNS', '.', 'RB', ',', 'DT', 'NNS', 'VBP', 'RB', 'RB', 'VBN', 'DT', 'JJ', 'NN', 'CC', 'VBP', 'VBG', 'NNS', ',', 'DT', 'NN', 'VBD', '.', 'NNS', ',', 'NNP', 'NNP', 'IN', 'DT', 'JJ', 'NNP', 'NN', 'NNS', 'PRP$', 'NN', 'TO', 'VB', 'DT', 'NN', 'IN', 'JJ', 'IN', 'JJ', 'NN', 'NNP', 'IN', 'CD', 'NNS', '.', 'DT', 'JJ', 'JJ', 'NN', 'VBZ', 'VBN', 'VBN', 'IN', 'MD', 'CD', 'RB', 'IN', 'NNS', 'IN', 'VBN', 'NN', 'WP', 'VBP', 'DT', 'TO', 'DT', 'IN', 'JJ', 'NNP', '.', 'DT', 'NN', 'IN', 'JJ', ',', 'IN', 'NNS', 'TO', 'VB', 'DT', 'NN', 'IN', 'DT', 'NN', 'IN', 'JJ', 'NN', 'NNS', ',', 'VBD', 'PRP', 'MD', 'VB', 'DT', 'NN', 'IN', 'DT', 'NN', 'TO', 'NN', 'CC', 'VB', 'JJ', 'NNS', 'TO', 'VB', 'PRP$', 'NN', 'IN', 'NN', '.', 'NNP', 'IN', 'NNP', 'NNP', ',', 'NNP', 'NNP', ',', 'VBD', 'VBN', 'VBG', 'DT', 'NN', 'IN', 'DT', 'JJ', 'NN', 'NN', 'IN', 'NNP', ',', 'IN', 'PRP', 'VBD', 'PRP$', 'NN', 'TO', 'VB', 'RP', 'NN', 'TO', 'VB', 'PRP$', 'NN', 'NN', '.', 'CC', 'JJ', 'VBD', 'PRP', 'VBD', 'VBN', 'TO', 'VB', 'DT', 'NN', 'VBP', 'TO', 'VB', 'RB', 'PRP', 'VBZ', '``', 'NN', 'NN', \"''\", 'IN', 'JJ', 'IN', 'IN', 'JJ', 'NNS', 'IN', 'DT', 'NN', 'CC', 'NN', 'NNS', 'CC', 'IN', 'NN', '.', 'NNP', 'NNP', 'RP', 'NNS', 'IN', 'CD', 'IN', '$', 'CD', 'CD', '.', 'PRP', 'VBZ', 'NNS', 'RB', 'IN', 'NNP', 'CC', 'NNP', '.', 'NNP', 'NN', 'VBZ', 'RB', 'TO', 'VB', 'DT', 'CD', 'NN', 'TO', 'CD', 'NN', 'NN', 'IN', 'DT', 'NN', 'IN', 'NNP', ',', 'VBD', 'NNP', 'NNP', 'NNP', ',', 'NNP', 'POS', 'NN', 'CC', 'NN', 'NN', 'NN', '.', 'PRP', 'VBD', 'VBN', 'NNP', 'TO', 'VB', 'VB', 'PRP$', 'NN', 'IN', 'JJ', 'TO', 'VB', 'IN', 'CD', 'NN', '.', 'NNP', 'NNP', 'NNP', 'VBD', 'IN', 'VBN', 'NN', 'NNP', 'NNS', 'NN', 'VBZ', 'VBN', 'VBG', 'DT', 'NN', 'IN', 'DT', 'NN', 'TO', '$', 'CD', 'IN', 'NN', 'CC', 'NN', 'IN', 'DT', 'JJ', 'NN', '.', 'IN', 'JJ', 'IN', 'DT', 'NNP', 'NN', ',', 'JJ', ',', 'VBD', 'IN', 'VBN', 'NN', 'NNP', ',', 'NNP', ',', 'MD', 'VB', '$', 'CD', 'NN', 'CC', 'CD', 'JJ', 'NN', 'NNS', 'IN', 'DT', 'JJ', 'NN', 'IN', '$', 'CD', 'DT', 'NN', 'IN', 'DT', 'IN', 'JJ', 'NN', 'POS', 'CD', 'CD', 'NNS', 'JJ', '.', 'VBN', ',', 'PRP', 'VBD', '$', 'CD', 'DT', 'NN', 'IN', 'NN', ',', 'CC', '$', 'CD', 'CD', '.', 'DT', 'NNP', 'NNP', ',', 'NNP', ',', 'NN', 'IN', 'NNP', 'NN', 'CC', 'DT', 'NNS', 'VBD', 'DT', 'NN', 'NN', 'MD', 'VBN', 'NNS', 'IN', 'DT', 'CD', 'NN', 'NN', ',', 'CC', 'MD', 'VB', 'VB', 'VBN', 'IN', 'DT', 'JJ', 'CD', 'NNS', '.', 'DT', 'NN', 'MD', 'VB', 'VBN', 'IN', 'CD', 'NNS', ',', 'JJ', 'TO', 'VB', 'IN', 'DT', 'NN', 'NN', 'POS', 'NN', '.', 'RB', 'JJ', 'NN', 'VBN', 'VBN', 'VBD', 'DT', 'NN', 'IN', 'DT', 'NN', 'NNS', 'CC', 'JJ', 'JJ', 'MD', 'VB', 'VB', 'VBN', 'IN', 'NN', '.', 'RB', ',', 'JJ', 'NN', 'VBD', 'PRP', 'MD', 'VBD', 'VB', 'DT', 'NN', 'TO', 'DT', 'NN', 'NN', 'IN', 'DT', 'NN', 'POS', 'NNP', '.', 'NNP', 'NNP', 'NNP', 'VBD', 'NNP', 'NNP', 'NN', 'IN', 'JJ', 'NN', 'TO', 'VB', 'NN', 'NNS', ',', 'DT', 'NN', 'DT', 'NN', 'NN', 'NN', 'DT', '``', 'NN', 'NN', '.', \"''\", 'NNP', 'NNP', ',', 'CD', 'NNS', 'JJ', 'CC', 'DT', 'JJ', 'NN', 'NN', ',', 'VBD', 'VBN', 'DT', 'JJ', 'NN', 'POS', 'NN', 'NN', 'IN', 'DT', 'CD', 'NNS', '.', 'PRP$', 'NN', 'TO', 'DT', 'NN', ',', 'WDT', 'VBZ', 'JJ', 'JJ', ',', 'NN', 'CC', 'NN', 'JJ', ',', 'VBD', 'DT', 'JJ', 'NN', 'IN', 'JJ', 'POS', 'NN', 'IN', 'NN', '.', 'DT', 'NN', 'VBD', 'VBN', ',', 'CC', 'NNP', 'NNP', 'POS', 'JJ', 'MD', 'VB', 'VBN', 'JJ', 'CD', 'JJ', 'NN', 'NN', 'NNS', ',', 'DT', 'NN', 'VBD', '.', 'IN', 'DT', 'NN', 'NN', ',', 'NNP', 'NNP', 'VBD', 'PRP$', 'NN', 'VBD', 'IN', '``', 'NN', 'NNS', ',', \"''\", 'IN', 'PRP', 'VBD', 'TO', 'NN', '.', '``', 'DT', 'VBZ', 'DT', 'NN', 'NN', 'IN', 'PRP$', 'NN', ',', \"''\", 'RB', 'DT', 'NN', 'IN', 'NN', ',', 'PRP', 'VBD', '.', 'PRP', 'RB', 'VBN', 'NNS', 'IN', 'PRP$', 'NN', 'NN', 'IN', 'NN', 'DT', 'NN', 'NN', 'POS', 'NN', 'VBD', 'RB', 'RB', 'VBN', 'TO', 'DT', 'NN', 'NN', 'IN', 'DT', 'JJ', 'NN', 'NN', '.', 'NNP', 'NNP', 'VBD', 'DT', 'IN', 'CD', 'NNS', 'IN', 'JJ', 'POS', 'NN', 'NN', 'NN', 'WP', 'VBD', 'RB', 'RB', 'JJ', 'IN', 'DT', 'NN', 'POS', 'NNP', 'IN', 'NNS', '.', '``', 'IN', 'PRP', 'VBD', 'VBG', 'DT', 'NNS', 'IN', 'NN', ',', 'PRP', 'MD', 'VB', 'VBN', 'DT', 'NNS', 'WP', 'VBP', 'RB', 'IN', 'DT', 'NN', ',', \"''\", 'PRP', 'VBD', '.', 'DT', 'JJ', 'NN', 'VBD', 'DT', 'NN', 'NN', '``', 'DT', 'NN', 'IN', 'NN', 'CC', 'NNS', '.', \"''\", 'NNP', 'NNP', ',', 'DT', 'NN', 'IN', 'JJ', 'NNP', 'CC', 'NNP', 'IN', 'NNP', ',', 'VBD', ',', '``', 'PRP', 'VBD', '-LRB-', 'DT', 'NN', '-RRB-', 'MD', 'VB', 'RB', 'VBN', 'IN', 'DT', 'NN', '.', 'PRP', 'MD', 'VB', 'RB', 'RB', 'IN', 'PRP$', 'NN', 'NNS', 'DT', 'NN', 'IN', 'NN', 'CC', 'NN', 'IN', 'NN', 'NNS', '.', \"''\", 'IN', 'NNP', 'POS', 'NN', 'NNP', ',', 'NNP', 'NNS', 'VBD', 'CD', 'CD', 'TO', 'NN', 'NN', '-LRB-', '$', 'CD', '-RRB-', '.', 'IN', 'DT', 'NNP', 'NNS', 'NN', ',', 'JJ', 'NNP', 'NNS', 'IN', 'JJ', ',', 'DT', 'NNS', 'CD', 'NNS', 'IN', 'DT', 'NNP', 'NN', ',', 'VBD', 'NNS', 'IN', '$', 'CD', '.', 'DT', 'JJ', 'IN', 'DT', 'CD', 'NNS', 'WP', 'MD', 'VB', 'NNP', 'NNP', 'POS', 'JJ', 'VBZ', 'JJ', 'NN', ',', 'CD', ',', 'NN', 'NN', 'CC', 'DT', 'JJ', 'NN', 'NN', '.', 'NNP', 'NNP', ',', 'CD', ',', 'NN', 'NN', 'NN', ',', 'VBZ', 'NN', 'IN', 'JJ', 'NNP', '.', 'CC', 'NNP', 'NNP', ',', 'CD', ',', 'NNP', 'NNS', 'NN', ',', 'VBZ', 'NN', 'IN', 'NNP', 'NN', 'NNS', '.', 'NNP', 'NN', 'NNP', ',', 'DT', 'NN', 'IN', 'JJ', 'NNP', 'NNP', 'POS', 'NN', 'NN', 'NNP', 'CC', 'JJ', 'NN', 'NNP', ',', 'RB', 'TO', 'CD', 'CD', 'PRP$', '$', 'CD', 'NN', 'IN', 'DT', 'JJ', 'JJ', 'NNP', 'NNS', 'JJ', '.', 'DT', 'NN', ',', 'WDT', 'VBD', 'JJ', 'TO', 'VB', 'NN', ',', 'VBZ', 'JJ', 'IN', 'JJ', 'NN', 'IN', 'JJ', 'JJ', 'NNS', ',', 'IN', 'DT', 'RB', 'VBN', 'NN', ',', 'RB', 'VBN', 'CC', 'IN', 'DT', 'NN', 'IN', 'DT', 'NN', 'POS', 'NN', 'NN', 'NNS', 'NN', '.', 'NNP', 'NN', 'VBZ', 'VBN', 'DT', 'NN', 'IN', 'DT', 'JJ', 'NN', 'NN', 'DT', 'NN', 'IN', 'JJ', 'POS', 'NN', 'NN', 'NNS', 'CC', 'NN', 'NN', 'NN', 'VBZ', ',', 'WDT', 'PRP', 'VBZ', 'VBD', 'VBN', 'IN', 'JJ', 'TO', 'NN', 'NNS', '.', 'NNP', 'NN', 'VBD', 'CD', 'CD', 'NNS', ',', 'CC', 'IN', 'JJ', 'NN', 'IN', 'DT', 'NNS', 'JJ', ',', 'VBP', 'VBN', 'VBN', 'IN', 'PRP$', 'NN', '.', 'DT', 'NNS', 'VBD', 'PRP', 'VBN', 'VBP', 'CD', 'NN', 'IN', 'DT', 'NNS', 'JJ', '.', 'NNP', 'VBZ', 'VBN', 'NNP', 'CD', 'IN', 'DT', 'NN', 'IN', 'DT', 'JJ', 'IN', 'DT', 'NNS', 'NNS', '.', 'NNP', 'NN', 'VBD', 'DT', 'NN', 'VBZ', 'TO', 'VB', 'DT', 'NN', 'TO', 'VB', 'VBN', '.', 'NNP', 'VBZ', 'VBN', 'IN', 'NNP', ',', 'NN', '.', 'NNP', ',', 'DT', 'NN', 'NN', 'NN', 'NN', 'CC', 'JJ', ',', 'DT', 'NN', 'NN', ',', 'VBP', 'VBN', 'IN', 'NNP', '.', 'NNP', 'NNP', 'VBD', 'DT', 'JJ', 'NN', 'NN', 'IN', '$', 'CD', 'CD', ',', 'CC', 'CD', 'CD', 'DT', 'NN', ',', 'VBN', 'IN', 'VBG', 'NN', 'IN', '$', 'CD', 'CD', ',', 'CC', 'CD', 'NN', 'DT', 'NN', '.', 'DT', 'NN', 'IN', 'DT', 'NNP', ',', 'NNP', 'NN', 'VBD', 'NN', 'VBD', 'DT', 'NN', 'IN', '$', 'CD', 'CD', 'IN', 'DT', 'NN', ':', 'IN', 'JJ', ',', 'DT', 'NN', 'VBD', 'VBN', 'IN', 'VBN', 'NNS', 'NNS', '$', 'CD', 'CD', 'CC', '$', 'CD', 'CD', 'IN', 'JJ', 'JJ', 'WDT', 'PRP', 'VBD', 'IN', '``', 'JJ', '.', \"''\", 'DT', 'NNS', 'VBD', 'VBN', 'JJ', 'IN', 'DT', '$', 'CD', 'CD', 'NN', 'IN', 'DT', 'NN', 'IN', 'NNS', 'IN', 'CD', 'NN', 'NNS', ',', 'PRP', 'VBD', '.', 'NN', 'VBD', 'CD', 'NN', 'TO', '$', 'CD', 'CD', ',', 'IN', '$', 'CD', 'CD', 'DT', 'NN', 'VBD', '.', 'NNP', 'NNS', '``', 'DT', 'NN', 'NN', 'IN', 'DT', 'NN', 'IN', 'NN', 'NNS', 'IN', 'DT', 'NN', 'NNS', 'IN', 'WDT', 'NN', 'VBZ', '.', 'NNP', 'NNP', 'VBD', 'PRP', 'VBZ', 'TO', 'VB', 'DT', 'JJ', 'NN', 'NN', 'IN', '$', 'CD', 'CD', 'TO', '$', 'CD', 'CD', 'IN', 'IN', 'JJ', 'NNS', 'CC', 'RB', 'JJ', 'JJ', 'NNS', '.', 'DT', 'NNP', 'NNP', 'NNP', 'CC', 'NN', 'NN', 'VBD', 'PRP', 'MD', 'VB', 'DT', '$', 'CD', 'CD', 'NN', 'IN', 'PRP$', 'NN', 'NN', ',', 'JJ', 'DT', '$', 'CD', 'CD', 'NN', 'NNS', 'TO', 'VB', 'IN', 'DT', 'JJ', 'NN', 'NN', 'CC', '$', 'CD', 'CD', 'IN', 'JJ', 'NN', 'IN', 'RB', 'RB', 'VB', 'VBN', '.', 'IN', 'JJ', ',', 'NNP', 'VBD', 'PRP', 'MD', 'VBN', 'IN', 'IN', '$', 'CD', 'CD', 'IN', 'NN', 'NNS', 'TO', 'VB', 'NNP', 'NNS', 'IN', 'JJ', 'NNS', 'VBP', 'VBN', 'VBN', '.', 'DT', 'NN', 'RB', 'JJ', 'NN', 'NN', 'CC', 'JJ', 'IN', 'NNP', 'IN', 'NNS', 'IN', 'DT', 'NN', '.', 'DT', 'NN', 'VBD', ',', 'NN', 'NN', 'VBD', '$', 'CD', 'CD', ',', 'CC', 'CD', 'CD', 'DT', 'NN', ',', 'IN', 'NN', 'IN', '$', 'CD', 'CD', '.', 'DT', 'JJ', 'IN', 'NN', 'IN', 'DT', 'NN', 'JJ', 'NNS', 'NNS', 'DT', 'NN', 'NN', 'POS', 'NN', 'TO', 'VB', 'NNP', 'POS', 'JJ', 'NNS', ',', 'IN', 'NNS', 'VBD', 'RB', 'NNS', 'IN', 'JJ', 'NN', '.', 'IN', 'NN', 'NN', 'IN', 'DT', 'NN', 'IN', 'NN', 'NN', 'NN', 'JJ', 'JJ', 'NN', 'NNS', ',', 'NNS', 'VBD', 'NNP', 'VBD', 'IN', 'DT', 'NN', ',', 'IN', 'JJ', 'NN', 'DT', 'JJ', 'IN', 'DT', 'NN', '.', 'DT', 'NNP', 'NNP', 'NNP', 'NN', ',', 'WDT', 'VBD', 'VBD', 'VBN', 'CD', 'IN', 'NNP', ',', 'VBD', 'IN', 'RB', 'JJ', 'IN', 'PRP$', 'JJ', 'NN', 'CC', 'VBD', 'IN', 'DT', 'NN', 'IN', 'RB', 'CD', 'IN', 'VBD', '.', 'NN', 'CC', 'JJ', 'POS', 'NNP', 'NN', 'VBD', 'JJ', 'TO', 'NN', ':', 'DT', 'NN', 'VBD', 'JJ', 'TO', 'DT', 'NN', 'IN', 'IN', 'CD', 'CD', 'IN', 'DT', 'NN', 'NN', '.', 'DT', 'NNP', 'NNP', 'NNP', 'NN', 'NN', 'VBD', 'NN', 'TO', 'NN', 'CC', 'DT', 'JJ', 'NNP', 'NNP', 'NNP', 'NNP', 'NN', 'VBD', 'RB', 'NN', 'TO', 'NN', '.', 'NNP', 'NNS', 'VBD', 'JJ', 'IN', 'DT', 'NNP', 'NNP', 'NNP', 'NNP', 'IN', 'CD', 'TO', 'CD', '.', 'JJ', 'NN', 'NN', 'CD', 'TO', 'NN', 'NNS', ',', 'RB', 'IN', 'JJ', 'CD', 'NNP', '.', 'DT', 'NNP', 'NNP', 'IN', 'JJ', 'NN', 'NNS', ',', 'IN', 'MD', ',', 'DT', 'NN', 'IN', 'JJ', 'NN', 'NN', 'JJ', '.', 'DT', 'NN', 'IN', 'JJ', 'NN', 'NNS', 'IN', 'DT', 'NN', 'VBD', 'VBD', 'NN', 'IN', 'CD', 'NN', ':', 'DT', 'NN', 'IN', 'CD', 'NN', 'MD', 'VB', 'VBN', 'IN', 'DT', 'NN', 'NN', 'VBD', 'VBG', '.', 'CC', 'IN', 'DT', 'NN', 'NN', 'NN', 'NN', 'IN', 'VB', 'CC', 'DT', 'VBN', 'VBN', 'VBN', 'IN', 'NNP', 'NN', 'NNP', 'TO', 'NN', 'NN', ',', 'NN', 'NNS', 'NN', 'DT', 'RB', 'IN', 'NN', 'TO', 'DT', 'NN', 'CC', 'PRP', 'NNP', '.', '``', 'DT', 'NN', 'POS', 'RB', 'RB', 'IN', 'PRP$', 'NN', ',', \"''\", 'VBD', 'VBN', 'NN', ',', 'NN', 'IN', 'NN', 'NN', 'IN', 'NNS', 'NNP', '.', '``', 'DT', 'NN', 'VBZ', 'RB', ':', '``', 'PRP', 'VBP', 'VBP', 'NNS', '-RRB-', 'PRP', ',', 'CC', 'RB', 'PRP', 'VBP', 'RB', 'VB', 'PRP', 'VBP', 'VBG', 'TO', 'VB', 'PRP', '.', 'POS', \"''\", 'NN', 'IN', 'DT', 'NNS', 'IN', 'NNS', 'NN', 'TO', 'NN', 'NN', 'NN', ',', 'DT', 'NN', 'IN', 'NN', 'NN', 'VBN', 'IN', 'JJ', 'NN', 'IN', 'DT', 'NN', ',', 'RB', 'VBN', 'TO', 'PRP$', 'JJ', 'IN', 'NN', ',', 'NNP', 'NNP', 'VBD', '.', 'NNP', 'NN', 'IN', 'DT', 'NN', 'VBD', 'VBN', 'VBN', 'TO', 'DT', 'JJ', 'IN', 'NN', 'NNS', 'IN', 'DT', 'NN', ',', 'WDT', 'VBN', 'NN', 'DT', 'NN', 'IN', 'NNP', 'NNS', 'NNP', 'NNS', '.', 'NN', 'VBZ', 'VBN', 'TO', 'VB', 'JJ', 'IN', 'DT', 'NN', 'NN', 'NN', 'POS', 'DT', 'IN', 'DT', 'NNS', 'NNS', 'IN', 'DT', 'NN', 'IN', 'PRP', 'MD', 'VB', 'JJ', 'DT', 'NN', 'IN', 'NN', 'NNS', '.', '``', 'PRP', 'DT', 'IN', 'DT', 'NNS', 'VBP', 'VBN', 'TO', 'NN', 'PRP$', 'NN', 'IN', 'IN', 'DT', 'JJ', 'NN', 'IN', 'IN', 'DT', 'JJ', 'VBP', 'IN', ',', \"''\", 'VBD', 'NNP', 'NNP', ',', 'NN', 'IN', 'JJ', 'NNS', ',', 'NN', 'NNP', ',', 'NNP', 'NNP', 'VBD', 'CD', 'NNP', 'TO', 'CD', 'VBZ', 'IN', 'DT', 'NN', 'IN', 'NNP', 'NNP', 'NNP', 'IN', 'NN', 'CC', 'NN', 'NN', 'NN', 'NN', 'DT', 'JJ', 'IN', 'NN', 'IN', 'DT', 'NN', 'MD', 'VB', 'DT', 'NN', 'NN', '.', 'NNP', 'NN', 'DT', 'NN', 'POS', 'JJ', 'NN', 'NN', 'IN', 'NN', 'TO', 'DT', 'NN', ':', 'NNP', 'NNP', 'NNP', 'VBD', 'PRP', 'VBZ', 'DT', 'NN', 'MD', 'VB', 'TO', 'VB', 'NN', '``', 'IN', 'POS', 'JJR', 'VBG', 'NN', '.', \"''\", 'JJ', 'VBN', 'NN', 'CC', 'NN', 'NNS', 'TO', 'VB', 'NNS', 'JJ', 'NN', ',', 'WDT', 'VBD', 'RB', 'CD', 'CD', 'TO', 'CD', 'CD', ':', 'NNP', 'NNS', ',', 'RB', 'CD', 'CD', 'TO', 'CD', 'CD', ':', 'NNP', 'NNP', ',', 'RP', 'CD', 'TO', 'CD', 'CD', ',', 'CC', 'JJ', ',', 'RP', 'CD', 'CD', 'TO', 'CD', 'CD', '.', 'NNP', ',', 'DT', 'NN', 'NN', 'NN', 'DT', 'NN', 'NN', ',', 'NNP', 'JJ', 'TO', 'CD', 'CD', '.', 'DT', 'NN', 'VBD', 'PRP', 'VBZ', 'DT', 'JJ', 'NN', ',', 'WDT', 'PRP', 'VBD', 'RB', 'VBN', ',', 'IN', 'DT', 'JJ', 'NN', '.', 'NNP', 'VBD', 'CD', 'CD', 'TO', 'CD', 'VBZ', 'IN', 'IN', 'IN', 'JJ', 'NNP', 'NNP', 'NNP', 'NNP', 'VBD', 'JJ', 'NN', 'TO', 'NNP', 'DT', 'JJ', ',', 'NNS', 'NNS', 'IN', 'DT', 'NN', 'NN', 'IN', 'NNP', 'NNS', '.', 'NNP', 'NNP', 'NNP', 'DT', '$', 'CD', 'NN', 'IN', 'NN', '.', 'NNP', 'NNP', 'CD', 'CD', 'TO', 'CD', '.', 'NNP', 'NNP', 'NNP', 'NNP', 'NNP', 'NNP', 'VBD', 'PRP', 'VBZ', 'DT', 'CD', 'NN', 'NN', 'IN', 'DT', 'NN', 'IN', 'NNP', 'NNS', ',', 'DT', 'NN', 'IN', 'DT', 'NN', '$', 'CD', 'RB', 'IN', 'DT', 'JJ', 'NN', ',', 'MD', 'VB', 'VBN', 'CC', 'NN', 'RB', 'CD', 'NNS', '.', 'NNP', 'NNP', 'VBD', 'CD', 'CD', 'TO', 'CD', 'CD', 'IN', 'NNP', 'NNP', ',', 'VBN', 'IN', 'NNP', 'NN', 'NNP', 'NNP', ',', 'VBD', 'TO', 'VB', 'DT', 'NN', 'PRP', 'VBZ', 'RB', 'VBN', 'PRP$', 'IN', '$', 'CD', 'DT', 'NN', '.', 'NNP', ',', 'WDT', 'VBN', 'NNS', 'IN', 'CD', 'CD', ',', 'VBZ', 'DT', 'NN', 'IN', 'RB', 'IN', 'CD', 'NN', '.', 'NNP', 'NNP', 'NNP', ',', 'WDT', 'VBD', 'CD', 'VBZ', 'NN', 'IN', 'NNP', 'NNP', 'DT', '$', 'CD', 'CD', 'NNS', 'IN', 'DT', 'NN', ',', 'VBD', 'CD', 'NNP', 'TO', 'CD', 'CD', 'IN', 'JJ', 'NN', 'VBN', 'NN', 'IN', 'JJ', 'CD', 'NNS', '.', 'NNP', ',', 'WDT', 'VBD', 'RB', 'CD', 'CD', 'NNP', ',', 'VBD', 'DT', 'NN', 'TO', 'CD', 'CD', '.', 'DT', 'NN', 'CC', 'NNP', 'NNS', 'VBD', 'JJ', '.', 'NNP', 'NNP', 'CD', 'TO', 'DT', 'CD', ',', 'JJ', 'NN', 'NN', 'VBD', 'VBD', 'TO', 'CD', 'NNP', 'CC', 'NNP', 'NN', 'VBD', 'VBN', 'TO', 'CD', 'CD', ',', 'IN', 'NNP', 'NN', 'VBD', 'CD', 'TO', 'CD', 'CD', ',', 'NNP', 'NNP', 'NNP', 'NNP', 'TO', 'CD', 'CD', 'CC', 'JJ', 'VBD', 'VBZ', 'TO', 'CD', 'CD', '.', 'NNP', 'NNP', 'CD', 'TO', 'CD', 'CD', 'IN', 'CD', 'CD', 'NNS', 'VBD', 'NNS', '.', 'DT', 'IN', 'DT', 'NN', 'VBD', 'IN', 'NNS', 'VBN', 'TO', 'VB', 'DT', 'NN', 'POS', 'NN', 'NN', ':', 'NNP', 'VBZ', 'DT', 'NN', 'IN', 'JJ', 'NN', 'CC', 'VBZ', 'NN', 'NN', '.', 'NNP', 'NN', 'NNP', 'VBD', 'CD', 'VBZ', 'TO', 'CD', 'CD', '.', 'DT', 'NN', 'POS', 'NN', 'TO', 'VB', 'DT', 'CD', 'NN', 'NN', 'IN', 'PRP$', 'NN', 'NN', 'IN', 'IN', '$', 'CD', 'CD', 'VBZ', 'VBN', 'NNS', 'TO', 'VB', 'RB', 'TO', 'VB', 'PRP$', 'NNS', 'IN', 'NNP', 'NN', 'POS', 'NN', 'NN', '.', 'NNP', 'NNP', 'CD', 'TO', 'CD', '.', 'DT', 'NN', 'NN', 'IN', 'NNP', 'NN', 'IN', 'NN', 'NN', 'MD', 'VB', '``', 'NNS', \"''\", 'NNS', 'IN', 'DT', 'NN', 'VBD', '.', 'NNP', 'VBD', 'RB', 'VBN', 'TO', 'CD', 'NNP', '.', 'DT', 'NN', 'CC', 'NN', 'NN', 'VBD', 'DT', 'NN', 'TO', 'VB', 'NN', 'DT', 'JJ', 'NN', 'IN', 'NN', 'IN', 'JJ', 'NNS', '.', 'DT', 'JJ', 'NN', 'NNP', 'NN', 'NN', 'NN', 'VBD', 'NN', 'TO', 'NN', '.', 'NN', 'CD', 'NNP', 'NNS', '.', 'DT', 'JJ', 'NN', 'NN', 'CD', 'TO', 'CD', 'VBZ', '.', 'PRP$', 'NN', 'NN', 'IN', 'DT', 'NNP', 'NN', 'VBD', 'IN', 'CD', 'NN', 'IN', 'DT', 'NN', 'VBD', '.', 'NNP', 'NNP', 'VBD', 'PRP', 'MD', 'VBN', 'PRP$', 'NN', 'NN', 'NNS', 'NNP', 'NNP', 'IN', 'DT', 'NN', 'VBN', 'NN', 'IN', 'DT', 'NN', 'IN', 'NNS', 'IN', 'DT', 'NN', 'IN', 'JJ', 'NNS', '.', 'DT', 'NN', 'VBD', 'DT', 'NN', 'VBZ', 'RB', 'VB', 'TO', 'VB', 'DT', 'NN', ',', 'JJ', 'CC', 'NN', ',', 'IN', 'PRP$', 'JJ', 'NNS', '.', 'NNP', ',', 'DT', 'JJ', 'NN', 'NN', 'NN', 'NN', ',', 'VBD', 'DT', 'NN', 'MD', 'VB', 'PRP$', 'NNS', 'IN', 'JJ', 'NNS', 'IN', 'DT', 'JJ', 'NN', '.', 'NNP', 'NN', 'NNS', 'MD', 'VB', 'VBN', 'CC', 'NNS', 'IN', 'DT', 'JJ', 'NN', 'NN', 'TO', 'DT', 'NN', 'POS', 'NN', '.', 'NNP', 'MD', 'VB', 'CD', 'NNS', 'CD', 'VBN', 'NN', 'NNS', 'IN', 'DT', 'NNP', 'VBZ', 'VBN', 'IN', 'JJ', 'CD', ',', 'DT', 'NN', 'VBD', '.', 'PRP', 'VBZ', 'VBN', 'IN', 'JJ', 'NNS', 'NN', 'TO', 'DT', 'JJ', 'IN', 'NNS', 'JJ', ':', 'IN', 'JJ', 'CD', 'IN', 'NNP', 'CD', ':', 'MD', 'VB', 'VBN', 'JJ', 'DT', 'JJ', 'NN', 'IN', 'CD', '.', 'NNP', ',', 'DT', 'NN', 'NN', ',', 'VBZ', 'NNS', 'NNS', 'NN', 'IN', 'DT', 'NNS', 'NN', '.', 'NNP', 'NNP', 'NNP', ',', 'NNP', 'POS', 'NN', 'NN', 'NN', ',', 'VBD', 'NNP', 'IN', 'DT', 'NN', 'NN', 'POS', 'NN', 'NNS', 'IN', 'DT', 'JJ', 'NN', 'NN', 'NN', 'NNP', 'CD', 'VBD', 'CD', 'NN', 'TO', 'NN', 'CD', 'NNS', '-LRB-', '$', 'CD', 'CD', '-RRB-', 'IN', 'JJ', 'CD', 'NNS', 'DT', 'NN', 'VBD', '.', 'NNP', 'NNS', 'JJ', 'JJ', 'NNS', 'IN', 'DT', 'JJ', 'IN', 'JJ', 'JJ', 'NN', '.', 'NNS', 'NNS', 'CD', 'NN', 'TO', 'NN', 'CD', 'NNS', ',', 'CC', 'JJ', 'NN', 'DT', 'NN', ',', 'IN', 'JJ', 'CD', 'NNS', ',', 'CC', 'JJ', 'NN', 'DT', 'NN', '.', 'NNS', 'CD', 'NNP', 'CD', 'NN', ',', 'VBG', 'CD', 'NN', 'IN', 'JJ', 'CD', 'NN', 'IN', 'DT', 'JJ', 'NN', '.', 'NNP', 'NNP', 'DT', 'JJ', 'NN', 'NN', 'NN', ',', 'NNS', '.', 'NNP', 'NNP', ',', 'NN', 'NN', 'NN', 'CC', 'NN', 'NNP', 'NN', 'IN', 'JJ', ',', 'VBD', ',', '``', 'DT', 'NN', 'VBZ', 'VBN', 'DT', 'JJ', 'NN', 'IN', 'JJ', 'IN', 'NN', 'IN', 'DT', 'NN', 'NN', 'NN', 'NNP', 'CD', ',', 'IN', 'DT', 'JJ', 'CC', 'JJ', 'NN', 'IN', 'DT', 'NN', 'NN', 'JJ', 'JJ', '.', '``', 'PRP', 'MD', 'VB', 'VBD', 'IN', 'DT', 'NN', 'IN', 'JJ', 'NN', 'VBZ', 'VBN', 'VBN', 'JJ', ',', \"''\", 'PRP', 'VBD', '.', 'NNP', 'NN', 'NNP', ',', 'NNP', 'NNP', ',', 'VBD', 'PRP', 'VBD', 'TO', 'VB', 'DT', 'NNS', 'IN', 'JJ', 'NNP', 'NNP', 'PRP', 'VBZ', 'RB', 'VBN', 'PRP$', 'IN', 'DT', 'NN', 'NN', '.', 'NNP', ',', 'WDT', 'VBZ', 'CD', 'NN', 'IN', 'JJ', 'POS', 'CD', 'CD', 'NNS', 'JJ', ',', 'VBD', 'PRP', 'MD', 'VB', 'CD', 'NN', 'IN', 'DT', 'JJ', 'NN', 'NN', 'IN', 'DT', 'JJ', 'JJ', 'NN', 'PRP', 'VBZ', 'RB', 'VBN', 'PRP$', '.', 'RB', 'IN', 'RB', 'JJ', 'VBN', 'CC', 'NNS', 'VBP', 'VBN', 'VBN', 'TO', 'VB', 'IN', 'DT', 'NN', ',', 'NNP', 'MD', 'VB', 'IN', 'CD', 'CD', 'CC', 'JJ', 'CD', 'NN', 'NNS', ',', 'DT', 'NN', 'NN', 'CD', '.', 'IN', 'NNP', 'NNS', 'NN', 'NN', ',', 'JJ', 'NNP', '$', 'CD', 'TO', '$', 'CD', '.', 'DT', 'NN', 'NN', ',', 'WDT', 'MD', 'VB', 'DT', 'NN', 'NN', 'IN', '$', 'CD', 'DT', 'NN', ',', 'MD', 'VB', 'VBN', 'IN', 'NN', 'JJ', 'IN', 'DT', 'NN', 'IN', 'CD', 'JJ', 'NNS', 'IN', 'DT', 'NN', '.', 'NNP', 'JJ', 'NNP', 'NNP', 'VBZ', ',', 'IN', 'DT', 'NN', ',', 'JJ', 'NN', ',', 'DT', 'JJ', 'NN', ',', 'NN', 'CC', 'NN', 'NN', 'WDT', 'JJ', 'MD', 'VBD', '.', 'NNP', 'NNP', 'CC', 'VBZ', 'NN', 'CC', 'VBD', 'NNS', 'CC', 'JJ', 'NN', 'CC', 'NN', 'NNS', '.', 'NNP', 'NNP', ',', 'NN', 'IN', 'DT', 'NN', 'NN', 'CC', 'JJ', 'JJ', 'NN', ',', 'VBD', 'PRP', 'VBZ', 'TO', 'VB', 'IN', 'JJ', 'JJ', 'NN', 'IN', 'VBG', 'NN', 'MD', 'VB', 'VBN', 'IN', 'JJ', 'NN', 'POS', '$', 'CD', 'CD', '.', 'DT', 'JJ', ',', 'NNP', 'NN', 'RB', 'VBD', 'IN', 'VBN', 'NNS', 'IN', 'VBG', 'NN', 'MD', 'VB', 'VBN', 'IN', 'JJ', 'NN', 'POS', '$', 'CD', 'CD', '.', 'IN', 'NN', 'POS', 'JJ', 'NNS', 'DT', 'JJ', 'NN', 'IN', '$', 'CD', 'CD', 'IN', 'NN', 'CC', 'JJ', 'NNS', '.', 'CC', 'DT', 'NN', 'NNS', 'CC', 'NNP', 'NN', 'VBZ', 'IN', 'NN', 'IN', 'DT', 'NN', 'NN', 'NNP', 'CD', 'MD', 'VB', 'IN', 'NN', 'NN', 'POS', 'NN', 'IN', '$', 'CD', 'CD', ',', 'CC', '$', 'CD', 'DT', 'NN', ',', 'RB', 'IN', 'IN', '$', 'CD', 'CD', 'IN', 'NNS', 'IN', 'NNS', 'IN', 'VBN', 'NN', '.', 'NNP', 'NNP', ',', 'DT', 'NN', 'IN', 'JJ', 'CC', 'NNP', 'IN', 'NNP', ',', 'VBD', 'VBN', 'POS', 'NN', 'NNS', 'VBP', 'RB', 'IN', 'DT', 'JJ', 'IN', 'DT', 'JJ', 'NN', 'NN', 'IN', 'NNP', ',', 'NNP', 'IN', 'DT', 'NN', 'NN', ',', 'IN', 'VBZ', 'NN', 'NN', 'IN', 'JJ', 'POS', 'NN', 'NN', 'NN', '.', 'NNP', 'NNP', ',', 'NNP', 'NNP', ',', 'VBD', 'NNP', 'NN', 'VBD', 'VBN', 'RB', 'JJ', 'DT', 'JJ', 'JJ', 'NN', 'DT', 'NN', 'VBD', '.', 'DT', 'NN', 'CC', 'JJ', 'NNS', 'NN', 'VBD', 'NNS', 'IN', 'DT', 'NN', 'NN', 'CD', 'NN', 'TO', '$', 'CD', 'CD', ',', 'CC', '$', 'CD', 'DT', 'NN', ',', 'VBN', 'IN', '$', 'CD', 'CD', ',', 'CC', '$', 'CD', 'DT', 'NN', ',', 'DT', 'NN', 'VBD', '.', 'DT', 'NNS', 'NN', 'DT', 'CD', 'NN', 'NN', 'IN', 'NN', 'IN', 'PRP$', 'NN', 'NNS', ',', 'CC', 'DT', 'CD', 'NN', 'NN', 'IN', 'NN', 'IN', 'NN', 'NN', '.', 'NNP', 'VBD', 'NNP', 'NN', 'NNS', 'VBD', '$', 'CD', 'CD', ',', 'VBN', 'IN', '$', 'CD', 'CD', 'DT', 'NN', 'VBD', '.', 'PRP', 'VBD', 'NNS', 'NN', 'NN', 'DT', '$', 'CD', 'CD', 'NN', 'IN', 'NNP', 'NNP', '.', 'PRP', 'RB', 'CD', 'IN', 'NNS', 'IN', 'DT', 'NNP', 'CD', 'NNP', 'IN', 'NNP', 'MD', 'VB', 'DT', 'JJR', 'IN', '$', 'CD', 'CD', ',', 'CC', 'MD', 'VB', 'JJ', 'IN', 'NNP', 'NNS', '.', 'NNP', 'NNP', 'NNP', ',', 'NNP', 'NNP', ',', 'NNP', ',', 'VBG', 'DT', 'JJ', 'NN', ',', 'VBD', 'PRP', 'VBZ', 'VBG', 'JJ', 'NN', 'JJ', 'CC', 'NN', 'IN', 'NN', 'NNS', '.', 'DT', 'NN', 'VBD', 'IN', 'RB', 'IN', 'JJ', 'NNS', 'PRP', 'VBZ', 'RB', 'IN', 'NN', 'IN', 'JJ', 'IN', 'PRP', 'JJ', '$', 'CD', 'CD', 'IN', 'NN', 'NN', '.', 'NNP', 'NNP', 'NN', 'NNS', 'CC', 'JJ', 'NN', 'NNS', 'CC', 'NN', 'NN', 'NN', '.', 'NNP', 'VBD', 'PRP', 'VBD', 'DT', 'NN', 'IN', '$', 'CD', ',', 'CC', 'CD', 'CD', 'DT', 'NN', ',', 'IN', 'DT', 'JJ', 'NN', ',', 'VBN', 'IN', 'DT', 'JJ', 'NN', 'IN', '$', 'CD', ',', 'CC', 'CD', 'CD', 'DT', 'NN', '.', 'NNS', 'VBD', 'TO', '$', 'CD', 'CD', 'IN', '$', 'CD', 'CD', '.', 'IN', 'DT', 'CD', 'NNS', ',', 'DT', 'NN', 'VBD', 'DT', 'NN', 'NN', 'IN', '$', 'CD', ',', 'CC', 'JJ', 'CD', 'DT', 'NN', ',', 'VBN', 'IN', 'VBG', 'NN', 'NN', 'IN', '$', 'CD', ',', 'CC', 'CD', 'CD', 'DT', 'NN', '.', 'NNS', 'VBD', 'TO', '$', 'CD', 'CD', 'IN', '$', 'CD', 'CD', '.', 'NNP', 'NNP', 'NNP', 'VBD', 'PRP', 'VBD', 'VBN', 'NNS', 'IN', 'PRP$', 'JJ', 'NN', 'TO', 'DT', 'NNP', 'VBZ', 'NNS', ',', 'IN', '$', 'CD', 'CD', ',', 'CC', '$', 'CD', 'DT', 'NN', '.', 'DT', 'NN', 'NN', 'NNS', 'NN', 'IN', 'JJ', 'POS', 'NNS', 'JJ', '.', 'DT', 'NNP', 'VBZ', ',', 'WDT', 'VBZ', 'DT', 'JJ', 'IN', 'JJ', 'NNS', ',', 'JJ', 'DT', 'JJ', 'NN', 'CC', 'NN', 'NN', ',', 'RB', 'NNP', 'TO', 'NN', 'NNP', '$', 'CD', '.', 'IN', 'NN', 'VBZ', 'JJ', 'IN', 'NNS', 'IN', 'JJ', 'JJ', 'NN', 'IN', '$', 'CD', 'DT', 'NN', 'NN', 'PRP$', 'NN', 'NN', '.', 'DT', 'NN', 'MD', 'VB', 'VBN', 'IN', 'DT', 'NNP', 'NNP', 'IN', 'DT', 'JJ', 'NN', 'IN', 'DT', 'NN', 'IN', 'DT', 'NN', 'NN', 'TO', '$', 'CD', 'DT', 'NN', '.', 'DT', 'NN', 'IN', 'NNS', 'TO', 'DT', 'NNP', 'VBZ', 'NNP', 'IN', 'DT', 'JJ', 'NN', 'IN', 'JJ', 'NNS', 'IN', 'JJ', 'NN', 'TO', 'NN', 'NN', 'NN', 'NNP', 'IN', 'JJ', ',', 'NNP', 'CC', 'DT', 'JJ', 'NN', 'NN', 'VBP', 'VBN', 'VBN', 'POS', 'NN', 'NN', 'TO', '$', 'CD', 'CD', ',', 'VBD', 'NNP', 'NNP', ',', 'NN', 'NN', 'NN', 'IN', 'NNP', ',', 'NNP', 'NN', '.', 'NNP', 'NNP', 'NNP', ',', 'DT', 'JJ', ',', 'JJ', 'NN', 'NN', ',', 'VBD', 'PRP$', 'NN', 'IN', 'JJ', 'NNS', 'NN', 'NN', 'POS', 'NNP', 'TO', '$', 'CD', 'DT', 'NN', ',', 'CC', '$', 'CD', 'CD', ',', 'IN', '$', 'CD', 'DT', 'NN', ',', 'CC', '$', 'CD', 'CD', ',', 'IN', 'DT', 'NN', 'VBD', 'PRP', 'MD', 'VB', 'VBN', 'TO', 'NN', 'NNP', 'POS', 'NN', 'NN', '.', 'DT', 'JJ', 'NN', 'VBD', 'RB', 'VBN', '.', 'NNP', 'POS', 'NNP', ',', 'NNP', 'NNP', ',', 'VBD', 'DT', 'NN', 'VBZ', 'IN', '``', 'NN', 'NNS', 'TO', 'NNP', '.', \"''\", 'IN', 'NNP', 'IN', 'JJ', 'NN', ',', 'NNP', 'POS', 'NNS', 'VBD', 'RP', 'CD', 'CD', '-LRB-', 'NNP', 'CD', '-RRB-', ',', 'IN', 'JJ', 'NN', '-LRB-', '$', 'CD', '-RRB-', '.', 'DT', 'NN', 'NN', 'VBZ', 'JJ', 'IN', 'JJR', 'IN', 'CD', 'NN', 'IN', 'NNP', 'POS', 'NNS', ',', 'CC', 'PRP', 'VBZ', 'VBN', 'IN', 'NN', 'IN', 'NNP', 'CD', '.', 'DT', 'NN', 'IN', 'JJ', 'NN', 'POS', 'NN', 'NNP', 'POS', 'NNP', 'NN', 'TO', 'CD', 'NNS', '.', 'IN', 'CD', 'NN', 'IN', 'NNP', 'POS', 'NN', 'RB', 'VBZ', 'VBN', 'IN', 'DT', 'NNP', '.', 'NNP', 'NNP', 'NNS', 'NNP', 'VBD', 'JJ', 'NNS', 'IN', 'DT', 'NN', 'IN', 'CD', 'JJ', 'NNP', 'NNS', 'IN', 'JJ', 'VBP', 'VBN', 'VBN', '.', 'IN', 'NN', ',', 'NNP', 'NN', 'NN', 'IN', 'VBN', 'NNP', 'NNP', ',', 'DT', 'JJ', 'NN', 'WDT', 'VBZ', 'NN', 'VBN', 'POS', 'NNP', 'NNP', 'NNS', ',', 'VBD', 'TO', 'VB', 'IN', 'NN', '.', 'NN', ',', 'NNP', 'VBD', 'DT', 'JJ', 'NN', 'VBZ', 'VBN', 'VBN', 'IN', 'JJ', 'WDT', 'MD', 'VB', 'IN', 'JJ', 'POS', 'NN', 'NN', '.', 'NNP', 'VBD', 'PRP', 'MD', 'VB', 'DT', 'CD', 'NN', 'NN', 'IN', 'DT', 'NNP', 'NN', '.', 'NNP', 'VBD', 'DT', 'JJ', ',', 'DT', 'JJ', 'JJ', 'WDT', 'VBD', 'VBN', 'TO', 'VB', 'VBN', 'DT', 'NN', ',', 'MD', 'VB', 'VBN', 'IN', 'NNP', '.', 'DT', 'NN', 'NN', 'VBZ', 'RB', 'MD', 'TO', 'VB', 'VBN', 'VBD', 'NN', 'NN', 'CC', 'JJ', 'IN', 'CD', '.', 'NNP', 'VBD', 'VBN', 'IN', 'JJ', 'TO', 'VB', 'VBN', 'NN', 'IN', '.', 'DT', 'NN', 'NN', 'NN', 'IN', 'MD', 'VB', 'VBN', 'IN', 'DT', 'JJ', 'NN', ',', 'CC', 'MD', 'VB', 'VBN', 'NNS', ',', 'JJ', 'VBD', '.', 'NNP', 'NNP', 'NNS', 'CC', 'NN', 'NNP', 'VBD', 'DT', '$', 'CD', 'CD', 'NN', 'IN', 'PRP', 'VBN', 'DT', 'JJ', 'NN', 'IN', '$', 'CD', 'CD', ',', 'CC', '$', 'CD', 'DT', 'NN', '.', 'DT', 'NNP', 'NN', ',', 'NNP', ',', 'NNP', 'VBD', 'NN', 'NN', 'IN', '$', 'CD', ',', 'CC', 'CD', 'CD', 'DT', 'NN', ',', 'DT', 'NN', 'VBD', '.', 'DT', 'NNS', 'IN', 'DT', 'NN', 'NN', 'VBZ', 'DT', '$', 'CD', 'CD', 'VBN', 'IN', 'JJ', 'NN', 'IN', 'DT', 'NN', 'NNP', 'NN', 'NN', ',', 'WDT', 'DT', 'NN', 'VBD', 'VBD', 'VBN', 'DT', 'JJ', 'NN', 'IN', 'NNS', '.', 'DT', 'NN', 'VBD', 'DT', 'JJ', 'NN', 'MD', 'VB', 'VB', 'IN', 'JJ', 'NNS', 'IN', 'DT', 'NN', '.', 'NNP', 'NNP', 'RB', 'VBD', '$', 'CD', 'CD', 'TO', 'NN', 'NN', 'NNS', 'CC', 'VBG', '$', 'CD', 'CD', 'IN', 'NN', 'MD', '.', 'DT', 'NN', 'VBD', 'IN', '``', 'IN', 'JJ', 'NNS', 'CC', 'NN', 'DT', 'NN', 'NN', 'IN', 'NN', 'NNS', ',', 'DT', 'NN', 'VBZ', 'TO', 'VB', 'IN', 'NN', 'NNS', 'IN', 'CD', '.', \"''\", 'NNP', 'NNP', 'VBZ', 'VBZ', 'VBN', 'VBN', 'IN', 'NNS', '.', 'NNP', 'NNS', 'VBP', 'TO', 'VB', ':', 'PRP', 'VBD', '$', 'CD', 'CD', 'IN', 'DT', 'NN', 'NN', 'IN', '$', 'CD', 'CD', 'DT', 'NN', 'VBD', '.', 'DT', 'NN', 'VBZ', 'NNS', 'IN', '$', 'CD', 'CD', '.', 'DT', 'IN', 'NNP', 'NNP', 'NNP', 'VBD', 'PRP', 'VBD', 'PRP$', 'NN', 'IN', 'NNP', 'NN', 'NNP', 'NNP', 'IN', 'IN', '$', 'CD', 'CD', '.', 'DT', 'IN', 'NNP', ',', 'WDT', 'RB', 'VBZ', 'CD', 'NNS', 'CC', '$', 'CD', 'CD', 'IN', 'NNS', ',', 'VBD', 'DT', 'NN', 'TO', 'VB', 'DT', 'JJ', ',', 'NNP', ',', 'NNP', 'VBG', 'NN', 'IN', 'NNP', '.', 'NNP', 'NNP', 'VBZ', '$', 'CD', 'CD', 'IN', 'NNS', 'CC', 'CD', 'NNS', '.', 'DT', 'NNP', 'NN', 'NNP', 'NNS', 'MD', 'VB', 'TO', 'VB', 'IN', 'PRP$', 'NN', 'NNS', 'IN', 'JJ', 'CD', ',', 'IN', 'DT', 'MD', 'NN', 'DT', 'JJ', 'IN', 'NNP', 'NNP', '.', 'NNP', ',', 'NNP', 'JJ', 'IN', 'NNP', 'VBD', 'PRP', 'MD', 'VB', 'DT', 'CD', 'NN', 'NNS', 'IN', 'DT', 'JJ', 'NNP', 'NNP', 'NN', 'NN', '.', 'DT', 'IN', 'NNP', 'VBD', 'DT', 'IN', 'DT', 'NNS', 'MD', 'VB', 'VB', 'NNS', 'IN', 'JJ', 'IN', 'NNP', '.', 'CC', 'PRP', 'VBD', 'IN', 'VBN', 'NNS', 'TO', 'VB', 'NNS', 'RB', 'VBN', 'IN', 'DT', 'NN', 'MD', 'VB', 'JJ', 'IN', 'NNP', 'POS', 'NN', 'NNS', 'IN', 'CD', 'IN', '$', 'CD', 'CD', 'TO', '$', 'CD', 'CD', ',', 'CC', 'CD', 'NNS', 'TO', 'CD', 'CD', 'DT', 'NN', '.', 'NNP', 'NNP', 'NNP', ',', 'DT', 'NN', 'NN', 'NN', 'NN', 'PRP$', 'NN', 'NN', 'IN', '$', 'CD', 'DT', 'NN', 'IN', 'DT', 'JJ', 'NN', ',', 'NNP', 'DT', 'NN', 'CD', 'NN', 'NN', 'IN', 'VBZ', 'RB', 'CD', 'CD', 'DT', 'NN', 'IN', 'JJ', 'NNS', '.', 'IN', 'DT', 'NN', ',', 'NNP', 'NNS', ',', 'WP', 'VBP', 'VBN', 'IN', '$', 'CD', 'CD', ',', 'MD', 'VB', 'IN', '$', 'CD', 'CD', ',', 'CC', 'CD', 'NNS', 'IN', 'DT', 'NN', 'PRP', 'VBP', 'VBN', '.', 'IN', 'JJ', ',', 'PRP', 'MD', 'VB', 'NN', 'IN', 'DT', 'JJ', 'NN', ',', 'WDT', 'MD', 'VB', 'VBN', 'VBN', 'NNP', 'NNP', '.', 'IN', 'JJ', 'NNS', ',', 'IN', '$', 'CD', 'MD', 'VB', 'VBN', 'IN', 'DT', 'CD', 'CD', 'JJ', 'NNS', 'JJ', '.', 'DT', 'JJ', ',', 'NNP', ',', 'NN', 'POS', 'NN', 'VBD', 'DT', 'JJ', 'IN', 'CD', 'IN', 'PRP', 'JJ', 'PRP$', 'NN', 'NNP', 'NN', ',', 'CC', 'DT', 'NN', 'VBD', 'VBN', 'IN', 'JJ', 'CC', 'DT', 'NN', 'POS', 'NN', 'NN', '.', 'CC', 'JJ', 'JJ', 'RB', 'IN', 'DT', 'NN', 'IN', 'DT', 'JJ', 'NN', 'NN', ',', 'PRP$', 'NNS', 'VBD', '$', 'CD', 'CD', 'IN', 'CD', '.', 'CC', 'IN', 'DT', 'NN', 'NNP', ',', 'NNP', 'VBD', 'TO', 'VB', 'RP', 'IN', 'DT', 'JJ', 'CC', 'NNP', 'IN', 'JJ', 'NN', 'IN', 'NNP', 'CD', '.', 'DT', 'NN', 'VBD', 'NNP', 'VBN', 'IN', 'NNP', 'NNS', 'IN', 'NNP', 'NNP', 'NNP', 'IN', 'NNP', 'NNP', 'CC', 'MD', 'VB', 'VBN', 'IN', 'DT', 'NN', '.', 'NNP', 'VBD', 'DT', 'NN', 'IN', 'DT', 'JJ', 'CC', 'VBD', 'NNS', 'VBD', 'VBN', '.', 'DT', 'JJ', 'NN', ',', 'JJ', 'NNS', 'IN', 'DT', 'JJ', 'NN', ',', 'VBN', 'DT', 'JJ', 'NN', 'CC', 'VBG', 'NNP', 'IN', '``', 'VBG', 'IN', '.', \"''\", 'IN', 'PRP', 'JJ', 'NN', 'IN', 'DT', 'NN', 'POS', 'NNP', 'CD', 'NNS', ',', 'JJ', 'NN', 'IN', 'NN', 'NNP', 'JJ', 'NN', 'TO', 'DT', 'JJ', 'MD', 'NN', 'DT', 'JJ', '.', 'PRP', 'VBD', 'NNP', 'NNP', 'MD', 'VB', 'VBN', 'TO', 'NN', 'DT', 'JJ', '.', 'DT', 'NNP', 'NNP', 'NNP', 'VBD', 'DT', 'NN', 'NN', 'IN', '``', 'NN', \"''\", 'CC', 'JJ', 'IN', 'RB', 'IN', 'JJ', 'JJ', 'NN', 'IN', 'DT', 'JJ', '.', 'DT', 'JJ', 'JJ', 'NN', ',', 'IN', 'DT', 'NN', 'IN', 'JJ', ',', 'VBD', 'VBN', 'NN', 'VBD', 'VBN', 'DT', 'JJ', 'NN', 'IN', 'DT', 'JJ', 'NN', '.', 'NNP', 'NN', 'NN', 'NN', 'NN', 'DT', 'NNS', 'IN', 'PRP$', 'NN', 'DT', '``', 'NN', 'NN', ',', \"''\", 'VBD', 'IN', 'JJ', 'IN', 'NNS', 'NNS', 'IN', 'NNP', 'NN', 'VBD', 'JJ', 'NN', 'IN', '``', 'DT', 'NN', 'IN', 'JJ', '.', \"''\", 'DT', 'JJ', 'NN', 'NN', ',', 'IN', 'NNP', 'IN', 'NN', 'IN', 'JJ', 'NNS', ',', 'RB', 'VBD', 'NNP', 'NNP', 'MD', 'VB', 'NNP', 'POS', 'NN', 'NN', '.', 'NNS', 'IN', 'NNP', 'VBD', 'VBN', 'TO', 'CD', 'IN', 'DT', 'NNP', 'NN', 'NN', 'VBD', 'NNS', 'NNS', '.', 'DT', 'NN', 'IN', 'JJ', 'NN', 'VBD', 'VBN', 'IN', 'NN', 'IN', 'DT', 'JJ', 'NN', 'IN', 'JJ', 'TO', 'VB', 'NNP', '.', 'RB', ',', 'DT', 'JJ', 'NN', 'IN', 'DT', 'JJ', 'NN', 'VBD', 'DT', 'JJ', 'IN', 'DT', 'JJ', 'NN', 'MD', 'VB', 'JJ', 'TO', 'NN', '.', 'NNP', 'NNS', 'VB', 'TO', 'VB', 'DT', 'NN', 'IN', 'JJ', 'NN', 'IN', 'NNP', 'JJ', 'JJ', 'NNS', '.', 'DT', 'NN', 'NNP', 'NNP', 'VBD', 'DT', 'NN', '``', 'MD', 'VB', 'VBN', 'VB', '.', \"''\", 'IN', 'NNS', 'VBP', 'JJ', 'NNS', 'MD', 'VB', 'VB', 'NNS', 'IN', 'NNP', 'POS', ',', 'NNP', 'NN', 'DT', 'NN', '.', 'NNP', 'NNP', 'IN', 'NNP', 'NNP', 'TO', 'VB', 'NN', 'DT', 'NN', 'IN', 'MD', 'VB', 'IN', 'NN', 'POS', 'NNP', 'NN', 'IN', 'DT', 'NN', 'IN', 'NN', 'IN', 'JJ', 'TO', 'NN', 'NNP', '.', 'DT', 'NNP', 'POS', 'NN', 'VBZ', 'VBN', 'IN', 'NN', 'JJ', 'CC', 'NNS', 'IN', 'VBN', 'NNS', 'IN', 'DT', 'NN', 'POS', 'NN', 'TO', 'VB', 'NN', 'NN', '.', 'NNP', 'NN', 'JJ', 'NNS', 'IN', 'DT', 'NN', 'IN', 'JJR', 'IN', '$', 'CD', 'CD', 'IN', 'JJ', 'NN', 'IN', 'NNP', '.', 'DT', 'NN', 'VBZ', 'RB', 'IN', '$', 'CD', 'CD', 'IN', 'NN', 'CC', 'NN', 'NN', 'IN', 'JJ', 'CD', 'IN', 'NNP', 'IN', 'VBG', 'JJ', 'NN', 'CC', 'NN', '.', 'NNP', 'NNP', 'NNP', 'NN', 'NN', 'NN', 'NN', 'IN', 'NNP', 'IN', 'NNP', 'IN', 'JJ', 'NN', ',', 'NNP', 'NN', 'NN', 'NN', 'IN', 'DT', 'JJ', 'POS', 'NN', 'IN', 'JJ', '.', 'NNP', 'NNP', 'NN', 'VBD', 'VBN', 'IN', 'JJ', '.', 'NNP', 'NNS', 'VBD', 'VBN', 'VBD', 'VBN', 'TO', 'NN', 'NN', 'NN', 'POS', 'NNS', 'IN', 'JJ', '.', 'NNP', 'IN', 'JJ', 'NN', 'DT', 'JJ', 'NN', 'NN', 'NN', ',', 'CC', 'DT', 'JJ', 'NN', 'NN', 'VBD', 'NN', 'IN', 'DT', 'JJ', 'TO', 'NN', 'DT', 'JJ', 'IN', 'CD', 'NNP', 'IN', 'VBN', 'POS', 'NN', 'IN', 'NNP', '.', 'RB', 'IN', 'JJ', ',', 'DT', 'JJ', 'NN', 'NN', 'TO', 'VB', 'VB', 'RB', 'DT', 'NNP', 'NNP', 'DT', 'NN', 'TO', 'VB', 'NNS', 'NNS', '.', 'NNP', 'VBD', 'CD', 'NNS', 'IN', 'NN', 'NNS', 'IN', 'JJ', 'NNS', 'IN', 'NNP', ',', 'CC', 'RB', 'VBD', 'TO', 'VB', 'JJ', 'IN', 'JJ', 'NNS', 'NN', 'IN', 'NNP', 'POS', 'NN', 'IN', 'JJ', 'NNS', 'IN', 'NNP', '.', 'NNP', 'POS', 'NN', 'NNS', 'TO', 'DT', 'JJ', 'NN', 'IN', 'NNP', '``', 'JJ', \"''\", 'IN', 'NNP', 'POS', 'JJ', 'NNP', '.', 'NNP', 'POS', 'NN', 'NN', 'VBD', 'DT', 'NN', 'POS', 'NN', 'VBD', 'VBD', 'CC', 'DT', 'NN', 'VBD', 'JJ', 'RB', '.', 'IN', 'PRP$', 'JJ', 'NN', 'IN', 'DT', 'NN', 'NN', ',', 'JJ', 'NN', 'TO', 'VB', 'PRP$', 'NN', 'IN', 'JJ', 'CC', 'NNP', 'JJ', 'NNS', 'IN', 'JJ', 'NNS', 'MD', 'VB', 'PRP', 'JJ', 'NN', '.', 'NNP', 'POS', 'NNP', 'NN', 'DT', 'JJ', 'JJ', 'NN', 'IN', 'DT', 'NN', 'POS', 'NN', 'NN', ',', 'JJ', 'DT', 'NN', 'IN', 'MD', 'VB', 'VBN', 'RB', 'PRP$', 'NN', 'NN', '.', 'DT', 'NN', 'NN', 'POS', 'NNS', 'VBD', 'DT', 'JJ', ',', 'CD', 'NNP', 'JJ', 'IN', 'DT', 'NN', 'IN', 'JJ', 'POS', 'NN', 'NN', ',', 'VBD', 'VBN', '.', 'DT', 'NNP', 'NNP', 'VBD', 'DT', 'JJ', 'NNS', 'NN', 'NN', 'IN', 'NNP', 'CC', 'JJ', 'NN', 'NNP', 'MD', 'VB', 'IN', 'IN', 'DT', 'NNP', 'RP', 'JJ', '.', 'DT', 'NN', 'VBD', 'VBN', 'IN', 'DT', 'NNP', 'NNP', 'NN', 'DT', 'NNS', 'TO', 'VB', 'VBN', 'IN', 'DT', 'NNP', 'NNP', 'NN', '.', 'NNP', 'NNP', 'DT', 'NN', 'IN', 'NN', 'NNS', 'TO', 'VB', 'VB', '``', 'JJ', 'NNS', 'TO', 'VB', 'NN', \"''\", 'IN', 'DT', 'JJ', 'NNS', 'IN', 'NNP', 'NNP', '.', 'DT', 'NN', 'POS', 'NN', 'VBZ', 'DT', 'NN', 'TO', 'VB', 'VB', 'DT', 'JJ', 'NNP', 'NN', 'NN', '.', 'NNP', 'NNP', 'VBZ', 'VBN', 'JJ', 'NN', 'NNS', ',', 'JJ', 'DT', 'JJ', 'CC', 'NN', ',', 'TO', 'VB', 'VB', 'PRP', 'VBD', 'VBN', 'IN', 'DT', 'JJ', 'VBD', 'VBN', 'VBN', 'VBN', 'DT', 'JJ', 'IN', 'JJ', 'IN', 'JJ', 'NN', 'NNP', ',', 'IN', 'CD', 'NNS', '.', 'DT', 'NN', 'VBZ', 'VBG', 'TO', 'VB', 'IN', 'VBZ', 'CC', 'NNP', 'NNP', 'NNP', 'DT', 'NNP', 'IN', 'DT', 'NN', 'NN', '.', 'NNP', ':', 'NNP', 'NNP', 'NNP', ',', 'CD', ',', 'NNP', 'NN', 'CC', 'NN', 'IN', 'NNS', 'NN', 'NN', 'NNP', 'IN', 'NNP', 'NNP', ',', 'NNP', ',', 'IN', 'NNP', 'NNP', 'NNP', ',', 'IN', 'DT', 'JJ', 'NN', 'NN', '.', 'NNP', 'NNP', 'VBD', 'PRP$', 'NN', 'NN', 'IN', 'NNP', 'NNS', 'NNP', 'NNP', ',', 'IN', 'NNP', 'NNS', 'NN', 'NN', 'NN', 'IN', 'DT', 'JJ', 'NNS', 'JJ', 'IN', 'DT', 'NNP', 'NN', '.', 'NNP', 'NNP', 'NN', 'NNP', ',', 'VBD', 'IN', 'DT', 'NNP', 'NN', ',', 'MD', 'VB', 'VB', 'NN', 'IN', 'DT', 'NN', 'NN', 'VBD', 'DT', 'NN', ',', 'DT', 'NN', 'VBD', '.', 'NNP', 'VBZ', 'VBG', '$', 'CD', 'DT', 'NN', ',', 'CC', '$', 'CD', 'CD', ',', 'NN', 'CC', 'VBZ', 'NN', '$', 'CD', 'CD', 'IN', 'JJ', 'NN', '.', 'IN', 'JJ', 'VBZ', 'NNP', 'POS', 'NN', 'TO', 'VB', 'NNS', 'NN', 'VBN', 'CC', 'NNP', 'NNP', 'TO', 'VB', 'DT', 'JJ', '.', 'NNP', 'POS', 'VBD', 'NN', 'IN', 'JJ', 'NN', 'NNP', 'IN', '$', 'CD', 'CD', 'VBZ', 'VBN', 'TO', 'VB', 'NNP', '.', 'NNP', 'VBZ', 'VBN', 'VBN', 'IN', 'NN', 'IN', 'NNP', 'NNP', 'NNP', 'IN', 'DT', 'NN', 'TO', 'VB', 'IN', 'IN', 'DT', 'NN', 'NN', 'NN', 'IN', 'NNP', '.', 'CC', 'NNS', 'VBP', 'IN', 'NNS', 'TO', 'VB', 'DT', 'NN', '.', 'NNP', 'NNP', 'VBZ', 'VBD', 'NNS', 'IN', 'PRP$', 'NN', 'CC', 'NN', 'NN', 'NN', 'NN', 'IN', 'PRP', 'VBZ', 'VBN', 'RP', 'IN', 'CD', 'NNS', ',', 'CC', 'CD', 'NN', 'IN', 'DT', 'NN', '.', 'DT', 'NNP', 'IN', 'JJ', 'CC', 'NN', 'VBD', 'NNS', 'VBD', 'VBD', 'JJ', 'DT', 'NN', 'IN', 'JJ', 'NN', 'NNS', 'IN', 'DT', 'NN', 'NN', 'NNS', 'VBD', 'VBG', 'TO', 'VB', 'VBN', 'IN', 'DT', 'JJ', 'NN', '.', 'PRP', 'VBD', 'DT', 'NN', 'MD', 'VB', 'IN', 'DT', 'JJ', 'NN', 'IN', 'JJR', 'IN', '$', 'CD', 'CD', 'TO', 'VB', 'IN', 'IN', 'DT', 'NN', 'CD', 'JJ', '.', 'IN', 'VBN', ',', 'IN', 'DT', 'JJ', 'CD', 'NNS', ',', 'NNP', 'NNP', '$', 'CD', 'CD', ',', 'CC', '$', 'CD', 'DT', 'NN', ',', 'IN', 'NN', 'IN', '$', 'CD', 'CD', '.', 'NNS', 'IN', 'NNP', 'POS', 'VBD', 'NN', 'RB', 'VBD', 'RB', ',', 'CC', 'IN', 'VBD', 'VBN', 'IN', 'NN', 'NNS', 'IN', 'JJ', 'CC', 'NNP', 'NN', 'NNP', 'NNP', 'NNS', 'CC', 'DT', 'NNS', 'NNP', 'RP', 'TO', 'VB', 'JJ', 'NNS', '.', 'VBZ', 'VBN', 'DT', 'JJ', 'NN', 'IN', 'JJ', 'JJ', ',', 'IN', 'NN', 'VBZ', 'VBN', 'JJ', 'CC', 'JJ', 'JJ', 'JJ', 'IN', 'NNP', 'NNP', 'CC', 'DT', 'NNP', 'NNP', 'VBP', 'VBN', 'IN', 'JJ', 'NNS', '.', 'NNP', 'NNP', ',', 'DT', 'JJ', 'NN', 'NN', 'IN', 'NN', 'NN', ',', 'VBD', 'DT', 'CD', 'NN', 'NN', 'NN', 'IN', 'JJ', 'NN', 'NNS', '.', 'IN', 'DT', 'NN', 'NN', 'NN', ',', 'PRP', 'VBD', 'VBN', 'CD', 'NNS', ',', '-LRB-', 'CD', 'CD', 'CD', '-RRB-', 'PRP', 'IN', 'JJ', 'CD', 'NNS', 'DT', 'NN', 'IN', '.', 'NNS', 'VBD', 'CD', 'NN', 'TO', 'NN', 'CD', 'NNS', 'IN', 'JJ', 'CD', 'NNS', '.', 'NN', 'NN', 'NNS', 'CD', 'NN', 'TO', 'NN', 'CD', 'NNS', 'IN', 'JJ', 'CD', 'NNS', '.', 'NNP', 'NN', 'VBD', 'TO', 'NN', 'NN', 'IN', 'JJ', 'NN', '.', 'NNP', 'JJ', 'NN', 'JJ', 'TO', 'NN', 'NN', 'NN', 'VBD', 'RB', 'NNS', 'RB', 'IN', 'NN', 'CC', 'NN', 'NN', 'NNS', '.', 'JJ', 'NNS', 'IN', 'NN', 'NN', ',', 'JJ', 'IN', 'NN', 'NNS', 'CC', 'JJ', 'NN', 'TO', 'NN', 'CD', 'NNS', 'IN', 'JJ', 'CD', 'NNS', '.', 'NNS', 'IN', 'NNP', 'CC', 'NNP', 'NNP', 'RB', 'VBD', ',', 'CC', 'JJ', 'TO', 'NN', 'NN', 'IN', 'JJ', 'NNS', ',', 'NNS', 'NNS', 'NNP', 'IN', 'CD', 'NN', '.', 'NNP', 'NNP', 'IN', 'IN', 'DT', 'NN', 'NN', 'NN', 'NNP', 'CD', 'NNS', 'MD', 'VBN', 'TO', 'CD', 'CD', 'NNS', 'IN', 'JJ', 'CD', 'NNS', ':', 'NN', 'NNS', 'VBD', 'VBN', 'IN', 'CD', 'CD', 'NNS', ',', 'RB', 'IN', 'JJ', 'CD', 'NNS', 'IN', 'JJ', 'CD', '.', 'NN', 'VBZ', 'MD', 'TO', 'VB', 'TO', 'CD', 'CD', 'NNS', 'IN', 'JJ', 'CD', 'NNS', 'DT', 'NN', 'VBD', '.', 'JJ', 'NN', 'VBZ', 'TO', 'VB', 'VB', 'IN', ',', 'JJ', 'NNS', 'NNS', '.', 'NN', 'NNS', 'CC', 'NN', 'NN', 'VBD', 'VBN', 'RB', 'IN', 'NNP', ',', 'IN', 'VBG', 'NNS', 'VBD', 'NN', 'NN', 'NNS', 'IN', 'NNP', '.', 'IN', ',', 'DT', 'NNS', 'VBP', 'RB', 'VB', 'DT', 'NN', 'NN', 'RB', '.', 'DT', 'NNP', 'VBZ', 'VBG', 'IN', 'NN', 'TO', 'VB', 'JJ', 'NN', 'NNS', 'IN', 'TO', 'DT', 'JJ', 'NN', 'IN', 'DT', 'NN', '.', 'CC', 'PRP', 'VBZ', 'RB', 'RB', 'RB', 'RB', 'DT', 'NN', 'NN', 'MD', 'VB', 'JJ', 'DT', 'NN', '.', 'NNP', 'NNP', 'VBN', 'IN', 'PRP$', 'NN', 'CC', 'NN', 'NN', ',', 'NNP', 'NNP', 'NNP', ',', 'DT', 'NN', 'NN', 'RB', 'IN', 'DT', 'NNP', 'NN', 'NN', 'TO', 'VB', 'NN', 'IN', 'VBG', 'DT', 'NN', 'NN', 'NN', '.', 'NNP', 'POS', 'NN', 'VBD', '$', 'CD', ',', 'TO', '$', 'CD', ',', 'IN', 'NN', '.', 'DT', 'NNP', 'NNP', 'NNP', 'DT', 'JJ', '``', 'NN', 'NNP', \"''\", 'TO', 'VB', 'JJ', 'JJ', 'IN', 'DT', 'NN', '.', 'RB', ',', 'JJ', 'NN', 'NNP', 'NNP', 'VBD', 'PRP', 'MD', 'VB', 'NNP', 'NN', 'IN', 'NN', 'NN', 'IN', 'NN', 'NN', 'RB', 'RB', 'DT', 'JJ', 'IN', 'DT', '``', 'NN', \"''\", 'IN', 'NN', '.', 'NNP', 'NNP', 'VBD', 'DT', 'JJ', 'NN', 'NN', 'IN', 'NN', 'NNP', 'NNP', 'CC', 'NNP', 'NNP', 'IN', '$', 'CD', 'DT', 'NN', ',', 'CC', 'IN', '$', 'CD', 'CD', '.', 'DT', 'NN', ',', 'WDT', 'VBZ', 'DT', '$', 'CD', 'NN', 'IN', 'VBD', 'VBN', 'IN', 'NNP', ',', 'VBG', 'RP', 'NN', 'IN', 'DT', 'NNS', 'NN', '.', 'DT', 'JJ', 'NN', 'VBD', 'IN', 'IN', 'NNP', 'CC', 'NNP', 'VBD', 'JJ', 'NN', 'IN', 'DT', 'NNP', '.', 'DT', 'NN', 'NN', ',', 'WDT', 'VBZ', 'DT', 'NN', 'NN', 'IN', 'DT', 'JJ', 'NN', 'IN', 'CD', ',', 'VBZ', 'MD', 'TO', 'VB', 'DT', 'NN', 'NN', '.', 'NNP', 'NNP', 'NN', 'TO', 'VB', 'JJR', 'IN', 'CD', 'NN', 'IN', 'NNP', 'NNP', 'POS', 'NN', ',', 'VBD', 'PRP', 'MD', 'VB', 'NN', '.', 'NN', 'NNS', 'VBD', 'PRP', 'VBD', 'DT', 'NNP', 'MD', 'VB', 'DT', 'NN', 'IN', 'NN', '.', 'DT', 'NN', 'NN', 'NN', 'VBD', 'VBN', 'IN', 'DT', 'NNP', '.', 'DT', 'NN', 'MD', 'VB', 'PRP', 'JJ', 'IN', 'DT', 'NN', 'NN', 'TO', 'VB', 'NN', 'NNP', 'IN', 'DT', 'NN', '.', 'NNP', 'VBD', 'JJ', 'IN', 'NNP', 'IN', 'JJ', 'NN', 'CC', 'NN', 'NNS', 'IN', 'CD', 'NNP', 'NNP', 'CC', 'MD', 'VB', 'DT', 'NN', 'NN', 'IN', '$', 'CD', 'CD', '.', 'NNP', 'NNP', 'NNP', 'NNP', 'NNP', 'VBD', 'PRP', 'VBZ', 'VBN', 'IN', 'DT', 'NN', 'NNP', 'PRP', 'VBZ', 'VBN', 'IN', 'CD', 'NNS', '.', 'DT', 'NN', 'VBD', 'RB', 'NNP', '.', 'NNP', 'NNP', 'VBD', 'IN', 'DT', 'NN', 'IN', 'DT', 'NN', 'NN', ',', 'WDT', 'VBZ', 'VBG', 'DT', 'JJ', 'NNP', ',', 'NNP', 'RB', 'IN', 'PRP$', 'NN', 'CC', 'NN', 'NN', ',', 'NNP', 'NNP', '.', 'IN', 'NNS', 'CC', 'NNS', 'MD', 'VB', 'DT', 'NN', 'NN', 'NN', 'IN', 'NNS', 'IN', 'NNP', 'NNS', 'IN', 'DT', 'NN', 'NN', '.', 'DT', 'NNP', 'NNP', 'TO', 'VB', '$', 'CD', 'CD', 'IN', 'NNS', 'CC', 'NNS', 'NN', 'NN', 'RB', 'MD', 'VB', 'DT', 'NN', 'NN', 'NNP', 'RB', 'VBZ', 'DT', 'NN', 'NN', '.', 'NNP', 'NNS', 'POS', 'NN', 'NN', 'VBD', 'TO', 'DT', 'NN', '$', 'CD', 'CD', 'IN', 'NN', 'JJ', 'DT', 'IN', 'DT', 'NN', 'NNS', 'RB', '.', 'CD', 'NN', 'NNS', 'MD', 'VB', 'NNS', 'NNS', 'IN', 'IN', 'DT', 'JJ', 'JJ', 'NN', 'NN', ',', 'DT', 'NNS', 'IN', 'NNP', 'VBP', 'VBG', '.', 'NNS', ':', 'NNS', ':', 'CD', 'NN', 'NNS', '.', 'NNP', 'NNP', 'NNS', 'IN', ',', 'RP', 'CD', ':', 'NNP', 'NN', ',', 'RP', 'JJ', ':', 'NNS', 'NNP', ',', 'RP', 'JJ', '.', 'NNS', ':', 'NNP', 'NNP', 'NNP', 'NNP', 'NNP', 'NN', ',', 'RP', 'NNS', ':', 'NNP', 'NNP', 'NNP', 'NN', 'NN', ',', 'RP', 'JJ', ':', 'JJ', 'NN', 'NN', ',', 'RP', 'JJ', '.', 'NN', ':', 'CD', 'NNS', ',', 'RP', 'JJ', ':', 'NNP', 'NN', ',', 'RP', 'JJ', '.', 'JJ', 'DT', ',', 'DT', 'JJ', 'NNS', 'CC', 'NNP', 'NNP', 'NN', ',', 'DT', 'NN', 'NNP', 'NNP', 'NN', ',', 'DT', 'JJ', 'NN', 'NN', '.', 'DT', 'DT', 'VBZ', 'VBN', 'DT', 'JJ', 'IN', 'NNP', 'NNS', 'CC', 'NN', 'NNP', 'CC', 'PRP$', 'NN', 'NN', 'NN', ',', 'NNP', 'NNP', ',', 'WP', 'VBN', 'DT', '$', 'CD', 'CD', 'NNP', 'NNP', ',', 'NNP', ',', 'NNP', 'IN', 'JJ', 'NN', 'NNS', '.', 'NNP', 'VBP', 'VBN', 'NNP', 'POS', 'NN', 'IN', 'IN', 'DT', 'NN', 'POS', 'NN', 'TO', 'DT', 'JJ', 'NN', 'NN', '.', 'CC', 'DT', 'NNS', 'NN', 'NNP', 'NNP', 'POS', 'NN', 'NN', ':', 'PRP', 'VBZ', 'NNS', 'IN', 'NNS', 'DT', 'NN', 'CC', 'NN', 'IN', 'IN', 'NNP', 'POS', 'NNP', 'NN', '.', 'NNP', 'NNP', 'VBD', 'VBD', 'CD', 'VBZ', ',', 'IN', 'JJ', 'CD', 'CD', 'VBD', 'DT', 'NN', 'IN', 'NN', 'IN', 'NNP', 'NNP', 'MD', 'VB', 'DT', 'NN', 'NN', '.', 'NNS', ',', 'NNP', 'NNS', 'RB', 'NNP', 'POS', 'NN', 'JJ', 'NN', 'IN', 'PRP$', 'NN', 'NN', 'TO', '$', 'CD', 'CD', 'VBD', 'RB', 'RB', ',', 'JJ', 'DT', 'NN', 'MD', 'VB', 'JJ', '.', 'CC', 'IN', 'JJ', 'NNS', ',', 'NNP', 'VBZ', 'NNP', 'RP', ',', 'VBG', 'IN', 'CD', 'CD', ',', 'RP', 'NNP', ',', 'NN', 'IN', 'NN', 'NN', 'IN', 'DT', 'NN', 'MD', 'VB', '.', 'NNP', 'NNP', 'POS', 'NNS', 'VBP', 'NNP', 'POS', 'NNP', 'NNP', 'NNS', 'VBP', 'VBN', 'VBN', ',', 'CC', 'DT', 'NN', 'VBZ', '$', 'CD', 'CD', 'IN', 'NNS', 'NN', 'NN', 'PRP$', 'NNS', '.', 'IN', 'POS', 'RB', '$', 'CD', 'IN', 'NN', 'IN', 'DT', 'NNP', 'NNS', ',', 'JJ', 'NN', 'NN', 'NNS', ',', 'RB', 'JJR', 'NN', 'NN', 'MD', 'VB', 'DT', 'JJ', '.', 'NNP', 'VBZ', 'RB', 'IN', 'CD', 'CD', 'JJ', 'NNS', 'IN', 'NN', 'NN', '.', 'DT', 'JJ', 'NN', 'VBZ', 'CD', 'NN', 'IN', 'DT', 'JJ', 'CC', 'CD', 'NN', 'IN', 'DT', 'JJ', '.', 'DT', 'JJ', 'JJ', 'NNS', 'VBP', 'VBN', 'VBN', 'POS', 'JJ', 'NN', ',', 'NN', 'NN', 'NN', 'CC', 'NNP', 'NNP', 'NN', ',', 'RB', 'DT', 'JJ', 'NN', 'PRP$', 'NN', 'DT', 'NN', '.', 'IN', 'JJ', 'NNS', 'MD', 'VB', 'DT', 'NN', 'IN', 'NNP', ',', 'NNS', 'VBP', 'NNP', 'NNP', 'VBZ', 'JJ', 'JJ', 'DT', 'NN', 'TO', 'NN', 'NNP', 'POS', 'NN', 'NNS', '.', 'RB', ',', 'NNP', 'NNS', 'VBD', 'VBD', 'VBD', 'PRP', 'VBD', 'VBG', 'IN', 'VBG', 'DT', 'JJ', 'NN', 'TO', 'VB', 'NNP', 'POS', 'NN', 'NNS', 'CC', 'RB', 'VBP', 'NN', 'NN', '.', 'NNP', 'NNP', 'RB', 'NN', 'IN', 'DT', 'DT', 'NN', '.', 'CC', 'IN', 'JJ', 'NNS', ',', 'PRP', 'VBZ', 'MD', 'TO', 'VB', 'NNS', 'POS', 'NN', 'TO', 'VB', 'DT', 'JJ', 'JJ', 'JJ', '.', 'NNP', 'TO', 'VB', 'DT', 'VBP', 'JJ', 'TO', 'VB', 'VBN', 'IN', 'DT', 'NN', 'CC', 'RB', '.', 'NNP', 'NNS', 'NN', 'NNS', 'TO', 'NN', 'IN', 'PRP$', 'NN', 'TO', 'NN', 'NN', ',', 'PRP', 'NNS', 'DT', 'NNS', 'IN', 'CD', 'NNS', '.', 'IN', 'POS', 'NNP', 'NNP', 'RB', 'VBD', 'RP', '$', 'CD', 'CD', 'IN', 'PRP$', 'NN', 'CC', 'JJ', '$', 'CD', 'CD', 'IN', 'JJ', 'NN', 'NNS', '.', 'CC', 'RB', 'NNP', 'MD', 'VB', 'PRP$', 'NN', 'NNS', 'NNS', 'IN', 'DT', 'NN', 'NN', 'PRP', 'VBP', ':', 'IN', 'DT', 'NN', ',', 'NN', 'DT', 'JJ', 'VBZ', 'NN', 'CC', 'NN', ':', 'DT', 'NN', 'NN', 'MD', 'VBP', 'DT', 'DT', '.', 'NNP', ',', 'DT', 'JJ', 'NN', 'NN', ',', 'RB', 'RB', 'VB', 'JJ', 'NNS', 'IN', 'PRP$', 'NN', '.', 'CC', 'PRP$', 'CD', 'JJ', 'NN', 'NNP', 'IN', 'NN', 'NN', 'NN', 'IN', 'DT', 'JJ', 'NNS', 'IN', 'VBP', 'VBN', 'RB', 'JJ', '.', 'DT', 'VBD', 'VBN', 'NNS', ',', 'JJ', 'NNP', 'NNP', ',', 'NNP', 'NNP', ',', 'NNP', 'VBD', 'CC', 'NNP', 'NNP', ',', 'RB', 'JJ', 'JJ', 'NNS', 'IN', 'NNP', 'POS', 'NN', 'RB', 'VBP', 'VBD', 'NN', '.', 'NNP', 'NNS', 'IN', ',', 'NNP', 'VBD', 'CD', 'PRP', 'VBZ', 'VBN', 'NNS', 'IN', 'RB', 'VBN', 'NN', 'NNS', 'IN', 'JJR', 'IN', '$', 'CD', 'CD', '.', 'PRP', 'RB', 'VBZ', 'IN', 'NN', 'NNS', 'IN', 'IN', 'RB', 'IN', '$', 'CD', 'CD', 'IN', 'NN', 'NNS', 'IN', 'IN', 'CC', 'JJ', '.', 'DT', 'NN', 'NN', 'NNP', 'NNP', 'VBZ', 'VBD', 'TO', 'VB', 'VBN', 'TO', 'NNS', ':', 'NNP', 'MD', 'VB', 'VBN', 'RP', ',', 'IN', 'JJ', 'NN', 'VBD', 'VBN', 'IN', 'DT', 'NN', 'NN', 'CC', 'DT', 'NN', 'NN', '.', 'CC', 'NNP', 'POS', 'NN', 'NN', 'MD', 'VB', 'DT', 'JJ', 'NN', ',', 'IN', 'DT', 'NN', 'NN', 'MD', 'VB', 'DT', 'JJ', 'NN', 'NN', ',', 'VBG', 'DT', 'IN', 'NNP', 'POS', 'NN', 'NNS', ',', 'JJ', 'NN', 'CC', 'NN', 'NNS', '.', 'DT', 'RB', 'NNP', 'POS', 'NNP', ',', 'WDT', 'RB', 'VBZ', 'VBG', 'DT', 'JJ', 'NN', 'NN', 'NN', ',', 'MD', 'VB', 'VBN', 'IN', ',', 'VBP', '$', 'CD', 'CD', ',', 'CC', 'JJ', 'TO', 'DT', 'NN', 'NN', 'IN', 'VBZ', 'DT', 'NNP', 'NN', '.', 'DT', 'NN', 'NN', 'MD', 'VB', 'VBN', 'IN', 'JJR', 'IN', 'DT', 'NN', 'IN', 'PRP$', 'NN', ',', 'JJ', 'NN', 'NNS', 'VBP', '.', 'NNP', ',', 'DT', 'NN', 'NN', 'IN', 'DT', 'NN', 'NNS', ':', 'CC', 'DT', 'NN', ':', 'MD', 'VB', 'VBN', 'IN', 'TO', 'NNP', 'NNS', ',', 'JJ', 'NNP', 'NNP', ',', 'WP', 'MD', 'PRP', 'VBP', 'DT', 'JJ', 'NN', ',', 'NNS', 'VBP', '.', 'PRP', 'VBZ', 'RB', 'RB', 'RB', 'RB', 'DT', 'NN', 'MD', 'VB', 'NNP', 'NNS', '.', 'CC', '``', 'DT', 'NN', 'VBZ', 'VBN', '.', 'PRP', 'NNS', 'DT', 'NN', 'NN', 'IN', 'DT', 'NN', 'NN', 'CC', 'NN', 'DT', 'IN', 'DT', 'NN', 'TO', 'NN', 'DT', 'NN', 'NN', ',', \"''\", 'VBZ', 'NNP', 'NNP', 'NNP', 'NNP', 'IN', 'NNP', 'NNP', 'IN', 'NNP', 'NNP', '.', 'NNP', 'NNP', 'POS', 'NN', 'NN', 'NN', 'VBZ', 'DT', 'NN', 'IN', 'NN', 'IN', 'NNP', 'NNP', '.', 'RB', 'NNS', 'RB', 'NNP', 'NNP', 'VBZ', 'TO', 'VB', 'DT', 'JJ', 'NN', ',', 'WDT', 'JJ', 'NNS', 'MD', 'VB', 'NNP', 'TO', 'VB', '.', '``', 'PRP', 'VBP', 'RB', 'RB', 'DT', 'NN', ',', \"''\", 'VBZ', 'NN', 'NNP', ',', 'DT', 'JJ', 'NNP', 'NNP', 'NNP', '.', 'IN', 'NN', ',', 'NNS', 'MD', 'VB', 'TO', 'VB', 'NNP', 'POS', 'NN', '.', 'CC', 'DT', 'NN', 'NNS', 'VBP', 'DT', 'NN', 'VBZ', 'RB', 'VB', 'IN', 'DT', 'NNP', 'RB', 'VBZ', 'NNS', 'NNP', 'NNP', 'POS', 'JJ', 'JJ', 'NNS', '.', 'NNP', 'NNP', 'IN', 'NNP', 'NNP', 'NNP', 'TO', 'DT', 'NN', '.', 'NNP', 'NNS', 'CC', 'NN', '-LRB-', 'VBN', ':', 'NN', ':', 'NNP', '-RRB-', 'NN', ':', 'NNS', 'CC', 'NN', 'NN', 'VBD', 'NNP', 'CD', ',', 'CD', ':', 'NN', 'NN', ':', '$', 'CD', 'CD', ':', 'CC', '$', 'CD', 'DT', 'NN', 'NN', 'NN', ',', 'NNP', 'CD', ',', 'CD', ':', 'NN', 'NN', ':', '$', 'CD', 'DT', 'NN', 'NNP', 'NN', 'NN', ':', 'CD', 'NNS', 'DT', 'NN', 'NN', 'NN', 'NN', 'NN', ':', 'NN', 'NNS', 'JJ', 'NNS', 'JJ', ':', 'CD', 'CD', 'NN', ':', 'DT', 'JJ', 'NNS', 'VBP', 'RB', 'VBN', '.', 'NNP', 'NNP', 'NNP', ',', 'NNP', ',', 'NNP', ',', 'VBD', 'PRP', 'VBD', 'VBN', 'NNP', 'NNS', 'IN', 'JJ', 'CC', 'DT', 'NN', 'NN', '.', 'DT', 'NN', 'IN', 'JJ', 'NN', 'NNS', 'CC', 'JJ', 'IN', 'TO', 'VB', 'DT', 'NNS', 'NN', 'NN', 'NN', 'NN', 'NNP', 'NN', 'NN', 'NN', '.', 'NNP', 'NNP', 'VBZ', 'VBN', 'JJ', 'NN', 'CC', 'NN', 'NNS', 'IN', 'JJ', 'IN', 'JJ', 'NNP', 'CC', 'VBZ', 'VBG', 'VBN', 'NNS', 'IN', 'PRP', '.', 'NNP', 'MD', 'VB', 'IN', 'JJ', 'NN', 'NN', 'NNS', 'NN', 'IN', 'NN', 'NN', ',', 'JJ', 'NN', 'NNS', 'CC', 'JJ', 'JJ', 'JJ', ',', 'JJ', 'NNP', 'VBD', '.', 'DT', 'JJ', 'NN', 'NN', 'NN', 'NN', 'NN', ',', 'DT', 'NN', 'IN', 'MD', 'DT', 'VBN', 'IN', 'NNP', 'NN', '.', 'DT', 'NN', 'NN', 'NN', 'NN', 'NN', 'CC', 'NNP', 'NN', 'CC', 'JJ', 'IN', 'JJ', 'JJ', 'CC', 'NN', 'NN', ',', 'JJ', 'NNP', 'VBD', '.', 'DT', 'NN', 'VBD', 'IN', 'PRP', 'VBZ', 'VBN', 'NN', 'NNS', '``', 'IN', 'DT', 'JJ', 'JJ', 'IN', 'NNS', 'JJ', 'JJ', \"''\", 'CC', 'DT', 'NN', 'IN', 'JJ', 'VBZ', 'DT', 'JJ', 'PRP', 'VBZ', 'VBN', '.', 'NNP', 'NNS', 'MD', 'VB', 'JJ', 'IN', 'JJ', 'JJ', 'CC', 'IN', 'JJ', 'JJ', 'NN', 'NN', 'IN', 'JJ', 'NN', 'CC', 'JJ', 'JJ', ',', 'DT', 'NN', 'VBD', '.', 'DT', 'NNP', 'NN', 'POS', 'NN', 'IN', 'JJ', 'NNP', 'TO', 'DT', 'NN', 'IN', 'DT', 'NNP', 'NN', 'NN', 'RB', 'VBD', 'DT', 'NN', 'DT', 'NN', 'IN', 'DT', 'JJ', 'NN', 'NNP', 'VBD', 'NNP', 'NNP', 'DT', 'DT', '``', 'NN', \"''\", 'NN', ',', 'RB', 'IN', '``', 'RB', 'JJ', '.', \"''\", 'NNS', 'JJ', 'IN', 'DT', 'NN', 'NN', 'NN', ',', 'WDT', 'MD', 'VB', 'IN', 'DT', 'NN', ',', 'VBD', 'DT', 'JJ', 'NNS', 'IN', 'DT', 'NN', 'VBP', 'RB', 'TO', 'VB', 'DT', 'NNP', 'NN', 'IN', 'NNS', 'IN', 'DT', 'NN', '.', 'NNP', 'NNP', ',', 'VBZ', 'NNP', 'IN', 'DT', 'NN', 'NN', 'NN', 'NN', ',', 'MD', 'VB', 'DT', 'NN', 'NN', 'TO', 'DT', 'NNS', 'NNS', 'IN', '.', 'NNS', 'VBP', 'VBG', 'PRP', 'IN', 'JJ', 'NNS', 'IN', 'JJ', 'NNS', 'IN', 'NNS', 'NNS', 'CC', 'IN', 'VBG', 'NN', 'IN', 'JJ', 'NNS', '.', 'NNP', 'NNS', 'IN', 'DT', 'NNP', 'IN', 'JJ', 'IN', 'DT', 'JJ', 'VBP', 'VBD', 'PRP', 'VBP', 'NNP', 'NNP', 'POS', 'NN', 'IN', 'IN', '``', 'JJ', 'NNS', 'IN', 'PRP$', 'NN', '.', 'CC', 'CC', 'JJ', 'IN', 'DT', 'NN', '.', \"''\", 'DT', 'JJ', 'NN', 'NNP', 'NN', ',', 'RB', ',', 'VBD', 'DT', 'NN', 'VBZ', 'RB', 'VBP', 'IN', 'DT', 'NNP', 'NN', '.', '``', 'PRP', 'VBP', 'VBD', 'DT', 'NNP', 'NN', 'PRP', 'NN', ',', \"''\", 'NNP', 'NNP', ',', 'DT', 'NN', 'POS', 'NN', 'NN', ',', 'VBD', 'IN', 'DT', 'NN', '.', 'DT', 'NNP', 'VBZ', 'DT', '``', 'NN', \"''\", 'NN', 'TO', 'NN', 'PRP', 'VBZ', 'MD', 'VB', '``', 'NN', \"''\", 'IN', 'DT', 'JJ', '.', 'IN', 'JJ', ',', 'DT', 'NNS', 'POS', 'NNP', 'VBZ', 'DT', '``', 'RB', 'JJ', \"''\", 'NN', 'TO', 'VB', '``', 'JJ', 'IN', 'DT', 'IN', 'DT', 'NN', 'NNS', 'IN', 'DT', 'JJ', '.', 'NNP', 'NNP', 'VBD', 'PRP', 'VBD', 'TO', 'VB', 'CD', 'NN', 'IN', 'JJ', 'NN', 'IN', 'DT', 'JJ', 'NN', 'NNP', '.', 'NNS', 'VBD', 'RB', 'VBN', '.', 'NNP', ',', 'DT', 'JJ', 'NN', ',', 'NNP', 'NNP', 'NNP', 'NNP', ',', 'VBD', 'PRP', 'VBZ', 'VBG', 'DT', 'NN', 'IN', 'DT', 'JJ', 'NN', 'NN', 'TO', 'VB', 'PRP$', 'NN', 'IN', 'NN', 'NNS', 'IN', 'NN', 'NNP', '.', 'NNP', 'POS', 'NN', 'JJ', 'IN', 'JJ', 'NN', 'CC', 'DT', 'NN', 'DT', 'NN', 'NN', 'IN', 'PRP$', 'JJ', 'NN', 'NN', '.', 'NNP', 'NNP', 'NNP', 'NN', ',', 'DT', 'NN', 'VBD', '.', 'DT', 'NN', 'VBZ', 'NN', 'IN', 'DT', 'NN', 'TO', 'VB', 'IN', 'PRP$', 'NN', 'NNS', 'NN', ',', 'NN', 'CC', 'NN', 'NN', 'NNS', 'IN', 'JJ', 'JJ', 'NNS', ',', 'DT', 'NN', 'VBD', '.', 'NNP', 'VBD', 'CD', 'NNS', 'IN', 'CD', 'CD', 'NN', '-LRB-', '$', 'CD', 'CD', '-RRB-', 'CC', 'VBZ', 'DT', 'NN', 'NN', 'NN', 'IN', 'CD', 'CD', 'NN', '.', 'DT', 'NN', 'VBZ', 'IN', 'JJ', 'IN', 'DT', 'NN', 'NN', 'NN', 'NN', 'IN', 'JJ', 'NN', '.', 'DT', 'NN', 'TO', 'VB', 'DT', 'NN', 'TO', 'NN', 'IN', 'NN', 'NN', 'RB', 'VBD', 'JJ', 'IN', 'DT', 'JJ', 'NN', 'IN', 'NNP', 'NNS', 'NNS', '.', 'DT', 'NNP', 'NNP', 'NNP', 'NNP', 'NNP', 'JJ', 'NN', 'IN', 'DT', 'NNP', 'NNP', 'NN', 'IN', 'NNS', 'IN', 'JJ', 'IN', 'NNP', 'NNP', ',', 'NNP', 'CC', 'NNP', 'NNP', 'MD', 'VB', 'VBN', 'DT', 'JJ', 'NN', '.', 'IN', 'IN', 'DT', 'JJ', ',', 'DT', 'NNP', 'NN', 'MD', 'VB', 'TO', 'NN', 'NNS', 'IN', 'NNP', 'NNP', 'NNS', 'IN', 'DT', 'NNS', 'VBP', 'JJ', 'DT', 'NNP', 'IN', 'NNS', 'JJ', 'NNS', 'IN', 'NN', 'IN', 'DT', 'NNP', 'NNP', 'NN', '.', 'DT', 'NN', 'NN', 'NNS', 'JJ', 'NNS', 'IN', 'JJ', 'IN', 'DT', 'NN', 'IN', 'NN', 'CC', 'IN', 'NNS', 'IN', 'DT', 'JJ', 'POS', 'NNP', 'NN', '.', 'NNP', 'NNS', 'VBD', 'DT', 'NNP', 'NN', 'CC', 'JJ', 'NN', 'MD', 'RB', 'VB', 'IN', 'VB', 'NNP', 'CC', 'VBD', '.', 'IN', 'CC', 'NNS', 'VBP', 'NNS', 'IN', 'DT', 'NNP', 'NNP', 'NN', ',', 'DT', 'NNP', 'MD', 'NN', 'CD', 'NN', 'IN', 'DT', 'NNS', ',', 'WDT', 'RB', 'VBP', 'VBN', 'TO', 'VB', 'NNS', 'IN', 'NNS', 'NN', 'CC', 'JJ', 'NN', 'NN', '.', 'NNS', 'IN', 'JJ', 'NN', 'IN', 'CD', 'CD', 'IN', '$', 'CD', 'CD', 'IN', 'NNP', ',', '$', 'CD', 'CD', 'IN', 'NNP', 'NNP', 'CC', '$', 'CD', 'CD', 'IN', 'NNP', 'NNP', ',', 'NNP', 'TO', 'DT', 'JJ', '.', 'IN', 'DT', 'NN', ',', 'DT', 'JJ', 'VBD', 'NN', 'NN', 'NNS', 'NNP', 'IN', 'NNP', 'NNP', 'NNP', 'IN', 'JJ', ',', 'NNP', ',', 'IN', 'NNS', 'IN', 'JJ', ',', 'DT', 'NN', 'IN', 'JJ', 'NN', ',', 'IN', 'NNP', 'CC', 'NNP', 'NNP', '.', 'DT', 'NNS', 'CD', 'IN', '$', 'CD', 'CD', 'JJ', 'NN', '.', 'NNP', 'NNP', 'VBD', 'PRP', 'MD', 'VB', 'DT', 'JJ', 'NN', 'NN', 'TO', 'IN', 'JJ', 'IN', 'JJ', 'NNS', 'IN', 'DT', 'JJ', 'NN', 'VB', 'TO', 'VB', 'IN', 'DT', 'JJ', 'NN', '.', 'NNP', 'NNS', 'VBD', 'PRP', 'MD', 'VB', 'VB', 'DT', 'NN', 'IN', 'DT', 'NN', 'IN', 'PRP', 'VBP', 'IN', 'NNS', ',', 'CC', 'RB', 'VBP', ',', 'MD', 'VB', 'IN', 'DT', 'NN', 'NN', '.', 'CC', 'DT', 'NN', 'NN', 'VBD', 'PRP', '``', 'VBG', 'DT', 'JJ', 'NNS', 'NN', 'IN', 'DT', 'NN', 'POS', 'NN', 'MD', 'VB', 'IN', 'JJ', 'JJ', 'NN', '.', \"''\", 'DT', 'NN', ',', 'RB', 'TO', 'NN', 'NNS', 'CD', 'NNS', 'JJ', 'CC', 'NNS', ',', 'MD', 'VB', 'DT', 'JJ', 'POS', 'NN', 'NNS', 'CD', 'NN', 'TO', 'CD', 'NN', '.', 'IN', 'JJ', ',', 'NNP', 'VBZ', 'VBG', 'DT', 'JJ', 'NN', 'NN', 'NN', 'TO', 'CD', 'NNS', 'IN', 'NN', 'NN', '.', 'NNP', 'NNP', 'NNP', 'VBD', 'DT', 'NN', 'NN', 'IN', 'DT', 'NN', 'POS', 'JJ', 'NN', 'TO', 'VB', 'NN', 'NNS', 'CC', '``', 'DT', 'NN', 'JJ', 'NN', '.', \"''\", 'CC', 'DT', 'NNS', 'VBN', 'VBZ', 'RB', 'IN', 'DT', 'NN', 'DT', 'NN', 'NN', 'MD', 'VB', ',', 'IN', 'JJ', 'NNS', 'MD', 'VB', 'RP', 'VBN', 'VBN', '.', '``', 'PRP', 'VBZ', 'DT', 'JJ', 'NN', ',', \"''\", 'VBD', 'VBN', 'NNP', 'NNP', 'IN', 'JJ', 'NN', 'CC', 'NNP', '.', 'NNP', 'TO', 'NN', 'POS', 'NNS', ',', 'DT', 'CD', 'NN', 'TO', 'CD', 'NN', 'IN', 'DT', 'JJ', 'NNS', 'NNS', 'MD', 'VB', 'JJ', 'IN', 'DT', 'NN', '.', 'NNP', 'NNS', 'CD', 'IN', 'IN', 'CD', 'NN', 'IN', 'DT', 'NNS', 'WP', 'VB', 'IN', 'JJ', 'NN', 'MD', 'VB', 'VBN', '.', 'IN', 'DT', 'NN', ',', 'JJ', 'MD', 'VB', 'JJ', 'DT', 'IN', 'JJ', 'TO', 'NN', 'IN', 'PRP$', 'JJR', 'IN', 'JJ', 'NNS', 'NN', '.', 'IN', 'VBN', 'NN', 'IN', 'DT', 'JJ', 'NNP', 'NNP', 'NNP', 'NN', ',', 'JJ', 'NNS', 'VBD', 'NNP', 'CD', 'TO', '$', 'CD', 'CD', '.', 'DT', 'JJ', 'NN', 'VBD', 'PRP', 'VBD', '``', 'RB', 'NN', \"''\", 'TO', 'VB', 'DT', 'JJ', 'NN', 'NN', 'VBD', 'VBN', 'IN', 'NN', 'NN', 'CC', 'DT', 'JJ', 'NN', 'IN', 'DT', 'NN', ',', 'WDT', 'RB', 'VBZ', 'VBN', 'DT', 'NN', 'IN', 'NN', 'NN', '.', 'DT', 'NN', 'VBD', 'DT', 'NN', 'VBN', 'DT', 'JJ', 'NN', 'TO', 'NNP', 'RP', 'JJ', 'JJ', '.', 'DT', 'NN', 'VBD', 'PRP', 'VBZ', 'DT', 'JJ', 'JJ', 'NN', 'NN', 'VBD', 'IN', 'PRP$', 'JJ', 'NN', 'NN', '.', 'VBD', 'JJ', 'VBZ', 'VBP', 'VBN', 'IN', 'CD', 'NNS', ',', 'DT', 'NN', 'VBD', '.', 'NNP', 'NNP', '.', '-LRB-', 'NNP', ',', 'NNP', '-RRB-', ':', 'NNP', 'NNP', ',', 'VBG', 'NN', 'IN', 'JJ', 'NNS', ',', 'VBD', 'VBN', 'DT', 'NN', 'IN', 'DT', 'NN', 'NN', 'NN', 'CC', 'NNS', 'NN', '.', 'PRP', 'NNS', 'DT', 'NN', 'TO', 'CD', '.', '``', 'NN', 'NN', \"''\", '-LRB-', 'NNP', 'NNP', ',', 'NNP', 'NNS', ',', '$', 'CD', '-RRB-', ',', 'DT', 'JJ', 'JJ', 'NN', 'IN', 'DT', 'JJ', 'NN', ',', 'VBZ', 'IN', 'DT', 'JJ', 'NN', '.', 'DT', 'RB', 'JJ', 'IN', 'DT', 'JJ', ',', 'NNP', 'NNP', 'NNP', 'VBZ', 'NN', 'DT', 'NN', 'IN', 'PRP$', 'JJ', 'NN', '.', 'IN', 'VBD', 'DT', 'NN', 'NN', 'IN', 'DT', 'NNP', ',', 'NNP', 'POS', 'NNP', ',', 'TO', 'NNP', ',', 'NNP', ',', 'IN', 'JJ', 'IN', 'JJ', 'POS', 'NNS', ',', 'PRP', 'VBZ', 'DT', 'NN', ',', '``', 'NN', 'IN', 'VBG', 'NN', 'IN', 'NN', 'IN', 'NNS', 'PRP', 'VBD', 'VBG', 'IN', ',', 'PRP', 'VBD', '.', \"''\", 'DT', 'NN', 'IN', 'TO', 'VB', 'DT', 'NN', 'MD', 'VB', 'DT', 'JJ', ',', 'JJ', 'NN', 'IN', 'NN', 'VBZ', 'JJ', 'VBZ', 'VBN', 'IN', 'VBG', 'DT', 'NN', 'IN', 'JJ', 'NN', 'CC', 'DT', 'NN', '.', 'NNP', 'IN', 'VBN', ',', 'NNP', 'NNP', 'CC', 'PRP$', 'NN', ',', 'JJ', 'NNP', 'NNP', 'NNP', ',', 'NNP', 'NNP', 'NNP', 'DT', 'JJ', 'NN', 'NN', ',', 'IN', 'PRP$', 'NN', 'IN', 'DT', 'JJ', 'NN', 'NN', 'TO', 'DT', 'NN', 'IN', 'JJ', 'NN', 'NN', ',', 'VBG', 'IN', 'DT', 'NN', 'IN', 'VBG', 'NN', 'NN', 'IN', 'DT', 'JJ', 'CC', 'NNP', '.', 'DT', 'NN', 'NN', 'IN', 'NNP', 'NNP', ',', 'DT', 'NN', 'IN', 'DT', 'NN', ',', 'CC', 'NNP', 'NNP', ',', 'WP', 'VBD', 'PRP$', 'NN', 'NN', 'IN', 'JJ', 'POS', 'NN', '.', 'RB', 'VBG', 'IN', 'CD', ',', 'NNP', 'VBD', 'RB', 'RB', 'RB', 'VBG', 'IN', 'CD', ',', 'IN', 'NNP', 'NNP', 'NNP', 'DT', 'NNP', 'NN', 'POS', 'NN', 'CD', '-LRB-', 'DT', '-RRB-', 'VB', 'NN', 'NN', '.', 'DT', 'VBZ', 'DT', 'JJ', ',', 'NNP', 'NNP', 'NN', 'IN', 'JJ', 'JJ', 'NN', 'NNS', 'IN', 'VBN', 'VBN', 'TO', 'VB', 'NNS', '.', 'NNP', 'NNP', 'VBD', 'IN', ',', 'RB', 'IN', 'JJ', 'NN', ',', 'NNP', 'NNP', 'IN', 'MD', 'VB', 'IN', 'DT', 'NN', 'NN', 'IN', 'PRP', 'VBD', 'VBN', 'IN', 'JJ', 'JJ', '.', 'DT', 'CD', 'NNS', 'NN', 'VBD', 'TO', 'NN', 'DT', 'NN', 'NN', 'IN', 'DT', 'NNP', '.', 'RB', 'IN', 'JJ', 'PRP', 'VBD', ',', 'IN', 'NN', 'IN', ',', 'CD', 'NN', ',', 'CD', 'NNP', ',', 'CC', 'PRP', 'VBD', 'IN', 'DT', 'NN', 'CC', 'RP', 'TO', 'DT', 'JJ', '.', 'VBG', 'RB', 'DT', '``', 'NN', 'NN', \"''\", 'NNP', 'VBD', 'VBZ', 'IN', 'DT', 'NNP', 'NNP', ',', 'DT', 'JJ', 'NN', ',', 'VBD', 'JJ', 'IN', 'VBN', 'NN', 'IN', 'PRP$', 'CD', 'NN', 'NN', '.', 'DT', 'NN', 'NN', 'VBZ', 'DT', 'IN', 'JJ', 'NN', 'RB', 'IN', 'JJ', 'DT', 'NNP', 'NNP', 'CC', 'RB', 'VBN', 'DT', 'NN', ':', 'NNP', 'NNP', 'NN', 'IN', 'DT', 'NNP', 'NNP', '.', 'IN', 'IN', 'NNP', 'NNP', 'NNP', '-LRB-', 'PRP', 'VBN', 'DT', 'NN', 'NN', '-RRB-', ',', 'DT', 'NN', 'VBD', 'DT', 'NN', 'IN', 'JJ', 'NN', ',', 'IN', 'CC', 'JJ', 'NN', 'NNS', 'CC', 'NNS', 'JJ', 'TO', 'NN', 'NNS', ',', 'NN', 'RP', 'TO', 'CC', 'JJ', 'NNP', 'NNP', 'NNP', ',', 'RB', 'NNP', 'CC', 'NN', 'TO', 'NNP', 'NNP', 'NNP', 'NNP', 'NNP', '.', 'NNP', 'VBD', 'RB', 'RB', 'VB', 'JJ', 'NN', 'NN', '.', 'PRP', 'VBD', 'JJ', 'NN', 'IN', 'DT', 'JJ', 'NNS', 'IN', 'NN', 'NN', ',', 'VBG', 'NN', 'VBN', '``', 'NN', \"''\", 'IN', 'NNS', ',', 'NN', 'NNS', 'CC', 'JJ', 'NNS', ',', 'JJ', 'NNP', 'NNP', 'NNP', 'NNP', '.', 'IN', 'JJ', ',', 'PRP', 'VBN', 'CC', 'VBD', 'NN', 'IN', 'NN', 'NN', '.', 'RB', 'DT', 'JJ', 'NN', 'NNS', 'IN', 'DT', 'NN', '.', 'NNP', 'NN', 'IN', 'DT', 'NN', 'NN', '.', 'IN', 'PRP', 'VBD', 'JJ', 'JJ', 'IN', 'DT', 'JJ', 'NN', 'NN', 'VBD', 'RB', 'RB', 'NN', 'IN', 'DT', 'JJ', ',', 'CC', 'NN', '.', 'IN', 'PRP', 'VBD', 'RB', 'DT', 'NN', 'JJ', ',', 'PRP', 'VBD', 'NN', 'IN', 'IN', 'DT', 'JJ', ',', 'DT', 'NN', 'IN', 'RB', 'NN', 'NNP', 'NNP', ',', 'DT', 'NN', 'POS', 'NN', '``', 'NNS', \"''\", 'NN', '.', 'CC', 'JJ', 'DT', 'JJ', 'NN', 'IN', 'DT', 'JJ', 'CC', 'DT', 'JJ', ',', 'NNP', 'NN', 'NN', 'NN', ',', '``', 'NN', 'NN', \"''\", 'RB', 'VBZ', 'JJ', 'IN', 'JJ', 'NN', '.', 'IN', 'DT', 'JJ', 'NN', 'RB', 'JJ', ':', 'NNP', 'IN', 'JJ', 'DT', 'JJ', 'NN', 'IN', 'DT', 'NN', '.', 'NNP', 'POS', 'NNP', 'NN', 'NN', 'PRP', 'TO', 'VB', 'RP', '.', 'DT', 'JJ', 'NNS', 'VBD', 'VBN', 'JJ', 'JJ', ',', 'JJ', 'NNS', 'WP', 'VBD', 'JJ', 'NNS', ',', 'JJ', 'NNS', ',', 'JJ', 'NNS', ',', 'JJ', 'JJ', '.', 'IN', 'DT', 'NN', 'IN', 'PRP', ',', 'RB', 'CD', 'VBZ', 'JJ', 'IN', 'NN', 'CC', 'NNP', ',', 'CC', 'JJ', 'JJ', 'CC', 'RB', 'VBN', 'VBN', '.', 'DT', 'JJ', 'NN', 'IN', 'CD', 'JJ', 'JJ', 'VBD', 'VBN', 'NNP', 'NNP', ',', 'DT', 'JJ', 'WP', 'VBD', 'PRP$', 'NN', 'TO', 'VB', 'NNP', 'NNP', 'CC', 'VBD', 'DT', 'NN', 'NN', 'CC', 'NNP', 'IN', 'DT', 'NN', 'IN', 'JJ', '.', 'PRP', 'VBZ', 'DT', 'NN', 'IN', 'DT', 'NN', ',', 'RB', 'IN', 'NN', 'TO', 'VB', 'NN', '.', 'NNP', 'IN', 'JJ', 'IN', '``', 'NN', 'NN', 'POS', \"''\", 'NNP', ',', 'DT', 'NNS', 'NN', 'IN', 'DT', 'NN', 'NN', 'IN', 'JJ', ',', 'NNS', 'DT', 'NN', 'CD', '-LRB-', 'DT', '-RRB-', 'JJ', 'NN', 'IN', 'PRP$', 'NN', 'DT', 'NN', 'VBD', 'IN', '.', 'PRP', 'VBP', 'IN', 'CD', 'NNS', 'IN', 'TO', 'VB', 'IN', 'DT', 'NNS', 'MD', 'VB', 'TO', 'VB', '``', 'NN', 'NN', 'NN', 'NNS', '.', \"''\", 'NNS', 'IN', 'JJ', 'CD', '-LRB-', 'DT', '-RRB-', 'VBP', 'DT', 'JJ', 'IN', 'IN', 'NN', 'IN', 'DT', 'NNP', 'CC', 'PRP', 'NNP', 'NN', 'IN', 'JJ', 'NN', 'IN', 'TO', 'VB', 'PRP', 'RB', '.', 'JJ', 'JJ', 'JJ', ',', 'IN', 'PRP', 'DT', 'NNS', 'IN', 'JJ', ',', 'VBP', 'DT', 'NN', 'NN', 'IN', 'JJ', '.', 'PRP', 'VBP', 'IN', 'IN', 'NN', 'NNS', 'IN', 'VBP', 'JJ', 'IN', 'NN', '.', 'NNP', 'VBP', 'NNS', 'IN', 'DT', 'RB', 'VBN', 'NN', '``', 'NN', 'NN', \"''\", 'VBZ', 'VB', 'DT', 'JJ', 'NNS', '.', 'IN', 'CC', 'IN', 'DT', 'NNS', 'IN', 'NN', 'IN', 'DT', 'NNP', 'VBP', 'NNS', 'IN', 'NNS', 'WP', 'MD', 'VB', 'RB', 'VBN', 'IN', 'JJ', 'TO', 'DT', 'JJ', 'NN', 'NN', 'NN', '.', 'PRP', 'VBP', 'IN', 'VBN', 'NN', 'VBZ', 'VBN', 'NN', ',', 'VBG', 'NNP', 'CC', 'VBG', 'DT', 'JJ', 'NN', 'NN', ',', 'DT', 'VBZ', 'JJ', 'NN', 'TO', 'VB', 'VBN', 'IN', 'JJ', ',', 'JJ', 'CC', 'NN', 'DT', 'NNS', 'CC', 'NNS', 'IN', 'NN', '.', 'PRP', 'VBP', 'PRP$', 'NN', 'IN', 'DT', 'NNP', 'NN', 'POS', 'NN', 'CC', 'PRP', 'VBP', 'JJ', 'DT', 'NN', 'TO', 'VB', 'RB', 'VB', '.', 'RB', 'VBP', 'NN', 'NNS', 'CC', 'NNS', 'NNS', 'IN', 'PRP', 'RB', 'DT', 'NN', 'IN', 'JJ', 'NNS', ':', 'DT', 'VBZ', 'DT', 'NN', 'NN', 'VBN', 'IN', 'DT', 'JJ', 'NN', '.', 'NNP', 'NNP', 'VBD', 'NN', 'CC', 'NN', 'NN', 'NN', 'IN', 'DT', 'NNP', 'NNP', 'NNP', 'NN', 'NN', 'NNP', ',', 'NNP', '.', 'DT', 'JJ', 'NN', 'CC', 'JJ', 'NNS', 'IN', 'JJ', 'NN', 'NN', 'NNP', 'NNP', 'NNP', 'VBD', 'IN', 'NN', 'TO', 'VB', 'DT', 'JJ', 'NN', 'TO', 'VB', 'JJ', 'IN', 'DT', 'NN', 'NN', 'POS', 'NN', 'IN', 'CD', 'NNS', '.', 'DT', 'NNP', 'NN', 'MD', 'VB', 'TO', 'VB', 'DT', 'JJ', 'POS', 'NNS', ',', 'NNS', 'VBD', '.', '``', 'DT', 'NN', 'VBZ', 'IN', 'DT', 'NN', 'NNP', 'MD', 'VB', 'IN', 'IN', 'DT', 'JJ', 'NN', '.', 'RB', 'MD', 'VB', 'VBN', 'IN', 'IN', 'DT', 'JJ', 'NN', ',', \"''\", 'VBD', 'NN', 'NN', ',', 'NN', 'NN', 'NN', 'IN', 'JJ', 'NN', ',', 'NNP', 'NN', 'IN', 'JJ', 'NNP', '.', 'RB', 'PRP$', 'NN', 'VBZ', 'VBN', ',', 'DT', 'JJ', 'NN', 'MD', 'VB', 'NN', 'IN', 'JJ', 'NN', 'TO', 'VB', 'CC', 'JJ', 'NN', 'NNP', 'POS', 'NN', 'NN', '.', 'NNP', 'MD', 'VB', 'VBN', 'DT', 'NN', 'CC', 'DT', 'JJ', 'NN', 'TO', 'VB', 'NN', 'VBZ', 'MD', 'TO', 'NN', 'DT', 'JJ', 'IN', 'JJ', 'NNS', 'IN', 'JJ', 'NN', 'POS', 'CD', 'JJ', 'NN', ',', 'NN', 'NNS', 'VBD', '.', 'IN', 'DT', 'NN', 'VBD', 'NN', ',', 'DT', 'NN', 'CC', 'NNP', 'NNP', 'IN', 'JJ', 'MD', 'VB', 'JJ', 'NNS', 'IN', 'DT', 'NNP', 'NN', ',', 'DT', 'JJ', 'CD', 'CD', 'VBN', 'VBN', '-LRB-', '$', 'CD', 'CD', '-RRB-', '.', 'NNP', 'NNP', 'VBZ', 'TO', 'VB', 'CD', 'CD', 'VBN', ',', 'DT', 'IN', 'PRP', 'IN', 'JJ', 'NN', ',', 'CC', 'VB', 'DT', 'NN', 'NN', 'IN', 'DT', 'NNP', 'NN', '.', 'NNS', 'VBG', 'NNS', 'IN', 'JJ', 'NNP', 'POS', 'NN', 'NNS', 'VBP', 'VBN', 'TO', 'VB', 'DT', 'IN', 'DT', 'JJ', 'NN', 'CD', 'CD', 'IN', 'NN', 'NN', ',', 'NN', 'NNS', 'VBD', '.', 'NNP', 'NNP', 'POS', 'NN', 'NN', 'VBZ', 'VBN', 'NN', 'NNP', 'NNS', 'NNP', '.', 'NNP', ',', 'WDT', 'VBZ', 'CD', 'NNS', 'IN', 'NN', 'IN', 'JJ', 'NNP', ',', 'VBD', 'VBZ', 'IN', '$', 'CD', 'CD', 'NN', 'IN', 'DT', 'NN', 'NNP', 'DT', 'NN', '.', 'NNP', 'NNP', 'POS', 'NN', 'NNS', 'VBG', 'NNP', 'IN', 'DT', 'JJ', 'NN', '.', 'PRP$', 'NN', 'TO', 'VB', 'VBN', 'VBN', ',', 'JJ', 'NN', 'NNP', 'VBD', 'PRP', 'VBZ', 'TO', 'VB', 'JJ', 'IN', 'PRP$', 'JJ', 'CC', 'NN', 'NN', 'NNS', 'IN', 'NNP', 'CC', 'DT', 'JJ', 'NNS', 'TO', 'VB', 'PRP$', 'NN', 'CC', 'JJ', 'NNS', 'NN', '.', 'IN', 'DT', ',', 'DT', 'NN', 'NNP', 'TO', 'NN', '$', 'CD', 'CD', 'IN', 'NN', 'IN', 'DT', 'NNS', ',', 'WDT', 'MD', 'VB', 'JJ', 'PRP$', 'NN', 'NN', ',', 'DT', 'NN', 'VBD', '.', 'IN', 'JJ', ',', 'DT', 'NN', 'VBZ', 'VBN', 'PRP$', 'NN', 'CC', 'NN', 'NN', ',', 'VBG', 'NNP', 'NNP', 'NNP', ',', 'NN', 'IN', 'DT', 'NN', 'POS', 'NN', 'NN', 'NN', ',', 'TO', 'VB', 'NNP', 'NNP', 'NNP', '.', 'NNP', 'NNP', 'VBD', 'PRP', 'VBD', '``', 'JJ', 'RB', 'IN', 'DT', 'NN', 'NN', 'IN', 'DT', 'NN', 'POS', 'NN', 'IN', 'PRP', 'VBD', 'TO', 'VB', 'DT', 'NN', 'NN', 'DT', 'JJ', 'CD', 'NNS', '.', \"''\", 'NNP', 'IN', 'NNP', 'NNP', 'POS', 'NN', ',', 'JJ', 'NN', 'NNP', 'PRP$', 'JJ', 'NNP', 'IN', 'NNP', ',', 'NNP', ',', 'TO', 'NNP', 'NNP', ',', 'IN', 'DT', 'NN', 'NN', 'PRP$', 'NN', 'NN', 'NNS', '.', 'NNP', 'NNP', 'VBZ', 'IN', 'NNP', '.', 'NN', 'NN', 'VBD', 'VBN', 'TO', 'VB', 'VBN', 'IN', 'VBN', 'IN', 'JJ', 'NN', 'NNP', 'IN', 'JJ', ',', 'NNP', ',', 'CC', 'DT', 'NN', 'NN', 'RB', 'IN', 'DT', 'NN', 'CC', 'VBD', 'VBD', 'IN', 'NN', '.', 'IN', 'VBN', 'NN', 'IN', 'DT', 'JJ', 'NNP', 'NNP', 'NNP', 'NN', ',', 'JJ', 'NN', 'VBD', 'IN', '$', 'CD', 'DT', 'NN', ',', 'RB', 'CD', 'CD', '.', 'NNP', 'NNP', 'NNP', 'VBD', 'DT', 'CD', 'NN', 'NN', 'IN', 'JJ', 'NNS', ',', 'JJ', 'NN', 'NN', 'IN', 'RB', 'IN', 'DT', 'JJR', 'JJ', 'NN', 'NN', 'NN', '.', 'DT', 'NNP', 'NNP', 'NN', 'VBD', '$', 'CD', 'CD', ',', 'CC', 'CD', 'CD', 'DT', 'NN', ',', 'VBN', 'IN', '$', 'CD', 'CD', ',', 'CC', '$', 'CD', 'DT', 'NN', ',', 'DT', 'NN', 'VBD', '.', 'NNS', 'IN', 'DT', 'NN', 'NN', 'VBD', '$', 'CD', 'CD', ',', 'DT', 'CD', 'NN', 'NN', 'IN', 'JJ', 'NN', 'POS', '$', 'CD', 'CD', '.', 'IN', 'DT', 'NN', 'NN', 'NNP', 'CD', ',', 'NNP', 'NN', '$', 'CD', 'CD', ',', 'CC', '$', 'CD', 'DT', 'NN', ',', 'RB', 'JJ', 'NN', 'IN', '$', 'CD', 'CD', ',', 'CC', '$', 'CD', 'DT', 'NN', '.', 'DT', 'NN', 'POS', 'JJ', 'JJ', 'DT', 'NN', 'IN', '$', 'CD', 'CD', 'IN', 'DT', 'NN', 'IN', 'JJ', 'NN', '.', 'NNS', 'IN', 'DT', 'NN', 'NN', 'VBD', '$', 'CD', 'CD', ',', 'RB', 'CD', 'NN', 'IN', '$', 'CD', 'CD', '.', 'NNP', 'VBD', 'PRP$', 'NN', 'NN', 'JJ', 'DT', 'JJ', 'IN', 'DT', 'JJ', 'NN', 'IN', 'NNP', ',', 'NNP', ',', 'DT', 'JJ', 'NNS', 'IN', 'DT', 'JJ', 'NN', 'NN', 'IN', 'NNP', 'CC', 'DT', 'NN', 'IN', 'NN', 'RB', 'DT', 'NN', '.', 'DT', 'JJ', 'NN', ',', 'WDT', 'VBZ', 'NN', 'NN', 'NN', 'CC', 'DT', 'NN', 'NNS', ',', 'MD', 'VB', 'VBN', 'IN', 'DT', 'NN', 'NN', 'CC', 'RB', ',', 'DT', 'NN', 'VBD', '.', 'NNP', 'NN', 'PRP$', 'JJ', 'NN', 'NN', 'TO', 'VB', 'NN', 'IN', 'JJ', 'IN', 'DT', 'NN', 'NN', 'NN', 'IN', 'RB', 'IN', 'JJ', 'NNS', ',', 'WDT', 'JJ', 'NNS', 'NN', 'NN', '.', 'IN', 'DT', 'NN', ',', 'NNP', 'NN', 'NN', 'VBD', 'RB', ',', 'DT', 'NN', 'VBD', '.', 'PRP$', 'NN', 'NN', 'VBD', 'NNS', 'VBN', 'NN', 'IN', 'NN', 'NN', ',', 'CC', 'RB', 'VBN', 'JJR', 'IN', 'NN', '.', 'DT', 'NNP', 'NN', 'NN', 'NNS', 'IN', 'NNS', 'NNS', 'IN', 'JJ', 'CC', 'IN', 'NN', 'NN', 'NNS', ',', 'PRP', 'VBD', '.', 'NNP', 'VBD', 'PRP$', 'NN', 'NN', 'NN', 'VBD', 'NN', 'IN', 'VBG', 'JJ', 'NNS', 'IN', 'NNP', 'NNP', '.', 'NNP', 'NNS', 'VBD', 'VBD', 'IN', '$', 'CD', ',', 'IN', '$', 'CD', ',', 'IN', 'NNP', 'NNP', 'NNP', 'NNP', 'NNP', 'NN', '.', 'NNS', 'VBN', 'NNS', 'VBN', 'JJ', 'NN', 'NN', 'NNS', 'IN', 'DT', 'NN', 'IN', 'NNS', 'POS', 'NNS', '.', 'DT', 'NNS', 'VBP', 'VBN', 'IN', 'IN', 'CD', 'CD', 'NNS', ',', 'CC', 'VBD', 'DT', 'NN', 'NN', 'NN', 'IN', 'NN', 'NNS', 'NN', 'NNS', '.', 'CD', 'CC', 'NN', 'NNS', 'JJ', 'NNS', 'VBP', 'VBN', '.', 'DT', 'JJ', 'NN', 'NN', 'NN', 'NN', 'IN', 'DT', 'NN', 'NNS', 'IN', 'IN', 'CD', 'CD', 'NNS', 'VBP', 'NNS', 'NNS', 'IN', 'DT', 'JJ', 'CD', 'NNS', '.', 'NNP', ',', 'NN', 'NN', 'VBZ', 'VBN', 'IN', 'DT', 'JJ', 'NNS', '.', 'DT', 'NNP', 'NNP', 'VBD', 'PRP', 'VBD', 'PRP$', '$', 'CD', 'CD', 'CD', 'NN', 'IN', 'NNS', 'IN', 'VBN', 'JJ', 'NNP', ',', 'DT', 'NNP', 'NNP', 'VBG', 'NN', '.', 'DT', 'NN', 'NN', 'NN', 'IN', 'DT', 'JJ', 'NN', 'VBZ', 'VBG', 'JJ', 'JJ', 'IN', 'DT', 'NNP', 'NN', 'NN', '.', 'DT', 'JJ', 'NNS', 'VBP', 'RB', 'VBN', 'IN', 'JJ', 'VBP', 'JJ', 'TO', 'VB', 'VB', 'NNP', 'NNP', 'CC', 'DT', 'TO', 'VB', 'DT', 'NN', 'NN', 'NNP', 'NN', 'TO', 'NN', 'IN', 'JJ', 'NN', 'JJ', 'NNS', '.', 'NNP', 'NNP', 'NNS', 'VBP', 'VBN', 'CD', 'NN', 'DT', 'NN', 'IN', 'DT', 'NN', 'VBD', '.', 'NNP', 'NNS', 'CC', 'DT', 'JJ', 'VBP', 'JJ', 'DT', 'JJ', 'NN', 'IN', 'NN', '.', 'CC', 'DT', 'NN', 'NNS', 'VBP', 'VBG', 'IN', 'NNP', 'NNS', 'MD', 'VBN', 'DT', 'NN', 'IN', 'JJ', 'JJ', 'TO', 'VB', 'VB', 'IN', 'DT', 'NN', 'TO', 'VB', 'PRP$', 'NNS', 'TO', 'DT', 'VBD', '.', 'DT', 'JJ', 'NN', 'VBD', 'NNS', 'VBN', 'CD', 'CD', 'IN', 'NNP', 'NNP', 'IN', 'NNP', ',', 'WDT', 'VBZ', 'DT', 'JJ', 'NN', 'VBN', 'TO', 'DT', 'JJ', 'NN', 'IN', 'DT', 'NN', 'IN', 'DT', 'NNP', '.', 'DT', 'JJ', 'NN', 'VBZ', 'RB', 'IN', 'PRP', 'JJ', 'IN', 'NNP', ',', 'WDT', 'MD', 'VB', 'DT', 'JJ', 'IN', 'JJ', 'IN', '.', 'CC', 'PRP', 'VBZ', 'JJ', 'JJ', 'DT', 'JJ', 'IN', 'IN', 'JJ', 'NN', 'NNS', 'IN', 'DT', 'JJ', 'NNP', ',', 'IN', 'WDT', 'VBZ', 'RB', 'IN', 'DT', 'NNP', 'NNP', 'IN', 'VBZ', 'VBN', 'NNS', '.', '``', 'PRP', 'VBP', 'VBN', 'DT', 'JJ', 'NN', 'IN', 'DT', 'JJ', 'IN', 'NN', 'NN', 'TO', 'VB', 'NN', 'IN', 'NN', ',', \"''\", 'VBD', 'NNP', 'NNP', ',', 'DT', 'NNP', 'NN', 'NN', 'NNP', 'NN', '.', '``', 'PRP', 'VBZ', 'RB', 'TO', 'VB', 'JJ', 'JJ', '.', \"''\", 'IN', 'IN', 'JJ', 'NN', 'JJ', 'IN', 'DT', 'NNP', 'NNP', ',', 'DT', 'NN', 'NN', 'IN', 'DT', 'JJ', 'NN', 'IN', 'DT', 'JJ', 'NNP', 'VBZ', 'RB', 'JJ', 'IN', 'JJ', 'NNP', 'NNS', 'VBP', 'VBN', 'VBG', 'DT', 'JJ', 'IN', 'JJ', 'PRP$', 'NN', 'NN', 'IN', 'CD', 'NN', '.', 'IN', 'DT', 'JJ', 'NNS', ',', 'JJ', 'JJ', 'NN', 'MD', 'RB', 'VB', 'VB', 'TO', 'VB', 'RB', 'VBN', 'NNP', 'IN', 'NNP', 'NNP', 'IN', 'DT', 'NNP', 'NNP', 'NN', 'IN', 'NNS', 'VBZ', 'NN', 'TO', 'VB', 'DT', 'NN', 'IN', 'DT', 'JJ', 'NNP', ',', 'WDT', 'JJ', 'IN', 'DT', 'JJ', 'NNP', '.', 'DT', 'JJ', 'JJ', 'VBZ', 'VBG', 'DT', 'NN', 'IN', 'DT', 'JJ', 'NNP', 'IN', 'CD', 'NNS', 'VBD', 'IN', 'JJ', 'IN', 'IN', 'JJ', 'NN', 'NNS', 'IN', 'DT', 'JJ', 'WDT', 'RB', 'PRP', '.', 'NNP', 'NNS', 'IN', 'DT', 'JJ', 'NNP', 'NNP', 'NN', 'IN', 'NN', 'IN', 'JJ', 'NNP', 'DT', 'NN', 'IN', 'DT', 'NN', 'MD', 'VB', 'VBN', 'DT', 'NN', '.', 'CC', 'DT', 'JJ', 'NN', 'IN', 'NNS', 'VBZ', 'DT', 'NNP', 'NN', 'TO', 'VB', 'IN', 'DT', 'NN', '.', 'IN', 'NNP', 'NNP', ',', 'DT', 'NN', 'NN', 'IN', 'DT', 'JJ', 'NNP', 'VBZ', 'RB', 'CD', 'CD', 'IN', 'JJ', 'CC', 'PRP', 'MD', 'VB', 'DT', 'JJ', 'CD', 'RB', 'IN', 'DT', 'NNS', 'IN', 'DT', 'JJ', 'NNP', 'VBZ', 'VBN', ',', 'DT', 'JJ', 'JJ', 'NN', 'VBD', '.', 'DT', 'NNS', 'VBN', 'VBN', 'NNS', 'IN', 'NN', 'IN', 'DT', 'NN', 'IN', 'DT', 'NN', 'NN', 'IN', 'CD', 'NNS', '.', 'RB', 'RB', ',', 'DT', 'NN', 'NN', 'POS', 'NN', 'NN', 'NNS', 'VBP', 'RB', 'VBN', 'DT', 'JJ', 'NN', 'IN', 'DT', 'NN', 'IN', 'NNP', 'NNS', 'IN', 'DT', 'NNP', 'NNP', 'IN', 'NNP', '.', 'DT', 'NN', 'NNS', 'CC', 'JJ', 'NN', 'DT', 'NN', 'IN', 'DT', 'NNP', 'NNS', 'NNS', 'VBD', 'DT', 'TO', 'VB', 'DT', 'NN', 'PRP', 'VBP', 'TO', 'VB', 'VB', 'IN', 'NNS', '.', 'IN', 'DT', 'NN', 'IN', 'NNP', 'NN', 'DT', 'NN', 'IN', 'DT', 'NNP', 'NN', 'IN', 'NNP', 'NN', 'VBD', 'CD', 'CD', 'DT', 'JJ', 'TO', 'VB', 'IN', '$', 'CD', 'DT', 'JJ', '.', 'NNP', 'NNS', 'VBP', 'VBN', 'JJ', 'DT', 'NN', 'JJ', 'DT', 'NN', 'JJ', 'NNS', 'IN', 'DT', 'JJ', 'VBZ', 'VBN', 'NNS', 'TO', 'NN', 'DT', 'JJ', 'NN', 'IN', 'DT', 'CD', 'NN', '.', 'IN', 'DT', 'JJ', 'NN', 'IN', ',', 'RB', ',', 'DT', 'NNS', 'VBP', 'VBN', 'IN', 'NNS', 'MD', 'VB', 'IN', 'DT', 'NNS', 'IN', 'NNP', 'NNP', 'NNS', 'TO', 'NN', 'DT', 'NN', 'PRP', 'VBP', 'VBP', 'TO', 'VB', '.', 'NNS', 'VBP', 'IN', 'DT', 'NN', 'NN', 'IN', 'JJ', 'NNS', 'TO', 'VB', 'RP', 'JJ', 'NNS', '.', 'IN', 'DT', 'NN', 'NN', 'NNP', 'NNP', ',', 'PRP', 'VBP', 'JJR', 'IN', 'RB', 'JJ', 'NN', 'IN', 'PRP$', 'JJ', 'NN', ',', 'CC', 'IN', 'JJ', 'PRP', 'TO', 'VB', 'IN', 'NNS', 'TO', 'VB', '.', 'IN', 'NNS', 'IN', 'NNP', ',', 'IN', 'NN', ',', 'DT', 'NN', 'NNS', 'VBP', 'VBG', 'NNS', '$', 'CD', 'DT', 'JJ', 'IN', 'NN', '.', 'DT', 'NNS', 'RB', 'MD', 'VB', 'VB', 'IN', 'NNS', 'VBD', 'IN', 'CD', 'CD', 'NNS', 'DT', 'JJ', ',', 'VBD', 'VBN', 'NNP', ',', 'NN', 'IN', 'NNP', 'NNP', 'NNP', 'NNP', 'NNP', 'NNP', 'IN', 'JJ', ',', 'NNP', '.', 'PRP', 'VBZ', 'RB', 'RB', ',', 'RB', ',', 'WP', 'MD', 'VB', 'DT', 'NN', 'NN', '.', 'RB', 'NNP', 'NNP', 'NNP', 'NN', 'IN', 'CD', 'IN', 'IN', 'DT', 'NN', 'IN', 'DT', 'NN', ',', 'DT', 'NN', 'NN', 'NNS', 'IN', 'CD', 'VBN', 'IN', 'DT', 'JJ', 'MD', 'RB', 'VBN', 'IN', 'JJ', 'IN', 'DT', 'CD', 'NNP', 'NNP', 'VBZ', '.', 'DT', 'NNS', 'VBP', 'VBG', 'IN', 'NNS', 'IN', 'DT', 'NN', 'NN', 'POS', 'NNS', 'MD', 'VB', 'NNS', 'TO', 'VB', 'VBG', 'IN', 'NNS', 'NNS', ':', 'DT', 'TO', 'VB', 'DT', 'NN', '.', '``', 'DT', 'NN', 'VBZ', 'VBG', 'DT', 'NN', 'IN', 'IN', 'NN', 'IN', 'VBZ', 'JJ', 'IN', 'NN', 'TO', 'VB', 'VBN', ',', \"''\", 'VBD', 'NNP', 'VBN', ',', 'NNP', 'NNP', 'NNP', 'NN', '.', 'RB', 'RB', 'IN', 'DT', 'NN', 'POS', 'NN', 'NNP', 'VBZ', 'TO', 'VB', 'NNP', 'IN', 'VBN', ',', 'PRP', 'VBZ', 'JJ', 'IN', 'JJ', 'TO', 'VB', 'DT', 'JJ', 'NNP', 'IN', 'NNP', 'DT', 'NN', 'NN', 'IN', 'NNP', 'IN', 'NNP', 'TO', 'DT', 'JJ', '.', 'NNP', 'IN', 'DT', 'NNP', 'NN', 'CC', 'NNP', 'NNP', 'MD', 'RB', 'DT', 'NN', 'IN', 'NNP', 'NNP', '.', 'DT', 'NNP', ',', 'IN', 'NN', ',', 'VBZ', 'RB', 'VBG', 'PRP$', 'NN', 'NN', 'NN', 'IN', 'NNP', 'TO', 'NNP', '.', 'CC', 'PRP', 'VBZ', 'RB', 'RB', 'IN', 'DT', 'JJ', 'NN', 'MD', 'VB', 'IN', 'PRP$', 'NN', 'NN', 'VBG', '.', 'DT', 'JJ', 'NNS', 'VBD', 'VBN', 'IN', 'DT', 'NN', 'IN', 'NNP', 'IN', 'IN', 'NNS', '.', 'DT', 'JJ', 'NN', 'RB', 'VBZ', 'VBG', 'NNP', 'NNS', 'VBD', 'IN', 'DT', 'NN', '.', 'CC', 'PRP$', 'NNS', 'VBD', 'VBD', 'VBN', 'IN', 'DT', 'NN', 'IN', 'PRP$', 'NN', 'NN', 'IN', 'RB', 'IN', 'NN', 'NNS', '.', 'IN', 'JJ', 'NN', 'NNS', 'VBD', ':', 'NNP', ':', 'NNS', 'NN', 'NNS', 'NNS', 'NN', 'IN', 'JJ', 'NN', ',', 'CC', 'RB', 'IN', 'DT', 'NN', 'VBD', 'IN', 'NN', 'NN', '.', 'NNS', 'VBD', 'IN', 'DT', 'NN', 'WDT', 'DT', 'JJ', 'NN', 'NN', 'NN', 'VBD', 'VBN', 'IN', 'DT', 'NN', ',', 'JJ', 'DT', 'RB', 'JJ', 'JJ', 'NN', '.', 'NN', 'NN', 'IN', 'NNP', 'NN', 'VBD', 'IN', 'JJ', 'CD', 'DT', 'JJ', ',', 'RP', 'CD', 'NN', 'IN', 'DT', 'JJ', 'NNP', 'NNP', 'NNP', '.', 'NNP', 'NNP', 'NNP', 'IN', 'NNP', 'NN', 'NN', 'CD', 'CD', 'TO', '$', 'CD', 'DT', 'NN', '.', 'NNS', 'NNS', 'NNS', 'DT', 'JJ', 'WDT', 'VBG', 'NNP', '.', 'NNP', 'NNP', ':', 'NNS', 'NNS', 'NNS', 'IN', 'NN', 'NN', 'CC', 'NN', 'VBD', 'IN', 'DT', 'NNP', 'NNS', '.', 'NNP', 'VBG', 'NN', 'VBD', '$', 'CD', 'DT', 'NN', 'TO', '$', 'CD', '.', 'NNP', 'NNP', 'VBD', 'NN', 'CD', 'DT', 'NN', 'TO', '$', 'CD', '.', 'NNP', 'NNP', 'VBD', 'RB', '$', 'CD', 'DT', 'NN', 'IN', '$', 'CD', '.', 'NNP', 'NNP', ',', 'RB', 'IN', 'NN', ',', 'VBZ', 'VBP', 'VBN', 'VBN', 'JJR', 'IN', 'NN', 'NN', 'NNS', 'IN', 'DT', 'NN', 'IN', 'NNS', 'VBP', 'NN', 'NN', 'NN', ',', 'NNP', 'TO', 'NNP', 'NNP', ',', 'NN', 'NN', 'IN', 'NNP', 'IN', 'JJ', 'NNS', 'IN', 'NNP', 'NNP', '.', '``', 'DT', 'JJ', 'NN', 'IN', 'NNS', 'NNS', 'VBD', 'DT', 'NN', 'IN', 'NN', 'CC', 'NN', 'IN', 'JJ', ',', \"''\", 'PRP', 'VBD', '.', 'NN', ',', 'DT', 'NN', 'NN', 'VBD', 'RB', ',', 'VBG', 'DT', 'JJR', 'JJ', 'NN', 'IN', 'NNS', 'NNS', 'NNS', ',', 'PRP', 'VBD', '.', 'NNP', 'CC', 'DT', ',', 'WDT', 'VBP', 'JJR', 'IN', 'DT', 'NN', 'JJ', 'IN', 'NN', ',', 'VBD', 'RB', 'NNS', ',', 'PRP', 'VBD', '.', 'NNP', 'VBZ', 'RB', 'IN', 'NN', 'IN', '``', 'JJ', 'IN', \"''\", 'NNS', 'IN', 'JJ', 'IN', 'DT', 'NN', 'NN', ',', 'PRP', 'VBD', '.', 'NN', ',', 'JJ', 'NNS', 'VBD', 'IN', 'VBN', 'CD', 'TO', 'DT', 'NN', 'IN', 'JJ', 'CD', ',', 'VBN', 'TO', 'DT', 'NN', 'NN', '.', 'NNP', ':', 'NNS', 'NNS', 'VBN', 'VBD', 'NNP', 'POS', 'NNS', 'IN', 'JJ', 'VBN', 'CD', 'TO', 'VB', '.', 'DT', 'NNP', 'NN', 'VBD', 'NNP', 'CD', 'DT', 'NN', 'TO', '$', 'CD', '.', 'IN', 'NNP', ',', 'NNS', 'IN', 'CD', 'JJ', 'JJ', ',', 'NNP', 'NNP', 'CC', 'NNP', 'NNP', ',', 'WDT', 'VBP', 'TO', 'DT', 'JJ', 'NN', 'NN', ',', 'NN', 'VBD', 'TO', 'VB', 'DT', 'NN', 'NN', 'NN', ',', 'DT', 'NN', 'VBD', '.', 'JJ', 'IN', 'DT', 'JJ', ',', 'DT', 'NN', 'VBD', ',', 'JJ', 'DT', 'JJ', 'IN', 'JJ', 'NNS', ',', 'JJ', 'IN', 'DT', 'NN', 'TO', 'VB', '.', 'DT', 'NN', 'VBD', 'IN', 'RB', 'JJ', 'IN', 'DT', 'NN', 'NNS', 'VBD', 'DT', 'JJ', 'NN', 'TO', 'NNS', '.', 'IN', 'DT', 'NN', 'IN', 'JJ', ',', 'PRP', 'VBD', ',', 'DT', 'JJ', 'NN', 'IN', 'NNS', 'VBD', 'VBN', 'IN', 'NN', 'IN', 'NNS', 'NNS', 'IN', 'DT', 'NN', 'NN', 'NN', 'NN', 'VBG', 'NN', 'IN', 'DT', 'NN', '.', 'RB', 'VBG', 'TO', 'DT', 'JJ', 'IN', 'JJ', ',', 'DT', 'NN', 'VBD', ',', 'VBD', 'DT', 'NN', 'IN', 'NNP', 'NNP', 'NNS', ',', 'WDT', 'JJ', 'DT', 'NN', 'NN', 'NNS', 'POS', 'NN', 'IN', 'VBZ', 'JJ', 'IN', 'NN', 'CC', 'VBZ', 'DT', 'NN', 'IN', 'RB', 'DT', 'JJ', 'NN', 'MD', 'VB', '.', 'DT', 'NN', 'NN', 'NNP', 'IN', 'NNP', 'POS', 'NNP', 'NN', 'VBD', 'TO', 'NN', 'NN', 'IN', 'CD', 'JJ', 'NNS', 'IN', 'JJ', 'NNS', 'CD', 'NN', '.', 'DT', 'NNP', 'NN', 'VBD', 'VBN', 'NN', '.', 'DT', 'NN', 'IN', 'CD', 'NN', 'RB', 'NN', 'DT', 'NN', 'IN', 'DT', 'NN', 'NN', 'IN', 'DT', 'NN', ',', 'IN', 'DT', 'NN', 'IN', 'CD', 'NN', 'CD', 'TO', 'VB', '.', 'DT', 'NNP', 'NNP', 'VBD', 'DT', 'NN', 'IN', 'DT', 'NNP', 'NNP', 'IN', 'DT', 'NNP', 'NNP', 'IN', 'NNS', 'NN', 'MD', 'RB', 'RB', 'DT', 'NN', 'IN', 'CD', 'NN', '.', 'NNP', 'NNP', 'NNP', 'CD', 'NNS', 'IN', 'PRP$', 'NN', 'NN', 'IN', 'JJ', 'NNS', 'CC', 'VBD', 'NNP', 'NN', 'NN', 'TO', 'VB', 'DT', 'NN', 'NN', 'TO', 'VB', 'IN', 'DT', 'NN', 'NN', 'IN', 'DT', 'NN', 'IN', 'NNS', '.', 'DT', 'NNP', 'NN', 'VBZ', 'VBN', 'IN', 'JJ', 'NNP', 'POS', 'NN', 'NN', 'NN', 'NN', 'NN', '.', 'NNP', 'NNP', 'VBD', 'DT', 'CD', 'NN', 'NN', 'IN', 'JJ', 'NN', ',', 'IN', 'VBN', 'NN', 'NNS', 'VBD', 'TO', 'VB', 'NN', 'IN', 'NN', 'CC', 'NNP', 'NN', 'NN', '.', 'DT', 'NN', 'POS', 'NN', 'NN', 'NN', '$', 'CD', 'CD', ',', 'CC', 'CD', 'NNS', 'DT', 'NN', ',', 'VBN', 'IN', 'DT', 'JJ', '$', 'CD', 'CD', ',', 'CC', 'CD', 'CD', 'DT', 'NN', '.', 'DT', 'JJ', 'NN', 'NN', 'NN', 'NNS', 'IN', '$', 'CD', 'CD', 'IN', 'NN', 'NNS', ',', 'IN', 'IN', 'NNS', 'IN', 'DT', 'JJ', 'NN', 'CD', '$', 'CD', 'CD', '.', 'IN', 'DT', 'CD', 'NN', ',', 'NNP', 'RB', 'VBD', 'DT', '$', 'CD', 'CD', 'CD', 'NN', 'IN', 'DT', 'NN', 'NN', 'NN', '.', 'NNS', 'VBD', 'CD', 'NN', 'TO', '$', 'CD', 'CD', 'IN', '$', 'CD', 'CD', '.', 'DT', 'NNS', 'NN', 'VBZ', 'JJ', 'JJ', 'IN', 'JJ', 'IN', 'JJ', 'NN', 'POS', 'JJ', 'JJ', 'NN', 'NN', ',', 'IN', 'DT', 'NN', 'VBD', 'VBN', 'DT', 'JJ', 'NN', 'IN', 'NN', 'CC', 'NN', '.', 'RB', ',', 'JJ', 'NN', 'NN', 'VBD', 'CD', 'NN', ',', 'IN', 'NNP', 'VBD', 'JJ', 'NN', 'IN', 'PRP$', 'NN', 'CC', 'NNP', 'NNS', ',', 'VBG', 'NN', 'IN', 'NNS', 'NNS', '.', 'IN', 'NNS', 'IN', 'VB', 'TO', 'VB', ',', 'RB', ',', 'DT', 'NN', 'POS', 'NN', 'NN', 'NN', 'TO', 'VB', 'IN', 'JJ', 'NN', 'IN', 'PRP$', 'JJ', 'NNS', 'JJ', 'DT', 'NN', 'NN', 'CC', 'JJ', 'NNS', '.', 'NNP', 'NNP', ',', 'DT', 'NN', 'IN', 'NNP', 'NNP', ',', 'VBD', 'IN', 'DT', 'NN', 'IN', 'DT', 'JJ', 'NN', ',', 'JJ', 'IN', 'JJ', 'NN', 'NNS', ',', 'NN', 'NNP', 'NNS', '.', 'NNS', ',', 'NNP', 'NNS', 'RB', 'IN', 'JJ', 'JJ', ',', 'CC', 'DT', 'NNS', 'NN', 'VBZ', 'VBN', 'IN', 'JJR', 'JJ', 'NN', 'NN', '.', 'DT', 'NN', 'VBN', 'NNS', 'NNS', 'CC', 'NNS', 'IN', 'DT', 'NN', 'NN', 'TO', 'DT', 'NN', 'IN', 'NNS', 'IN', 'DT', 'JJ', ',', 'NNP', ',', 'NN', ',', 'WDT', 'RB', 'VBZ', 'DT', 'JJ', 'NN', 'NN', 'IN', 'NNP', 'POS', 'NN', 'NN', 'NNP', '.', 'IN', 'DT', 'NN', 'NN', ',', 'VBG', 'NN', 'VBD', 'CD', 'NN', 'TO', '$', 'CD', 'CD', '.', 'NNS', 'NN', 'NN', 'IN', 'NNP', 'VBN', 'VBD', 'TO', 'IN', '$', 'CD', 'DT', 'NN', 'IN', '$', 'CD', 'DT', 'NN', 'NN', 'NN', 'CC', '$', 'CD', 'DT', 'NN', 'IN', 'DT', 'NN', 'NN', ',', 'NNS', 'VBD', '.', 'IN', ',', 'NNP', 'NNS', 'RB', 'IN', 'JJ', 'JJ', 'NN', ',', 'NNP', 'JJR', 'CD', 'NN', 'IN', 'NN', 'VBN', 'IN', 'RB', 'JJ', 'NN', 'NNP', ',', 'WDT', 'VBN', 'DT', 'JJ', 'NN', 'NN', 'IN', 'NN', 'NN', ',', 'CC', 'JJ', 'NN', 'NNP', 'NNP', ',', 'PRP$', 'NN', 'NN', 'CD', 'NN', '.', 'IN', 'NNP', 'NNP', 'NNP', 'NNP', 'NNP', 'NN', 'NN', ',', 'NNP', 'NNS', 'VBD', 'RP', '$', 'CD', ',', 'IN', '$', 'CD', ',', 'IN', 'DT', 'NN', 'NNS', 'NN', 'NN', 'IN', 'DT', 'NNS', 'WP', 'VBD', 'RB', 'VB', 'IN', 'JJ', 'DT', 'NN', 'IN', 'NN', 'NNS', '.', 'DT', 'NN', 'IN', 'DT', 'NN', 'POS', 'NN', 'MD', 'RB', 'NNS', 'DT', 'NN', 'IN', 'NNP', 'POS', 'NNP', 'NN', 'NNS', 'RB', 'IN', 'DT', 'JJ', 'JJ', 'POS', '.', 'NNP', 'NNP', ',', 'DT', 'NN', 'IN', 'NNP', 'NNP', 'NNP', 'NNS', ',', 'VBD', 'NNP', 'MD', 'VBP', 'VBN', 'NNS', 'VBD', 'IN', 'NNS', 'WP', 'VBD', 'VBN', 'IN', 'NN', 'NNS', 'VBD', 'DT', 'NN', '.', 'PRP', 'VBD', 'NNP', 'RB', 'VBD', 'TO', 'VB', 'DT', 'JJ', 'NN', 'IN', 'NN', 'NNS', ',', 'JJ', 'IN', 'DT', 'JJR', 'NNS', 'VBN', 'CC', 'DT', 'JJ', 'NN', ',', 'IN', 'JJ', 'NN', 'NNS', '.', 'DT', 'NN', 'NN', ',', 'IN', 'DT', 'CD', 'NN', 'NN', 'IN', 'NN', 'NN', ',', 'VBZ', 'RB', 'DT', 'NN', 'POS', 'NN', '.', 'NNS', 'NNS', 'NN', 'NNS', 'NNP', 'NN', 'NN', 'NN', 'IN', 'DT', 'JJ', 'NN', 'NNP', 'NN', 'TO', '$', 'CD', 'CD', 'IN', '$', 'CD', 'CD', '.', 'DT', 'NNP', 'NN', 'CC', 'NNP', 'NNP', 'VBZ', 'TO', 'VB', 'IN', 'DT', 'NNP', ',', 'RB', 'NNS', 'VBN', 'TO', '$', 'CD', 'CD', 'IN', '$', 'CD', 'CD', '.', 'NNP', 'VBD', 'IN', 'NNP', 'WDT', 'PRP', 'VBD', 'VBN', 'NNS', 'TO', 'VB', 'NNP', 'POS', 'NN', 'CC', 'NN', 'NNS', '.', 'NN', 'IN', 'DT', 'NN', 'VBP', 'TO', 'VB', 'VBN', 'TO', 'VB', 'NN', 'CC', 'NNS', 'RB', 'NNS', '.', 'DT', 'NN', 'VBD', 'IN', 'PRP', 'VBZ', 'VBN', 'NN', 'IN', '$', 'CD', 'CD', 'IN', 'DT', 'NN', 'IN', 'CD', 'CC', 'VBD', 'RB', 'IN', 'JJ', 'CD', 'NNS', 'IN', 'JJ', 'NN', 'IN', 'DT', 'JJ', 'NN', 'IN', 'CD', '.', 'NNP', 'VBZ', 'IN', '$', 'CD', 'CD', 'IN', 'JJ', 'NN', 'CC', 'JJ', 'CD', 'NNS', 'JJ', '.', 'DT', 'NN', 'NN', 'IN', 'DT', 'NNS', 'VBD', 'VBN', 'IN', 'NNP', 'WDT', 'NN', 'NN', 'NN', 'VBD', 'NN', 'PRP$', 'NN', 'IN', 'NNP', 'TO', 'NN', 'NN', 'CC', 'NNP', 'DT', 'NN', 'CC', 'JJ', 'NN', 'NN', '.', 'NNP', 'NNP', 'VBZ', 'VBD', 'PRP', 'VBZ', 'NNP', 'MD', 'VB', 'VBN', 'JJR', 'IN', 'VBN', 'RP', 'IN', 'NN', 'CC', 'NNP', 'NNS', '.', 'NNS', 'IN', 'DT', 'CD', 'NNS', 'VBD', 'CD', 'NN', 'TO', '$', 'CD', 'CD', ',', 'CC', '$', 'CD', 'DT', 'NN', ',', 'IN', '$', 'CD', 'CD', ',', 'CC', '$', 'CD', 'DT', 'NN', '.', 'NNS', 'VBD', 'CD', 'NN', 'TO', '$', 'CD', 'CD', 'IN', '$', 'CD', 'CD', '.', 'NNP', 'NNP', 'NNP', ',', 'CD', ',', 'NNP', 'NN', 'NN', 'NN', 'CC', 'NN', 'NNP', 'NN', ',', 'VBD', 'VBN', 'NN', 'CC', 'NN', 'NN', 'NN', ',', 'NNS', 'IN', 'VBD', 'VBN', 'VBN', '.', 'NNP', 'NNP', 'NN', ',', 'NN', 'NN', 'CC', 'NN', 'NNP', 'NN', 'IN', 'DT', 'NN', 'NN', 'NN', ',', 'CC', 'NNP', 'NNP', 'NNP', ',', 'DT', 'NN', 'IN', 'NNP', 'NNP', 'POS', 'NNP', 'NNP', 'IN', 'NN', ',', 'VBD', 'VBN', 'NNS', ',', 'VBG', 'NN', 'NN', 'TO', 'CD', '.', 'NNP', 'NNP', 'NNP', ',', 'NN', 'IN', 'NN', 'NN', 'NN', ',', 'VBD', 'VBN', 'TO', 'DT', 'NNS', 'NN', 'IN', 'NNP', 'NN', 'NN', ',', 'NN', 'NNS', ',', 'IN', 'DT', 'NN', ',', 'JJ', 'CC', 'NNP', 'NNS', 'NN', ',', 'NNP', 'NN', 'NNP', 'NNP', ',', 'WP', 'VBD', 'VBN', 'NN', 'CC', 'NN', 'NN', 'NN', 'IN', 'NNP', '.', 'CD', 'JJ', 'NN', 'NNS', 'VBD', 'NN', 'NNP', 'VBZ', 'RB', 'VB', 'DT', 'JJ', 'NN', 'TO', 'VB', 'DT', 'JJ', 'NN', '.', 'NNP', 'NNP', 'NN', 'IN', 'DT', 'NNP', 'IN', 'NNP', 'CC', 'NN', 'NN', 'IN', 'NNP', 'NN', 'NNP', 'VBD', 'DT', 'NN', 'IN', 'NN', 'NNP', 'TO', 'VB', 'NN', 'IN', 'DT', 'JJ', 'NN', 'MD', 'VB', 'DT', 'NN', 'IN', 'DT', 'NN', 'CC', 'DT', 'NN', 'IN', 'PRP$', 'NNS', ',', 'IN', 'RB', 'IN', 'DT', 'NNS', 'IN', 'JJ', 'NNS', '.', 'DT', 'JJ', 'NN', 'VBZ', 'DT', 'JJ', 'WDT', 'MD', 'VB', 'DT', 'NN', 'TO', 'VB', 'NN', 'IN', 'DT', 'JJ', 'JJ', 'NN', 'NN', 'IN', 'VBD', 'TO', 'NN', 'DT', 'NN', 'NN', '.', 'NNP', 'NNP', 'VBZ', 'VBD', 'PRP', 'MD', 'VB', 'TO', 'VB', 'VB', 'TO', 'VB', 'DT', 'JJ', '.', 'DT', 'NNP', 'NNP', 'NNP', 'VBD', 'VBD', 'NN', 'IN', 'DT', 'NN', 'VBZ', 'VBG', 'VBG', 'IN', 'DT', 'NN', 'NN', 'VBZ', 'PRP', 'DT', 'NN', 'IN', 'DT', 'JJ', 'NN', 'TO', 'VB', 'DT', 'NN', 'NN', '.', 'CC', 'DT', 'CD', 'JJ', 'NNS', ',', 'VBG', 'TO', 'DT', 'NN', 'IN', 'NNP', 'NNP', 'NNP', '-LRB-', 'NNP', ',', 'NNP', '-RRB-', ',', 'VBD', 'IN', 'DT', 'NN', 'NN', 'IN', 'DT', 'NN', '``', 'VBZ', 'DT', 'JJ', 'NN', 'TO', 'VB', 'DT', 'JJ', 'NN', '.', \"''\", 'DT', 'CD', 'JJ', 'NNS', 'NNS', 'VBZ', 'IN', 'DT', 'JJ', 'NN', ':', 'NNP', 'NNP', 'VBZ', 'DT', 'JJ', 'CC', 'NNP', 'NNP', 'VBZ', 'DT', 'JJ', '.', 'DT', 'CD', 'JJ', 'VBD', 'DT', 'NN', 'NN', 'DT', 'NN', 'TO', 'VB', 'NN', 'NNS', ',', 'RB', 'JJ', 'NNS', '.', 'NNS', ',', 'PRP', 'VBD', 'DT', 'JJ', 'JJ', 'NN', 'VBD', 'CD', 'NNS', 'VBD', 'VBN', 'JJ', 'NNS', 'NNS', ',', 'CC', 'DT', 'VBD', 'DT', 'JJ', 'IN', 'DT', 'JJ', 'NN', '.', 'PRP', 'RB', 'VBD', 'IN', 'JJR', 'IN', 'DT', 'NNS', 'NNS', 'VBP', 'VBN', 'IN', 'JJ', 'NN', 'NN', 'IN', 'DT', 'JJ', 'NN', ',', 'CC', '``', 'DT', 'VBP', 'VBN', 'DT', 'NN', 'IN', 'JJ', 'JJ', 'NN', 'VBZ', 'RB', 'DT', 'NN', \"''\", 'IN', 'DT', 'NN', '.', 'NNP', 'NNP', 'VBD', 'IN', 'DT', 'JJ', 'NN', 'IN', 'PRP', 'JJ', 'NN', 'TO', 'VB', 'DT', 'NN', 'NNP', 'NN', 'NN', ',', 'CC', 'IN', 'PRP', 'MD', 'VB', 'DT', '``', 'NN', 'NN', 'IN', 'NN', \"''\", 'IN', 'NN', 'NNP', 'TO', 'VB', 'DT', 'NN', 'IN', 'JJ', 'NN', '.', 'NNP', 'NNP', 'NNP', 'VBD', 'PRP', 'VBD', 'DT', 'JJ', 'NN', 'TO', 'VB', 'CD', 'CD', 'NNP', 'TO', 'NN', 'NN', 'NNP', 'IN', 'NNP', '.', 'NNS', 'VBD', 'RB', 'VBN', '.', 'NNP', 'VBD', 'PRP', 'VBZ', 'TO', 'VB', 'VBG', 'IN', 'DT', 'JJ', 'NN', 'IN', 'NN', 'NN', '.']\n",
            "Test[0]:  \n",
            "['NNP', 'NNP', 'NNP', ',', 'NNP', 'NNP', ',', 'NNP', ',', 'VBD', 'PRP', 'VBD', 'CD', 'CD', 'NNS', ',', 'CC', 'IN', 'CD', 'NN', ',', 'IN', 'PRP$', 'JJ', 'NN', 'IN', 'DT', 'JJ', 'NN', 'IN', '$', 'CD', 'DT', 'NN', ',', 'CC', '$', 'CD', 'CD', '.']\n"
          ]
        }
      ],
      "source": [
        "from sklearn.metrics import accuracy_score\n",
        "from sklearn.metrics import precision_score\n",
        "from sklearn.metrics import recall_score\n",
        "from sklearn.metrics import f1_score\n",
        "from sklearn.metrics import confusion_matrix\n",
        "\n",
        "\n",
        "y_test_classes = y_test_padded\n",
        "# predict probabilities for test set\n",
        "yhat_probs = modified_model_2.predict(X_test, verbose=0)\n",
        "# predict crisp classes for test set\n",
        "yhat_classes = modified_model_2.predict(X_test, verbose=0)\n",
        "yhat_classes = np.argmax(yhat_classes,axis=-1).flatten()\n",
        "def show_tags (v):\n",
        "    result=[]\n",
        "    [result.append(tag_tokenizer.index_word[x].upper()) for x in v if x != 0 ]\n",
        "    return(result)\n",
        "def show_tokens (v):\n",
        "    result=[]\n",
        "    [result.append(word_tokenizer.index_word[x]) for x in v if x != 0 ]\n",
        "    return(result)\n",
        "\n",
        "\n",
        "print('Let''s take a look to our results: ')\n",
        "print('Sentence[0]:  ')\n",
        "print(show_tokens(X_test[0]))\n",
        "print('Prediction[0]:  ')\n",
        "print(show_tags(yhat_classes))\n",
        "print('Test[0]:  ')\n",
        "print(show_tags(y_test_classes[0]))"
      ]
    },
    {
      "cell_type": "code",
      "execution_count": null,
      "metadata": {
        "id": "HqNNqkR46mud"
      },
      "outputs": [],
      "source": [
        "#Using the Y_padded as we are trying to find the metrics according to the class predicted by the model\n",
        "y_test_classes = y_test_classes.flatten()"
      ]
    },
    {
      "cell_type": "code",
      "execution_count": null,
      "metadata": {
        "id": "hbcgHv7u6mxJ",
        "colab": {
          "base_uri": "https://localhost:8080/"
        },
        "outputId": "694baea5-7bd8-49ed-ecce-85774df9e559"
      },
      "outputs": [
        {
          "output_type": "stream",
          "name": "stdout",
          "text": [
            "Accuracy: 0.953789\n",
            "Precision: 0.953789\n",
            "Recall: 0.953789\n",
            "F1 score: 0.669951\n"
          ]
        }
      ],
      "source": [
        "# accuracy: (tp + tn) / (p + n)\n",
        "accuracy = accuracy_score(y_test_classes , yhat_classes)\n",
        "print('Accuracy: %f' % accuracy)\n",
        "# precision tp / (tp + fp)\n",
        "precision = precision_score(y_test_classes , yhat_classes, average='micro')\n",
        "print('Precision: %f' % precision)\n",
        "# recall: tp / (tp + fn)\n",
        "recall = recall_score(y_test_classes , yhat_classes, average='micro')\n",
        "print('Recall: %f' % recall)\n",
        "# f1: 2 tp / (2 tp + fp + fn)\n",
        "f1 = f1_score(y_test_classes , yhat_classes, average='macro')\n",
        "print('F1 score: %f' % f1)"
      ]
    },
    {
      "cell_type": "markdown",
      "metadata": {
        "id": "BnHQbehj7vNA"
      },
      "source": [
        "### Deeper look on our classification\n",
        "We take a look at the F1-score and support of each feature. We observe that some features have a small or no support at all. This is also capture on the F1-score plot."
      ]
    },
    {
      "cell_type": "code",
      "execution_count": null,
      "metadata": {
        "id": "wPb1zt0w6m0V",
        "colab": {
          "base_uri": "https://localhost:8080/",
          "height": 1000
        },
        "outputId": "5159b753-a73b-403c-cd06-6e0f774fe2da"
      },
      "outputs": [
        {
          "output_type": "stream",
          "name": "stderr",
          "text": [
            "/usr/local/lib/python3.8/dist-packages/sklearn/metrics/_classification.py:1318: UndefinedMetricWarning: Precision and F-score are ill-defined and being set to 0.0 in labels with no predicted samples. Use `zero_division` parameter to control this behavior.\n",
            "  _warn_prf(average, modifier, msg_start, len(result))\n",
            "/usr/local/lib/python3.8/dist-packages/sklearn/metrics/_classification.py:1318: UndefinedMetricWarning: Precision and F-score are ill-defined and being set to 0.0 in labels with no predicted samples. Use `zero_division` parameter to control this behavior.\n",
            "  _warn_prf(average, modifier, msg_start, len(result))\n",
            "/usr/local/lib/python3.8/dist-packages/sklearn/metrics/_classification.py:1318: UndefinedMetricWarning: Precision and F-score are ill-defined and being set to 0.0 in labels with no predicted samples. Use `zero_division` parameter to control this behavior.\n",
            "  _warn_prf(average, modifier, msg_start, len(result))\n"
          ]
        },
        {
          "output_type": "stream",
          "name": "stdout",
          "text": [
            "              precision    recall  f1-score   support\n",
            "\n",
            "           2       0.69      0.81      0.75      2383\n",
            "           3       0.74      0.70      0.72      1504\n",
            "           4       0.92      0.95      0.93      1630\n",
            "           5       0.95      0.98      0.96      1335\n",
            "           6       0.77      0.70      0.73       941\n",
            "           7       0.43      0.53      0.47       918\n",
            "          10       0.85      0.73      0.78       634\n",
            "          11       0.64      0.52      0.58       381\n",
            "          12       0.89      0.82      0.85       858\n",
            "          13       0.83      0.81      0.82       403\n",
            "          14       0.99      0.98      0.99       366\n",
            "          15       0.91      0.82      0.86       280\n",
            "          16       0.58      0.60      0.59       366\n",
            "          17       1.00      1.00      1.00       386\n",
            "          18       0.96      0.96      0.96       192\n",
            "          19       0.69      0.30      0.42       221\n",
            "          20       0.88      0.71      0.79       134\n",
            "          21       0.93      0.97      0.95       167\n",
            "          22       0.93      1.00      0.96        99\n",
            "          24       0.97      1.00      0.98       152\n",
            "          28       0.91      0.70      0.79        84\n",
            "          29       0.64      0.27      0.38        59\n",
            "          30       1.00      0.85      0.92        20\n",
            "          31       0.36      0.39      0.38        33\n",
            "          32       0.00      0.00      0.00        44\n",
            "          33       0.00      0.00      0.00        31\n",
            "          34       0.00      0.00      0.00        24\n",
            "          35       0.00      0.00      0.00        15\n",
            "          36       1.00      0.94      0.97        18\n",
            "          37       1.00      0.89      0.94        18\n",
            "          38       0.00      0.00      0.00         5\n",
            "          39       0.00      0.00      0.00         3\n",
            "          41       0.00      0.00      0.00         4\n",
            "          42       0.00      0.00      0.00         4\n",
            "\n",
            "   micro avg       0.79      0.79      0.79     13712\n",
            "   macro avg       0.63      0.59      0.60     13712\n",
            "weighted avg       0.79      0.79      0.78     13712\n",
            "\n"
          ]
        },
        {
          "output_type": "display_data",
          "data": {
            "text/plain": [
              "<Figure size 432x288 with 2 Axes>"
            ],
            "image/png": "[encoded data removed]"
          },
          "metadata": {}
        }
      ],
      "source": [
        "from sklearn.metrics import r2_score, mean_absolute_error, mean_squared_error\n",
        "from sklearn.metrics import classification_report, confusion_matrix, plot_confusion_matrix\n",
        "import matplotlib.pyplot as plt\n",
        "import itertools\n",
        "# task as multiclass classification\n",
        "# labels has been ammended to not include the punctuations\n",
        "report = classification_report(y_test_classes .astype('int'), yhat_classes.astype('int'),\n",
        "                               labels=labels)\n",
        "print(report)\n",
        "confusion_matrix = confusion_matrix(y_test_classes .astype('int'), yhat_classes.astype('int'),\n",
        "                                    labels=labels)\n",
        "fig = plt.figure()\n",
        "ax = fig.add_subplot(111)\n",
        "np.seterr(divide='ignore', invalid='ignore')\n",
        "# Let's normalize the confusion matrix for plotting\n",
        "confusion_matrix = confusion_matrix.astype('float') / (confusion_matrix.sum(axis=1)[:, np.newaxis] +1)\n",
        "cax = ax.matshow(confusion_matrix)\n",
        "plt.title('Confusion matrix of the classifier')\n",
        "fig.colorbar(cax)\n",
        "plt.xlabel('Predicted')\n",
        "plt.ylabel('True')\n",
        "plt.show()\n",
        "####################################################################"
      ]
    },
    {
      "cell_type": "markdown",
      "metadata": {
        "id": "pti-XBQs8BAh"
      },
      "source": [
        "### Error analysis - Checking the least frequent Tags\n",
        "We will check the performance of our Baseline model on the test set after removing the punctuations and the least frequent tags.\n",
        "\n",
        "The least frequent tags are the ones that contributes to low or zero f1-score. We considered a tag F1-score below 0.3 as a low score on our analysis."
      ]
    },
    {
      "cell_type": "code",
      "execution_count": null,
      "metadata": {
        "id": "EL3hI30F6m3d",
        "colab": {
          "base_uri": "https://localhost:8080/"
        },
        "outputId": "6002ff16-139e-49c1-a0f0-bae45cd24ea1"
      },
      "outputs": [
        {
          "output_type": "stream",
          "name": "stdout",
          "text": [
            "ID:Tag\t- Support\tF1-score\n",
            "32:NNPS\t- 44\t\t0.00\n",
            "33:JJS\t- 31\t\t0.00\n",
            "34:WRB\t- 24\t\t0.00\n",
            "35:RBR\t- 15\t\t0.00\n",
            "38:EX\t- 5\t\t0.00\n",
            "39:RBS\t- 3\t\t0.00\n",
            "41:PDT\t- 4\t\t0.00\n",
            "42:WP$\t- 4\t\t0.00\n"
          ]
        }
      ],
      "source": [
        "report = classification_report(y_test_classes .astype('int'), yhat_classes.astype('int'),\n",
        "                               labels=labels, zero_division=0,output_dict=True)\n",
        "# Just show the least frequent Tags i.e. F1-score < .5\n",
        "print('ID:Tag\\t- Support\\tF1-score')\n",
        "\n",
        "for k,v in report.items():\n",
        "    if k.isnumeric() and v['f1-score'] < 0.3:\n",
        "        print('{}:{}\\t- {}\\t\\t{:.2f}'.format(k,tag_tokenizer.index_word[int(k)].upper(),\n",
        "                               v['support'],\n",
        "                               v['f1-score']))"
      ]
    },
    {
      "cell_type": "code",
      "execution_count": null,
      "metadata": {
        "id": "RpyZyze_7-0Q",
        "colab": {
          "base_uri": "https://localhost:8080/"
        },
        "outputId": "f92a1250-4c9a-4f3e-cacc-e3a7d98950a8"
      },
      "outputs": [
        {
          "output_type": "stream",
          "name": "stdout",
          "text": [
            "              precision    recall  f1-score   support\n",
            "\n",
            "           2       0.69      0.81      0.75      2383\n",
            "           3       0.74      0.70      0.72      1504\n",
            "           4       0.92      0.95      0.93      1630\n",
            "           5       0.95      0.98      0.96      1335\n",
            "           6       0.77      0.70      0.73       941\n",
            "           7       0.43      0.53      0.47       918\n",
            "          10       0.85      0.73      0.78       634\n",
            "          11       0.64      0.52      0.58       381\n",
            "          12       0.89      0.82      0.85       858\n",
            "          13       0.83      0.81      0.82       403\n",
            "          14       0.99      0.98      0.99       366\n",
            "          15       0.91      0.82      0.86       280\n",
            "          16       0.58      0.60      0.59       366\n",
            "          17       1.00      1.00      1.00       386\n",
            "          18       0.96      0.96      0.96       192\n",
            "          19       0.69      0.30      0.42       221\n",
            "          20       0.88      0.71      0.79       134\n",
            "          21       0.93      0.97      0.95       167\n",
            "          22       0.93      1.00      0.96        99\n",
            "          24       0.97      1.00      0.98       152\n",
            "          28       0.91      0.70      0.79        84\n",
            "          29       0.64      0.27      0.38        59\n",
            "          30       1.00      0.85      0.92        20\n",
            "          31       0.36      0.39      0.38        33\n",
            "          32       0.00      0.00      0.00        44\n",
            "          33       0.00      0.00      0.00        31\n",
            "          34       0.00      0.00      0.00        24\n",
            "          35       0.00      0.00      0.00        15\n",
            "          36       1.00      0.94      0.97        18\n",
            "          37       1.00      0.89      0.94        18\n",
            "          38       0.00      0.00      0.00         5\n",
            "          39       0.00      0.00      0.00         3\n",
            "          41       0.00      0.00      0.00         4\n",
            "          42       0.00      0.00      0.00         4\n",
            "\n",
            "   micro avg       0.79      0.79      0.79     13712\n",
            "   macro avg       0.63      0.59      0.60     13712\n",
            "weighted avg       0.79      0.79      0.78     13712\n",
            "\n"
          ]
        }
      ],
      "source": [
        "# Let's exclude those 0 support items\n",
        "tag_to_idx = tag_tokenizer.word_index\n",
        "# punctuations = [',','.',':','?','!',';','$','``',\"''\",'#', '--oov--','LS','FW','UH','SYM'] # We consider special characters as punctuation ($,', `,#)\n",
        "\n",
        "punctuations = [',','.',':','?','!',';','$','``',\"''\",'#', '--oov--','ls','fw','uh','sym'] # We consider special characters as punctuation ($,', `,#)\n",
        "#'JJR','RP','NNPS','JJS','WRB','RBR','EX','RBS','PDT','WP'\n",
        "labels=[]\n",
        "[labels.append(s) for k,s in tag_to_idx.items() if k not in punctuations ]\n",
        "# task as multiclass classification\n",
        "# labels has been ammended to not include the punctuations\n",
        "report = classification_report(y_test_classes.astype('int'), yhat_classes.astype('int'),\n",
        "                               labels=labels, zero_division=0)\n",
        "print(report)"
      ]
    },
    {
      "cell_type": "markdown",
      "source": [
        "####Here we observe that there was no difference in the f1 macro score of the GRU model even after the removal of the punctuations and the least frequent tags. It stayed consistent at 0.60"
      ],
      "metadata": {
        "id": "DufmntfVv--d"
      }
    },
    {
      "cell_type": "markdown",
      "metadata": {
        "id": "aoJcbILpv6LC"
      },
      "source": [
        "### Error observations\n",
        "In the last experiment, not considering Tags that out of our test set, imporved our F1-score for Baseline but not for GRU.\n",
        "\n",
        "**Baseline**- 0.54 -> 0.61\n",
        "**GRU** - 0.60 -> 0.60\n",
        "\n",
        "To conclude, analyzing the POS tagging errors, we verify that our training dataset did not have significant examples for training our RNN appropriately. Tags like NNPS and RBNS have a low score. And, Tags like  PDT, RP, RBR , LS, FW, UH, and SYM have F1-score equal to zero, and most of those tags had no examples in our test dataset.\n",
        "\n",
        "Choosing a corpora or adding to the corpora sentences with this least frequent Tags would improve the model generation."
      ]
    }
  ],
  "metadata": {
    "colab": {
      "collapsed_sections": [
        "aoJcbILpv6LC"
      ],
      "provenance": [],
      "include_colab_link": true
    },
    "kernelspec": {
      "display_name": "Python 3 (ipykernel)",
      "language": "python",
      "name": "python3"
    },
    "language_info": {
      "codemirror_mode": {
        "name": "ipython",
        "version": 3
      },
      "file_extension": ".py",
      "mimetype": "text/x-python",
      "name": "python",
      "nbconvert_exporter": "python",
      "pygments_lexer": "ipython3",
      "version": "3.9.12"
    }
  },
  "nbformat": 4,
  "nbformat_minor": 0
}